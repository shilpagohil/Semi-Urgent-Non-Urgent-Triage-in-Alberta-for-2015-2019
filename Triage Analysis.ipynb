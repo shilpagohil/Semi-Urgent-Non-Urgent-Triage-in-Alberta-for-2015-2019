{
 "cells": [
  {
   "cell_type": "code",
   "execution_count": 1,
   "metadata": {},
   "outputs": [],
   "source": [
    "import pandas as pd\n"
   ]
  },
  {
   "cell_type": "markdown",
   "metadata": {},
   "source": [
    "### Alberta"
   ]
  },
  {
   "cell_type": "code",
   "execution_count": 2,
   "metadata": {},
   "outputs": [
    {
     "data": {
      "text/html": [
       "<div>\n",
       "<style scoped>\n",
       "    .dataframe tbody tr th:only-of-type {\n",
       "        vertical-align: middle;\n",
       "    }\n",
       "\n",
       "    .dataframe tbody tr th {\n",
       "        vertical-align: top;\n",
       "    }\n",
       "\n",
       "    .dataframe thead th {\n",
       "        text-align: right;\n",
       "    }\n",
       "</style>\n",
       "<table border=\"1\" class=\"dataframe\">\n",
       "  <thead>\n",
       "    <tr style=\"text-align: right;\">\n",
       "      <th></th>\n",
       "      <th>Geography</th>\n",
       "      <th>Year</th>\n",
       "      <th>Sex</th>\n",
       "      <th>Age</th>\n",
       "      <th>Triage Level</th>\n",
       "      <th>ICD Description</th>\n",
       "      <th>Percent</th>\n",
       "      <th>Visits</th>\n",
       "      <th>Total Visits (Across all Triage levels)</th>\n",
       "      <th>Standard Error</th>\n",
       "    </tr>\n",
       "  </thead>\n",
       "  <tbody>\n",
       "    <tr>\n",
       "      <th>0</th>\n",
       "      <td>AB</td>\n",
       "      <td>2015</td>\n",
       "      <td>BOTH</td>\n",
       "      <td>ALL</td>\n",
       "      <td>4-Semi-Urgent</td>\n",
       "      <td>A09-A09 Infectious gastroenteritis and colitis...</td>\n",
       "      <td>33.185603</td>\n",
       "      <td>12954.0</td>\n",
       "      <td>39035.0</td>\n",
       "      <td>0.291573</td>\n",
       "    </tr>\n",
       "    <tr>\n",
       "      <th>1</th>\n",
       "      <td>AB</td>\n",
       "      <td>2015</td>\n",
       "      <td>BOTH</td>\n",
       "      <td>ALL</td>\n",
       "      <td>5-Non-Urgent</td>\n",
       "      <td>A09-A09 Infectious gastroenteritis and colitis...</td>\n",
       "      <td>3.120277</td>\n",
       "      <td>1218.0</td>\n",
       "      <td>39035.0</td>\n",
       "      <td>0.089407</td>\n",
       "    </tr>\n",
       "    <tr>\n",
       "      <th>2</th>\n",
       "      <td>AB</td>\n",
       "      <td>2015</td>\n",
       "      <td>FEMALE</td>\n",
       "      <td>ALL</td>\n",
       "      <td>4-Semi-Urgent</td>\n",
       "      <td>A09-A09 Infectious gastroenteritis and colitis...</td>\n",
       "      <td>32.524755</td>\n",
       "      <td>6865.0</td>\n",
       "      <td>21107.0</td>\n",
       "      <td>0.392549</td>\n",
       "    </tr>\n",
       "    <tr>\n",
       "      <th>3</th>\n",
       "      <td>AB</td>\n",
       "      <td>2015</td>\n",
       "      <td>FEMALE</td>\n",
       "      <td>ALL</td>\n",
       "      <td>5-Non-Urgent</td>\n",
       "      <td>A09-A09 Infectious gastroenteritis and colitis...</td>\n",
       "      <td>3.017956</td>\n",
       "      <td>637.0</td>\n",
       "      <td>21107.0</td>\n",
       "      <td>0.119576</td>\n",
       "    </tr>\n",
       "    <tr>\n",
       "      <th>4</th>\n",
       "      <td>AB</td>\n",
       "      <td>2015</td>\n",
       "      <td>MALE</td>\n",
       "      <td>ALL</td>\n",
       "      <td>4-Semi-Urgent</td>\n",
       "      <td>A09-A09 Infectious gastroenteritis and colitis...</td>\n",
       "      <td>33.963632</td>\n",
       "      <td>6089.0</td>\n",
       "      <td>17928.0</td>\n",
       "      <td>0.435252</td>\n",
       "    </tr>\n",
       "    <tr>\n",
       "      <th>...</th>\n",
       "      <td>...</td>\n",
       "      <td>...</td>\n",
       "      <td>...</td>\n",
       "      <td>...</td>\n",
       "      <td>...</td>\n",
       "      <td>...</td>\n",
       "      <td>...</td>\n",
       "      <td>...</td>\n",
       "      <td>...</td>\n",
       "      <td>...</td>\n",
       "    </tr>\n",
       "    <tr>\n",
       "      <th>3415</th>\n",
       "      <td>AB</td>\n",
       "      <td>2019</td>\n",
       "      <td>BOTH</td>\n",
       "      <td>75+</td>\n",
       "      <td>5-Non-Urgent</td>\n",
       "      <td>N30-N39 Other diseases of the urinary system</td>\n",
       "      <td>3.657130</td>\n",
       "      <td>317.0</td>\n",
       "      <td>8668.0</td>\n",
       "      <td>0.205405</td>\n",
       "    </tr>\n",
       "    <tr>\n",
       "      <th>3416</th>\n",
       "      <td>AB</td>\n",
       "      <td>2019</td>\n",
       "      <td>FEMALE</td>\n",
       "      <td>75+</td>\n",
       "      <td>4-Semi-Urgent</td>\n",
       "      <td>N30-N39 Other diseases of the urinary system</td>\n",
       "      <td>40.808298</td>\n",
       "      <td>2282.0</td>\n",
       "      <td>5592.0</td>\n",
       "      <td>0.854261</td>\n",
       "    </tr>\n",
       "    <tr>\n",
       "      <th>3417</th>\n",
       "      <td>AB</td>\n",
       "      <td>2019</td>\n",
       "      <td>FEMALE</td>\n",
       "      <td>75+</td>\n",
       "      <td>5-Non-Urgent</td>\n",
       "      <td>N30-N39 Other diseases of the urinary system</td>\n",
       "      <td>3.773247</td>\n",
       "      <td>211.0</td>\n",
       "      <td>5592.0</td>\n",
       "      <td>0.259761</td>\n",
       "    </tr>\n",
       "    <tr>\n",
       "      <th>3418</th>\n",
       "      <td>AB</td>\n",
       "      <td>2019</td>\n",
       "      <td>MALE</td>\n",
       "      <td>75+</td>\n",
       "      <td>4-Semi-Urgent</td>\n",
       "      <td>N30-N39 Other diseases of the urinary system</td>\n",
       "      <td>31.241873</td>\n",
       "      <td>961.0</td>\n",
       "      <td>3076.0</td>\n",
       "      <td>1.007802</td>\n",
       "    </tr>\n",
       "    <tr>\n",
       "      <th>3419</th>\n",
       "      <td>AB</td>\n",
       "      <td>2019</td>\n",
       "      <td>MALE</td>\n",
       "      <td>75+</td>\n",
       "      <td>5-Non-Urgent</td>\n",
       "      <td>N30-N39 Other diseases of the urinary system</td>\n",
       "      <td>3.446034</td>\n",
       "      <td>106.0</td>\n",
       "      <td>3076.0</td>\n",
       "      <td>0.334708</td>\n",
       "    </tr>\n",
       "  </tbody>\n",
       "</table>\n",
       "<p>3420 rows × 10 columns</p>\n",
       "</div>"
      ],
      "text/plain": [
       "     Geography  Year     Sex  Age   Triage Level  \\\n",
       "0           AB  2015    BOTH  ALL  4-Semi-Urgent   \n",
       "1           AB  2015    BOTH  ALL   5-Non-Urgent   \n",
       "2           AB  2015  FEMALE  ALL  4-Semi-Urgent   \n",
       "3           AB  2015  FEMALE  ALL   5-Non-Urgent   \n",
       "4           AB  2015    MALE  ALL  4-Semi-Urgent   \n",
       "...        ...   ...     ...  ...            ...   \n",
       "3415        AB  2019    BOTH  75+   5-Non-Urgent   \n",
       "3416        AB  2019  FEMALE  75+  4-Semi-Urgent   \n",
       "3417        AB  2019  FEMALE  75+   5-Non-Urgent   \n",
       "3418        AB  2019    MALE  75+  4-Semi-Urgent   \n",
       "3419        AB  2019    MALE  75+   5-Non-Urgent   \n",
       "\n",
       "                                        ICD Description    Percent   Visits  \\\n",
       "0     A09-A09 Infectious gastroenteritis and colitis...  33.185603  12954.0   \n",
       "1     A09-A09 Infectious gastroenteritis and colitis...   3.120277   1218.0   \n",
       "2     A09-A09 Infectious gastroenteritis and colitis...  32.524755   6865.0   \n",
       "3     A09-A09 Infectious gastroenteritis and colitis...   3.017956    637.0   \n",
       "4     A09-A09 Infectious gastroenteritis and colitis...  33.963632   6089.0   \n",
       "...                                                 ...        ...      ...   \n",
       "3415       N30-N39 Other diseases of the urinary system   3.657130    317.0   \n",
       "3416       N30-N39 Other diseases of the urinary system  40.808298   2282.0   \n",
       "3417       N30-N39 Other diseases of the urinary system   3.773247    211.0   \n",
       "3418       N30-N39 Other diseases of the urinary system  31.241873    961.0   \n",
       "3419       N30-N39 Other diseases of the urinary system   3.446034    106.0   \n",
       "\n",
       "      Total Visits (Across all Triage levels)  Standard Error  \n",
       "0                                     39035.0        0.291573  \n",
       "1                                     39035.0        0.089407  \n",
       "2                                     21107.0        0.392549  \n",
       "3                                     21107.0        0.119576  \n",
       "4                                     17928.0        0.435252  \n",
       "...                                       ...             ...  \n",
       "3415                                   8668.0        0.205405  \n",
       "3416                                   5592.0        0.854261  \n",
       "3417                                   5592.0        0.259761  \n",
       "3418                                   3076.0        1.007802  \n",
       "3419                                   3076.0        0.334708  \n",
       "\n",
       "[3420 rows x 10 columns]"
      ]
     },
     "execution_count": 2,
     "metadata": {},
     "output_type": "execute_result"
    }
   ],
   "source": [
    "triage = pd.read_csv(\"Alberta.csv\")\n",
    "triage\n"
   ]
  },
  {
   "cell_type": "markdown",
   "metadata": {},
   "source": [
    "### Calgary zone"
   ]
  },
  {
   "cell_type": "code",
   "execution_count": 3,
   "metadata": {},
   "outputs": [
    {
     "data": {
      "text/html": [
       "<div>\n",
       "<style scoped>\n",
       "    .dataframe tbody tr th:only-of-type {\n",
       "        vertical-align: middle;\n",
       "    }\n",
       "\n",
       "    .dataframe tbody tr th {\n",
       "        vertical-align: top;\n",
       "    }\n",
       "\n",
       "    .dataframe thead th {\n",
       "        text-align: right;\n",
       "    }\n",
       "</style>\n",
       "<table border=\"1\" class=\"dataframe\">\n",
       "  <thead>\n",
       "    <tr style=\"text-align: right;\">\n",
       "      <th></th>\n",
       "      <th>Geography</th>\n",
       "      <th>Year</th>\n",
       "      <th>Sex</th>\n",
       "      <th>Age</th>\n",
       "      <th>Triage Level</th>\n",
       "      <th>ICD Description</th>\n",
       "      <th>Percent</th>\n",
       "      <th>Visits</th>\n",
       "      <th>Total Visits (Across all Triage levels)</th>\n",
       "      <th>Standard Error</th>\n",
       "    </tr>\n",
       "  </thead>\n",
       "  <tbody>\n",
       "    <tr>\n",
       "      <th>0</th>\n",
       "      <td>Z2</td>\n",
       "      <td>2015</td>\n",
       "      <td>BOTH</td>\n",
       "      <td>ALL</td>\n",
       "      <td>4-Semi-Urgent</td>\n",
       "      <td>A09-A09 Infectious gastroenteritis and colitis...</td>\n",
       "      <td>27.360755</td>\n",
       "      <td>3419.0</td>\n",
       "      <td>12496.0</td>\n",
       "      <td>0.467927</td>\n",
       "    </tr>\n",
       "    <tr>\n",
       "      <th>1</th>\n",
       "      <td>Z2</td>\n",
       "      <td>2015</td>\n",
       "      <td>BOTH</td>\n",
       "      <td>ALL</td>\n",
       "      <td>5-Non-Urgent</td>\n",
       "      <td>A09-A09 Infectious gastroenteritis and colitis...</td>\n",
       "      <td>2.392766</td>\n",
       "      <td>299.0</td>\n",
       "      <td>12496.0</td>\n",
       "      <td>0.138377</td>\n",
       "    </tr>\n",
       "    <tr>\n",
       "      <th>2</th>\n",
       "      <td>Z2</td>\n",
       "      <td>2015</td>\n",
       "      <td>FEMALE</td>\n",
       "      <td>ALL</td>\n",
       "      <td>4-Semi-Urgent</td>\n",
       "      <td>A09-A09 Infectious gastroenteritis and colitis...</td>\n",
       "      <td>26.377246</td>\n",
       "      <td>1762.0</td>\n",
       "      <td>6680.0</td>\n",
       "      <td>0.628386</td>\n",
       "    </tr>\n",
       "    <tr>\n",
       "      <th>3</th>\n",
       "      <td>Z2</td>\n",
       "      <td>2015</td>\n",
       "      <td>FEMALE</td>\n",
       "      <td>ALL</td>\n",
       "      <td>5-Non-Urgent</td>\n",
       "      <td>A09-A09 Infectious gastroenteritis and colitis...</td>\n",
       "      <td>2.065868</td>\n",
       "      <td>138.0</td>\n",
       "      <td>6680.0</td>\n",
       "      <td>0.175858</td>\n",
       "    </tr>\n",
       "    <tr>\n",
       "      <th>4</th>\n",
       "      <td>Z2</td>\n",
       "      <td>2015</td>\n",
       "      <td>MALE</td>\n",
       "      <td>ALL</td>\n",
       "      <td>4-Semi-Urgent</td>\n",
       "      <td>A09-A09 Infectious gastroenteritis and colitis...</td>\n",
       "      <td>28.490371</td>\n",
       "      <td>1657.0</td>\n",
       "      <td>5816.0</td>\n",
       "      <td>0.699901</td>\n",
       "    </tr>\n",
       "    <tr>\n",
       "      <th>...</th>\n",
       "      <td>...</td>\n",
       "      <td>...</td>\n",
       "      <td>...</td>\n",
       "      <td>...</td>\n",
       "      <td>...</td>\n",
       "      <td>...</td>\n",
       "      <td>...</td>\n",
       "      <td>...</td>\n",
       "      <td>...</td>\n",
       "      <td>...</td>\n",
       "    </tr>\n",
       "    <tr>\n",
       "      <th>3415</th>\n",
       "      <td>Z2</td>\n",
       "      <td>2019</td>\n",
       "      <td>BOTH</td>\n",
       "      <td>75+</td>\n",
       "      <td>5-Non-Urgent</td>\n",
       "      <td>N30-N39 Other diseases of the urinary system</td>\n",
       "      <td>1.769912</td>\n",
       "      <td>36.0</td>\n",
       "      <td>2034.0</td>\n",
       "      <td>0.294985</td>\n",
       "    </tr>\n",
       "    <tr>\n",
       "      <th>3416</th>\n",
       "      <td>Z2</td>\n",
       "      <td>2019</td>\n",
       "      <td>FEMALE</td>\n",
       "      <td>75+</td>\n",
       "      <td>4-Semi-Urgent</td>\n",
       "      <td>N30-N39 Other diseases of the urinary system</td>\n",
       "      <td>34.319066</td>\n",
       "      <td>441.0</td>\n",
       "      <td>1285.0</td>\n",
       "      <td>1.634241</td>\n",
       "    </tr>\n",
       "    <tr>\n",
       "      <th>3417</th>\n",
       "      <td>Z2</td>\n",
       "      <td>2019</td>\n",
       "      <td>FEMALE</td>\n",
       "      <td>75+</td>\n",
       "      <td>5-Non-Urgent</td>\n",
       "      <td>N30-N39 Other diseases of the urinary system</td>\n",
       "      <td>1.712062</td>\n",
       "      <td>22.0</td>\n",
       "      <td>1285.0</td>\n",
       "      <td>0.365013</td>\n",
       "    </tr>\n",
       "    <tr>\n",
       "      <th>3418</th>\n",
       "      <td>Z2</td>\n",
       "      <td>2019</td>\n",
       "      <td>MALE</td>\n",
       "      <td>75+</td>\n",
       "      <td>4-Semi-Urgent</td>\n",
       "      <td>N30-N39 Other diseases of the urinary system</td>\n",
       "      <td>26.568758</td>\n",
       "      <td>199.0</td>\n",
       "      <td>749.0</td>\n",
       "      <td>1.883409</td>\n",
       "    </tr>\n",
       "    <tr>\n",
       "      <th>3419</th>\n",
       "      <td>Z2</td>\n",
       "      <td>2019</td>\n",
       "      <td>MALE</td>\n",
       "      <td>75+</td>\n",
       "      <td>5-Non-Urgent</td>\n",
       "      <td>N30-N39 Other diseases of the urinary system</td>\n",
       "      <td>1.869159</td>\n",
       "      <td>14.0</td>\n",
       "      <td>749.0</td>\n",
       "      <td>0.499554</td>\n",
       "    </tr>\n",
       "  </tbody>\n",
       "</table>\n",
       "<p>3420 rows × 10 columns</p>\n",
       "</div>"
      ],
      "text/plain": [
       "     Geography  Year     Sex  Age   Triage Level  \\\n",
       "0           Z2  2015    BOTH  ALL  4-Semi-Urgent   \n",
       "1           Z2  2015    BOTH  ALL   5-Non-Urgent   \n",
       "2           Z2  2015  FEMALE  ALL  4-Semi-Urgent   \n",
       "3           Z2  2015  FEMALE  ALL   5-Non-Urgent   \n",
       "4           Z2  2015    MALE  ALL  4-Semi-Urgent   \n",
       "...        ...   ...     ...  ...            ...   \n",
       "3415        Z2  2019    BOTH  75+   5-Non-Urgent   \n",
       "3416        Z2  2019  FEMALE  75+  4-Semi-Urgent   \n",
       "3417        Z2  2019  FEMALE  75+   5-Non-Urgent   \n",
       "3418        Z2  2019    MALE  75+  4-Semi-Urgent   \n",
       "3419        Z2  2019    MALE  75+   5-Non-Urgent   \n",
       "\n",
       "                                        ICD Description    Percent  Visits  \\\n",
       "0     A09-A09 Infectious gastroenteritis and colitis...  27.360755  3419.0   \n",
       "1     A09-A09 Infectious gastroenteritis and colitis...   2.392766   299.0   \n",
       "2     A09-A09 Infectious gastroenteritis and colitis...  26.377246  1762.0   \n",
       "3     A09-A09 Infectious gastroenteritis and colitis...   2.065868   138.0   \n",
       "4     A09-A09 Infectious gastroenteritis and colitis...  28.490371  1657.0   \n",
       "...                                                 ...        ...     ...   \n",
       "3415       N30-N39 Other diseases of the urinary system   1.769912    36.0   \n",
       "3416       N30-N39 Other diseases of the urinary system  34.319066   441.0   \n",
       "3417       N30-N39 Other diseases of the urinary system   1.712062    22.0   \n",
       "3418       N30-N39 Other diseases of the urinary system  26.568758   199.0   \n",
       "3419       N30-N39 Other diseases of the urinary system   1.869159    14.0   \n",
       "\n",
       "      Total Visits (Across all Triage levels)  Standard Error  \n",
       "0                                     12496.0        0.467927  \n",
       "1                                     12496.0        0.138377  \n",
       "2                                      6680.0        0.628386  \n",
       "3                                      6680.0        0.175858  \n",
       "4                                      5816.0        0.699901  \n",
       "...                                       ...             ...  \n",
       "3415                                   2034.0        0.294985  \n",
       "3416                                   1285.0        1.634241  \n",
       "3417                                   1285.0        0.365013  \n",
       "3418                                    749.0        1.883409  \n",
       "3419                                    749.0        0.499554  \n",
       "\n",
       "[3420 rows x 10 columns]"
      ]
     },
     "execution_count": 3,
     "metadata": {},
     "output_type": "execute_result"
    }
   ],
   "source": [
    "calgary = pd.read_csv(\"Calgary Zone.csv\")\n",
    "calgary\n"
   ]
  },
  {
   "cell_type": "markdown",
   "metadata": {},
   "source": [
    "### Central zone"
   ]
  },
  {
   "cell_type": "code",
   "execution_count": 4,
   "metadata": {},
   "outputs": [
    {
     "data": {
      "text/html": [
       "<div>\n",
       "<style scoped>\n",
       "    .dataframe tbody tr th:only-of-type {\n",
       "        vertical-align: middle;\n",
       "    }\n",
       "\n",
       "    .dataframe tbody tr th {\n",
       "        vertical-align: top;\n",
       "    }\n",
       "\n",
       "    .dataframe thead th {\n",
       "        text-align: right;\n",
       "    }\n",
       "</style>\n",
       "<table border=\"1\" class=\"dataframe\">\n",
       "  <thead>\n",
       "    <tr style=\"text-align: right;\">\n",
       "      <th></th>\n",
       "      <th>Geography</th>\n",
       "      <th>Year</th>\n",
       "      <th>Sex</th>\n",
       "      <th>Age</th>\n",
       "      <th>Triage Level</th>\n",
       "      <th>ICD Description</th>\n",
       "      <th>Percent</th>\n",
       "      <th>Visits</th>\n",
       "      <th>Total Visits (Across all Triage levels)</th>\n",
       "      <th>Standard Error</th>\n",
       "    </tr>\n",
       "  </thead>\n",
       "  <tbody>\n",
       "    <tr>\n",
       "      <th>0</th>\n",
       "      <td>Z3</td>\n",
       "      <td>2015</td>\n",
       "      <td>BOTH</td>\n",
       "      <td>ALL</td>\n",
       "      <td>4-Semi-Urgent</td>\n",
       "      <td>A09-A09 Infectious gastroenteritis and colitis...</td>\n",
       "      <td>48.450536</td>\n",
       "      <td>2439.0</td>\n",
       "      <td>5034.0</td>\n",
       "      <td>0.981053</td>\n",
       "    </tr>\n",
       "    <tr>\n",
       "      <th>1</th>\n",
       "      <td>Z3</td>\n",
       "      <td>2015</td>\n",
       "      <td>BOTH</td>\n",
       "      <td>ALL</td>\n",
       "      <td>5-Non-Urgent</td>\n",
       "      <td>A09-A09 Infectious gastroenteritis and colitis...</td>\n",
       "      <td>3.774335</td>\n",
       "      <td>190.0</td>\n",
       "      <td>5034.0</td>\n",
       "      <td>0.273819</td>\n",
       "    </tr>\n",
       "    <tr>\n",
       "      <th>2</th>\n",
       "      <td>Z3</td>\n",
       "      <td>2015</td>\n",
       "      <td>FEMALE</td>\n",
       "      <td>ALL</td>\n",
       "      <td>4-Semi-Urgent</td>\n",
       "      <td>A09-A09 Infectious gastroenteritis and colitis...</td>\n",
       "      <td>47.328520</td>\n",
       "      <td>1311.0</td>\n",
       "      <td>2770.0</td>\n",
       "      <td>1.307138</td>\n",
       "    </tr>\n",
       "    <tr>\n",
       "      <th>3</th>\n",
       "      <td>Z3</td>\n",
       "      <td>2015</td>\n",
       "      <td>FEMALE</td>\n",
       "      <td>ALL</td>\n",
       "      <td>5-Non-Urgent</td>\n",
       "      <td>A09-A09 Infectious gastroenteritis and colitis...</td>\n",
       "      <td>3.718412</td>\n",
       "      <td>103.0</td>\n",
       "      <td>2770.0</td>\n",
       "      <td>0.366386</td>\n",
       "    </tr>\n",
       "    <tr>\n",
       "      <th>4</th>\n",
       "      <td>Z3</td>\n",
       "      <td>2015</td>\n",
       "      <td>MALE</td>\n",
       "      <td>ALL</td>\n",
       "      <td>4-Semi-Urgent</td>\n",
       "      <td>A09-A09 Infectious gastroenteritis and colitis...</td>\n",
       "      <td>49.823322</td>\n",
       "      <td>1128.0</td>\n",
       "      <td>2264.0</td>\n",
       "      <td>1.483468</td>\n",
       "    </tr>\n",
       "    <tr>\n",
       "      <th>...</th>\n",
       "      <td>...</td>\n",
       "      <td>...</td>\n",
       "      <td>...</td>\n",
       "      <td>...</td>\n",
       "      <td>...</td>\n",
       "      <td>...</td>\n",
       "      <td>...</td>\n",
       "      <td>...</td>\n",
       "      <td>...</td>\n",
       "      <td>...</td>\n",
       "    </tr>\n",
       "    <tr>\n",
       "      <th>3407</th>\n",
       "      <td>Z3</td>\n",
       "      <td>2019</td>\n",
       "      <td>BOTH</td>\n",
       "      <td>75+</td>\n",
       "      <td>5-Non-Urgent</td>\n",
       "      <td>N30-N39 Other diseases of the urinary system</td>\n",
       "      <td>4.861878</td>\n",
       "      <td>88.0</td>\n",
       "      <td>1810.0</td>\n",
       "      <td>0.518278</td>\n",
       "    </tr>\n",
       "    <tr>\n",
       "      <th>3408</th>\n",
       "      <td>Z3</td>\n",
       "      <td>2019</td>\n",
       "      <td>FEMALE</td>\n",
       "      <td>75+</td>\n",
       "      <td>4-Semi-Urgent</td>\n",
       "      <td>N30-N39 Other diseases of the urinary system</td>\n",
       "      <td>60.130719</td>\n",
       "      <td>736.0</td>\n",
       "      <td>1224.0</td>\n",
       "      <td>2.216448</td>\n",
       "    </tr>\n",
       "    <tr>\n",
       "      <th>3409</th>\n",
       "      <td>Z3</td>\n",
       "      <td>2019</td>\n",
       "      <td>FEMALE</td>\n",
       "      <td>75+</td>\n",
       "      <td>5-Non-Urgent</td>\n",
       "      <td>N30-N39 Other diseases of the urinary system</td>\n",
       "      <td>4.820261</td>\n",
       "      <td>59.0</td>\n",
       "      <td>1224.0</td>\n",
       "      <td>0.627545</td>\n",
       "    </tr>\n",
       "    <tr>\n",
       "      <th>3410</th>\n",
       "      <td>Z3</td>\n",
       "      <td>2019</td>\n",
       "      <td>MALE</td>\n",
       "      <td>75+</td>\n",
       "      <td>4-Semi-Urgent</td>\n",
       "      <td>N30-N39 Other diseases of the urinary system</td>\n",
       "      <td>51.535836</td>\n",
       "      <td>302.0</td>\n",
       "      <td>586.0</td>\n",
       "      <td>2.965554</td>\n",
       "    </tr>\n",
       "    <tr>\n",
       "      <th>3411</th>\n",
       "      <td>Z3</td>\n",
       "      <td>2019</td>\n",
       "      <td>MALE</td>\n",
       "      <td>75+</td>\n",
       "      <td>5-Non-Urgent</td>\n",
       "      <td>N30-N39 Other diseases of the urinary system</td>\n",
       "      <td>4.948805</td>\n",
       "      <td>29.0</td>\n",
       "      <td>586.0</td>\n",
       "      <td>0.918970</td>\n",
       "    </tr>\n",
       "  </tbody>\n",
       "</table>\n",
       "<p>3412 rows × 10 columns</p>\n",
       "</div>"
      ],
      "text/plain": [
       "     Geography  Year     Sex  Age   Triage Level  \\\n",
       "0           Z3  2015    BOTH  ALL  4-Semi-Urgent   \n",
       "1           Z3  2015    BOTH  ALL   5-Non-Urgent   \n",
       "2           Z3  2015  FEMALE  ALL  4-Semi-Urgent   \n",
       "3           Z3  2015  FEMALE  ALL   5-Non-Urgent   \n",
       "4           Z3  2015    MALE  ALL  4-Semi-Urgent   \n",
       "...        ...   ...     ...  ...            ...   \n",
       "3407        Z3  2019    BOTH  75+   5-Non-Urgent   \n",
       "3408        Z3  2019  FEMALE  75+  4-Semi-Urgent   \n",
       "3409        Z3  2019  FEMALE  75+   5-Non-Urgent   \n",
       "3410        Z3  2019    MALE  75+  4-Semi-Urgent   \n",
       "3411        Z3  2019    MALE  75+   5-Non-Urgent   \n",
       "\n",
       "                                        ICD Description    Percent  Visits  \\\n",
       "0     A09-A09 Infectious gastroenteritis and colitis...  48.450536  2439.0   \n",
       "1     A09-A09 Infectious gastroenteritis and colitis...   3.774335   190.0   \n",
       "2     A09-A09 Infectious gastroenteritis and colitis...  47.328520  1311.0   \n",
       "3     A09-A09 Infectious gastroenteritis and colitis...   3.718412   103.0   \n",
       "4     A09-A09 Infectious gastroenteritis and colitis...  49.823322  1128.0   \n",
       "...                                                 ...        ...     ...   \n",
       "3407       N30-N39 Other diseases of the urinary system   4.861878    88.0   \n",
       "3408       N30-N39 Other diseases of the urinary system  60.130719   736.0   \n",
       "3409       N30-N39 Other diseases of the urinary system   4.820261    59.0   \n",
       "3410       N30-N39 Other diseases of the urinary system  51.535836   302.0   \n",
       "3411       N30-N39 Other diseases of the urinary system   4.948805    29.0   \n",
       "\n",
       "      Total Visits (Across all Triage levels)  Standard Error  \n",
       "0                                      5034.0        0.981053  \n",
       "1                                      5034.0        0.273819  \n",
       "2                                      2770.0        1.307138  \n",
       "3                                      2770.0        0.366386  \n",
       "4                                      2264.0        1.483468  \n",
       "...                                       ...             ...  \n",
       "3407                                   1810.0        0.518278  \n",
       "3408                                   1224.0        2.216448  \n",
       "3409                                   1224.0        0.627545  \n",
       "3410                                    586.0        2.965554  \n",
       "3411                                    586.0        0.918970  \n",
       "\n",
       "[3412 rows x 10 columns]"
      ]
     },
     "execution_count": 4,
     "metadata": {},
     "output_type": "execute_result"
    }
   ],
   "source": [
    "central = pd.read_csv(\"Central zone.csv\")\n",
    "central"
   ]
  },
  {
   "cell_type": "markdown",
   "metadata": {},
   "source": [
    "### Edmonton zone"
   ]
  },
  {
   "cell_type": "code",
   "execution_count": 5,
   "metadata": {},
   "outputs": [
    {
     "data": {
      "text/html": [
       "<div>\n",
       "<style scoped>\n",
       "    .dataframe tbody tr th:only-of-type {\n",
       "        vertical-align: middle;\n",
       "    }\n",
       "\n",
       "    .dataframe tbody tr th {\n",
       "        vertical-align: top;\n",
       "    }\n",
       "\n",
       "    .dataframe thead th {\n",
       "        text-align: right;\n",
       "    }\n",
       "</style>\n",
       "<table border=\"1\" class=\"dataframe\">\n",
       "  <thead>\n",
       "    <tr style=\"text-align: right;\">\n",
       "      <th></th>\n",
       "      <th>Geography</th>\n",
       "      <th>Year</th>\n",
       "      <th>Sex</th>\n",
       "      <th>Age</th>\n",
       "      <th>Triage Level</th>\n",
       "      <th>ICD Description</th>\n",
       "      <th>Percent</th>\n",
       "      <th>Visits</th>\n",
       "      <th>Total Visits (Across all Triage levels)</th>\n",
       "      <th>Standard Error</th>\n",
       "    </tr>\n",
       "  </thead>\n",
       "  <tbody>\n",
       "    <tr>\n",
       "      <th>0</th>\n",
       "      <td>Z4</td>\n",
       "      <td>2015</td>\n",
       "      <td>BOTH</td>\n",
       "      <td>ALL</td>\n",
       "      <td>4-Semi-Urgent</td>\n",
       "      <td>A09-A09 Infectious gastroenteritis and colitis...</td>\n",
       "      <td>22.818521</td>\n",
       "      <td>2262.0</td>\n",
       "      <td>9913.0</td>\n",
       "      <td>0.479779</td>\n",
       "    </tr>\n",
       "    <tr>\n",
       "      <th>1</th>\n",
       "      <td>Z4</td>\n",
       "      <td>2015</td>\n",
       "      <td>BOTH</td>\n",
       "      <td>ALL</td>\n",
       "      <td>5-Non-Urgent</td>\n",
       "      <td>A09-A09 Infectious gastroenteritis and colitis...</td>\n",
       "      <td>0.847372</td>\n",
       "      <td>84.0</td>\n",
       "      <td>9913.0</td>\n",
       "      <td>0.092456</td>\n",
       "    </tr>\n",
       "    <tr>\n",
       "      <th>2</th>\n",
       "      <td>Z4</td>\n",
       "      <td>2015</td>\n",
       "      <td>FEMALE</td>\n",
       "      <td>ALL</td>\n",
       "      <td>4-Semi-Urgent</td>\n",
       "      <td>A09-A09 Infectious gastroenteritis and colitis...</td>\n",
       "      <td>21.853568</td>\n",
       "      <td>1179.0</td>\n",
       "      <td>5395.0</td>\n",
       "      <td>0.636452</td>\n",
       "    </tr>\n",
       "    <tr>\n",
       "      <th>3</th>\n",
       "      <td>Z4</td>\n",
       "      <td>2015</td>\n",
       "      <td>FEMALE</td>\n",
       "      <td>ALL</td>\n",
       "      <td>5-Non-Urgent</td>\n",
       "      <td>A09-A09 Infectious gastroenteritis and colitis...</td>\n",
       "      <td>0.908248</td>\n",
       "      <td>49.0</td>\n",
       "      <td>5395.0</td>\n",
       "      <td>0.129750</td>\n",
       "    </tr>\n",
       "    <tr>\n",
       "      <th>4</th>\n",
       "      <td>Z4</td>\n",
       "      <td>2015</td>\n",
       "      <td>MALE</td>\n",
       "      <td>ALL</td>\n",
       "      <td>4-Semi-Urgent</td>\n",
       "      <td>A09-A09 Infectious gastroenteritis and colitis...</td>\n",
       "      <td>23.970784</td>\n",
       "      <td>1083.0</td>\n",
       "      <td>4518.0</td>\n",
       "      <td>0.728397</td>\n",
       "    </tr>\n",
       "    <tr>\n",
       "      <th>...</th>\n",
       "      <td>...</td>\n",
       "      <td>...</td>\n",
       "      <td>...</td>\n",
       "      <td>...</td>\n",
       "      <td>...</td>\n",
       "      <td>...</td>\n",
       "      <td>...</td>\n",
       "      <td>...</td>\n",
       "      <td>...</td>\n",
       "      <td>...</td>\n",
       "    </tr>\n",
       "    <tr>\n",
       "      <th>3411</th>\n",
       "      <td>Z4</td>\n",
       "      <td>2019</td>\n",
       "      <td>BOTH</td>\n",
       "      <td>75+</td>\n",
       "      <td>5-Non-Urgent</td>\n",
       "      <td>N30-N39 Other diseases of the urinary system</td>\n",
       "      <td>1.077683</td>\n",
       "      <td>24.0</td>\n",
       "      <td>2227.0</td>\n",
       "      <td>0.219981</td>\n",
       "    </tr>\n",
       "    <tr>\n",
       "      <th>3412</th>\n",
       "      <td>Z4</td>\n",
       "      <td>2019</td>\n",
       "      <td>FEMALE</td>\n",
       "      <td>75+</td>\n",
       "      <td>4-Semi-Urgent</td>\n",
       "      <td>N30-N39 Other diseases of the urinary system</td>\n",
       "      <td>18.072289</td>\n",
       "      <td>240.0</td>\n",
       "      <td>1328.0</td>\n",
       "      <td>1.166561</td>\n",
       "    </tr>\n",
       "    <tr>\n",
       "      <th>3413</th>\n",
       "      <td>Z4</td>\n",
       "      <td>2019</td>\n",
       "      <td>FEMALE</td>\n",
       "      <td>75+</td>\n",
       "      <td>5-Non-Urgent</td>\n",
       "      <td>N30-N39 Other diseases of the urinary system</td>\n",
       "      <td>1.054217</td>\n",
       "      <td>14.0</td>\n",
       "      <td>1328.0</td>\n",
       "      <td>0.281751</td>\n",
       "    </tr>\n",
       "    <tr>\n",
       "      <th>3414</th>\n",
       "      <td>Z4</td>\n",
       "      <td>2019</td>\n",
       "      <td>MALE</td>\n",
       "      <td>75+</td>\n",
       "      <td>4-Semi-Urgent</td>\n",
       "      <td>N30-N39 Other diseases of the urinary system</td>\n",
       "      <td>14.794216</td>\n",
       "      <td>133.0</td>\n",
       "      <td>899.0</td>\n",
       "      <td>1.282821</td>\n",
       "    </tr>\n",
       "    <tr>\n",
       "      <th>3415</th>\n",
       "      <td>Z4</td>\n",
       "      <td>2019</td>\n",
       "      <td>MALE</td>\n",
       "      <td>75+</td>\n",
       "      <td>5-Non-Urgent</td>\n",
       "      <td>N30-N39 Other diseases of the urinary system</td>\n",
       "      <td>1.112347</td>\n",
       "      <td>10.0</td>\n",
       "      <td>899.0</td>\n",
       "      <td>0.351755</td>\n",
       "    </tr>\n",
       "  </tbody>\n",
       "</table>\n",
       "<p>3416 rows × 10 columns</p>\n",
       "</div>"
      ],
      "text/plain": [
       "     Geography  Year     Sex  Age   Triage Level  \\\n",
       "0           Z4  2015    BOTH  ALL  4-Semi-Urgent   \n",
       "1           Z4  2015    BOTH  ALL   5-Non-Urgent   \n",
       "2           Z4  2015  FEMALE  ALL  4-Semi-Urgent   \n",
       "3           Z4  2015  FEMALE  ALL   5-Non-Urgent   \n",
       "4           Z4  2015    MALE  ALL  4-Semi-Urgent   \n",
       "...        ...   ...     ...  ...            ...   \n",
       "3411        Z4  2019    BOTH  75+   5-Non-Urgent   \n",
       "3412        Z4  2019  FEMALE  75+  4-Semi-Urgent   \n",
       "3413        Z4  2019  FEMALE  75+   5-Non-Urgent   \n",
       "3414        Z4  2019    MALE  75+  4-Semi-Urgent   \n",
       "3415        Z4  2019    MALE  75+   5-Non-Urgent   \n",
       "\n",
       "                                        ICD Description    Percent  Visits  \\\n",
       "0     A09-A09 Infectious gastroenteritis and colitis...  22.818521  2262.0   \n",
       "1     A09-A09 Infectious gastroenteritis and colitis...   0.847372    84.0   \n",
       "2     A09-A09 Infectious gastroenteritis and colitis...  21.853568  1179.0   \n",
       "3     A09-A09 Infectious gastroenteritis and colitis...   0.908248    49.0   \n",
       "4     A09-A09 Infectious gastroenteritis and colitis...  23.970784  1083.0   \n",
       "...                                                 ...        ...     ...   \n",
       "3411       N30-N39 Other diseases of the urinary system   1.077683    24.0   \n",
       "3412       N30-N39 Other diseases of the urinary system  18.072289   240.0   \n",
       "3413       N30-N39 Other diseases of the urinary system   1.054217    14.0   \n",
       "3414       N30-N39 Other diseases of the urinary system  14.794216   133.0   \n",
       "3415       N30-N39 Other diseases of the urinary system   1.112347    10.0   \n",
       "\n",
       "      Total Visits (Across all Triage levels)  Standard Error  \n",
       "0                                      9913.0        0.479779  \n",
       "1                                      9913.0        0.092456  \n",
       "2                                      5395.0        0.636452  \n",
       "3                                      5395.0        0.129750  \n",
       "4                                      4518.0        0.728397  \n",
       "...                                       ...             ...  \n",
       "3411                                   2227.0        0.219981  \n",
       "3412                                   1328.0        1.166561  \n",
       "3413                                   1328.0        0.281751  \n",
       "3414                                    899.0        1.282821  \n",
       "3415                                    899.0        0.351755  \n",
       "\n",
       "[3416 rows x 10 columns]"
      ]
     },
     "execution_count": 5,
     "metadata": {},
     "output_type": "execute_result"
    }
   ],
   "source": [
    "edmonton = pd.read_csv(\"Edmonton zone.csv\")\n",
    "edmonton"
   ]
  },
  {
   "cell_type": "markdown",
   "metadata": {},
   "source": [
    "### North zone"
   ]
  },
  {
   "cell_type": "code",
   "execution_count": 6,
   "metadata": {},
   "outputs": [
    {
     "data": {
      "text/html": [
       "<div>\n",
       "<style scoped>\n",
       "    .dataframe tbody tr th:only-of-type {\n",
       "        vertical-align: middle;\n",
       "    }\n",
       "\n",
       "    .dataframe tbody tr th {\n",
       "        vertical-align: top;\n",
       "    }\n",
       "\n",
       "    .dataframe thead th {\n",
       "        text-align: right;\n",
       "    }\n",
       "</style>\n",
       "<table border=\"1\" class=\"dataframe\">\n",
       "  <thead>\n",
       "    <tr style=\"text-align: right;\">\n",
       "      <th></th>\n",
       "      <th>Geography</th>\n",
       "      <th>Year</th>\n",
       "      <th>Sex</th>\n",
       "      <th>Age</th>\n",
       "      <th>Triage Level</th>\n",
       "      <th>ICD Description</th>\n",
       "      <th>Percent</th>\n",
       "      <th>Visits</th>\n",
       "      <th>Total Visits (Across all Triage levels)</th>\n",
       "      <th>Standard Error</th>\n",
       "    </tr>\n",
       "  </thead>\n",
       "  <tbody>\n",
       "    <tr>\n",
       "      <th>0</th>\n",
       "      <td>Z5</td>\n",
       "      <td>2015</td>\n",
       "      <td>BOTH</td>\n",
       "      <td>ALL</td>\n",
       "      <td>4-Semi-Urgent</td>\n",
       "      <td>A09-A09 Infectious gastroenteritis and colitis...</td>\n",
       "      <td>42.439147</td>\n",
       "      <td>3365.0</td>\n",
       "      <td>7929.0</td>\n",
       "      <td>0.731601</td>\n",
       "    </tr>\n",
       "    <tr>\n",
       "      <th>1</th>\n",
       "      <td>Z5</td>\n",
       "      <td>2015</td>\n",
       "      <td>BOTH</td>\n",
       "      <td>ALL</td>\n",
       "      <td>5-Non-Urgent</td>\n",
       "      <td>A09-A09 Infectious gastroenteritis and colitis...</td>\n",
       "      <td>6.053727</td>\n",
       "      <td>480.0</td>\n",
       "      <td>7929.0</td>\n",
       "      <td>0.276314</td>\n",
       "    </tr>\n",
       "    <tr>\n",
       "      <th>2</th>\n",
       "      <td>Z5</td>\n",
       "      <td>2015</td>\n",
       "      <td>FEMALE</td>\n",
       "      <td>ALL</td>\n",
       "      <td>4-Semi-Urgent</td>\n",
       "      <td>A09-A09 Infectious gastroenteritis and colitis...</td>\n",
       "      <td>43.332558</td>\n",
       "      <td>1862.0</td>\n",
       "      <td>4297.0</td>\n",
       "      <td>1.004210</td>\n",
       "    </tr>\n",
       "    <tr>\n",
       "      <th>3</th>\n",
       "      <td>Z5</td>\n",
       "      <td>2015</td>\n",
       "      <td>FEMALE</td>\n",
       "      <td>ALL</td>\n",
       "      <td>5-Non-Urgent</td>\n",
       "      <td>A09-A09 Infectious gastroenteritis and colitis...</td>\n",
       "      <td>5.794741</td>\n",
       "      <td>249.0</td>\n",
       "      <td>4297.0</td>\n",
       "      <td>0.367227</td>\n",
       "    </tr>\n",
       "    <tr>\n",
       "      <th>4</th>\n",
       "      <td>Z5</td>\n",
       "      <td>2015</td>\n",
       "      <td>MALE</td>\n",
       "      <td>ALL</td>\n",
       "      <td>4-Semi-Urgent</td>\n",
       "      <td>A09-A09 Infectious gastroenteritis and colitis...</td>\n",
       "      <td>41.382159</td>\n",
       "      <td>1503.0</td>\n",
       "      <td>3632.0</td>\n",
       "      <td>1.067416</td>\n",
       "    </tr>\n",
       "    <tr>\n",
       "      <th>...</th>\n",
       "      <td>...</td>\n",
       "      <td>...</td>\n",
       "      <td>...</td>\n",
       "      <td>...</td>\n",
       "      <td>...</td>\n",
       "      <td>...</td>\n",
       "      <td>...</td>\n",
       "      <td>...</td>\n",
       "      <td>...</td>\n",
       "      <td>...</td>\n",
       "    </tr>\n",
       "    <tr>\n",
       "      <th>3415</th>\n",
       "      <td>Z5</td>\n",
       "      <td>2019</td>\n",
       "      <td>BOTH</td>\n",
       "      <td>75+</td>\n",
       "      <td>5-Non-Urgent</td>\n",
       "      <td>N30-N39 Other diseases of the urinary system</td>\n",
       "      <td>7.151665</td>\n",
       "      <td>116.0</td>\n",
       "      <td>1622.0</td>\n",
       "      <td>0.664015</td>\n",
       "    </tr>\n",
       "    <tr>\n",
       "      <th>3416</th>\n",
       "      <td>Z5</td>\n",
       "      <td>2019</td>\n",
       "      <td>FEMALE</td>\n",
       "      <td>75+</td>\n",
       "      <td>4-Semi-Urgent</td>\n",
       "      <td>N30-N39 Other diseases of the urinary system</td>\n",
       "      <td>52.914390</td>\n",
       "      <td>581.0</td>\n",
       "      <td>1098.0</td>\n",
       "      <td>2.195259</td>\n",
       "    </tr>\n",
       "    <tr>\n",
       "      <th>3417</th>\n",
       "      <td>Z5</td>\n",
       "      <td>2019</td>\n",
       "      <td>FEMALE</td>\n",
       "      <td>75+</td>\n",
       "      <td>5-Non-Urgent</td>\n",
       "      <td>N30-N39 Other diseases of the urinary system</td>\n",
       "      <td>7.650273</td>\n",
       "      <td>84.0</td>\n",
       "      <td>1098.0</td>\n",
       "      <td>0.834713</td>\n",
       "    </tr>\n",
       "    <tr>\n",
       "      <th>3418</th>\n",
       "      <td>Z5</td>\n",
       "      <td>2019</td>\n",
       "      <td>MALE</td>\n",
       "      <td>75+</td>\n",
       "      <td>4-Semi-Urgent</td>\n",
       "      <td>N30-N39 Other diseases of the urinary system</td>\n",
       "      <td>42.366412</td>\n",
       "      <td>222.0</td>\n",
       "      <td>524.0</td>\n",
       "      <td>2.843447</td>\n",
       "    </tr>\n",
       "    <tr>\n",
       "      <th>3419</th>\n",
       "      <td>Z5</td>\n",
       "      <td>2019</td>\n",
       "      <td>MALE</td>\n",
       "      <td>75+</td>\n",
       "      <td>5-Non-Urgent</td>\n",
       "      <td>N30-N39 Other diseases of the urinary system</td>\n",
       "      <td>6.106870</td>\n",
       "      <td>32.0</td>\n",
       "      <td>524.0</td>\n",
       "      <td>1.079552</td>\n",
       "    </tr>\n",
       "  </tbody>\n",
       "</table>\n",
       "<p>3420 rows × 10 columns</p>\n",
       "</div>"
      ],
      "text/plain": [
       "     Geography  Year     Sex  Age   Triage Level  \\\n",
       "0           Z5  2015    BOTH  ALL  4-Semi-Urgent   \n",
       "1           Z5  2015    BOTH  ALL   5-Non-Urgent   \n",
       "2           Z5  2015  FEMALE  ALL  4-Semi-Urgent   \n",
       "3           Z5  2015  FEMALE  ALL   5-Non-Urgent   \n",
       "4           Z5  2015    MALE  ALL  4-Semi-Urgent   \n",
       "...        ...   ...     ...  ...            ...   \n",
       "3415        Z5  2019    BOTH  75+   5-Non-Urgent   \n",
       "3416        Z5  2019  FEMALE  75+  4-Semi-Urgent   \n",
       "3417        Z5  2019  FEMALE  75+   5-Non-Urgent   \n",
       "3418        Z5  2019    MALE  75+  4-Semi-Urgent   \n",
       "3419        Z5  2019    MALE  75+   5-Non-Urgent   \n",
       "\n",
       "                                        ICD Description    Percent  Visits  \\\n",
       "0     A09-A09 Infectious gastroenteritis and colitis...  42.439147  3365.0   \n",
       "1     A09-A09 Infectious gastroenteritis and colitis...   6.053727   480.0   \n",
       "2     A09-A09 Infectious gastroenteritis and colitis...  43.332558  1862.0   \n",
       "3     A09-A09 Infectious gastroenteritis and colitis...   5.794741   249.0   \n",
       "4     A09-A09 Infectious gastroenteritis and colitis...  41.382159  1503.0   \n",
       "...                                                 ...        ...     ...   \n",
       "3415       N30-N39 Other diseases of the urinary system   7.151665   116.0   \n",
       "3416       N30-N39 Other diseases of the urinary system  52.914390   581.0   \n",
       "3417       N30-N39 Other diseases of the urinary system   7.650273    84.0   \n",
       "3418       N30-N39 Other diseases of the urinary system  42.366412   222.0   \n",
       "3419       N30-N39 Other diseases of the urinary system   6.106870    32.0   \n",
       "\n",
       "      Total Visits (Across all Triage levels)  Standard Error  \n",
       "0                                      7929.0        0.731601  \n",
       "1                                      7929.0        0.276314  \n",
       "2                                      4297.0        1.004210  \n",
       "3                                      4297.0        0.367227  \n",
       "4                                      3632.0        1.067416  \n",
       "...                                       ...             ...  \n",
       "3415                                   1622.0        0.664015  \n",
       "3416                                   1098.0        2.195259  \n",
       "3417                                   1098.0        0.834713  \n",
       "3418                                    524.0        2.843447  \n",
       "3419                                    524.0        1.079552  \n",
       "\n",
       "[3420 rows x 10 columns]"
      ]
     },
     "execution_count": 6,
     "metadata": {},
     "output_type": "execute_result"
    }
   ],
   "source": [
    "north = pd.read_csv(\"North zone.csv\")\n",
    "north"
   ]
  },
  {
   "cell_type": "markdown",
   "metadata": {},
   "source": [
    "### South zone"
   ]
  },
  {
   "cell_type": "code",
   "execution_count": 7,
   "metadata": {},
   "outputs": [
    {
     "data": {
      "text/html": [
       "<div>\n",
       "<style scoped>\n",
       "    .dataframe tbody tr th:only-of-type {\n",
       "        vertical-align: middle;\n",
       "    }\n",
       "\n",
       "    .dataframe tbody tr th {\n",
       "        vertical-align: top;\n",
       "    }\n",
       "\n",
       "    .dataframe thead th {\n",
       "        text-align: right;\n",
       "    }\n",
       "</style>\n",
       "<table border=\"1\" class=\"dataframe\">\n",
       "  <thead>\n",
       "    <tr style=\"text-align: right;\">\n",
       "      <th></th>\n",
       "      <th>Geography</th>\n",
       "      <th>Year</th>\n",
       "      <th>Sex</th>\n",
       "      <th>Age</th>\n",
       "      <th>Triage Level</th>\n",
       "      <th>ICD Description</th>\n",
       "      <th>Percent</th>\n",
       "      <th>Visits</th>\n",
       "      <th>Total Visits (Across all Triage levels)</th>\n",
       "      <th>Standard Error</th>\n",
       "    </tr>\n",
       "  </thead>\n",
       "  <tbody>\n",
       "    <tr>\n",
       "      <th>0</th>\n",
       "      <td>Z1</td>\n",
       "      <td>2015</td>\n",
       "      <td>BOTH</td>\n",
       "      <td>ALL</td>\n",
       "      <td>4-Semi-Urgent</td>\n",
       "      <td>A09-A09 Infectious gastroenteritis and colitis...</td>\n",
       "      <td>40.935845</td>\n",
       "      <td>1391.0</td>\n",
       "      <td>3398.0</td>\n",
       "      <td>1.097590</td>\n",
       "    </tr>\n",
       "    <tr>\n",
       "      <th>1</th>\n",
       "      <td>Z1</td>\n",
       "      <td>2015</td>\n",
       "      <td>BOTH</td>\n",
       "      <td>ALL</td>\n",
       "      <td>5-Non-Urgent</td>\n",
       "      <td>A09-A09 Infectious gastroenteritis and colitis...</td>\n",
       "      <td>4.679223</td>\n",
       "      <td>159.0</td>\n",
       "      <td>3398.0</td>\n",
       "      <td>0.371087</td>\n",
       "    </tr>\n",
       "    <tr>\n",
       "      <th>2</th>\n",
       "      <td>Z1</td>\n",
       "      <td>2015</td>\n",
       "      <td>FEMALE</td>\n",
       "      <td>ALL</td>\n",
       "      <td>4-Semi-Urgent</td>\n",
       "      <td>A09-A09 Infectious gastroenteritis and colitis...</td>\n",
       "      <td>38.999462</td>\n",
       "      <td>725.0</td>\n",
       "      <td>1859.0</td>\n",
       "      <td>1.448404</td>\n",
       "    </tr>\n",
       "    <tr>\n",
       "      <th>3</th>\n",
       "      <td>Z1</td>\n",
       "      <td>2015</td>\n",
       "      <td>FEMALE</td>\n",
       "      <td>ALL</td>\n",
       "      <td>5-Non-Urgent</td>\n",
       "      <td>A09-A09 Infectious gastroenteritis and colitis...</td>\n",
       "      <td>5.110274</td>\n",
       "      <td>95.0</td>\n",
       "      <td>1859.0</td>\n",
       "      <td>0.524303</td>\n",
       "    </tr>\n",
       "    <tr>\n",
       "      <th>4</th>\n",
       "      <td>Z1</td>\n",
       "      <td>2015</td>\n",
       "      <td>MALE</td>\n",
       "      <td>ALL</td>\n",
       "      <td>4-Semi-Urgent</td>\n",
       "      <td>A09-A09 Infectious gastroenteritis and colitis...</td>\n",
       "      <td>43.274854</td>\n",
       "      <td>666.0</td>\n",
       "      <td>1539.0</td>\n",
       "      <td>1.676867</td>\n",
       "    </tr>\n",
       "    <tr>\n",
       "      <th>...</th>\n",
       "      <td>...</td>\n",
       "      <td>...</td>\n",
       "      <td>...</td>\n",
       "      <td>...</td>\n",
       "      <td>...</td>\n",
       "      <td>...</td>\n",
       "      <td>...</td>\n",
       "      <td>...</td>\n",
       "      <td>...</td>\n",
       "      <td>...</td>\n",
       "    </tr>\n",
       "    <tr>\n",
       "      <th>3399</th>\n",
       "      <td>Z1</td>\n",
       "      <td>2019</td>\n",
       "      <td>BOTH</td>\n",
       "      <td>75+</td>\n",
       "      <td>5-Non-Urgent</td>\n",
       "      <td>N30-N39 Other diseases of the urinary system</td>\n",
       "      <td>5.475207</td>\n",
       "      <td>53.0</td>\n",
       "      <td>968.0</td>\n",
       "      <td>0.752077</td>\n",
       "    </tr>\n",
       "    <tr>\n",
       "      <th>3400</th>\n",
       "      <td>Z1</td>\n",
       "      <td>2019</td>\n",
       "      <td>FEMALE</td>\n",
       "      <td>75+</td>\n",
       "      <td>4-Semi-Urgent</td>\n",
       "      <td>N30-N39 Other diseases of the urinary system</td>\n",
       "      <td>43.251534</td>\n",
       "      <td>282.0</td>\n",
       "      <td>652.0</td>\n",
       "      <td>2.575591</td>\n",
       "    </tr>\n",
       "    <tr>\n",
       "      <th>3401</th>\n",
       "      <td>Z1</td>\n",
       "      <td>2019</td>\n",
       "      <td>FEMALE</td>\n",
       "      <td>75+</td>\n",
       "      <td>5-Non-Urgent</td>\n",
       "      <td>N30-N39 Other diseases of the urinary system</td>\n",
       "      <td>4.907975</td>\n",
       "      <td>32.0</td>\n",
       "      <td>652.0</td>\n",
       "      <td>0.867616</td>\n",
       "    </tr>\n",
       "    <tr>\n",
       "      <th>3402</th>\n",
       "      <td>Z1</td>\n",
       "      <td>2019</td>\n",
       "      <td>MALE</td>\n",
       "      <td>75+</td>\n",
       "      <td>4-Semi-Urgent</td>\n",
       "      <td>N30-N39 Other diseases of the urinary system</td>\n",
       "      <td>33.227848</td>\n",
       "      <td>105.0</td>\n",
       "      <td>316.0</td>\n",
       "      <td>3.242706</td>\n",
       "    </tr>\n",
       "    <tr>\n",
       "      <th>3403</th>\n",
       "      <td>Z1</td>\n",
       "      <td>2019</td>\n",
       "      <td>MALE</td>\n",
       "      <td>75+</td>\n",
       "      <td>5-Non-Urgent</td>\n",
       "      <td>N30-N39 Other diseases of the urinary system</td>\n",
       "      <td>6.645570</td>\n",
       "      <td>21.0</td>\n",
       "      <td>316.0</td>\n",
       "      <td>1.450182</td>\n",
       "    </tr>\n",
       "  </tbody>\n",
       "</table>\n",
       "<p>3404 rows × 10 columns</p>\n",
       "</div>"
      ],
      "text/plain": [
       "     Geography  Year     Sex  Age   Triage Level  \\\n",
       "0           Z1  2015    BOTH  ALL  4-Semi-Urgent   \n",
       "1           Z1  2015    BOTH  ALL   5-Non-Urgent   \n",
       "2           Z1  2015  FEMALE  ALL  4-Semi-Urgent   \n",
       "3           Z1  2015  FEMALE  ALL   5-Non-Urgent   \n",
       "4           Z1  2015    MALE  ALL  4-Semi-Urgent   \n",
       "...        ...   ...     ...  ...            ...   \n",
       "3399        Z1  2019    BOTH  75+   5-Non-Urgent   \n",
       "3400        Z1  2019  FEMALE  75+  4-Semi-Urgent   \n",
       "3401        Z1  2019  FEMALE  75+   5-Non-Urgent   \n",
       "3402        Z1  2019    MALE  75+  4-Semi-Urgent   \n",
       "3403        Z1  2019    MALE  75+   5-Non-Urgent   \n",
       "\n",
       "                                        ICD Description    Percent  Visits  \\\n",
       "0     A09-A09 Infectious gastroenteritis and colitis...  40.935845  1391.0   \n",
       "1     A09-A09 Infectious gastroenteritis and colitis...   4.679223   159.0   \n",
       "2     A09-A09 Infectious gastroenteritis and colitis...  38.999462   725.0   \n",
       "3     A09-A09 Infectious gastroenteritis and colitis...   5.110274    95.0   \n",
       "4     A09-A09 Infectious gastroenteritis and colitis...  43.274854   666.0   \n",
       "...                                                 ...        ...     ...   \n",
       "3399       N30-N39 Other diseases of the urinary system   5.475207    53.0   \n",
       "3400       N30-N39 Other diseases of the urinary system  43.251534   282.0   \n",
       "3401       N30-N39 Other diseases of the urinary system   4.907975    32.0   \n",
       "3402       N30-N39 Other diseases of the urinary system  33.227848   105.0   \n",
       "3403       N30-N39 Other diseases of the urinary system   6.645570    21.0   \n",
       "\n",
       "      Total Visits (Across all Triage levels)  Standard Error  \n",
       "0                                      3398.0        1.097590  \n",
       "1                                      3398.0        0.371087  \n",
       "2                                      1859.0        1.448404  \n",
       "3                                      1859.0        0.524303  \n",
       "4                                      1539.0        1.676867  \n",
       "...                                       ...             ...  \n",
       "3399                                    968.0        0.752077  \n",
       "3400                                    652.0        2.575591  \n",
       "3401                                    652.0        0.867616  \n",
       "3402                                    316.0        3.242706  \n",
       "3403                                    316.0        1.450182  \n",
       "\n",
       "[3404 rows x 10 columns]"
      ]
     },
     "execution_count": 7,
     "metadata": {},
     "output_type": "execute_result"
    }
   ],
   "source": [
    "south = pd.read_csv(\"South zone.csv\")\n",
    "south"
   ]
  },
  {
   "cell_type": "code",
   "execution_count": 8,
   "metadata": {},
   "outputs": [
    {
     "data": {
      "text/html": [
       "<div>\n",
       "<style scoped>\n",
       "    .dataframe tbody tr th:only-of-type {\n",
       "        vertical-align: middle;\n",
       "    }\n",
       "\n",
       "    .dataframe tbody tr th {\n",
       "        vertical-align: top;\n",
       "    }\n",
       "\n",
       "    .dataframe thead th {\n",
       "        text-align: right;\n",
       "    }\n",
       "</style>\n",
       "<table border=\"1\" class=\"dataframe\">\n",
       "  <thead>\n",
       "    <tr style=\"text-align: right;\">\n",
       "      <th></th>\n",
       "      <th>Geography</th>\n",
       "      <th>Year</th>\n",
       "      <th>Sex</th>\n",
       "      <th>Age</th>\n",
       "      <th>Triage Level</th>\n",
       "      <th>ICD Description</th>\n",
       "      <th>Percent</th>\n",
       "      <th>Visits</th>\n",
       "      <th>Total Visits (Across all Triage levels)</th>\n",
       "      <th>Standard Error</th>\n",
       "    </tr>\n",
       "  </thead>\n",
       "  <tbody>\n",
       "    <tr>\n",
       "      <th>0</th>\n",
       "      <td>Z2</td>\n",
       "      <td>2015</td>\n",
       "      <td>BOTH</td>\n",
       "      <td>ALL</td>\n",
       "      <td>4-Semi-Urgent</td>\n",
       "      <td>A09-A09 Infectious gastroenteritis and colitis...</td>\n",
       "      <td>27.360755</td>\n",
       "      <td>3419.0</td>\n",
       "      <td>12496.0</td>\n",
       "      <td>0.467927</td>\n",
       "    </tr>\n",
       "    <tr>\n",
       "      <th>1</th>\n",
       "      <td>Z2</td>\n",
       "      <td>2015</td>\n",
       "      <td>BOTH</td>\n",
       "      <td>ALL</td>\n",
       "      <td>5-Non-Urgent</td>\n",
       "      <td>A09-A09 Infectious gastroenteritis and colitis...</td>\n",
       "      <td>2.392766</td>\n",
       "      <td>299.0</td>\n",
       "      <td>12496.0</td>\n",
       "      <td>0.138377</td>\n",
       "    </tr>\n",
       "    <tr>\n",
       "      <th>2</th>\n",
       "      <td>Z2</td>\n",
       "      <td>2015</td>\n",
       "      <td>FEMALE</td>\n",
       "      <td>ALL</td>\n",
       "      <td>4-Semi-Urgent</td>\n",
       "      <td>A09-A09 Infectious gastroenteritis and colitis...</td>\n",
       "      <td>26.377246</td>\n",
       "      <td>1762.0</td>\n",
       "      <td>6680.0</td>\n",
       "      <td>0.628386</td>\n",
       "    </tr>\n",
       "    <tr>\n",
       "      <th>3</th>\n",
       "      <td>Z2</td>\n",
       "      <td>2015</td>\n",
       "      <td>FEMALE</td>\n",
       "      <td>ALL</td>\n",
       "      <td>5-Non-Urgent</td>\n",
       "      <td>A09-A09 Infectious gastroenteritis and colitis...</td>\n",
       "      <td>2.065868</td>\n",
       "      <td>138.0</td>\n",
       "      <td>6680.0</td>\n",
       "      <td>0.175858</td>\n",
       "    </tr>\n",
       "    <tr>\n",
       "      <th>4</th>\n",
       "      <td>Z2</td>\n",
       "      <td>2015</td>\n",
       "      <td>MALE</td>\n",
       "      <td>ALL</td>\n",
       "      <td>4-Semi-Urgent</td>\n",
       "      <td>A09-A09 Infectious gastroenteritis and colitis...</td>\n",
       "      <td>28.490371</td>\n",
       "      <td>1657.0</td>\n",
       "      <td>5816.0</td>\n",
       "      <td>0.699901</td>\n",
       "    </tr>\n",
       "    <tr>\n",
       "      <th>...</th>\n",
       "      <td>...</td>\n",
       "      <td>...</td>\n",
       "      <td>...</td>\n",
       "      <td>...</td>\n",
       "      <td>...</td>\n",
       "      <td>...</td>\n",
       "      <td>...</td>\n",
       "      <td>...</td>\n",
       "      <td>...</td>\n",
       "      <td>...</td>\n",
       "    </tr>\n",
       "    <tr>\n",
       "      <th>3399</th>\n",
       "      <td>Z1</td>\n",
       "      <td>2019</td>\n",
       "      <td>BOTH</td>\n",
       "      <td>75+</td>\n",
       "      <td>5-Non-Urgent</td>\n",
       "      <td>N30-N39 Other diseases of the urinary system</td>\n",
       "      <td>5.475207</td>\n",
       "      <td>53.0</td>\n",
       "      <td>968.0</td>\n",
       "      <td>0.752077</td>\n",
       "    </tr>\n",
       "    <tr>\n",
       "      <th>3400</th>\n",
       "      <td>Z1</td>\n",
       "      <td>2019</td>\n",
       "      <td>FEMALE</td>\n",
       "      <td>75+</td>\n",
       "      <td>4-Semi-Urgent</td>\n",
       "      <td>N30-N39 Other diseases of the urinary system</td>\n",
       "      <td>43.251534</td>\n",
       "      <td>282.0</td>\n",
       "      <td>652.0</td>\n",
       "      <td>2.575591</td>\n",
       "    </tr>\n",
       "    <tr>\n",
       "      <th>3401</th>\n",
       "      <td>Z1</td>\n",
       "      <td>2019</td>\n",
       "      <td>FEMALE</td>\n",
       "      <td>75+</td>\n",
       "      <td>5-Non-Urgent</td>\n",
       "      <td>N30-N39 Other diseases of the urinary system</td>\n",
       "      <td>4.907975</td>\n",
       "      <td>32.0</td>\n",
       "      <td>652.0</td>\n",
       "      <td>0.867616</td>\n",
       "    </tr>\n",
       "    <tr>\n",
       "      <th>3402</th>\n",
       "      <td>Z1</td>\n",
       "      <td>2019</td>\n",
       "      <td>MALE</td>\n",
       "      <td>75+</td>\n",
       "      <td>4-Semi-Urgent</td>\n",
       "      <td>N30-N39 Other diseases of the urinary system</td>\n",
       "      <td>33.227848</td>\n",
       "      <td>105.0</td>\n",
       "      <td>316.0</td>\n",
       "      <td>3.242706</td>\n",
       "    </tr>\n",
       "    <tr>\n",
       "      <th>3403</th>\n",
       "      <td>Z1</td>\n",
       "      <td>2019</td>\n",
       "      <td>MALE</td>\n",
       "      <td>75+</td>\n",
       "      <td>5-Non-Urgent</td>\n",
       "      <td>N30-N39 Other diseases of the urinary system</td>\n",
       "      <td>6.645570</td>\n",
       "      <td>21.0</td>\n",
       "      <td>316.0</td>\n",
       "      <td>1.450182</td>\n",
       "    </tr>\n",
       "  </tbody>\n",
       "</table>\n",
       "<p>17072 rows × 10 columns</p>\n",
       "</div>"
      ],
      "text/plain": [
       "     Geography  Year     Sex  Age   Triage Level  \\\n",
       "0           Z2  2015    BOTH  ALL  4-Semi-Urgent   \n",
       "1           Z2  2015    BOTH  ALL   5-Non-Urgent   \n",
       "2           Z2  2015  FEMALE  ALL  4-Semi-Urgent   \n",
       "3           Z2  2015  FEMALE  ALL   5-Non-Urgent   \n",
       "4           Z2  2015    MALE  ALL  4-Semi-Urgent   \n",
       "...        ...   ...     ...  ...            ...   \n",
       "3399        Z1  2019    BOTH  75+   5-Non-Urgent   \n",
       "3400        Z1  2019  FEMALE  75+  4-Semi-Urgent   \n",
       "3401        Z1  2019  FEMALE  75+   5-Non-Urgent   \n",
       "3402        Z1  2019    MALE  75+  4-Semi-Urgent   \n",
       "3403        Z1  2019    MALE  75+   5-Non-Urgent   \n",
       "\n",
       "                                        ICD Description    Percent  Visits  \\\n",
       "0     A09-A09 Infectious gastroenteritis and colitis...  27.360755  3419.0   \n",
       "1     A09-A09 Infectious gastroenteritis and colitis...   2.392766   299.0   \n",
       "2     A09-A09 Infectious gastroenteritis and colitis...  26.377246  1762.0   \n",
       "3     A09-A09 Infectious gastroenteritis and colitis...   2.065868   138.0   \n",
       "4     A09-A09 Infectious gastroenteritis and colitis...  28.490371  1657.0   \n",
       "...                                                 ...        ...     ...   \n",
       "3399       N30-N39 Other diseases of the urinary system   5.475207    53.0   \n",
       "3400       N30-N39 Other diseases of the urinary system  43.251534   282.0   \n",
       "3401       N30-N39 Other diseases of the urinary system   4.907975    32.0   \n",
       "3402       N30-N39 Other diseases of the urinary system  33.227848   105.0   \n",
       "3403       N30-N39 Other diseases of the urinary system   6.645570    21.0   \n",
       "\n",
       "      Total Visits (Across all Triage levels)  Standard Error  \n",
       "0                                     12496.0        0.467927  \n",
       "1                                     12496.0        0.138377  \n",
       "2                                      6680.0        0.628386  \n",
       "3                                      6680.0        0.175858  \n",
       "4                                      5816.0        0.699901  \n",
       "...                                       ...             ...  \n",
       "3399                                    968.0        0.752077  \n",
       "3400                                    652.0        2.575591  \n",
       "3401                                    652.0        0.867616  \n",
       "3402                                    316.0        3.242706  \n",
       "3403                                    316.0        1.450182  \n",
       "\n",
       "[17072 rows x 10 columns]"
      ]
     },
     "execution_count": 8,
     "metadata": {},
     "output_type": "execute_result"
    }
   ],
   "source": [
    "# Concatenating the datasets for all 5 regions of alberta health services\n",
    "\n",
    "total = pd.concat([calgary, central, edmonton, north, south], axis = 0)\n",
    "total"
   ]
  },
  {
   "cell_type": "code",
   "execution_count": 9,
   "metadata": {},
   "outputs": [
    {
     "data": {
      "text/html": [
       "<div>\n",
       "<style scoped>\n",
       "    .dataframe tbody tr th:only-of-type {\n",
       "        vertical-align: middle;\n",
       "    }\n",
       "\n",
       "    .dataframe tbody tr th {\n",
       "        vertical-align: top;\n",
       "    }\n",
       "\n",
       "    .dataframe thead th {\n",
       "        text-align: right;\n",
       "    }\n",
       "</style>\n",
       "<table border=\"1\" class=\"dataframe\">\n",
       "  <thead>\n",
       "    <tr style=\"text-align: right;\">\n",
       "      <th></th>\n",
       "      <th>Geography</th>\n",
       "      <th>Year</th>\n",
       "      <th>Sex</th>\n",
       "      <th>Age</th>\n",
       "      <th>Triage Level</th>\n",
       "      <th>ICD Description</th>\n",
       "      <th>Percent</th>\n",
       "      <th>Visits</th>\n",
       "      <th>Total Visits (Across all Triage levels)</th>\n",
       "      <th>Standard Error</th>\n",
       "    </tr>\n",
       "  </thead>\n",
       "  <tbody>\n",
       "    <tr>\n",
       "      <th>0</th>\n",
       "      <td>calgary</td>\n",
       "      <td>2015</td>\n",
       "      <td>BOTH</td>\n",
       "      <td>ALL</td>\n",
       "      <td>4-Semi-Urgent</td>\n",
       "      <td>A09-A09 Infectious gastroenteritis and colitis...</td>\n",
       "      <td>27.360755</td>\n",
       "      <td>3419.0</td>\n",
       "      <td>12496.0</td>\n",
       "      <td>0.467927</td>\n",
       "    </tr>\n",
       "    <tr>\n",
       "      <th>1</th>\n",
       "      <td>calgary</td>\n",
       "      <td>2015</td>\n",
       "      <td>BOTH</td>\n",
       "      <td>ALL</td>\n",
       "      <td>5-Non-Urgent</td>\n",
       "      <td>A09-A09 Infectious gastroenteritis and colitis...</td>\n",
       "      <td>2.392766</td>\n",
       "      <td>299.0</td>\n",
       "      <td>12496.0</td>\n",
       "      <td>0.138377</td>\n",
       "    </tr>\n",
       "    <tr>\n",
       "      <th>2</th>\n",
       "      <td>calgary</td>\n",
       "      <td>2015</td>\n",
       "      <td>FEMALE</td>\n",
       "      <td>ALL</td>\n",
       "      <td>4-Semi-Urgent</td>\n",
       "      <td>A09-A09 Infectious gastroenteritis and colitis...</td>\n",
       "      <td>26.377246</td>\n",
       "      <td>1762.0</td>\n",
       "      <td>6680.0</td>\n",
       "      <td>0.628386</td>\n",
       "    </tr>\n",
       "    <tr>\n",
       "      <th>3</th>\n",
       "      <td>calgary</td>\n",
       "      <td>2015</td>\n",
       "      <td>FEMALE</td>\n",
       "      <td>ALL</td>\n",
       "      <td>5-Non-Urgent</td>\n",
       "      <td>A09-A09 Infectious gastroenteritis and colitis...</td>\n",
       "      <td>2.065868</td>\n",
       "      <td>138.0</td>\n",
       "      <td>6680.0</td>\n",
       "      <td>0.175858</td>\n",
       "    </tr>\n",
       "    <tr>\n",
       "      <th>4</th>\n",
       "      <td>calgary</td>\n",
       "      <td>2015</td>\n",
       "      <td>MALE</td>\n",
       "      <td>ALL</td>\n",
       "      <td>4-Semi-Urgent</td>\n",
       "      <td>A09-A09 Infectious gastroenteritis and colitis...</td>\n",
       "      <td>28.490371</td>\n",
       "      <td>1657.0</td>\n",
       "      <td>5816.0</td>\n",
       "      <td>0.699901</td>\n",
       "    </tr>\n",
       "    <tr>\n",
       "      <th>...</th>\n",
       "      <td>...</td>\n",
       "      <td>...</td>\n",
       "      <td>...</td>\n",
       "      <td>...</td>\n",
       "      <td>...</td>\n",
       "      <td>...</td>\n",
       "      <td>...</td>\n",
       "      <td>...</td>\n",
       "      <td>...</td>\n",
       "      <td>...</td>\n",
       "    </tr>\n",
       "    <tr>\n",
       "      <th>3399</th>\n",
       "      <td>south</td>\n",
       "      <td>2019</td>\n",
       "      <td>BOTH</td>\n",
       "      <td>75+</td>\n",
       "      <td>5-Non-Urgent</td>\n",
       "      <td>N30-N39 Other diseases of the urinary system</td>\n",
       "      <td>5.475207</td>\n",
       "      <td>53.0</td>\n",
       "      <td>968.0</td>\n",
       "      <td>0.752077</td>\n",
       "    </tr>\n",
       "    <tr>\n",
       "      <th>3400</th>\n",
       "      <td>south</td>\n",
       "      <td>2019</td>\n",
       "      <td>FEMALE</td>\n",
       "      <td>75+</td>\n",
       "      <td>4-Semi-Urgent</td>\n",
       "      <td>N30-N39 Other diseases of the urinary system</td>\n",
       "      <td>43.251534</td>\n",
       "      <td>282.0</td>\n",
       "      <td>652.0</td>\n",
       "      <td>2.575591</td>\n",
       "    </tr>\n",
       "    <tr>\n",
       "      <th>3401</th>\n",
       "      <td>south</td>\n",
       "      <td>2019</td>\n",
       "      <td>FEMALE</td>\n",
       "      <td>75+</td>\n",
       "      <td>5-Non-Urgent</td>\n",
       "      <td>N30-N39 Other diseases of the urinary system</td>\n",
       "      <td>4.907975</td>\n",
       "      <td>32.0</td>\n",
       "      <td>652.0</td>\n",
       "      <td>0.867616</td>\n",
       "    </tr>\n",
       "    <tr>\n",
       "      <th>3402</th>\n",
       "      <td>south</td>\n",
       "      <td>2019</td>\n",
       "      <td>MALE</td>\n",
       "      <td>75+</td>\n",
       "      <td>4-Semi-Urgent</td>\n",
       "      <td>N30-N39 Other diseases of the urinary system</td>\n",
       "      <td>33.227848</td>\n",
       "      <td>105.0</td>\n",
       "      <td>316.0</td>\n",
       "      <td>3.242706</td>\n",
       "    </tr>\n",
       "    <tr>\n",
       "      <th>3403</th>\n",
       "      <td>south</td>\n",
       "      <td>2019</td>\n",
       "      <td>MALE</td>\n",
       "      <td>75+</td>\n",
       "      <td>5-Non-Urgent</td>\n",
       "      <td>N30-N39 Other diseases of the urinary system</td>\n",
       "      <td>6.645570</td>\n",
       "      <td>21.0</td>\n",
       "      <td>316.0</td>\n",
       "      <td>1.450182</td>\n",
       "    </tr>\n",
       "  </tbody>\n",
       "</table>\n",
       "<p>17072 rows × 10 columns</p>\n",
       "</div>"
      ],
      "text/plain": [
       "     Geography  Year     Sex  Age   Triage Level  \\\n",
       "0      calgary  2015    BOTH  ALL  4-Semi-Urgent   \n",
       "1      calgary  2015    BOTH  ALL   5-Non-Urgent   \n",
       "2      calgary  2015  FEMALE  ALL  4-Semi-Urgent   \n",
       "3      calgary  2015  FEMALE  ALL   5-Non-Urgent   \n",
       "4      calgary  2015    MALE  ALL  4-Semi-Urgent   \n",
       "...        ...   ...     ...  ...            ...   \n",
       "3399     south  2019    BOTH  75+   5-Non-Urgent   \n",
       "3400     south  2019  FEMALE  75+  4-Semi-Urgent   \n",
       "3401     south  2019  FEMALE  75+   5-Non-Urgent   \n",
       "3402     south  2019    MALE  75+  4-Semi-Urgent   \n",
       "3403     south  2019    MALE  75+   5-Non-Urgent   \n",
       "\n",
       "                                        ICD Description    Percent  Visits  \\\n",
       "0     A09-A09 Infectious gastroenteritis and colitis...  27.360755  3419.0   \n",
       "1     A09-A09 Infectious gastroenteritis and colitis...   2.392766   299.0   \n",
       "2     A09-A09 Infectious gastroenteritis and colitis...  26.377246  1762.0   \n",
       "3     A09-A09 Infectious gastroenteritis and colitis...   2.065868   138.0   \n",
       "4     A09-A09 Infectious gastroenteritis and colitis...  28.490371  1657.0   \n",
       "...                                                 ...        ...     ...   \n",
       "3399       N30-N39 Other diseases of the urinary system   5.475207    53.0   \n",
       "3400       N30-N39 Other diseases of the urinary system  43.251534   282.0   \n",
       "3401       N30-N39 Other diseases of the urinary system   4.907975    32.0   \n",
       "3402       N30-N39 Other diseases of the urinary system  33.227848   105.0   \n",
       "3403       N30-N39 Other diseases of the urinary system   6.645570    21.0   \n",
       "\n",
       "      Total Visits (Across all Triage levels)  Standard Error  \n",
       "0                                     12496.0        0.467927  \n",
       "1                                     12496.0        0.138377  \n",
       "2                                      6680.0        0.628386  \n",
       "3                                      6680.0        0.175858  \n",
       "4                                      5816.0        0.699901  \n",
       "...                                       ...             ...  \n",
       "3399                                    968.0        0.752077  \n",
       "3400                                    652.0        2.575591  \n",
       "3401                                    652.0        0.867616  \n",
       "3402                                    316.0        3.242706  \n",
       "3403                                    316.0        1.450182  \n",
       "\n",
       "[17072 rows x 10 columns]"
      ]
     },
     "execution_count": 9,
     "metadata": {},
     "output_type": "execute_result"
    }
   ],
   "source": [
    "#Labelling the data\n",
    "pd.set_option('display.max_columns', None)\n",
    "labelled = total.replace({'Z2': 'calgary', 'Z3': 'central', 'Z4': 'edmonton', 'Z5': 'north', 'Z1': 'south'})\n",
    "labelled"
   ]
  },
  {
   "cell_type": "code",
   "execution_count": 10,
   "metadata": {},
   "outputs": [
    {
     "data": {
      "text/html": [
       "<div>\n",
       "<style scoped>\n",
       "    .dataframe tbody tr th:only-of-type {\n",
       "        vertical-align: middle;\n",
       "    }\n",
       "\n",
       "    .dataframe tbody tr th {\n",
       "        vertical-align: top;\n",
       "    }\n",
       "\n",
       "    .dataframe thead th {\n",
       "        text-align: right;\n",
       "    }\n",
       "</style>\n",
       "<table border=\"1\" class=\"dataframe\">\n",
       "  <thead>\n",
       "    <tr style=\"text-align: right;\">\n",
       "      <th></th>\n",
       "      <th>Geography</th>\n",
       "      <th>Year</th>\n",
       "      <th>Sex</th>\n",
       "      <th>Age</th>\n",
       "      <th>Triage Level</th>\n",
       "      <th>ICD Description</th>\n",
       "      <th>Percent</th>\n",
       "      <th>Visits</th>\n",
       "      <th>Total Visits (Across all Triage levels)</th>\n",
       "      <th>Standard Error</th>\n",
       "    </tr>\n",
       "  </thead>\n",
       "  <tbody>\n",
       "    <tr>\n",
       "      <th>0</th>\n",
       "      <td>calgary</td>\n",
       "      <td>2015</td>\n",
       "      <td>BOTH</td>\n",
       "      <td>ALL</td>\n",
       "      <td>4-Semi-Urgent</td>\n",
       "      <td>A09-A09 Infectious gastroenteritis and colitis...</td>\n",
       "      <td>27.360755</td>\n",
       "      <td>3419.0</td>\n",
       "      <td>12496.0</td>\n",
       "      <td>0.467927</td>\n",
       "    </tr>\n",
       "    <tr>\n",
       "      <th>1</th>\n",
       "      <td>calgary</td>\n",
       "      <td>2015</td>\n",
       "      <td>BOTH</td>\n",
       "      <td>ALL</td>\n",
       "      <td>5-Non-Urgent</td>\n",
       "      <td>A09-A09 Infectious gastroenteritis and colitis...</td>\n",
       "      <td>2.392766</td>\n",
       "      <td>299.0</td>\n",
       "      <td>12496.0</td>\n",
       "      <td>0.138377</td>\n",
       "    </tr>\n",
       "    <tr>\n",
       "      <th>6</th>\n",
       "      <td>calgary</td>\n",
       "      <td>2015</td>\n",
       "      <td>BOTH</td>\n",
       "      <td>ALL</td>\n",
       "      <td>4-Semi-Urgent</td>\n",
       "      <td>B25-B34 Other viral diseases</td>\n",
       "      <td>31.895952</td>\n",
       "      <td>2293.0</td>\n",
       "      <td>7189.0</td>\n",
       "      <td>0.666091</td>\n",
       "    </tr>\n",
       "    <tr>\n",
       "      <th>7</th>\n",
       "      <td>calgary</td>\n",
       "      <td>2015</td>\n",
       "      <td>BOTH</td>\n",
       "      <td>ALL</td>\n",
       "      <td>5-Non-Urgent</td>\n",
       "      <td>B25-B34 Other viral diseases</td>\n",
       "      <td>3.213242</td>\n",
       "      <td>231.0</td>\n",
       "      <td>7189.0</td>\n",
       "      <td>0.211416</td>\n",
       "    </tr>\n",
       "    <tr>\n",
       "      <th>12</th>\n",
       "      <td>calgary</td>\n",
       "      <td>2015</td>\n",
       "      <td>BOTH</td>\n",
       "      <td>ALL</td>\n",
       "      <td>4-Semi-Urgent</td>\n",
       "      <td>F10-Alcohol related disorders</td>\n",
       "      <td>12.787437</td>\n",
       "      <td>684.0</td>\n",
       "      <td>5349.0</td>\n",
       "      <td>0.488940</td>\n",
       "    </tr>\n",
       "    <tr>\n",
       "      <th>...</th>\n",
       "      <td>...</td>\n",
       "      <td>...</td>\n",
       "      <td>...</td>\n",
       "      <td>...</td>\n",
       "      <td>...</td>\n",
       "      <td>...</td>\n",
       "      <td>...</td>\n",
       "      <td>...</td>\n",
       "      <td>...</td>\n",
       "      <td>...</td>\n",
       "    </tr>\n",
       "    <tr>\n",
       "      <th>3387</th>\n",
       "      <td>south</td>\n",
       "      <td>2019</td>\n",
       "      <td>BOTH</td>\n",
       "      <td>30to49</td>\n",
       "      <td>5-Non-Urgent</td>\n",
       "      <td>N30-N39 Other diseases of the urinary system</td>\n",
       "      <td>6.724782</td>\n",
       "      <td>54.0</td>\n",
       "      <td>803.0</td>\n",
       "      <td>0.915127</td>\n",
       "    </tr>\n",
       "    <tr>\n",
       "      <th>3392</th>\n",
       "      <td>south</td>\n",
       "      <td>2019</td>\n",
       "      <td>BOTH</td>\n",
       "      <td>50to74</td>\n",
       "      <td>4-Semi-Urgent</td>\n",
       "      <td>N30-N39 Other diseases of the urinary system</td>\n",
       "      <td>47.645650</td>\n",
       "      <td>597.0</td>\n",
       "      <td>1253.0</td>\n",
       "      <td>1.950007</td>\n",
       "    </tr>\n",
       "    <tr>\n",
       "      <th>3393</th>\n",
       "      <td>south</td>\n",
       "      <td>2019</td>\n",
       "      <td>BOTH</td>\n",
       "      <td>50to74</td>\n",
       "      <td>5-Non-Urgent</td>\n",
       "      <td>N30-N39 Other diseases of the urinary system</td>\n",
       "      <td>8.220271</td>\n",
       "      <td>103.0</td>\n",
       "      <td>1253.0</td>\n",
       "      <td>0.809967</td>\n",
       "    </tr>\n",
       "    <tr>\n",
       "      <th>3398</th>\n",
       "      <td>south</td>\n",
       "      <td>2019</td>\n",
       "      <td>BOTH</td>\n",
       "      <td>75+</td>\n",
       "      <td>4-Semi-Urgent</td>\n",
       "      <td>N30-N39 Other diseases of the urinary system</td>\n",
       "      <td>39.979339</td>\n",
       "      <td>387.0</td>\n",
       "      <td>968.0</td>\n",
       "      <td>2.032264</td>\n",
       "    </tr>\n",
       "    <tr>\n",
       "      <th>3399</th>\n",
       "      <td>south</td>\n",
       "      <td>2019</td>\n",
       "      <td>BOTH</td>\n",
       "      <td>75+</td>\n",
       "      <td>5-Non-Urgent</td>\n",
       "      <td>N30-N39 Other diseases of the urinary system</td>\n",
       "      <td>5.475207</td>\n",
       "      <td>53.0</td>\n",
       "      <td>968.0</td>\n",
       "      <td>0.752077</td>\n",
       "    </tr>\n",
       "  </tbody>\n",
       "</table>\n",
       "<p>5698 rows × 10 columns</p>\n",
       "</div>"
      ],
      "text/plain": [
       "     Geography  Year   Sex     Age   Triage Level  \\\n",
       "0      calgary  2015  BOTH     ALL  4-Semi-Urgent   \n",
       "1      calgary  2015  BOTH     ALL   5-Non-Urgent   \n",
       "6      calgary  2015  BOTH     ALL  4-Semi-Urgent   \n",
       "7      calgary  2015  BOTH     ALL   5-Non-Urgent   \n",
       "12     calgary  2015  BOTH     ALL  4-Semi-Urgent   \n",
       "...        ...   ...   ...     ...            ...   \n",
       "3387     south  2019  BOTH  30to49   5-Non-Urgent   \n",
       "3392     south  2019  BOTH  50to74  4-Semi-Urgent   \n",
       "3393     south  2019  BOTH  50to74   5-Non-Urgent   \n",
       "3398     south  2019  BOTH     75+  4-Semi-Urgent   \n",
       "3399     south  2019  BOTH     75+   5-Non-Urgent   \n",
       "\n",
       "                                        ICD Description    Percent  Visits  \\\n",
       "0     A09-A09 Infectious gastroenteritis and colitis...  27.360755  3419.0   \n",
       "1     A09-A09 Infectious gastroenteritis and colitis...   2.392766   299.0   \n",
       "6                          B25-B34 Other viral diseases  31.895952  2293.0   \n",
       "7                          B25-B34 Other viral diseases   3.213242   231.0   \n",
       "12                        F10-Alcohol related disorders  12.787437   684.0   \n",
       "...                                                 ...        ...     ...   \n",
       "3387       N30-N39 Other diseases of the urinary system   6.724782    54.0   \n",
       "3392       N30-N39 Other diseases of the urinary system  47.645650   597.0   \n",
       "3393       N30-N39 Other diseases of the urinary system   8.220271   103.0   \n",
       "3398       N30-N39 Other diseases of the urinary system  39.979339   387.0   \n",
       "3399       N30-N39 Other diseases of the urinary system   5.475207    53.0   \n",
       "\n",
       "      Total Visits (Across all Triage levels)  Standard Error  \n",
       "0                                     12496.0        0.467927  \n",
       "1                                     12496.0        0.138377  \n",
       "6                                      7189.0        0.666091  \n",
       "7                                      7189.0        0.211416  \n",
       "12                                     5349.0        0.488940  \n",
       "...                                       ...             ...  \n",
       "3387                                    803.0        0.915127  \n",
       "3392                                   1253.0        1.950007  \n",
       "3393                                   1253.0        0.809967  \n",
       "3398                                    968.0        2.032264  \n",
       "3399                                    968.0        0.752077  \n",
       "\n",
       "[5698 rows x 10 columns]"
      ]
     },
     "execution_count": 10,
     "metadata": {},
     "output_type": "execute_result"
    }
   ],
   "source": [
    "# Total information for both sexes\n",
    "\n",
    "both=pd.DataFrame(labelled[labelled['Sex'] == 'BOTH'])\n",
    "both"
   ]
  },
  {
   "cell_type": "code",
   "execution_count": 11,
   "metadata": {},
   "outputs": [],
   "source": [
    "both.to_csv('both_sexes.csv')"
   ]
  },
  {
   "cell_type": "code",
   "execution_count": 12,
   "metadata": {},
   "outputs": [
    {
     "data": {
      "text/html": [
       "<div>\n",
       "<style scoped>\n",
       "    .dataframe tbody tr th:only-of-type {\n",
       "        vertical-align: middle;\n",
       "    }\n",
       "\n",
       "    .dataframe tbody tr th {\n",
       "        vertical-align: top;\n",
       "    }\n",
       "\n",
       "    .dataframe thead th {\n",
       "        text-align: right;\n",
       "    }\n",
       "</style>\n",
       "<table border=\"1\" class=\"dataframe\">\n",
       "  <thead>\n",
       "    <tr style=\"text-align: right;\">\n",
       "      <th></th>\n",
       "      <th>Geography</th>\n",
       "      <th>Year</th>\n",
       "      <th>Sex</th>\n",
       "      <th>Age</th>\n",
       "      <th>Triage Level</th>\n",
       "      <th>ICD Description</th>\n",
       "      <th>Percent</th>\n",
       "      <th>Visits</th>\n",
       "      <th>Total Visits (Across all Triage levels)</th>\n",
       "      <th>Standard Error</th>\n",
       "    </tr>\n",
       "  </thead>\n",
       "  <tbody>\n",
       "    <tr>\n",
       "      <th>0</th>\n",
       "      <td>AB</td>\n",
       "      <td>2015</td>\n",
       "      <td>BOTH</td>\n",
       "      <td>ALL</td>\n",
       "      <td>4-Semi-Urgent</td>\n",
       "      <td>A09-A09 Infectious gastroenteritis and colitis...</td>\n",
       "      <td>33.185603</td>\n",
       "      <td>12954.0</td>\n",
       "      <td>39035.0</td>\n",
       "      <td>0.291573</td>\n",
       "    </tr>\n",
       "    <tr>\n",
       "      <th>1</th>\n",
       "      <td>AB</td>\n",
       "      <td>2015</td>\n",
       "      <td>BOTH</td>\n",
       "      <td>ALL</td>\n",
       "      <td>5-Non-Urgent</td>\n",
       "      <td>A09-A09 Infectious gastroenteritis and colitis...</td>\n",
       "      <td>3.120277</td>\n",
       "      <td>1218.0</td>\n",
       "      <td>39035.0</td>\n",
       "      <td>0.089407</td>\n",
       "    </tr>\n",
       "    <tr>\n",
       "      <th>6</th>\n",
       "      <td>AB</td>\n",
       "      <td>2015</td>\n",
       "      <td>BOTH</td>\n",
       "      <td>ALL</td>\n",
       "      <td>4-Semi-Urgent</td>\n",
       "      <td>B25-B34 Other viral diseases</td>\n",
       "      <td>37.488963</td>\n",
       "      <td>6369.0</td>\n",
       "      <td>16989.0</td>\n",
       "      <td>0.469751</td>\n",
       "    </tr>\n",
       "    <tr>\n",
       "      <th>7</th>\n",
       "      <td>AB</td>\n",
       "      <td>2015</td>\n",
       "      <td>BOTH</td>\n",
       "      <td>ALL</td>\n",
       "      <td>5-Non-Urgent</td>\n",
       "      <td>B25-B34 Other viral diseases</td>\n",
       "      <td>4.979693</td>\n",
       "      <td>846.0</td>\n",
       "      <td>16989.0</td>\n",
       "      <td>0.171205</td>\n",
       "    </tr>\n",
       "    <tr>\n",
       "      <th>12</th>\n",
       "      <td>AB</td>\n",
       "      <td>2015</td>\n",
       "      <td>BOTH</td>\n",
       "      <td>ALL</td>\n",
       "      <td>4-Semi-Urgent</td>\n",
       "      <td>F10-Alcohol related disorders</td>\n",
       "      <td>19.376980</td>\n",
       "      <td>4037.0</td>\n",
       "      <td>20834.0</td>\n",
       "      <td>0.304970</td>\n",
       "    </tr>\n",
       "    <tr>\n",
       "      <th>...</th>\n",
       "      <td>...</td>\n",
       "      <td>...</td>\n",
       "      <td>...</td>\n",
       "      <td>...</td>\n",
       "      <td>...</td>\n",
       "      <td>...</td>\n",
       "      <td>...</td>\n",
       "      <td>...</td>\n",
       "      <td>...</td>\n",
       "      <td>...</td>\n",
       "    </tr>\n",
       "    <tr>\n",
       "      <th>3403</th>\n",
       "      <td>AB</td>\n",
       "      <td>2019</td>\n",
       "      <td>BOTH</td>\n",
       "      <td>30to49</td>\n",
       "      <td>5-Non-Urgent</td>\n",
       "      <td>N30-N39 Other diseases of the urinary system</td>\n",
       "      <td>5.402731</td>\n",
       "      <td>546.0</td>\n",
       "      <td>10106.0</td>\n",
       "      <td>0.231216</td>\n",
       "    </tr>\n",
       "    <tr>\n",
       "      <th>3408</th>\n",
       "      <td>AB</td>\n",
       "      <td>2019</td>\n",
       "      <td>BOTH</td>\n",
       "      <td>50to74</td>\n",
       "      <td>4-Semi-Urgent</td>\n",
       "      <td>N30-N39 Other diseases of the urinary system</td>\n",
       "      <td>49.133468</td>\n",
       "      <td>6549.0</td>\n",
       "      <td>13329.0</td>\n",
       "      <td>0.607142</td>\n",
       "    </tr>\n",
       "    <tr>\n",
       "      <th>3409</th>\n",
       "      <td>AB</td>\n",
       "      <td>2019</td>\n",
       "      <td>BOTH</td>\n",
       "      <td>50to74</td>\n",
       "      <td>5-Non-Urgent</td>\n",
       "      <td>N30-N39 Other diseases of the urinary system</td>\n",
       "      <td>5.026634</td>\n",
       "      <td>670.0</td>\n",
       "      <td>13329.0</td>\n",
       "      <td>0.194196</td>\n",
       "    </tr>\n",
       "    <tr>\n",
       "      <th>3414</th>\n",
       "      <td>AB</td>\n",
       "      <td>2019</td>\n",
       "      <td>BOTH</td>\n",
       "      <td>75+</td>\n",
       "      <td>4-Semi-Urgent</td>\n",
       "      <td>N30-N39 Other diseases of the urinary system</td>\n",
       "      <td>37.413475</td>\n",
       "      <td>3243.0</td>\n",
       "      <td>8668.0</td>\n",
       "      <td>0.656984</td>\n",
       "    </tr>\n",
       "    <tr>\n",
       "      <th>3415</th>\n",
       "      <td>AB</td>\n",
       "      <td>2019</td>\n",
       "      <td>BOTH</td>\n",
       "      <td>75+</td>\n",
       "      <td>5-Non-Urgent</td>\n",
       "      <td>N30-N39 Other diseases of the urinary system</td>\n",
       "      <td>3.657130</td>\n",
       "      <td>317.0</td>\n",
       "      <td>8668.0</td>\n",
       "      <td>0.205405</td>\n",
       "    </tr>\n",
       "  </tbody>\n",
       "</table>\n",
       "<p>1140 rows × 10 columns</p>\n",
       "</div>"
      ],
      "text/plain": [
       "     Geography  Year   Sex     Age   Triage Level  \\\n",
       "0           AB  2015  BOTH     ALL  4-Semi-Urgent   \n",
       "1           AB  2015  BOTH     ALL   5-Non-Urgent   \n",
       "6           AB  2015  BOTH     ALL  4-Semi-Urgent   \n",
       "7           AB  2015  BOTH     ALL   5-Non-Urgent   \n",
       "12          AB  2015  BOTH     ALL  4-Semi-Urgent   \n",
       "...        ...   ...   ...     ...            ...   \n",
       "3403        AB  2019  BOTH  30to49   5-Non-Urgent   \n",
       "3408        AB  2019  BOTH  50to74  4-Semi-Urgent   \n",
       "3409        AB  2019  BOTH  50to74   5-Non-Urgent   \n",
       "3414        AB  2019  BOTH     75+  4-Semi-Urgent   \n",
       "3415        AB  2019  BOTH     75+   5-Non-Urgent   \n",
       "\n",
       "                                        ICD Description    Percent   Visits  \\\n",
       "0     A09-A09 Infectious gastroenteritis and colitis...  33.185603  12954.0   \n",
       "1     A09-A09 Infectious gastroenteritis and colitis...   3.120277   1218.0   \n",
       "6                          B25-B34 Other viral diseases  37.488963   6369.0   \n",
       "7                          B25-B34 Other viral diseases   4.979693    846.0   \n",
       "12                        F10-Alcohol related disorders  19.376980   4037.0   \n",
       "...                                                 ...        ...      ...   \n",
       "3403       N30-N39 Other diseases of the urinary system   5.402731    546.0   \n",
       "3408       N30-N39 Other diseases of the urinary system  49.133468   6549.0   \n",
       "3409       N30-N39 Other diseases of the urinary system   5.026634    670.0   \n",
       "3414       N30-N39 Other diseases of the urinary system  37.413475   3243.0   \n",
       "3415       N30-N39 Other diseases of the urinary system   3.657130    317.0   \n",
       "\n",
       "      Total Visits (Across all Triage levels)  Standard Error  \n",
       "0                                     39035.0        0.291573  \n",
       "1                                     39035.0        0.089407  \n",
       "6                                     16989.0        0.469751  \n",
       "7                                     16989.0        0.171205  \n",
       "12                                    20834.0        0.304970  \n",
       "...                                       ...             ...  \n",
       "3403                                  10106.0        0.231216  \n",
       "3408                                  13329.0        0.607142  \n",
       "3409                                  13329.0        0.194196  \n",
       "3414                                   8668.0        0.656984  \n",
       "3415                                   8668.0        0.205405  \n",
       "\n",
       "[1140 rows x 10 columns]"
      ]
     },
     "execution_count": 12,
     "metadata": {},
     "output_type": "execute_result"
    }
   ],
   "source": [
    "# Total information for both sexes in all Alberta\n",
    "\n",
    "Alberta_totals=pd.DataFrame(triage[triage['Sex'] == 'BOTH'])\n",
    "Alberta_totals"
   ]
  },
  {
   "cell_type": "code",
   "execution_count": 13,
   "metadata": {},
   "outputs": [],
   "source": [
    "Alberta_totals.to_csv('Alberta_totals.csv')"
   ]
  },
  {
   "cell_type": "markdown",
   "metadata": {},
   "source": [
    "### All of Alberta"
   ]
  },
  {
   "cell_type": "code",
   "execution_count": 14,
   "metadata": {},
   "outputs": [
    {
     "name": "stderr",
     "output_type": "stream",
     "text": [
      "/Library/Frameworks/Python.framework/Versions/3.7/lib/python3.7/site-packages/ipykernel_launcher.py:2: FutureWarning: Indexing with multiple keys (implicitly converted to a tuple of keys) will be deprecated, use a list instead.\n",
      "  \n"
     ]
    },
    {
     "data": {
      "text/html": [
       "<div>\n",
       "<style scoped>\n",
       "    .dataframe tbody tr th:only-of-type {\n",
       "        vertical-align: middle;\n",
       "    }\n",
       "\n",
       "    .dataframe tbody tr th {\n",
       "        vertical-align: top;\n",
       "    }\n",
       "\n",
       "    .dataframe thead th {\n",
       "        text-align: right;\n",
       "    }\n",
       "</style>\n",
       "<table border=\"1\" class=\"dataframe\">\n",
       "  <thead>\n",
       "    <tr style=\"text-align: right;\">\n",
       "      <th></th>\n",
       "      <th></th>\n",
       "      <th>Visits</th>\n",
       "      <th>Total Visits (Across all Triage levels)</th>\n",
       "    </tr>\n",
       "    <tr>\n",
       "      <th>Year</th>\n",
       "      <th>Triage Level</th>\n",
       "      <th></th>\n",
       "      <th></th>\n",
       "    </tr>\n",
       "  </thead>\n",
       "  <tbody>\n",
       "    <tr>\n",
       "      <th rowspan=\"2\" valign=\"top\">2015</th>\n",
       "      <th>4-Semi-Urgent</th>\n",
       "      <td>546008.0</td>\n",
       "      <td>1311976.0</td>\n",
       "    </tr>\n",
       "    <tr>\n",
       "      <th>5-Non-Urgent</th>\n",
       "      <td>103068.0</td>\n",
       "      <td>1311976.0</td>\n",
       "    </tr>\n",
       "    <tr>\n",
       "      <th rowspan=\"2\" valign=\"top\">2016</th>\n",
       "      <th>4-Semi-Urgent</th>\n",
       "      <td>538518.0</td>\n",
       "      <td>1343804.0</td>\n",
       "    </tr>\n",
       "    <tr>\n",
       "      <th>5-Non-Urgent</th>\n",
       "      <td>88982.0</td>\n",
       "      <td>1343804.0</td>\n",
       "    </tr>\n",
       "    <tr>\n",
       "      <th rowspan=\"2\" valign=\"top\">2017</th>\n",
       "      <th>4-Semi-Urgent</th>\n",
       "      <td>525500.0</td>\n",
       "      <td>1342334.0</td>\n",
       "    </tr>\n",
       "    <tr>\n",
       "      <th>5-Non-Urgent</th>\n",
       "      <td>84412.0</td>\n",
       "      <td>1342334.0</td>\n",
       "    </tr>\n",
       "    <tr>\n",
       "      <th rowspan=\"2\" valign=\"top\">2018</th>\n",
       "      <th>4-Semi-Urgent</th>\n",
       "      <td>501230.0</td>\n",
       "      <td>1325956.0</td>\n",
       "    </tr>\n",
       "    <tr>\n",
       "      <th>5-Non-Urgent</th>\n",
       "      <td>77498.0</td>\n",
       "      <td>1325956.0</td>\n",
       "    </tr>\n",
       "    <tr>\n",
       "      <th rowspan=\"2\" valign=\"top\">2019</th>\n",
       "      <th>4-Semi-Urgent</th>\n",
       "      <td>483476.0</td>\n",
       "      <td>1326714.0</td>\n",
       "    </tr>\n",
       "    <tr>\n",
       "      <th>5-Non-Urgent</th>\n",
       "      <td>69940.0</td>\n",
       "      <td>1326714.0</td>\n",
       "    </tr>\n",
       "  </tbody>\n",
       "</table>\n",
       "</div>"
      ],
      "text/plain": [
       "                      Visits  Total Visits (Across all Triage levels)\n",
       "Year Triage Level                                                    \n",
       "2015 4-Semi-Urgent  546008.0                                1311976.0\n",
       "     5-Non-Urgent   103068.0                                1311976.0\n",
       "2016 4-Semi-Urgent  538518.0                                1343804.0\n",
       "     5-Non-Urgent    88982.0                                1343804.0\n",
       "2017 4-Semi-Urgent  525500.0                                1342334.0\n",
       "     5-Non-Urgent    84412.0                                1342334.0\n",
       "2018 4-Semi-Urgent  501230.0                                1325956.0\n",
       "     5-Non-Urgent    77498.0                                1325956.0\n",
       "2019 4-Semi-Urgent  483476.0                                1326714.0\n",
       "     5-Non-Urgent    69940.0                                1326714.0"
      ]
     },
     "metadata": {},
     "output_type": "display_data"
    }
   ],
   "source": [
    "#Group by year\n",
    "alberta_year= pd.DataFrame(Alberta_totals.groupby(['Year', 'Triage Level'])['Visits', 'Total Visits (Across all Triage levels)'].sum())\n",
    "display(alberta_year)"
   ]
  },
  {
   "cell_type": "code",
   "execution_count": 15,
   "metadata": {},
   "outputs": [
    {
     "data": {
      "text/html": [
       "<div>\n",
       "<style scoped>\n",
       "    .dataframe tbody tr th:only-of-type {\n",
       "        vertical-align: middle;\n",
       "    }\n",
       "\n",
       "    .dataframe tbody tr th {\n",
       "        vertical-align: top;\n",
       "    }\n",
       "\n",
       "    .dataframe thead th {\n",
       "        text-align: right;\n",
       "    }\n",
       "</style>\n",
       "<table border=\"1\" class=\"dataframe\">\n",
       "  <thead>\n",
       "    <tr style=\"text-align: right;\">\n",
       "      <th></th>\n",
       "      <th>Year</th>\n",
       "      <th>Triage Level</th>\n",
       "      <th>Visits</th>\n",
       "      <th>Total Visits (Across all Triage levels)</th>\n",
       "    </tr>\n",
       "  </thead>\n",
       "  <tbody>\n",
       "    <tr>\n",
       "      <th>0</th>\n",
       "      <td>2015</td>\n",
       "      <td>4-Semi-Urgent</td>\n",
       "      <td>546008.0</td>\n",
       "      <td>1311976.0</td>\n",
       "    </tr>\n",
       "    <tr>\n",
       "      <th>1</th>\n",
       "      <td>2015</td>\n",
       "      <td>5-Non-Urgent</td>\n",
       "      <td>103068.0</td>\n",
       "      <td>1311976.0</td>\n",
       "    </tr>\n",
       "    <tr>\n",
       "      <th>2</th>\n",
       "      <td>2016</td>\n",
       "      <td>4-Semi-Urgent</td>\n",
       "      <td>538518.0</td>\n",
       "      <td>1343804.0</td>\n",
       "    </tr>\n",
       "    <tr>\n",
       "      <th>3</th>\n",
       "      <td>2016</td>\n",
       "      <td>5-Non-Urgent</td>\n",
       "      <td>88982.0</td>\n",
       "      <td>1343804.0</td>\n",
       "    </tr>\n",
       "    <tr>\n",
       "      <th>4</th>\n",
       "      <td>2017</td>\n",
       "      <td>4-Semi-Urgent</td>\n",
       "      <td>525500.0</td>\n",
       "      <td>1342334.0</td>\n",
       "    </tr>\n",
       "    <tr>\n",
       "      <th>5</th>\n",
       "      <td>2017</td>\n",
       "      <td>5-Non-Urgent</td>\n",
       "      <td>84412.0</td>\n",
       "      <td>1342334.0</td>\n",
       "    </tr>\n",
       "    <tr>\n",
       "      <th>6</th>\n",
       "      <td>2018</td>\n",
       "      <td>4-Semi-Urgent</td>\n",
       "      <td>501230.0</td>\n",
       "      <td>1325956.0</td>\n",
       "    </tr>\n",
       "    <tr>\n",
       "      <th>7</th>\n",
       "      <td>2018</td>\n",
       "      <td>5-Non-Urgent</td>\n",
       "      <td>77498.0</td>\n",
       "      <td>1325956.0</td>\n",
       "    </tr>\n",
       "    <tr>\n",
       "      <th>8</th>\n",
       "      <td>2019</td>\n",
       "      <td>4-Semi-Urgent</td>\n",
       "      <td>483476.0</td>\n",
       "      <td>1326714.0</td>\n",
       "    </tr>\n",
       "    <tr>\n",
       "      <th>9</th>\n",
       "      <td>2019</td>\n",
       "      <td>5-Non-Urgent</td>\n",
       "      <td>69940.0</td>\n",
       "      <td>1326714.0</td>\n",
       "    </tr>\n",
       "  </tbody>\n",
       "</table>\n",
       "</div>"
      ],
      "text/plain": [
       "   Year   Triage Level    Visits  Total Visits (Across all Triage levels)\n",
       "0  2015  4-Semi-Urgent  546008.0                                1311976.0\n",
       "1  2015   5-Non-Urgent  103068.0                                1311976.0\n",
       "2  2016  4-Semi-Urgent  538518.0                                1343804.0\n",
       "3  2016   5-Non-Urgent   88982.0                                1343804.0\n",
       "4  2017  4-Semi-Urgent  525500.0                                1342334.0\n",
       "5  2017   5-Non-Urgent   84412.0                                1342334.0\n",
       "6  2018  4-Semi-Urgent  501230.0                                1325956.0\n",
       "7  2018   5-Non-Urgent   77498.0                                1325956.0\n",
       "8  2019  4-Semi-Urgent  483476.0                                1326714.0\n",
       "9  2019   5-Non-Urgent   69940.0                                1326714.0"
      ]
     },
     "execution_count": 15,
     "metadata": {},
     "output_type": "execute_result"
    }
   ],
   "source": [
    "reset = alberta_year.reset_index()\n",
    "reset"
   ]
  },
  {
   "cell_type": "code",
   "execution_count": 16,
   "metadata": {},
   "outputs": [
    {
     "data": {
      "text/html": [
       "<div>\n",
       "<style scoped>\n",
       "    .dataframe tbody tr th:only-of-type {\n",
       "        vertical-align: middle;\n",
       "    }\n",
       "\n",
       "    .dataframe tbody tr th {\n",
       "        vertical-align: top;\n",
       "    }\n",
       "\n",
       "    .dataframe thead th {\n",
       "        text-align: right;\n",
       "    }\n",
       "</style>\n",
       "<table border=\"1\" class=\"dataframe\">\n",
       "  <thead>\n",
       "    <tr style=\"text-align: right;\">\n",
       "      <th></th>\n",
       "      <th>Year</th>\n",
       "      <th>Triage Level</th>\n",
       "      <th>Visits</th>\n",
       "      <th>Total Visits (Across all Triage levels)</th>\n",
       "      <th>Proportion</th>\n",
       "    </tr>\n",
       "  </thead>\n",
       "  <tbody>\n",
       "    <tr>\n",
       "      <th>0</th>\n",
       "      <td>2015</td>\n",
       "      <td>4-Semi-Urgent</td>\n",
       "      <td>546008.0</td>\n",
       "      <td>1311976.0</td>\n",
       "      <td>0.416172</td>\n",
       "    </tr>\n",
       "    <tr>\n",
       "      <th>1</th>\n",
       "      <td>2015</td>\n",
       "      <td>5-Non-Urgent</td>\n",
       "      <td>103068.0</td>\n",
       "      <td>1311976.0</td>\n",
       "      <td>0.078559</td>\n",
       "    </tr>\n",
       "    <tr>\n",
       "      <th>2</th>\n",
       "      <td>2016</td>\n",
       "      <td>4-Semi-Urgent</td>\n",
       "      <td>538518.0</td>\n",
       "      <td>1343804.0</td>\n",
       "      <td>0.400741</td>\n",
       "    </tr>\n",
       "    <tr>\n",
       "      <th>3</th>\n",
       "      <td>2016</td>\n",
       "      <td>5-Non-Urgent</td>\n",
       "      <td>88982.0</td>\n",
       "      <td>1343804.0</td>\n",
       "      <td>0.066217</td>\n",
       "    </tr>\n",
       "    <tr>\n",
       "      <th>4</th>\n",
       "      <td>2017</td>\n",
       "      <td>4-Semi-Urgent</td>\n",
       "      <td>525500.0</td>\n",
       "      <td>1342334.0</td>\n",
       "      <td>0.391482</td>\n",
       "    </tr>\n",
       "    <tr>\n",
       "      <th>5</th>\n",
       "      <td>2017</td>\n",
       "      <td>5-Non-Urgent</td>\n",
       "      <td>84412.0</td>\n",
       "      <td>1342334.0</td>\n",
       "      <td>0.062884</td>\n",
       "    </tr>\n",
       "    <tr>\n",
       "      <th>6</th>\n",
       "      <td>2018</td>\n",
       "      <td>4-Semi-Urgent</td>\n",
       "      <td>501230.0</td>\n",
       "      <td>1325956.0</td>\n",
       "      <td>0.378014</td>\n",
       "    </tr>\n",
       "    <tr>\n",
       "      <th>7</th>\n",
       "      <td>2018</td>\n",
       "      <td>5-Non-Urgent</td>\n",
       "      <td>77498.0</td>\n",
       "      <td>1325956.0</td>\n",
       "      <td>0.058447</td>\n",
       "    </tr>\n",
       "    <tr>\n",
       "      <th>8</th>\n",
       "      <td>2019</td>\n",
       "      <td>4-Semi-Urgent</td>\n",
       "      <td>483476.0</td>\n",
       "      <td>1326714.0</td>\n",
       "      <td>0.364416</td>\n",
       "    </tr>\n",
       "    <tr>\n",
       "      <th>9</th>\n",
       "      <td>2019</td>\n",
       "      <td>5-Non-Urgent</td>\n",
       "      <td>69940.0</td>\n",
       "      <td>1326714.0</td>\n",
       "      <td>0.052717</td>\n",
       "    </tr>\n",
       "  </tbody>\n",
       "</table>\n",
       "</div>"
      ],
      "text/plain": [
       "   Year   Triage Level    Visits  Total Visits (Across all Triage levels)  \\\n",
       "0  2015  4-Semi-Urgent  546008.0                                1311976.0   \n",
       "1  2015   5-Non-Urgent  103068.0                                1311976.0   \n",
       "2  2016  4-Semi-Urgent  538518.0                                1343804.0   \n",
       "3  2016   5-Non-Urgent   88982.0                                1343804.0   \n",
       "4  2017  4-Semi-Urgent  525500.0                                1342334.0   \n",
       "5  2017   5-Non-Urgent   84412.0                                1342334.0   \n",
       "6  2018  4-Semi-Urgent  501230.0                                1325956.0   \n",
       "7  2018   5-Non-Urgent   77498.0                                1325956.0   \n",
       "8  2019  4-Semi-Urgent  483476.0                                1326714.0   \n",
       "9  2019   5-Non-Urgent   69940.0                                1326714.0   \n",
       "\n",
       "   Proportion  \n",
       "0    0.416172  \n",
       "1    0.078559  \n",
       "2    0.400741  \n",
       "3    0.066217  \n",
       "4    0.391482  \n",
       "5    0.062884  \n",
       "6    0.378014  \n",
       "7    0.058447  \n",
       "8    0.364416  \n",
       "9    0.052717  "
      ]
     },
     "execution_count": 16,
     "metadata": {},
     "output_type": "execute_result"
    }
   ],
   "source": [
    "reset['Proportion'] = reset['Visits']/reset['Total Visits (Across all Triage levels)']\n",
    "reset"
   ]
  },
  {
   "cell_type": "code",
   "execution_count": 17,
   "metadata": {},
   "outputs": [
    {
     "data": {
      "text/html": [
       "<div>\n",
       "<style scoped>\n",
       "    .dataframe tbody tr th:only-of-type {\n",
       "        vertical-align: middle;\n",
       "    }\n",
       "\n",
       "    .dataframe tbody tr th {\n",
       "        vertical-align: top;\n",
       "    }\n",
       "\n",
       "    .dataframe thead th {\n",
       "        text-align: right;\n",
       "    }\n",
       "</style>\n",
       "<table border=\"1\" class=\"dataframe\">\n",
       "  <thead>\n",
       "    <tr style=\"text-align: right;\">\n",
       "      <th></th>\n",
       "      <th>Year</th>\n",
       "      <th>Triage Level</th>\n",
       "      <th>Visits</th>\n",
       "      <th>Total Visits (Across all Triage levels)</th>\n",
       "      <th>Proportion</th>\n",
       "      <th>Percentages</th>\n",
       "    </tr>\n",
       "  </thead>\n",
       "  <tbody>\n",
       "    <tr>\n",
       "      <th>0</th>\n",
       "      <td>2015</td>\n",
       "      <td>4-Semi-Urgent</td>\n",
       "      <td>546008.0</td>\n",
       "      <td>1311976.0</td>\n",
       "      <td>0.416172</td>\n",
       "      <td>41.617225</td>\n",
       "    </tr>\n",
       "    <tr>\n",
       "      <th>1</th>\n",
       "      <td>2015</td>\n",
       "      <td>5-Non-Urgent</td>\n",
       "      <td>103068.0</td>\n",
       "      <td>1311976.0</td>\n",
       "      <td>0.078559</td>\n",
       "      <td>7.855936</td>\n",
       "    </tr>\n",
       "    <tr>\n",
       "      <th>2</th>\n",
       "      <td>2016</td>\n",
       "      <td>4-Semi-Urgent</td>\n",
       "      <td>538518.0</td>\n",
       "      <td>1343804.0</td>\n",
       "      <td>0.400741</td>\n",
       "      <td>40.074148</td>\n",
       "    </tr>\n",
       "    <tr>\n",
       "      <th>3</th>\n",
       "      <td>2016</td>\n",
       "      <td>5-Non-Urgent</td>\n",
       "      <td>88982.0</td>\n",
       "      <td>1343804.0</td>\n",
       "      <td>0.066217</td>\n",
       "      <td>6.621650</td>\n",
       "    </tr>\n",
       "    <tr>\n",
       "      <th>4</th>\n",
       "      <td>2017</td>\n",
       "      <td>4-Semi-Urgent</td>\n",
       "      <td>525500.0</td>\n",
       "      <td>1342334.0</td>\n",
       "      <td>0.391482</td>\n",
       "      <td>39.148230</td>\n",
       "    </tr>\n",
       "    <tr>\n",
       "      <th>5</th>\n",
       "      <td>2017</td>\n",
       "      <td>5-Non-Urgent</td>\n",
       "      <td>84412.0</td>\n",
       "      <td>1342334.0</td>\n",
       "      <td>0.062884</td>\n",
       "      <td>6.288450</td>\n",
       "    </tr>\n",
       "    <tr>\n",
       "      <th>6</th>\n",
       "      <td>2018</td>\n",
       "      <td>4-Semi-Urgent</td>\n",
       "      <td>501230.0</td>\n",
       "      <td>1325956.0</td>\n",
       "      <td>0.378014</td>\n",
       "      <td>37.801405</td>\n",
       "    </tr>\n",
       "    <tr>\n",
       "      <th>7</th>\n",
       "      <td>2018</td>\n",
       "      <td>5-Non-Urgent</td>\n",
       "      <td>77498.0</td>\n",
       "      <td>1325956.0</td>\n",
       "      <td>0.058447</td>\n",
       "      <td>5.844689</td>\n",
       "    </tr>\n",
       "    <tr>\n",
       "      <th>8</th>\n",
       "      <td>2019</td>\n",
       "      <td>4-Semi-Urgent</td>\n",
       "      <td>483476.0</td>\n",
       "      <td>1326714.0</td>\n",
       "      <td>0.364416</td>\n",
       "      <td>36.441614</td>\n",
       "    </tr>\n",
       "    <tr>\n",
       "      <th>9</th>\n",
       "      <td>2019</td>\n",
       "      <td>5-Non-Urgent</td>\n",
       "      <td>69940.0</td>\n",
       "      <td>1326714.0</td>\n",
       "      <td>0.052717</td>\n",
       "      <td>5.271671</td>\n",
       "    </tr>\n",
       "  </tbody>\n",
       "</table>\n",
       "</div>"
      ],
      "text/plain": [
       "   Year   Triage Level    Visits  Total Visits (Across all Triage levels)  \\\n",
       "0  2015  4-Semi-Urgent  546008.0                                1311976.0   \n",
       "1  2015   5-Non-Urgent  103068.0                                1311976.0   \n",
       "2  2016  4-Semi-Urgent  538518.0                                1343804.0   \n",
       "3  2016   5-Non-Urgent   88982.0                                1343804.0   \n",
       "4  2017  4-Semi-Urgent  525500.0                                1342334.0   \n",
       "5  2017   5-Non-Urgent   84412.0                                1342334.0   \n",
       "6  2018  4-Semi-Urgent  501230.0                                1325956.0   \n",
       "7  2018   5-Non-Urgent   77498.0                                1325956.0   \n",
       "8  2019  4-Semi-Urgent  483476.0                                1326714.0   \n",
       "9  2019   5-Non-Urgent   69940.0                                1326714.0   \n",
       "\n",
       "   Proportion  Percentages  \n",
       "0    0.416172    41.617225  \n",
       "1    0.078559     7.855936  \n",
       "2    0.400741    40.074148  \n",
       "3    0.066217     6.621650  \n",
       "4    0.391482    39.148230  \n",
       "5    0.062884     6.288450  \n",
       "6    0.378014    37.801405  \n",
       "7    0.058447     5.844689  \n",
       "8    0.364416    36.441614  \n",
       "9    0.052717     5.271671  "
      ]
     },
     "execution_count": 17,
     "metadata": {},
     "output_type": "execute_result"
    }
   ],
   "source": [
    "reset['Percentages']= reset['Proportion']*100\n",
    "reset"
   ]
  },
  {
   "cell_type": "code",
   "execution_count": 176,
   "metadata": {},
   "outputs": [
    {
     "data": {
      "application/vnd.plotly.v1+json": {
       "config": {
        "plotlyServerURL": "https://plot.ly"
       },
       "data": [
        {
         "marker": {
          "color": "rgb(0, 0, 200)"
         },
         "name": "Semi-Urgent Triage",
         "type": "bar",
         "x": [
          2015,
          2016,
          2017,
          2018,
          2019
         ],
         "y": [
          41.617,
          40.074,
          39.148,
          37.801,
          36.442
         ]
        },
        {
         "marker": {
          "color": "rgb(249,123,87)"
         },
         "name": "Non-Urgent Triage",
         "type": "bar",
         "x": [
          2015,
          2016,
          2017,
          2018,
          2019
         ],
         "y": [
          7.856,
          6.622,
          6.289,
          5.845,
          5.275
         ]
        }
       ],
       "layout": {
        "bargap": 0.05,
        "bargroupgap": 0.001,
        "barmode": "group",
        "paper_bgcolor": "rgba(0,0,0,0)",
        "plot_bgcolor": "rgba(0,0,0,0)",
        "template": {
         "data": {
          "bar": [
           {
            "error_x": {
             "color": "#2a3f5f"
            },
            "error_y": {
             "color": "#2a3f5f"
            },
            "marker": {
             "line": {
              "color": "#E5ECF6",
              "width": 0.5
             }
            },
            "type": "bar"
           }
          ],
          "barpolar": [
           {
            "marker": {
             "line": {
              "color": "#E5ECF6",
              "width": 0.5
             }
            },
            "type": "barpolar"
           }
          ],
          "carpet": [
           {
            "aaxis": {
             "endlinecolor": "#2a3f5f",
             "gridcolor": "white",
             "linecolor": "white",
             "minorgridcolor": "white",
             "startlinecolor": "#2a3f5f"
            },
            "baxis": {
             "endlinecolor": "#2a3f5f",
             "gridcolor": "white",
             "linecolor": "white",
             "minorgridcolor": "white",
             "startlinecolor": "#2a3f5f"
            },
            "type": "carpet"
           }
          ],
          "choropleth": [
           {
            "colorbar": {
             "outlinewidth": 0,
             "ticks": ""
            },
            "type": "choropleth"
           }
          ],
          "contour": [
           {
            "colorbar": {
             "outlinewidth": 0,
             "ticks": ""
            },
            "colorscale": [
             [
              0,
              "#0d0887"
             ],
             [
              0.1111111111111111,
              "#46039f"
             ],
             [
              0.2222222222222222,
              "#7201a8"
             ],
             [
              0.3333333333333333,
              "#9c179e"
             ],
             [
              0.4444444444444444,
              "#bd3786"
             ],
             [
              0.5555555555555556,
              "#d8576b"
             ],
             [
              0.6666666666666666,
              "#ed7953"
             ],
             [
              0.7777777777777778,
              "#fb9f3a"
             ],
             [
              0.8888888888888888,
              "#fdca26"
             ],
             [
              1,
              "#f0f921"
             ]
            ],
            "type": "contour"
           }
          ],
          "contourcarpet": [
           {
            "colorbar": {
             "outlinewidth": 0,
             "ticks": ""
            },
            "type": "contourcarpet"
           }
          ],
          "heatmap": [
           {
            "colorbar": {
             "outlinewidth": 0,
             "ticks": ""
            },
            "colorscale": [
             [
              0,
              "#0d0887"
             ],
             [
              0.1111111111111111,
              "#46039f"
             ],
             [
              0.2222222222222222,
              "#7201a8"
             ],
             [
              0.3333333333333333,
              "#9c179e"
             ],
             [
              0.4444444444444444,
              "#bd3786"
             ],
             [
              0.5555555555555556,
              "#d8576b"
             ],
             [
              0.6666666666666666,
              "#ed7953"
             ],
             [
              0.7777777777777778,
              "#fb9f3a"
             ],
             [
              0.8888888888888888,
              "#fdca26"
             ],
             [
              1,
              "#f0f921"
             ]
            ],
            "type": "heatmap"
           }
          ],
          "heatmapgl": [
           {
            "colorbar": {
             "outlinewidth": 0,
             "ticks": ""
            },
            "colorscale": [
             [
              0,
              "#0d0887"
             ],
             [
              0.1111111111111111,
              "#46039f"
             ],
             [
              0.2222222222222222,
              "#7201a8"
             ],
             [
              0.3333333333333333,
              "#9c179e"
             ],
             [
              0.4444444444444444,
              "#bd3786"
             ],
             [
              0.5555555555555556,
              "#d8576b"
             ],
             [
              0.6666666666666666,
              "#ed7953"
             ],
             [
              0.7777777777777778,
              "#fb9f3a"
             ],
             [
              0.8888888888888888,
              "#fdca26"
             ],
             [
              1,
              "#f0f921"
             ]
            ],
            "type": "heatmapgl"
           }
          ],
          "histogram": [
           {
            "marker": {
             "colorbar": {
              "outlinewidth": 0,
              "ticks": ""
             }
            },
            "type": "histogram"
           }
          ],
          "histogram2d": [
           {
            "colorbar": {
             "outlinewidth": 0,
             "ticks": ""
            },
            "colorscale": [
             [
              0,
              "#0d0887"
             ],
             [
              0.1111111111111111,
              "#46039f"
             ],
             [
              0.2222222222222222,
              "#7201a8"
             ],
             [
              0.3333333333333333,
              "#9c179e"
             ],
             [
              0.4444444444444444,
              "#bd3786"
             ],
             [
              0.5555555555555556,
              "#d8576b"
             ],
             [
              0.6666666666666666,
              "#ed7953"
             ],
             [
              0.7777777777777778,
              "#fb9f3a"
             ],
             [
              0.8888888888888888,
              "#fdca26"
             ],
             [
              1,
              "#f0f921"
             ]
            ],
            "type": "histogram2d"
           }
          ],
          "histogram2dcontour": [
           {
            "colorbar": {
             "outlinewidth": 0,
             "ticks": ""
            },
            "colorscale": [
             [
              0,
              "#0d0887"
             ],
             [
              0.1111111111111111,
              "#46039f"
             ],
             [
              0.2222222222222222,
              "#7201a8"
             ],
             [
              0.3333333333333333,
              "#9c179e"
             ],
             [
              0.4444444444444444,
              "#bd3786"
             ],
             [
              0.5555555555555556,
              "#d8576b"
             ],
             [
              0.6666666666666666,
              "#ed7953"
             ],
             [
              0.7777777777777778,
              "#fb9f3a"
             ],
             [
              0.8888888888888888,
              "#fdca26"
             ],
             [
              1,
              "#f0f921"
             ]
            ],
            "type": "histogram2dcontour"
           }
          ],
          "mesh3d": [
           {
            "colorbar": {
             "outlinewidth": 0,
             "ticks": ""
            },
            "type": "mesh3d"
           }
          ],
          "parcoords": [
           {
            "line": {
             "colorbar": {
              "outlinewidth": 0,
              "ticks": ""
             }
            },
            "type": "parcoords"
           }
          ],
          "pie": [
           {
            "automargin": true,
            "type": "pie"
           }
          ],
          "scatter": [
           {
            "marker": {
             "colorbar": {
              "outlinewidth": 0,
              "ticks": ""
             }
            },
            "type": "scatter"
           }
          ],
          "scatter3d": [
           {
            "line": {
             "colorbar": {
              "outlinewidth": 0,
              "ticks": ""
             }
            },
            "marker": {
             "colorbar": {
              "outlinewidth": 0,
              "ticks": ""
             }
            },
            "type": "scatter3d"
           }
          ],
          "scattercarpet": [
           {
            "marker": {
             "colorbar": {
              "outlinewidth": 0,
              "ticks": ""
             }
            },
            "type": "scattercarpet"
           }
          ],
          "scattergeo": [
           {
            "marker": {
             "colorbar": {
              "outlinewidth": 0,
              "ticks": ""
             }
            },
            "type": "scattergeo"
           }
          ],
          "scattergl": [
           {
            "marker": {
             "colorbar": {
              "outlinewidth": 0,
              "ticks": ""
             }
            },
            "type": "scattergl"
           }
          ],
          "scattermapbox": [
           {
            "marker": {
             "colorbar": {
              "outlinewidth": 0,
              "ticks": ""
             }
            },
            "type": "scattermapbox"
           }
          ],
          "scatterpolar": [
           {
            "marker": {
             "colorbar": {
              "outlinewidth": 0,
              "ticks": ""
             }
            },
            "type": "scatterpolar"
           }
          ],
          "scatterpolargl": [
           {
            "marker": {
             "colorbar": {
              "outlinewidth": 0,
              "ticks": ""
             }
            },
            "type": "scatterpolargl"
           }
          ],
          "scatterternary": [
           {
            "marker": {
             "colorbar": {
              "outlinewidth": 0,
              "ticks": ""
             }
            },
            "type": "scatterternary"
           }
          ],
          "surface": [
           {
            "colorbar": {
             "outlinewidth": 0,
             "ticks": ""
            },
            "colorscale": [
             [
              0,
              "#0d0887"
             ],
             [
              0.1111111111111111,
              "#46039f"
             ],
             [
              0.2222222222222222,
              "#7201a8"
             ],
             [
              0.3333333333333333,
              "#9c179e"
             ],
             [
              0.4444444444444444,
              "#bd3786"
             ],
             [
              0.5555555555555556,
              "#d8576b"
             ],
             [
              0.6666666666666666,
              "#ed7953"
             ],
             [
              0.7777777777777778,
              "#fb9f3a"
             ],
             [
              0.8888888888888888,
              "#fdca26"
             ],
             [
              1,
              "#f0f921"
             ]
            ],
            "type": "surface"
           }
          ],
          "table": [
           {
            "cells": {
             "fill": {
              "color": "#EBF0F8"
             },
             "line": {
              "color": "white"
             }
            },
            "header": {
             "fill": {
              "color": "#C8D4E3"
             },
             "line": {
              "color": "white"
             }
            },
            "type": "table"
           }
          ]
         },
         "layout": {
          "annotationdefaults": {
           "arrowcolor": "#2a3f5f",
           "arrowhead": 0,
           "arrowwidth": 1
          },
          "coloraxis": {
           "colorbar": {
            "outlinewidth": 0,
            "ticks": ""
           }
          },
          "colorscale": {
           "diverging": [
            [
             0,
             "#8e0152"
            ],
            [
             0.1,
             "#c51b7d"
            ],
            [
             0.2,
             "#de77ae"
            ],
            [
             0.3,
             "#f1b6da"
            ],
            [
             0.4,
             "#fde0ef"
            ],
            [
             0.5,
             "#f7f7f7"
            ],
            [
             0.6,
             "#e6f5d0"
            ],
            [
             0.7,
             "#b8e186"
            ],
            [
             0.8,
             "#7fbc41"
            ],
            [
             0.9,
             "#4d9221"
            ],
            [
             1,
             "#276419"
            ]
           ],
           "sequential": [
            [
             0,
             "#0d0887"
            ],
            [
             0.1111111111111111,
             "#46039f"
            ],
            [
             0.2222222222222222,
             "#7201a8"
            ],
            [
             0.3333333333333333,
             "#9c179e"
            ],
            [
             0.4444444444444444,
             "#bd3786"
            ],
            [
             0.5555555555555556,
             "#d8576b"
            ],
            [
             0.6666666666666666,
             "#ed7953"
            ],
            [
             0.7777777777777778,
             "#fb9f3a"
            ],
            [
             0.8888888888888888,
             "#fdca26"
            ],
            [
             1,
             "#f0f921"
            ]
           ],
           "sequentialminus": [
            [
             0,
             "#0d0887"
            ],
            [
             0.1111111111111111,
             "#46039f"
            ],
            [
             0.2222222222222222,
             "#7201a8"
            ],
            [
             0.3333333333333333,
             "#9c179e"
            ],
            [
             0.4444444444444444,
             "#bd3786"
            ],
            [
             0.5555555555555556,
             "#d8576b"
            ],
            [
             0.6666666666666666,
             "#ed7953"
            ],
            [
             0.7777777777777778,
             "#fb9f3a"
            ],
            [
             0.8888888888888888,
             "#fdca26"
            ],
            [
             1,
             "#f0f921"
            ]
           ]
          },
          "colorway": [
           "#636efa",
           "#EF553B",
           "#00cc96",
           "#ab63fa",
           "#FFA15A",
           "#19d3f3",
           "#FF6692",
           "#B6E880",
           "#FF97FF",
           "#FECB52"
          ],
          "font": {
           "color": "#2a3f5f"
          },
          "geo": {
           "bgcolor": "white",
           "lakecolor": "white",
           "landcolor": "#E5ECF6",
           "showlakes": true,
           "showland": true,
           "subunitcolor": "white"
          },
          "hoverlabel": {
           "align": "left"
          },
          "hovermode": "closest",
          "mapbox": {
           "style": "light"
          },
          "paper_bgcolor": "white",
          "plot_bgcolor": "#E5ECF6",
          "polar": {
           "angularaxis": {
            "gridcolor": "white",
            "linecolor": "white",
            "ticks": ""
           },
           "bgcolor": "#E5ECF6",
           "radialaxis": {
            "gridcolor": "white",
            "linecolor": "white",
            "ticks": ""
           }
          },
          "scene": {
           "xaxis": {
            "backgroundcolor": "#E5ECF6",
            "gridcolor": "white",
            "gridwidth": 2,
            "linecolor": "white",
            "showbackground": true,
            "ticks": "",
            "zerolinecolor": "white"
           },
           "yaxis": {
            "backgroundcolor": "#E5ECF6",
            "gridcolor": "white",
            "gridwidth": 2,
            "linecolor": "white",
            "showbackground": true,
            "ticks": "",
            "zerolinecolor": "white"
           },
           "zaxis": {
            "backgroundcolor": "#E5ECF6",
            "gridcolor": "white",
            "gridwidth": 2,
            "linecolor": "white",
            "showbackground": true,
            "ticks": "",
            "zerolinecolor": "white"
           }
          },
          "shapedefaults": {
           "line": {
            "color": "#2a3f5f"
           }
          },
          "ternary": {
           "aaxis": {
            "gridcolor": "white",
            "linecolor": "white",
            "ticks": ""
           },
           "baxis": {
            "gridcolor": "white",
            "linecolor": "white",
            "ticks": ""
           },
           "bgcolor": "#E5ECF6",
           "caxis": {
            "gridcolor": "white",
            "linecolor": "white",
            "ticks": ""
           }
          },
          "title": {
           "x": 0.05
          },
          "xaxis": {
           "automargin": true,
           "gridcolor": "white",
           "linecolor": "white",
           "ticks": "",
           "title": {
            "standoff": 15
           },
           "zerolinecolor": "white",
           "zerolinewidth": 2
          },
          "yaxis": {
           "automargin": true,
           "gridcolor": "white",
           "linecolor": "white",
           "ticks": "",
           "title": {
            "standoff": 15
           },
           "zerolinecolor": "white",
           "zerolinewidth": 2
          }
         }
        },
        "yaxis": {
         "title": {
          "text": "Percentage of all triage visits per year(%)"
         }
        }
       }
      },
      "text/html": [
       "<div>\n",
       "        \n",
       "        \n",
       "            <div id=\"dc2768d5-0edd-4bb0-b3ff-9d3a534fef92\" class=\"plotly-graph-div\" style=\"height:525px; width:100%;\"></div>\n",
       "            <script type=\"text/javascript\">\n",
       "                require([\"plotly\"], function(Plotly) {\n",
       "                    window.PLOTLYENV=window.PLOTLYENV || {};\n",
       "                    \n",
       "                if (document.getElementById(\"dc2768d5-0edd-4bb0-b3ff-9d3a534fef92\")) {\n",
       "                    Plotly.newPlot(\n",
       "                        'dc2768d5-0edd-4bb0-b3ff-9d3a534fef92',\n",
       "                        [{\"marker\": {\"color\": \"rgb(0, 0, 200)\"}, \"name\": \"Semi-Urgent Triage\", \"type\": \"bar\", \"x\": [2015, 2016, 2017, 2018, 2019], \"y\": [41.617, 40.074, 39.148, 37.801, 36.442]}, {\"marker\": {\"color\": \"rgb(249,123,87)\"}, \"name\": \"Non-Urgent Triage\", \"type\": \"bar\", \"x\": [2015, 2016, 2017, 2018, 2019], \"y\": [7.856, 6.622, 6.289, 5.845, 5.275]}],\n",
       "                        {\"bargap\": 0.05, \"bargroupgap\": 0.001, \"barmode\": \"group\", \"paper_bgcolor\": \"rgba(0,0,0,0)\", \"plot_bgcolor\": \"rgba(0,0,0,0)\", \"template\": {\"data\": {\"bar\": [{\"error_x\": {\"color\": \"#2a3f5f\"}, \"error_y\": {\"color\": \"#2a3f5f\"}, \"marker\": {\"line\": {\"color\": \"#E5ECF6\", \"width\": 0.5}}, \"type\": \"bar\"}], \"barpolar\": [{\"marker\": {\"line\": {\"color\": \"#E5ECF6\", \"width\": 0.5}}, \"type\": \"barpolar\"}], \"carpet\": [{\"aaxis\": {\"endlinecolor\": \"#2a3f5f\", \"gridcolor\": \"white\", \"linecolor\": \"white\", \"minorgridcolor\": \"white\", \"startlinecolor\": \"#2a3f5f\"}, \"baxis\": {\"endlinecolor\": \"#2a3f5f\", \"gridcolor\": \"white\", \"linecolor\": \"white\", \"minorgridcolor\": \"white\", \"startlinecolor\": \"#2a3f5f\"}, \"type\": \"carpet\"}], \"choropleth\": [{\"colorbar\": {\"outlinewidth\": 0, \"ticks\": \"\"}, \"type\": \"choropleth\"}], \"contour\": [{\"colorbar\": {\"outlinewidth\": 0, \"ticks\": \"\"}, \"colorscale\": [[0.0, \"#0d0887\"], [0.1111111111111111, \"#46039f\"], [0.2222222222222222, \"#7201a8\"], [0.3333333333333333, \"#9c179e\"], [0.4444444444444444, \"#bd3786\"], [0.5555555555555556, \"#d8576b\"], [0.6666666666666666, \"#ed7953\"], [0.7777777777777778, \"#fb9f3a\"], [0.8888888888888888, \"#fdca26\"], [1.0, \"#f0f921\"]], \"type\": \"contour\"}], \"contourcarpet\": [{\"colorbar\": {\"outlinewidth\": 0, \"ticks\": \"\"}, \"type\": \"contourcarpet\"}], \"heatmap\": [{\"colorbar\": {\"outlinewidth\": 0, \"ticks\": \"\"}, \"colorscale\": [[0.0, \"#0d0887\"], [0.1111111111111111, \"#46039f\"], [0.2222222222222222, \"#7201a8\"], [0.3333333333333333, \"#9c179e\"], [0.4444444444444444, \"#bd3786\"], [0.5555555555555556, \"#d8576b\"], [0.6666666666666666, \"#ed7953\"], [0.7777777777777778, \"#fb9f3a\"], [0.8888888888888888, \"#fdca26\"], [1.0, \"#f0f921\"]], \"type\": \"heatmap\"}], \"heatmapgl\": [{\"colorbar\": {\"outlinewidth\": 0, \"ticks\": \"\"}, \"colorscale\": [[0.0, \"#0d0887\"], [0.1111111111111111, \"#46039f\"], [0.2222222222222222, \"#7201a8\"], [0.3333333333333333, \"#9c179e\"], [0.4444444444444444, \"#bd3786\"], [0.5555555555555556, \"#d8576b\"], [0.6666666666666666, \"#ed7953\"], [0.7777777777777778, \"#fb9f3a\"], [0.8888888888888888, \"#fdca26\"], [1.0, \"#f0f921\"]], \"type\": \"heatmapgl\"}], \"histogram\": [{\"marker\": {\"colorbar\": {\"outlinewidth\": 0, \"ticks\": \"\"}}, \"type\": \"histogram\"}], \"histogram2d\": [{\"colorbar\": {\"outlinewidth\": 0, \"ticks\": \"\"}, \"colorscale\": [[0.0, \"#0d0887\"], [0.1111111111111111, \"#46039f\"], [0.2222222222222222, \"#7201a8\"], [0.3333333333333333, \"#9c179e\"], [0.4444444444444444, \"#bd3786\"], [0.5555555555555556, \"#d8576b\"], [0.6666666666666666, \"#ed7953\"], [0.7777777777777778, \"#fb9f3a\"], [0.8888888888888888, \"#fdca26\"], [1.0, \"#f0f921\"]], \"type\": \"histogram2d\"}], \"histogram2dcontour\": [{\"colorbar\": {\"outlinewidth\": 0, \"ticks\": \"\"}, \"colorscale\": [[0.0, \"#0d0887\"], [0.1111111111111111, \"#46039f\"], [0.2222222222222222, \"#7201a8\"], [0.3333333333333333, \"#9c179e\"], [0.4444444444444444, \"#bd3786\"], [0.5555555555555556, \"#d8576b\"], [0.6666666666666666, \"#ed7953\"], [0.7777777777777778, \"#fb9f3a\"], [0.8888888888888888, \"#fdca26\"], [1.0, \"#f0f921\"]], \"type\": \"histogram2dcontour\"}], \"mesh3d\": [{\"colorbar\": {\"outlinewidth\": 0, \"ticks\": \"\"}, \"type\": \"mesh3d\"}], \"parcoords\": [{\"line\": {\"colorbar\": {\"outlinewidth\": 0, \"ticks\": \"\"}}, \"type\": \"parcoords\"}], \"pie\": [{\"automargin\": true, \"type\": \"pie\"}], \"scatter\": [{\"marker\": {\"colorbar\": {\"outlinewidth\": 0, \"ticks\": \"\"}}, \"type\": \"scatter\"}], \"scatter3d\": [{\"line\": {\"colorbar\": {\"outlinewidth\": 0, \"ticks\": \"\"}}, \"marker\": {\"colorbar\": {\"outlinewidth\": 0, \"ticks\": \"\"}}, \"type\": \"scatter3d\"}], \"scattercarpet\": [{\"marker\": {\"colorbar\": {\"outlinewidth\": 0, \"ticks\": \"\"}}, \"type\": \"scattercarpet\"}], \"scattergeo\": [{\"marker\": {\"colorbar\": {\"outlinewidth\": 0, \"ticks\": \"\"}}, \"type\": \"scattergeo\"}], \"scattergl\": [{\"marker\": {\"colorbar\": {\"outlinewidth\": 0, \"ticks\": \"\"}}, \"type\": \"scattergl\"}], \"scattermapbox\": [{\"marker\": {\"colorbar\": {\"outlinewidth\": 0, \"ticks\": \"\"}}, \"type\": \"scattermapbox\"}], \"scatterpolar\": [{\"marker\": {\"colorbar\": {\"outlinewidth\": 0, \"ticks\": \"\"}}, \"type\": \"scatterpolar\"}], \"scatterpolargl\": [{\"marker\": {\"colorbar\": {\"outlinewidth\": 0, \"ticks\": \"\"}}, \"type\": \"scatterpolargl\"}], \"scatterternary\": [{\"marker\": {\"colorbar\": {\"outlinewidth\": 0, \"ticks\": \"\"}}, \"type\": \"scatterternary\"}], \"surface\": [{\"colorbar\": {\"outlinewidth\": 0, \"ticks\": \"\"}, \"colorscale\": [[0.0, \"#0d0887\"], [0.1111111111111111, \"#46039f\"], [0.2222222222222222, \"#7201a8\"], [0.3333333333333333, \"#9c179e\"], [0.4444444444444444, \"#bd3786\"], [0.5555555555555556, \"#d8576b\"], [0.6666666666666666, \"#ed7953\"], [0.7777777777777778, \"#fb9f3a\"], [0.8888888888888888, \"#fdca26\"], [1.0, \"#f0f921\"]], \"type\": \"surface\"}], \"table\": [{\"cells\": {\"fill\": {\"color\": \"#EBF0F8\"}, \"line\": {\"color\": \"white\"}}, \"header\": {\"fill\": {\"color\": \"#C8D4E3\"}, \"line\": {\"color\": \"white\"}}, \"type\": \"table\"}]}, \"layout\": {\"annotationdefaults\": {\"arrowcolor\": \"#2a3f5f\", \"arrowhead\": 0, \"arrowwidth\": 1}, \"coloraxis\": {\"colorbar\": {\"outlinewidth\": 0, \"ticks\": \"\"}}, \"colorscale\": {\"diverging\": [[0, \"#8e0152\"], [0.1, \"#c51b7d\"], [0.2, \"#de77ae\"], [0.3, \"#f1b6da\"], [0.4, \"#fde0ef\"], [0.5, \"#f7f7f7\"], [0.6, \"#e6f5d0\"], [0.7, \"#b8e186\"], [0.8, \"#7fbc41\"], [0.9, \"#4d9221\"], [1, \"#276419\"]], \"sequential\": [[0.0, \"#0d0887\"], [0.1111111111111111, \"#46039f\"], [0.2222222222222222, \"#7201a8\"], [0.3333333333333333, \"#9c179e\"], [0.4444444444444444, \"#bd3786\"], [0.5555555555555556, \"#d8576b\"], [0.6666666666666666, \"#ed7953\"], [0.7777777777777778, \"#fb9f3a\"], [0.8888888888888888, \"#fdca26\"], [1.0, \"#f0f921\"]], \"sequentialminus\": [[0.0, \"#0d0887\"], [0.1111111111111111, \"#46039f\"], [0.2222222222222222, \"#7201a8\"], [0.3333333333333333, \"#9c179e\"], [0.4444444444444444, \"#bd3786\"], [0.5555555555555556, \"#d8576b\"], [0.6666666666666666, \"#ed7953\"], [0.7777777777777778, \"#fb9f3a\"], [0.8888888888888888, \"#fdca26\"], [1.0, \"#f0f921\"]]}, \"colorway\": [\"#636efa\", \"#EF553B\", \"#00cc96\", \"#ab63fa\", \"#FFA15A\", \"#19d3f3\", \"#FF6692\", \"#B6E880\", \"#FF97FF\", \"#FECB52\"], \"font\": {\"color\": \"#2a3f5f\"}, \"geo\": {\"bgcolor\": \"white\", \"lakecolor\": \"white\", \"landcolor\": \"#E5ECF6\", \"showlakes\": true, \"showland\": true, \"subunitcolor\": \"white\"}, \"hoverlabel\": {\"align\": \"left\"}, \"hovermode\": \"closest\", \"mapbox\": {\"style\": \"light\"}, \"paper_bgcolor\": \"white\", \"plot_bgcolor\": \"#E5ECF6\", \"polar\": {\"angularaxis\": {\"gridcolor\": \"white\", \"linecolor\": \"white\", \"ticks\": \"\"}, \"bgcolor\": \"#E5ECF6\", \"radialaxis\": {\"gridcolor\": \"white\", \"linecolor\": \"white\", \"ticks\": \"\"}}, \"scene\": {\"xaxis\": {\"backgroundcolor\": \"#E5ECF6\", \"gridcolor\": \"white\", \"gridwidth\": 2, \"linecolor\": \"white\", \"showbackground\": true, \"ticks\": \"\", \"zerolinecolor\": \"white\"}, \"yaxis\": {\"backgroundcolor\": \"#E5ECF6\", \"gridcolor\": \"white\", \"gridwidth\": 2, \"linecolor\": \"white\", \"showbackground\": true, \"ticks\": \"\", \"zerolinecolor\": \"white\"}, \"zaxis\": {\"backgroundcolor\": \"#E5ECF6\", \"gridcolor\": \"white\", \"gridwidth\": 2, \"linecolor\": \"white\", \"showbackground\": true, \"ticks\": \"\", \"zerolinecolor\": \"white\"}}, \"shapedefaults\": {\"line\": {\"color\": \"#2a3f5f\"}}, \"ternary\": {\"aaxis\": {\"gridcolor\": \"white\", \"linecolor\": \"white\", \"ticks\": \"\"}, \"baxis\": {\"gridcolor\": \"white\", \"linecolor\": \"white\", \"ticks\": \"\"}, \"bgcolor\": \"#E5ECF6\", \"caxis\": {\"gridcolor\": \"white\", \"linecolor\": \"white\", \"ticks\": \"\"}}, \"title\": {\"x\": 0.05}, \"xaxis\": {\"automargin\": true, \"gridcolor\": \"white\", \"linecolor\": \"white\", \"ticks\": \"\", \"title\": {\"standoff\": 15}, \"zerolinecolor\": \"white\", \"zerolinewidth\": 2}, \"yaxis\": {\"automargin\": true, \"gridcolor\": \"white\", \"linecolor\": \"white\", \"ticks\": \"\", \"title\": {\"standoff\": 15}, \"zerolinecolor\": \"white\", \"zerolinewidth\": 2}}}, \"yaxis\": {\"title\": {\"text\": \"Percentage of all triage visits per year(%)\"}}},\n",
       "                        {\"responsive\": true}\n",
       "                    ).then(function(){\n",
       "                            \n",
       "var gd = document.getElementById('dc2768d5-0edd-4bb0-b3ff-9d3a534fef92');\n",
       "var x = new MutationObserver(function (mutations, observer) {{\n",
       "        var display = window.getComputedStyle(gd).display;\n",
       "        if (!display || display === 'none') {{\n",
       "            console.log([gd, 'removed!']);\n",
       "            Plotly.purge(gd);\n",
       "            observer.disconnect();\n",
       "        }}\n",
       "}});\n",
       "\n",
       "// Listen for the removal of the full notebook cells\n",
       "var notebookContainer = gd.closest('#notebook-container');\n",
       "if (notebookContainer) {{\n",
       "    x.observe(notebookContainer, {childList: true});\n",
       "}}\n",
       "\n",
       "// Listen for the clearing of the current output cell\n",
       "var outputEl = gd.closest('.output');\n",
       "if (outputEl) {{\n",
       "    x.observe(outputEl, {childList: true});\n",
       "}}\n",
       "\n",
       "                        })\n",
       "                };\n",
       "                });\n",
       "            </script>\n",
       "        </div>"
      ]
     },
     "metadata": {},
     "output_type": "display_data"
    }
   ],
   "source": [
    "import plotly.graph_objects as go\n",
    "\n",
    "years = [2015, 2016, 2017, 2018, 2019]\n",
    "\n",
    "fig = go.Figure()\n",
    "fig.add_trace(go.Bar(\n",
    "    x=years,\n",
    "    y=[41.617, 40.074, 39.148, 37.801, 36.442],\n",
    "    name='Semi-Urgent Triage',\n",
    "    marker_color='rgb(0, 0, 200)'\n",
    "))\n",
    "fig.add_trace(go.Bar(\n",
    "    x=years,\n",
    "    y=[7.856, 6.622, 6.289, 5.845, 5.275],\n",
    "    name= 'Non-Urgent Triage',\n",
    "    marker_color='rgb(249,123,87)'\n",
    "))\n",
    "\n",
    "# Here we modify the tickangle of the xaxis, resulting in rotated labels.\n",
    "fig.update_layout(barmode='group', bargap = 0.05, bargroupgap=0.001, \n",
    "                 \n",
    "                  yaxis=dict(title ='Percentage of all triage visits per year(%)'))\n",
    "fig.update_layout({'plot_bgcolor': 'rgba(0,0,0,0)', 'paper_bgcolor': 'rgba(0,0,0,0)',})\n",
    "fig.show()"
   ]
  },
  {
   "cell_type": "code",
   "execution_count": 177,
   "metadata": {},
   "outputs": [
    {
     "data": {
      "application/vnd.plotly.v1+json": {
       "config": {
        "plotlyServerURL": "https://plot.ly"
       },
       "data": [
        {
         "delta": {
          "reference": 42
         },
         "domain": {
          "x": [
           0.25,
           1
          ],
          "y": [
           0,
           1
          ]
         },
         "gauge": {
          "axis": {
           "range": [
            null,
            100
           ]
          },
          "bar": {
           "color": "rgb(0, 0, 200)"
          },
          "shape": "bullet"
         },
         "mode": "number+gauge+delta",
         "number": {
          "suffix": "%"
         },
         "title": {
          "font": {
           "size": 14
          },
          "text": "<b>Triage</b><br><span style='color: gray; font-size:0.8em'>Semi-Urgent %</span>"
         },
         "type": "indicator",
         "value": 36
        }
       ],
       "layout": {
        "height": 225,
        "template": {
         "data": {
          "bar": [
           {
            "error_x": {
             "color": "#2a3f5f"
            },
            "error_y": {
             "color": "#2a3f5f"
            },
            "marker": {
             "line": {
              "color": "#E5ECF6",
              "width": 0.5
             }
            },
            "type": "bar"
           }
          ],
          "barpolar": [
           {
            "marker": {
             "line": {
              "color": "#E5ECF6",
              "width": 0.5
             }
            },
            "type": "barpolar"
           }
          ],
          "carpet": [
           {
            "aaxis": {
             "endlinecolor": "#2a3f5f",
             "gridcolor": "white",
             "linecolor": "white",
             "minorgridcolor": "white",
             "startlinecolor": "#2a3f5f"
            },
            "baxis": {
             "endlinecolor": "#2a3f5f",
             "gridcolor": "white",
             "linecolor": "white",
             "minorgridcolor": "white",
             "startlinecolor": "#2a3f5f"
            },
            "type": "carpet"
           }
          ],
          "choropleth": [
           {
            "colorbar": {
             "outlinewidth": 0,
             "ticks": ""
            },
            "type": "choropleth"
           }
          ],
          "contour": [
           {
            "colorbar": {
             "outlinewidth": 0,
             "ticks": ""
            },
            "colorscale": [
             [
              0,
              "#0d0887"
             ],
             [
              0.1111111111111111,
              "#46039f"
             ],
             [
              0.2222222222222222,
              "#7201a8"
             ],
             [
              0.3333333333333333,
              "#9c179e"
             ],
             [
              0.4444444444444444,
              "#bd3786"
             ],
             [
              0.5555555555555556,
              "#d8576b"
             ],
             [
              0.6666666666666666,
              "#ed7953"
             ],
             [
              0.7777777777777778,
              "#fb9f3a"
             ],
             [
              0.8888888888888888,
              "#fdca26"
             ],
             [
              1,
              "#f0f921"
             ]
            ],
            "type": "contour"
           }
          ],
          "contourcarpet": [
           {
            "colorbar": {
             "outlinewidth": 0,
             "ticks": ""
            },
            "type": "contourcarpet"
           }
          ],
          "heatmap": [
           {
            "colorbar": {
             "outlinewidth": 0,
             "ticks": ""
            },
            "colorscale": [
             [
              0,
              "#0d0887"
             ],
             [
              0.1111111111111111,
              "#46039f"
             ],
             [
              0.2222222222222222,
              "#7201a8"
             ],
             [
              0.3333333333333333,
              "#9c179e"
             ],
             [
              0.4444444444444444,
              "#bd3786"
             ],
             [
              0.5555555555555556,
              "#d8576b"
             ],
             [
              0.6666666666666666,
              "#ed7953"
             ],
             [
              0.7777777777777778,
              "#fb9f3a"
             ],
             [
              0.8888888888888888,
              "#fdca26"
             ],
             [
              1,
              "#f0f921"
             ]
            ],
            "type": "heatmap"
           }
          ],
          "heatmapgl": [
           {
            "colorbar": {
             "outlinewidth": 0,
             "ticks": ""
            },
            "colorscale": [
             [
              0,
              "#0d0887"
             ],
             [
              0.1111111111111111,
              "#46039f"
             ],
             [
              0.2222222222222222,
              "#7201a8"
             ],
             [
              0.3333333333333333,
              "#9c179e"
             ],
             [
              0.4444444444444444,
              "#bd3786"
             ],
             [
              0.5555555555555556,
              "#d8576b"
             ],
             [
              0.6666666666666666,
              "#ed7953"
             ],
             [
              0.7777777777777778,
              "#fb9f3a"
             ],
             [
              0.8888888888888888,
              "#fdca26"
             ],
             [
              1,
              "#f0f921"
             ]
            ],
            "type": "heatmapgl"
           }
          ],
          "histogram": [
           {
            "marker": {
             "colorbar": {
              "outlinewidth": 0,
              "ticks": ""
             }
            },
            "type": "histogram"
           }
          ],
          "histogram2d": [
           {
            "colorbar": {
             "outlinewidth": 0,
             "ticks": ""
            },
            "colorscale": [
             [
              0,
              "#0d0887"
             ],
             [
              0.1111111111111111,
              "#46039f"
             ],
             [
              0.2222222222222222,
              "#7201a8"
             ],
             [
              0.3333333333333333,
              "#9c179e"
             ],
             [
              0.4444444444444444,
              "#bd3786"
             ],
             [
              0.5555555555555556,
              "#d8576b"
             ],
             [
              0.6666666666666666,
              "#ed7953"
             ],
             [
              0.7777777777777778,
              "#fb9f3a"
             ],
             [
              0.8888888888888888,
              "#fdca26"
             ],
             [
              1,
              "#f0f921"
             ]
            ],
            "type": "histogram2d"
           }
          ],
          "histogram2dcontour": [
           {
            "colorbar": {
             "outlinewidth": 0,
             "ticks": ""
            },
            "colorscale": [
             [
              0,
              "#0d0887"
             ],
             [
              0.1111111111111111,
              "#46039f"
             ],
             [
              0.2222222222222222,
              "#7201a8"
             ],
             [
              0.3333333333333333,
              "#9c179e"
             ],
             [
              0.4444444444444444,
              "#bd3786"
             ],
             [
              0.5555555555555556,
              "#d8576b"
             ],
             [
              0.6666666666666666,
              "#ed7953"
             ],
             [
              0.7777777777777778,
              "#fb9f3a"
             ],
             [
              0.8888888888888888,
              "#fdca26"
             ],
             [
              1,
              "#f0f921"
             ]
            ],
            "type": "histogram2dcontour"
           }
          ],
          "mesh3d": [
           {
            "colorbar": {
             "outlinewidth": 0,
             "ticks": ""
            },
            "type": "mesh3d"
           }
          ],
          "parcoords": [
           {
            "line": {
             "colorbar": {
              "outlinewidth": 0,
              "ticks": ""
             }
            },
            "type": "parcoords"
           }
          ],
          "pie": [
           {
            "automargin": true,
            "type": "pie"
           }
          ],
          "scatter": [
           {
            "marker": {
             "colorbar": {
              "outlinewidth": 0,
              "ticks": ""
             }
            },
            "type": "scatter"
           }
          ],
          "scatter3d": [
           {
            "line": {
             "colorbar": {
              "outlinewidth": 0,
              "ticks": ""
             }
            },
            "marker": {
             "colorbar": {
              "outlinewidth": 0,
              "ticks": ""
             }
            },
            "type": "scatter3d"
           }
          ],
          "scattercarpet": [
           {
            "marker": {
             "colorbar": {
              "outlinewidth": 0,
              "ticks": ""
             }
            },
            "type": "scattercarpet"
           }
          ],
          "scattergeo": [
           {
            "marker": {
             "colorbar": {
              "outlinewidth": 0,
              "ticks": ""
             }
            },
            "type": "scattergeo"
           }
          ],
          "scattergl": [
           {
            "marker": {
             "colorbar": {
              "outlinewidth": 0,
              "ticks": ""
             }
            },
            "type": "scattergl"
           }
          ],
          "scattermapbox": [
           {
            "marker": {
             "colorbar": {
              "outlinewidth": 0,
              "ticks": ""
             }
            },
            "type": "scattermapbox"
           }
          ],
          "scatterpolar": [
           {
            "marker": {
             "colorbar": {
              "outlinewidth": 0,
              "ticks": ""
             }
            },
            "type": "scatterpolar"
           }
          ],
          "scatterpolargl": [
           {
            "marker": {
             "colorbar": {
              "outlinewidth": 0,
              "ticks": ""
             }
            },
            "type": "scatterpolargl"
           }
          ],
          "scatterternary": [
           {
            "marker": {
             "colorbar": {
              "outlinewidth": 0,
              "ticks": ""
             }
            },
            "type": "scatterternary"
           }
          ],
          "surface": [
           {
            "colorbar": {
             "outlinewidth": 0,
             "ticks": ""
            },
            "colorscale": [
             [
              0,
              "#0d0887"
             ],
             [
              0.1111111111111111,
              "#46039f"
             ],
             [
              0.2222222222222222,
              "#7201a8"
             ],
             [
              0.3333333333333333,
              "#9c179e"
             ],
             [
              0.4444444444444444,
              "#bd3786"
             ],
             [
              0.5555555555555556,
              "#d8576b"
             ],
             [
              0.6666666666666666,
              "#ed7953"
             ],
             [
              0.7777777777777778,
              "#fb9f3a"
             ],
             [
              0.8888888888888888,
              "#fdca26"
             ],
             [
              1,
              "#f0f921"
             ]
            ],
            "type": "surface"
           }
          ],
          "table": [
           {
            "cells": {
             "fill": {
              "color": "#EBF0F8"
             },
             "line": {
              "color": "white"
             }
            },
            "header": {
             "fill": {
              "color": "#C8D4E3"
             },
             "line": {
              "color": "white"
             }
            },
            "type": "table"
           }
          ]
         },
         "layout": {
          "annotationdefaults": {
           "arrowcolor": "#2a3f5f",
           "arrowhead": 0,
           "arrowwidth": 1
          },
          "coloraxis": {
           "colorbar": {
            "outlinewidth": 0,
            "ticks": ""
           }
          },
          "colorscale": {
           "diverging": [
            [
             0,
             "#8e0152"
            ],
            [
             0.1,
             "#c51b7d"
            ],
            [
             0.2,
             "#de77ae"
            ],
            [
             0.3,
             "#f1b6da"
            ],
            [
             0.4,
             "#fde0ef"
            ],
            [
             0.5,
             "#f7f7f7"
            ],
            [
             0.6,
             "#e6f5d0"
            ],
            [
             0.7,
             "#b8e186"
            ],
            [
             0.8,
             "#7fbc41"
            ],
            [
             0.9,
             "#4d9221"
            ],
            [
             1,
             "#276419"
            ]
           ],
           "sequential": [
            [
             0,
             "#0d0887"
            ],
            [
             0.1111111111111111,
             "#46039f"
            ],
            [
             0.2222222222222222,
             "#7201a8"
            ],
            [
             0.3333333333333333,
             "#9c179e"
            ],
            [
             0.4444444444444444,
             "#bd3786"
            ],
            [
             0.5555555555555556,
             "#d8576b"
            ],
            [
             0.6666666666666666,
             "#ed7953"
            ],
            [
             0.7777777777777778,
             "#fb9f3a"
            ],
            [
             0.8888888888888888,
             "#fdca26"
            ],
            [
             1,
             "#f0f921"
            ]
           ],
           "sequentialminus": [
            [
             0,
             "#0d0887"
            ],
            [
             0.1111111111111111,
             "#46039f"
            ],
            [
             0.2222222222222222,
             "#7201a8"
            ],
            [
             0.3333333333333333,
             "#9c179e"
            ],
            [
             0.4444444444444444,
             "#bd3786"
            ],
            [
             0.5555555555555556,
             "#d8576b"
            ],
            [
             0.6666666666666666,
             "#ed7953"
            ],
            [
             0.7777777777777778,
             "#fb9f3a"
            ],
            [
             0.8888888888888888,
             "#fdca26"
            ],
            [
             1,
             "#f0f921"
            ]
           ]
          },
          "colorway": [
           "#636efa",
           "#EF553B",
           "#00cc96",
           "#ab63fa",
           "#FFA15A",
           "#19d3f3",
           "#FF6692",
           "#B6E880",
           "#FF97FF",
           "#FECB52"
          ],
          "font": {
           "color": "#2a3f5f"
          },
          "geo": {
           "bgcolor": "white",
           "lakecolor": "white",
           "landcolor": "#E5ECF6",
           "showlakes": true,
           "showland": true,
           "subunitcolor": "white"
          },
          "hoverlabel": {
           "align": "left"
          },
          "hovermode": "closest",
          "mapbox": {
           "style": "light"
          },
          "paper_bgcolor": "white",
          "plot_bgcolor": "#E5ECF6",
          "polar": {
           "angularaxis": {
            "gridcolor": "white",
            "linecolor": "white",
            "ticks": ""
           },
           "bgcolor": "#E5ECF6",
           "radialaxis": {
            "gridcolor": "white",
            "linecolor": "white",
            "ticks": ""
           }
          },
          "scene": {
           "xaxis": {
            "backgroundcolor": "#E5ECF6",
            "gridcolor": "white",
            "gridwidth": 2,
            "linecolor": "white",
            "showbackground": true,
            "ticks": "",
            "zerolinecolor": "white"
           },
           "yaxis": {
            "backgroundcolor": "#E5ECF6",
            "gridcolor": "white",
            "gridwidth": 2,
            "linecolor": "white",
            "showbackground": true,
            "ticks": "",
            "zerolinecolor": "white"
           },
           "zaxis": {
            "backgroundcolor": "#E5ECF6",
            "gridcolor": "white",
            "gridwidth": 2,
            "linecolor": "white",
            "showbackground": true,
            "ticks": "",
            "zerolinecolor": "white"
           }
          },
          "shapedefaults": {
           "line": {
            "color": "#2a3f5f"
           }
          },
          "ternary": {
           "aaxis": {
            "gridcolor": "white",
            "linecolor": "white",
            "ticks": ""
           },
           "baxis": {
            "gridcolor": "white",
            "linecolor": "white",
            "ticks": ""
           },
           "bgcolor": "#E5ECF6",
           "caxis": {
            "gridcolor": "white",
            "linecolor": "white",
            "ticks": ""
           }
          },
          "title": {
           "x": 0.05
          },
          "xaxis": {
           "automargin": true,
           "gridcolor": "white",
           "linecolor": "white",
           "ticks": "",
           "title": {
            "standoff": 15
           },
           "zerolinecolor": "white",
           "zerolinewidth": 2
          },
          "yaxis": {
           "automargin": true,
           "gridcolor": "white",
           "linecolor": "white",
           "ticks": "",
           "title": {
            "standoff": 15
           },
           "zerolinecolor": "white",
           "zerolinewidth": 2
          }
         }
        }
       }
      },
      "text/html": [
       "<div>\n",
       "        \n",
       "        \n",
       "            <div id=\"c82cae1c-7ef7-454f-83bc-291c9fdc6943\" class=\"plotly-graph-div\" style=\"height:225px; width:100%;\"></div>\n",
       "            <script type=\"text/javascript\">\n",
       "                require([\"plotly\"], function(Plotly) {\n",
       "                    window.PLOTLYENV=window.PLOTLYENV || {};\n",
       "                    \n",
       "                if (document.getElementById(\"c82cae1c-7ef7-454f-83bc-291c9fdc6943\")) {\n",
       "                    Plotly.newPlot(\n",
       "                        'c82cae1c-7ef7-454f-83bc-291c9fdc6943',\n",
       "                        [{\"delta\": {\"reference\": 42}, \"domain\": {\"x\": [0.25, 1], \"y\": [0, 1]}, \"gauge\": {\"axis\": {\"range\": [null, 100]}, \"bar\": {\"color\": \"rgb(0, 0, 200)\"}, \"shape\": \"bullet\"}, \"mode\": \"number+gauge+delta\", \"number\": {\"suffix\": \"%\"}, \"title\": {\"font\": {\"size\": 14}, \"text\": \"<b>Triage</b><br><span style='color: gray; font-size:0.8em'>Semi-Urgent %</span>\"}, \"type\": \"indicator\", \"value\": 36}],\n",
       "                        {\"height\": 225, \"template\": {\"data\": {\"bar\": [{\"error_x\": {\"color\": \"#2a3f5f\"}, \"error_y\": {\"color\": \"#2a3f5f\"}, \"marker\": {\"line\": {\"color\": \"#E5ECF6\", \"width\": 0.5}}, \"type\": \"bar\"}], \"barpolar\": [{\"marker\": {\"line\": {\"color\": \"#E5ECF6\", \"width\": 0.5}}, \"type\": \"barpolar\"}], \"carpet\": [{\"aaxis\": {\"endlinecolor\": \"#2a3f5f\", \"gridcolor\": \"white\", \"linecolor\": \"white\", \"minorgridcolor\": \"white\", \"startlinecolor\": \"#2a3f5f\"}, \"baxis\": {\"endlinecolor\": \"#2a3f5f\", \"gridcolor\": \"white\", \"linecolor\": \"white\", \"minorgridcolor\": \"white\", \"startlinecolor\": \"#2a3f5f\"}, \"type\": \"carpet\"}], \"choropleth\": [{\"colorbar\": {\"outlinewidth\": 0, \"ticks\": \"\"}, \"type\": \"choropleth\"}], \"contour\": [{\"colorbar\": {\"outlinewidth\": 0, \"ticks\": \"\"}, \"colorscale\": [[0.0, \"#0d0887\"], [0.1111111111111111, \"#46039f\"], [0.2222222222222222, \"#7201a8\"], [0.3333333333333333, \"#9c179e\"], [0.4444444444444444, \"#bd3786\"], [0.5555555555555556, \"#d8576b\"], [0.6666666666666666, \"#ed7953\"], [0.7777777777777778, \"#fb9f3a\"], [0.8888888888888888, \"#fdca26\"], [1.0, \"#f0f921\"]], \"type\": \"contour\"}], \"contourcarpet\": [{\"colorbar\": {\"outlinewidth\": 0, \"ticks\": \"\"}, \"type\": \"contourcarpet\"}], \"heatmap\": [{\"colorbar\": {\"outlinewidth\": 0, \"ticks\": \"\"}, \"colorscale\": [[0.0, \"#0d0887\"], [0.1111111111111111, \"#46039f\"], [0.2222222222222222, \"#7201a8\"], [0.3333333333333333, \"#9c179e\"], [0.4444444444444444, \"#bd3786\"], [0.5555555555555556, \"#d8576b\"], [0.6666666666666666, \"#ed7953\"], [0.7777777777777778, \"#fb9f3a\"], [0.8888888888888888, \"#fdca26\"], [1.0, \"#f0f921\"]], \"type\": \"heatmap\"}], \"heatmapgl\": [{\"colorbar\": {\"outlinewidth\": 0, \"ticks\": \"\"}, \"colorscale\": [[0.0, \"#0d0887\"], [0.1111111111111111, \"#46039f\"], [0.2222222222222222, \"#7201a8\"], [0.3333333333333333, \"#9c179e\"], [0.4444444444444444, \"#bd3786\"], [0.5555555555555556, \"#d8576b\"], [0.6666666666666666, \"#ed7953\"], [0.7777777777777778, \"#fb9f3a\"], [0.8888888888888888, \"#fdca26\"], [1.0, \"#f0f921\"]], \"type\": \"heatmapgl\"}], \"histogram\": [{\"marker\": {\"colorbar\": {\"outlinewidth\": 0, \"ticks\": \"\"}}, \"type\": \"histogram\"}], \"histogram2d\": [{\"colorbar\": {\"outlinewidth\": 0, \"ticks\": \"\"}, \"colorscale\": [[0.0, \"#0d0887\"], [0.1111111111111111, \"#46039f\"], [0.2222222222222222, \"#7201a8\"], [0.3333333333333333, \"#9c179e\"], [0.4444444444444444, \"#bd3786\"], [0.5555555555555556, \"#d8576b\"], [0.6666666666666666, \"#ed7953\"], [0.7777777777777778, \"#fb9f3a\"], [0.8888888888888888, \"#fdca26\"], [1.0, \"#f0f921\"]], \"type\": \"histogram2d\"}], \"histogram2dcontour\": [{\"colorbar\": {\"outlinewidth\": 0, \"ticks\": \"\"}, \"colorscale\": [[0.0, \"#0d0887\"], [0.1111111111111111, \"#46039f\"], [0.2222222222222222, \"#7201a8\"], [0.3333333333333333, \"#9c179e\"], [0.4444444444444444, \"#bd3786\"], [0.5555555555555556, \"#d8576b\"], [0.6666666666666666, \"#ed7953\"], [0.7777777777777778, \"#fb9f3a\"], [0.8888888888888888, \"#fdca26\"], [1.0, \"#f0f921\"]], \"type\": \"histogram2dcontour\"}], \"mesh3d\": [{\"colorbar\": {\"outlinewidth\": 0, \"ticks\": \"\"}, \"type\": \"mesh3d\"}], \"parcoords\": [{\"line\": {\"colorbar\": {\"outlinewidth\": 0, \"ticks\": \"\"}}, \"type\": \"parcoords\"}], \"pie\": [{\"automargin\": true, \"type\": \"pie\"}], \"scatter\": [{\"marker\": {\"colorbar\": {\"outlinewidth\": 0, \"ticks\": \"\"}}, \"type\": \"scatter\"}], \"scatter3d\": [{\"line\": {\"colorbar\": {\"outlinewidth\": 0, \"ticks\": \"\"}}, \"marker\": {\"colorbar\": {\"outlinewidth\": 0, \"ticks\": \"\"}}, \"type\": \"scatter3d\"}], \"scattercarpet\": [{\"marker\": {\"colorbar\": {\"outlinewidth\": 0, \"ticks\": \"\"}}, \"type\": \"scattercarpet\"}], \"scattergeo\": [{\"marker\": {\"colorbar\": {\"outlinewidth\": 0, \"ticks\": \"\"}}, \"type\": \"scattergeo\"}], \"scattergl\": [{\"marker\": {\"colorbar\": {\"outlinewidth\": 0, \"ticks\": \"\"}}, \"type\": \"scattergl\"}], \"scattermapbox\": [{\"marker\": {\"colorbar\": {\"outlinewidth\": 0, \"ticks\": \"\"}}, \"type\": \"scattermapbox\"}], \"scatterpolar\": [{\"marker\": {\"colorbar\": {\"outlinewidth\": 0, \"ticks\": \"\"}}, \"type\": \"scatterpolar\"}], \"scatterpolargl\": [{\"marker\": {\"colorbar\": {\"outlinewidth\": 0, \"ticks\": \"\"}}, \"type\": \"scatterpolargl\"}], \"scatterternary\": [{\"marker\": {\"colorbar\": {\"outlinewidth\": 0, \"ticks\": \"\"}}, \"type\": \"scatterternary\"}], \"surface\": [{\"colorbar\": {\"outlinewidth\": 0, \"ticks\": \"\"}, \"colorscale\": [[0.0, \"#0d0887\"], [0.1111111111111111, \"#46039f\"], [0.2222222222222222, \"#7201a8\"], [0.3333333333333333, \"#9c179e\"], [0.4444444444444444, \"#bd3786\"], [0.5555555555555556, \"#d8576b\"], [0.6666666666666666, \"#ed7953\"], [0.7777777777777778, \"#fb9f3a\"], [0.8888888888888888, \"#fdca26\"], [1.0, \"#f0f921\"]], \"type\": \"surface\"}], \"table\": [{\"cells\": {\"fill\": {\"color\": \"#EBF0F8\"}, \"line\": {\"color\": \"white\"}}, \"header\": {\"fill\": {\"color\": \"#C8D4E3\"}, \"line\": {\"color\": \"white\"}}, \"type\": \"table\"}]}, \"layout\": {\"annotationdefaults\": {\"arrowcolor\": \"#2a3f5f\", \"arrowhead\": 0, \"arrowwidth\": 1}, \"coloraxis\": {\"colorbar\": {\"outlinewidth\": 0, \"ticks\": \"\"}}, \"colorscale\": {\"diverging\": [[0, \"#8e0152\"], [0.1, \"#c51b7d\"], [0.2, \"#de77ae\"], [0.3, \"#f1b6da\"], [0.4, \"#fde0ef\"], [0.5, \"#f7f7f7\"], [0.6, \"#e6f5d0\"], [0.7, \"#b8e186\"], [0.8, \"#7fbc41\"], [0.9, \"#4d9221\"], [1, \"#276419\"]], \"sequential\": [[0.0, \"#0d0887\"], [0.1111111111111111, \"#46039f\"], [0.2222222222222222, \"#7201a8\"], [0.3333333333333333, \"#9c179e\"], [0.4444444444444444, \"#bd3786\"], [0.5555555555555556, \"#d8576b\"], [0.6666666666666666, \"#ed7953\"], [0.7777777777777778, \"#fb9f3a\"], [0.8888888888888888, \"#fdca26\"], [1.0, \"#f0f921\"]], \"sequentialminus\": [[0.0, \"#0d0887\"], [0.1111111111111111, \"#46039f\"], [0.2222222222222222, \"#7201a8\"], [0.3333333333333333, \"#9c179e\"], [0.4444444444444444, \"#bd3786\"], [0.5555555555555556, \"#d8576b\"], [0.6666666666666666, \"#ed7953\"], [0.7777777777777778, \"#fb9f3a\"], [0.8888888888888888, \"#fdca26\"], [1.0, \"#f0f921\"]]}, \"colorway\": [\"#636efa\", \"#EF553B\", \"#00cc96\", \"#ab63fa\", \"#FFA15A\", \"#19d3f3\", \"#FF6692\", \"#B6E880\", \"#FF97FF\", \"#FECB52\"], \"font\": {\"color\": \"#2a3f5f\"}, \"geo\": {\"bgcolor\": \"white\", \"lakecolor\": \"white\", \"landcolor\": \"#E5ECF6\", \"showlakes\": true, \"showland\": true, \"subunitcolor\": \"white\"}, \"hoverlabel\": {\"align\": \"left\"}, \"hovermode\": \"closest\", \"mapbox\": {\"style\": \"light\"}, \"paper_bgcolor\": \"white\", \"plot_bgcolor\": \"#E5ECF6\", \"polar\": {\"angularaxis\": {\"gridcolor\": \"white\", \"linecolor\": \"white\", \"ticks\": \"\"}, \"bgcolor\": \"#E5ECF6\", \"radialaxis\": {\"gridcolor\": \"white\", \"linecolor\": \"white\", \"ticks\": \"\"}}, \"scene\": {\"xaxis\": {\"backgroundcolor\": \"#E5ECF6\", \"gridcolor\": \"white\", \"gridwidth\": 2, \"linecolor\": \"white\", \"showbackground\": true, \"ticks\": \"\", \"zerolinecolor\": \"white\"}, \"yaxis\": {\"backgroundcolor\": \"#E5ECF6\", \"gridcolor\": \"white\", \"gridwidth\": 2, \"linecolor\": \"white\", \"showbackground\": true, \"ticks\": \"\", \"zerolinecolor\": \"white\"}, \"zaxis\": {\"backgroundcolor\": \"#E5ECF6\", \"gridcolor\": \"white\", \"gridwidth\": 2, \"linecolor\": \"white\", \"showbackground\": true, \"ticks\": \"\", \"zerolinecolor\": \"white\"}}, \"shapedefaults\": {\"line\": {\"color\": \"#2a3f5f\"}}, \"ternary\": {\"aaxis\": {\"gridcolor\": \"white\", \"linecolor\": \"white\", \"ticks\": \"\"}, \"baxis\": {\"gridcolor\": \"white\", \"linecolor\": \"white\", \"ticks\": \"\"}, \"bgcolor\": \"#E5ECF6\", \"caxis\": {\"gridcolor\": \"white\", \"linecolor\": \"white\", \"ticks\": \"\"}}, \"title\": {\"x\": 0.05}, \"xaxis\": {\"automargin\": true, \"gridcolor\": \"white\", \"linecolor\": \"white\", \"ticks\": \"\", \"title\": {\"standoff\": 15}, \"zerolinecolor\": \"white\", \"zerolinewidth\": 2}, \"yaxis\": {\"automargin\": true, \"gridcolor\": \"white\", \"linecolor\": \"white\", \"ticks\": \"\", \"title\": {\"standoff\": 15}, \"zerolinecolor\": \"white\", \"zerolinewidth\": 2}}}},\n",
       "                        {\"responsive\": true}\n",
       "                    ).then(function(){\n",
       "                            \n",
       "var gd = document.getElementById('c82cae1c-7ef7-454f-83bc-291c9fdc6943');\n",
       "var x = new MutationObserver(function (mutations, observer) {{\n",
       "        var display = window.getComputedStyle(gd).display;\n",
       "        if (!display || display === 'none') {{\n",
       "            console.log([gd, 'removed!']);\n",
       "            Plotly.purge(gd);\n",
       "            observer.disconnect();\n",
       "        }}\n",
       "}});\n",
       "\n",
       "// Listen for the removal of the full notebook cells\n",
       "var notebookContainer = gd.closest('#notebook-container');\n",
       "if (notebookContainer) {{\n",
       "    x.observe(notebookContainer, {childList: true});\n",
       "}}\n",
       "\n",
       "// Listen for the clearing of the current output cell\n",
       "var outputEl = gd.closest('.output');\n",
       "if (outputEl) {{\n",
       "    x.observe(outputEl, {childList: true});\n",
       "}}\n",
       "\n",
       "                        })\n",
       "                };\n",
       "                });\n",
       "            </script>\n",
       "        </div>"
      ]
     },
     "metadata": {},
     "output_type": "display_data"
    }
   ],
   "source": [
    "import plotly.graph_objects as go\n",
    "\n",
    "fig = go.Figure(go.Indicator(\n",
    "    mode = \"number+gauge+delta\",\n",
    "    title = {'text':\"<b>Triage</b><br><span style='color: gray; font-size:0.8em'>Semi-Urgent %</span>\", 'font': {\"size\": 14}},\n",
    "    gauge = {\n",
    "        'shape': \"bullet\",\n",
    "        'axis': {'range': [None, 100]},\n",
    "        'bar': {'color': 'rgb(0, 0, 200)'},\n",
    "    },\n",
    "    value = 36,\n",
    "    delta = {'reference': 42},\n",
    "    number = {'suffix': \"%\"},\n",
    "    domain = {'x': [0.25, 1], 'y': [0, 1]},\n",
    "    ))\n",
    "fig.update_layout(height = 225)\n",
    "\n",
    "fig.show()\n"
   ]
  },
  {
   "cell_type": "code",
   "execution_count": 178,
   "metadata": {},
   "outputs": [
    {
     "data": {
      "application/vnd.plotly.v1+json": {
       "config": {
        "plotlyServerURL": "https://plot.ly"
       },
       "data": [
        {
         "delta": {
          "reference": 8
         },
         "domain": {
          "x": [
           0.25,
           1
          ],
          "y": [
           0,
           1
          ]
         },
         "gauge": {
          "axis": {
           "range": [
            null,
            100
           ]
          },
          "bar": {
           "color": "rgb(249,123,87)"
          },
          "shape": "bullet"
         },
         "mode": "number+gauge+delta",
         "number": {
          "suffix": "%"
         },
         "title": {
          "font": {
           "size": 14
          },
          "text": "<b>Triage</b><br><span style='color: gray; font-size:0.8em'>Non-Urgent %</span>"
         },
         "type": "indicator",
         "value": 5
        }
       ],
       "layout": {
        "height": 225,
        "template": {
         "data": {
          "bar": [
           {
            "error_x": {
             "color": "#2a3f5f"
            },
            "error_y": {
             "color": "#2a3f5f"
            },
            "marker": {
             "line": {
              "color": "#E5ECF6",
              "width": 0.5
             }
            },
            "type": "bar"
           }
          ],
          "barpolar": [
           {
            "marker": {
             "line": {
              "color": "#E5ECF6",
              "width": 0.5
             }
            },
            "type": "barpolar"
           }
          ],
          "carpet": [
           {
            "aaxis": {
             "endlinecolor": "#2a3f5f",
             "gridcolor": "white",
             "linecolor": "white",
             "minorgridcolor": "white",
             "startlinecolor": "#2a3f5f"
            },
            "baxis": {
             "endlinecolor": "#2a3f5f",
             "gridcolor": "white",
             "linecolor": "white",
             "minorgridcolor": "white",
             "startlinecolor": "#2a3f5f"
            },
            "type": "carpet"
           }
          ],
          "choropleth": [
           {
            "colorbar": {
             "outlinewidth": 0,
             "ticks": ""
            },
            "type": "choropleth"
           }
          ],
          "contour": [
           {
            "colorbar": {
             "outlinewidth": 0,
             "ticks": ""
            },
            "colorscale": [
             [
              0,
              "#0d0887"
             ],
             [
              0.1111111111111111,
              "#46039f"
             ],
             [
              0.2222222222222222,
              "#7201a8"
             ],
             [
              0.3333333333333333,
              "#9c179e"
             ],
             [
              0.4444444444444444,
              "#bd3786"
             ],
             [
              0.5555555555555556,
              "#d8576b"
             ],
             [
              0.6666666666666666,
              "#ed7953"
             ],
             [
              0.7777777777777778,
              "#fb9f3a"
             ],
             [
              0.8888888888888888,
              "#fdca26"
             ],
             [
              1,
              "#f0f921"
             ]
            ],
            "type": "contour"
           }
          ],
          "contourcarpet": [
           {
            "colorbar": {
             "outlinewidth": 0,
             "ticks": ""
            },
            "type": "contourcarpet"
           }
          ],
          "heatmap": [
           {
            "colorbar": {
             "outlinewidth": 0,
             "ticks": ""
            },
            "colorscale": [
             [
              0,
              "#0d0887"
             ],
             [
              0.1111111111111111,
              "#46039f"
             ],
             [
              0.2222222222222222,
              "#7201a8"
             ],
             [
              0.3333333333333333,
              "#9c179e"
             ],
             [
              0.4444444444444444,
              "#bd3786"
             ],
             [
              0.5555555555555556,
              "#d8576b"
             ],
             [
              0.6666666666666666,
              "#ed7953"
             ],
             [
              0.7777777777777778,
              "#fb9f3a"
             ],
             [
              0.8888888888888888,
              "#fdca26"
             ],
             [
              1,
              "#f0f921"
             ]
            ],
            "type": "heatmap"
           }
          ],
          "heatmapgl": [
           {
            "colorbar": {
             "outlinewidth": 0,
             "ticks": ""
            },
            "colorscale": [
             [
              0,
              "#0d0887"
             ],
             [
              0.1111111111111111,
              "#46039f"
             ],
             [
              0.2222222222222222,
              "#7201a8"
             ],
             [
              0.3333333333333333,
              "#9c179e"
             ],
             [
              0.4444444444444444,
              "#bd3786"
             ],
             [
              0.5555555555555556,
              "#d8576b"
             ],
             [
              0.6666666666666666,
              "#ed7953"
             ],
             [
              0.7777777777777778,
              "#fb9f3a"
             ],
             [
              0.8888888888888888,
              "#fdca26"
             ],
             [
              1,
              "#f0f921"
             ]
            ],
            "type": "heatmapgl"
           }
          ],
          "histogram": [
           {
            "marker": {
             "colorbar": {
              "outlinewidth": 0,
              "ticks": ""
             }
            },
            "type": "histogram"
           }
          ],
          "histogram2d": [
           {
            "colorbar": {
             "outlinewidth": 0,
             "ticks": ""
            },
            "colorscale": [
             [
              0,
              "#0d0887"
             ],
             [
              0.1111111111111111,
              "#46039f"
             ],
             [
              0.2222222222222222,
              "#7201a8"
             ],
             [
              0.3333333333333333,
              "#9c179e"
             ],
             [
              0.4444444444444444,
              "#bd3786"
             ],
             [
              0.5555555555555556,
              "#d8576b"
             ],
             [
              0.6666666666666666,
              "#ed7953"
             ],
             [
              0.7777777777777778,
              "#fb9f3a"
             ],
             [
              0.8888888888888888,
              "#fdca26"
             ],
             [
              1,
              "#f0f921"
             ]
            ],
            "type": "histogram2d"
           }
          ],
          "histogram2dcontour": [
           {
            "colorbar": {
             "outlinewidth": 0,
             "ticks": ""
            },
            "colorscale": [
             [
              0,
              "#0d0887"
             ],
             [
              0.1111111111111111,
              "#46039f"
             ],
             [
              0.2222222222222222,
              "#7201a8"
             ],
             [
              0.3333333333333333,
              "#9c179e"
             ],
             [
              0.4444444444444444,
              "#bd3786"
             ],
             [
              0.5555555555555556,
              "#d8576b"
             ],
             [
              0.6666666666666666,
              "#ed7953"
             ],
             [
              0.7777777777777778,
              "#fb9f3a"
             ],
             [
              0.8888888888888888,
              "#fdca26"
             ],
             [
              1,
              "#f0f921"
             ]
            ],
            "type": "histogram2dcontour"
           }
          ],
          "mesh3d": [
           {
            "colorbar": {
             "outlinewidth": 0,
             "ticks": ""
            },
            "type": "mesh3d"
           }
          ],
          "parcoords": [
           {
            "line": {
             "colorbar": {
              "outlinewidth": 0,
              "ticks": ""
             }
            },
            "type": "parcoords"
           }
          ],
          "pie": [
           {
            "automargin": true,
            "type": "pie"
           }
          ],
          "scatter": [
           {
            "marker": {
             "colorbar": {
              "outlinewidth": 0,
              "ticks": ""
             }
            },
            "type": "scatter"
           }
          ],
          "scatter3d": [
           {
            "line": {
             "colorbar": {
              "outlinewidth": 0,
              "ticks": ""
             }
            },
            "marker": {
             "colorbar": {
              "outlinewidth": 0,
              "ticks": ""
             }
            },
            "type": "scatter3d"
           }
          ],
          "scattercarpet": [
           {
            "marker": {
             "colorbar": {
              "outlinewidth": 0,
              "ticks": ""
             }
            },
            "type": "scattercarpet"
           }
          ],
          "scattergeo": [
           {
            "marker": {
             "colorbar": {
              "outlinewidth": 0,
              "ticks": ""
             }
            },
            "type": "scattergeo"
           }
          ],
          "scattergl": [
           {
            "marker": {
             "colorbar": {
              "outlinewidth": 0,
              "ticks": ""
             }
            },
            "type": "scattergl"
           }
          ],
          "scattermapbox": [
           {
            "marker": {
             "colorbar": {
              "outlinewidth": 0,
              "ticks": ""
             }
            },
            "type": "scattermapbox"
           }
          ],
          "scatterpolar": [
           {
            "marker": {
             "colorbar": {
              "outlinewidth": 0,
              "ticks": ""
             }
            },
            "type": "scatterpolar"
           }
          ],
          "scatterpolargl": [
           {
            "marker": {
             "colorbar": {
              "outlinewidth": 0,
              "ticks": ""
             }
            },
            "type": "scatterpolargl"
           }
          ],
          "scatterternary": [
           {
            "marker": {
             "colorbar": {
              "outlinewidth": 0,
              "ticks": ""
             }
            },
            "type": "scatterternary"
           }
          ],
          "surface": [
           {
            "colorbar": {
             "outlinewidth": 0,
             "ticks": ""
            },
            "colorscale": [
             [
              0,
              "#0d0887"
             ],
             [
              0.1111111111111111,
              "#46039f"
             ],
             [
              0.2222222222222222,
              "#7201a8"
             ],
             [
              0.3333333333333333,
              "#9c179e"
             ],
             [
              0.4444444444444444,
              "#bd3786"
             ],
             [
              0.5555555555555556,
              "#d8576b"
             ],
             [
              0.6666666666666666,
              "#ed7953"
             ],
             [
              0.7777777777777778,
              "#fb9f3a"
             ],
             [
              0.8888888888888888,
              "#fdca26"
             ],
             [
              1,
              "#f0f921"
             ]
            ],
            "type": "surface"
           }
          ],
          "table": [
           {
            "cells": {
             "fill": {
              "color": "#EBF0F8"
             },
             "line": {
              "color": "white"
             }
            },
            "header": {
             "fill": {
              "color": "#C8D4E3"
             },
             "line": {
              "color": "white"
             }
            },
            "type": "table"
           }
          ]
         },
         "layout": {
          "annotationdefaults": {
           "arrowcolor": "#2a3f5f",
           "arrowhead": 0,
           "arrowwidth": 1
          },
          "coloraxis": {
           "colorbar": {
            "outlinewidth": 0,
            "ticks": ""
           }
          },
          "colorscale": {
           "diverging": [
            [
             0,
             "#8e0152"
            ],
            [
             0.1,
             "#c51b7d"
            ],
            [
             0.2,
             "#de77ae"
            ],
            [
             0.3,
             "#f1b6da"
            ],
            [
             0.4,
             "#fde0ef"
            ],
            [
             0.5,
             "#f7f7f7"
            ],
            [
             0.6,
             "#e6f5d0"
            ],
            [
             0.7,
             "#b8e186"
            ],
            [
             0.8,
             "#7fbc41"
            ],
            [
             0.9,
             "#4d9221"
            ],
            [
             1,
             "#276419"
            ]
           ],
           "sequential": [
            [
             0,
             "#0d0887"
            ],
            [
             0.1111111111111111,
             "#46039f"
            ],
            [
             0.2222222222222222,
             "#7201a8"
            ],
            [
             0.3333333333333333,
             "#9c179e"
            ],
            [
             0.4444444444444444,
             "#bd3786"
            ],
            [
             0.5555555555555556,
             "#d8576b"
            ],
            [
             0.6666666666666666,
             "#ed7953"
            ],
            [
             0.7777777777777778,
             "#fb9f3a"
            ],
            [
             0.8888888888888888,
             "#fdca26"
            ],
            [
             1,
             "#f0f921"
            ]
           ],
           "sequentialminus": [
            [
             0,
             "#0d0887"
            ],
            [
             0.1111111111111111,
             "#46039f"
            ],
            [
             0.2222222222222222,
             "#7201a8"
            ],
            [
             0.3333333333333333,
             "#9c179e"
            ],
            [
             0.4444444444444444,
             "#bd3786"
            ],
            [
             0.5555555555555556,
             "#d8576b"
            ],
            [
             0.6666666666666666,
             "#ed7953"
            ],
            [
             0.7777777777777778,
             "#fb9f3a"
            ],
            [
             0.8888888888888888,
             "#fdca26"
            ],
            [
             1,
             "#f0f921"
            ]
           ]
          },
          "colorway": [
           "#636efa",
           "#EF553B",
           "#00cc96",
           "#ab63fa",
           "#FFA15A",
           "#19d3f3",
           "#FF6692",
           "#B6E880",
           "#FF97FF",
           "#FECB52"
          ],
          "font": {
           "color": "#2a3f5f"
          },
          "geo": {
           "bgcolor": "white",
           "lakecolor": "white",
           "landcolor": "#E5ECF6",
           "showlakes": true,
           "showland": true,
           "subunitcolor": "white"
          },
          "hoverlabel": {
           "align": "left"
          },
          "hovermode": "closest",
          "mapbox": {
           "style": "light"
          },
          "paper_bgcolor": "white",
          "plot_bgcolor": "#E5ECF6",
          "polar": {
           "angularaxis": {
            "gridcolor": "white",
            "linecolor": "white",
            "ticks": ""
           },
           "bgcolor": "#E5ECF6",
           "radialaxis": {
            "gridcolor": "white",
            "linecolor": "white",
            "ticks": ""
           }
          },
          "scene": {
           "xaxis": {
            "backgroundcolor": "#E5ECF6",
            "gridcolor": "white",
            "gridwidth": 2,
            "linecolor": "white",
            "showbackground": true,
            "ticks": "",
            "zerolinecolor": "white"
           },
           "yaxis": {
            "backgroundcolor": "#E5ECF6",
            "gridcolor": "white",
            "gridwidth": 2,
            "linecolor": "white",
            "showbackground": true,
            "ticks": "",
            "zerolinecolor": "white"
           },
           "zaxis": {
            "backgroundcolor": "#E5ECF6",
            "gridcolor": "white",
            "gridwidth": 2,
            "linecolor": "white",
            "showbackground": true,
            "ticks": "",
            "zerolinecolor": "white"
           }
          },
          "shapedefaults": {
           "line": {
            "color": "#2a3f5f"
           }
          },
          "ternary": {
           "aaxis": {
            "gridcolor": "white",
            "linecolor": "white",
            "ticks": ""
           },
           "baxis": {
            "gridcolor": "white",
            "linecolor": "white",
            "ticks": ""
           },
           "bgcolor": "#E5ECF6",
           "caxis": {
            "gridcolor": "white",
            "linecolor": "white",
            "ticks": ""
           }
          },
          "title": {
           "x": 0.05
          },
          "xaxis": {
           "automargin": true,
           "gridcolor": "white",
           "linecolor": "white",
           "ticks": "",
           "title": {
            "standoff": 15
           },
           "zerolinecolor": "white",
           "zerolinewidth": 2
          },
          "yaxis": {
           "automargin": true,
           "gridcolor": "white",
           "linecolor": "white",
           "ticks": "",
           "title": {
            "standoff": 15
           },
           "zerolinecolor": "white",
           "zerolinewidth": 2
          }
         }
        }
       }
      },
      "text/html": [
       "<div>\n",
       "        \n",
       "        \n",
       "            <div id=\"4190b027-bbfb-4ae5-bc3f-87aef62e44a1\" class=\"plotly-graph-div\" style=\"height:225px; width:100%;\"></div>\n",
       "            <script type=\"text/javascript\">\n",
       "                require([\"plotly\"], function(Plotly) {\n",
       "                    window.PLOTLYENV=window.PLOTLYENV || {};\n",
       "                    \n",
       "                if (document.getElementById(\"4190b027-bbfb-4ae5-bc3f-87aef62e44a1\")) {\n",
       "                    Plotly.newPlot(\n",
       "                        '4190b027-bbfb-4ae5-bc3f-87aef62e44a1',\n",
       "                        [{\"delta\": {\"reference\": 8}, \"domain\": {\"x\": [0.25, 1], \"y\": [0, 1]}, \"gauge\": {\"axis\": {\"range\": [null, 100]}, \"bar\": {\"color\": \"rgb(249,123,87)\"}, \"shape\": \"bullet\"}, \"mode\": \"number+gauge+delta\", \"number\": {\"suffix\": \"%\"}, \"title\": {\"font\": {\"size\": 14}, \"text\": \"<b>Triage</b><br><span style='color: gray; font-size:0.8em'>Non-Urgent %</span>\"}, \"type\": \"indicator\", \"value\": 5}],\n",
       "                        {\"height\": 225, \"template\": {\"data\": {\"bar\": [{\"error_x\": {\"color\": \"#2a3f5f\"}, \"error_y\": {\"color\": \"#2a3f5f\"}, \"marker\": {\"line\": {\"color\": \"#E5ECF6\", \"width\": 0.5}}, \"type\": \"bar\"}], \"barpolar\": [{\"marker\": {\"line\": {\"color\": \"#E5ECF6\", \"width\": 0.5}}, \"type\": \"barpolar\"}], \"carpet\": [{\"aaxis\": {\"endlinecolor\": \"#2a3f5f\", \"gridcolor\": \"white\", \"linecolor\": \"white\", \"minorgridcolor\": \"white\", \"startlinecolor\": \"#2a3f5f\"}, \"baxis\": {\"endlinecolor\": \"#2a3f5f\", \"gridcolor\": \"white\", \"linecolor\": \"white\", \"minorgridcolor\": \"white\", \"startlinecolor\": \"#2a3f5f\"}, \"type\": \"carpet\"}], \"choropleth\": [{\"colorbar\": {\"outlinewidth\": 0, \"ticks\": \"\"}, \"type\": \"choropleth\"}], \"contour\": [{\"colorbar\": {\"outlinewidth\": 0, \"ticks\": \"\"}, \"colorscale\": [[0.0, \"#0d0887\"], [0.1111111111111111, \"#46039f\"], [0.2222222222222222, \"#7201a8\"], [0.3333333333333333, \"#9c179e\"], [0.4444444444444444, \"#bd3786\"], [0.5555555555555556, \"#d8576b\"], [0.6666666666666666, \"#ed7953\"], [0.7777777777777778, \"#fb9f3a\"], [0.8888888888888888, \"#fdca26\"], [1.0, \"#f0f921\"]], \"type\": \"contour\"}], \"contourcarpet\": [{\"colorbar\": {\"outlinewidth\": 0, \"ticks\": \"\"}, \"type\": \"contourcarpet\"}], \"heatmap\": [{\"colorbar\": {\"outlinewidth\": 0, \"ticks\": \"\"}, \"colorscale\": [[0.0, \"#0d0887\"], [0.1111111111111111, \"#46039f\"], [0.2222222222222222, \"#7201a8\"], [0.3333333333333333, \"#9c179e\"], [0.4444444444444444, \"#bd3786\"], [0.5555555555555556, \"#d8576b\"], [0.6666666666666666, \"#ed7953\"], [0.7777777777777778, \"#fb9f3a\"], [0.8888888888888888, \"#fdca26\"], [1.0, \"#f0f921\"]], \"type\": \"heatmap\"}], \"heatmapgl\": [{\"colorbar\": {\"outlinewidth\": 0, \"ticks\": \"\"}, \"colorscale\": [[0.0, \"#0d0887\"], [0.1111111111111111, \"#46039f\"], [0.2222222222222222, \"#7201a8\"], [0.3333333333333333, \"#9c179e\"], [0.4444444444444444, \"#bd3786\"], [0.5555555555555556, \"#d8576b\"], [0.6666666666666666, \"#ed7953\"], [0.7777777777777778, \"#fb9f3a\"], [0.8888888888888888, \"#fdca26\"], [1.0, \"#f0f921\"]], \"type\": \"heatmapgl\"}], \"histogram\": [{\"marker\": {\"colorbar\": {\"outlinewidth\": 0, \"ticks\": \"\"}}, \"type\": \"histogram\"}], \"histogram2d\": [{\"colorbar\": {\"outlinewidth\": 0, \"ticks\": \"\"}, \"colorscale\": [[0.0, \"#0d0887\"], [0.1111111111111111, \"#46039f\"], [0.2222222222222222, \"#7201a8\"], [0.3333333333333333, \"#9c179e\"], [0.4444444444444444, \"#bd3786\"], [0.5555555555555556, \"#d8576b\"], [0.6666666666666666, \"#ed7953\"], [0.7777777777777778, \"#fb9f3a\"], [0.8888888888888888, \"#fdca26\"], [1.0, \"#f0f921\"]], \"type\": \"histogram2d\"}], \"histogram2dcontour\": [{\"colorbar\": {\"outlinewidth\": 0, \"ticks\": \"\"}, \"colorscale\": [[0.0, \"#0d0887\"], [0.1111111111111111, \"#46039f\"], [0.2222222222222222, \"#7201a8\"], [0.3333333333333333, \"#9c179e\"], [0.4444444444444444, \"#bd3786\"], [0.5555555555555556, \"#d8576b\"], [0.6666666666666666, \"#ed7953\"], [0.7777777777777778, \"#fb9f3a\"], [0.8888888888888888, \"#fdca26\"], [1.0, \"#f0f921\"]], \"type\": \"histogram2dcontour\"}], \"mesh3d\": [{\"colorbar\": {\"outlinewidth\": 0, \"ticks\": \"\"}, \"type\": \"mesh3d\"}], \"parcoords\": [{\"line\": {\"colorbar\": {\"outlinewidth\": 0, \"ticks\": \"\"}}, \"type\": \"parcoords\"}], \"pie\": [{\"automargin\": true, \"type\": \"pie\"}], \"scatter\": [{\"marker\": {\"colorbar\": {\"outlinewidth\": 0, \"ticks\": \"\"}}, \"type\": \"scatter\"}], \"scatter3d\": [{\"line\": {\"colorbar\": {\"outlinewidth\": 0, \"ticks\": \"\"}}, \"marker\": {\"colorbar\": {\"outlinewidth\": 0, \"ticks\": \"\"}}, \"type\": \"scatter3d\"}], \"scattercarpet\": [{\"marker\": {\"colorbar\": {\"outlinewidth\": 0, \"ticks\": \"\"}}, \"type\": \"scattercarpet\"}], \"scattergeo\": [{\"marker\": {\"colorbar\": {\"outlinewidth\": 0, \"ticks\": \"\"}}, \"type\": \"scattergeo\"}], \"scattergl\": [{\"marker\": {\"colorbar\": {\"outlinewidth\": 0, \"ticks\": \"\"}}, \"type\": \"scattergl\"}], \"scattermapbox\": [{\"marker\": {\"colorbar\": {\"outlinewidth\": 0, \"ticks\": \"\"}}, \"type\": \"scattermapbox\"}], \"scatterpolar\": [{\"marker\": {\"colorbar\": {\"outlinewidth\": 0, \"ticks\": \"\"}}, \"type\": \"scatterpolar\"}], \"scatterpolargl\": [{\"marker\": {\"colorbar\": {\"outlinewidth\": 0, \"ticks\": \"\"}}, \"type\": \"scatterpolargl\"}], \"scatterternary\": [{\"marker\": {\"colorbar\": {\"outlinewidth\": 0, \"ticks\": \"\"}}, \"type\": \"scatterternary\"}], \"surface\": [{\"colorbar\": {\"outlinewidth\": 0, \"ticks\": \"\"}, \"colorscale\": [[0.0, \"#0d0887\"], [0.1111111111111111, \"#46039f\"], [0.2222222222222222, \"#7201a8\"], [0.3333333333333333, \"#9c179e\"], [0.4444444444444444, \"#bd3786\"], [0.5555555555555556, \"#d8576b\"], [0.6666666666666666, \"#ed7953\"], [0.7777777777777778, \"#fb9f3a\"], [0.8888888888888888, \"#fdca26\"], [1.0, \"#f0f921\"]], \"type\": \"surface\"}], \"table\": [{\"cells\": {\"fill\": {\"color\": \"#EBF0F8\"}, \"line\": {\"color\": \"white\"}}, \"header\": {\"fill\": {\"color\": \"#C8D4E3\"}, \"line\": {\"color\": \"white\"}}, \"type\": \"table\"}]}, \"layout\": {\"annotationdefaults\": {\"arrowcolor\": \"#2a3f5f\", \"arrowhead\": 0, \"arrowwidth\": 1}, \"coloraxis\": {\"colorbar\": {\"outlinewidth\": 0, \"ticks\": \"\"}}, \"colorscale\": {\"diverging\": [[0, \"#8e0152\"], [0.1, \"#c51b7d\"], [0.2, \"#de77ae\"], [0.3, \"#f1b6da\"], [0.4, \"#fde0ef\"], [0.5, \"#f7f7f7\"], [0.6, \"#e6f5d0\"], [0.7, \"#b8e186\"], [0.8, \"#7fbc41\"], [0.9, \"#4d9221\"], [1, \"#276419\"]], \"sequential\": [[0.0, \"#0d0887\"], [0.1111111111111111, \"#46039f\"], [0.2222222222222222, \"#7201a8\"], [0.3333333333333333, \"#9c179e\"], [0.4444444444444444, \"#bd3786\"], [0.5555555555555556, \"#d8576b\"], [0.6666666666666666, \"#ed7953\"], [0.7777777777777778, \"#fb9f3a\"], [0.8888888888888888, \"#fdca26\"], [1.0, \"#f0f921\"]], \"sequentialminus\": [[0.0, \"#0d0887\"], [0.1111111111111111, \"#46039f\"], [0.2222222222222222, \"#7201a8\"], [0.3333333333333333, \"#9c179e\"], [0.4444444444444444, \"#bd3786\"], [0.5555555555555556, \"#d8576b\"], [0.6666666666666666, \"#ed7953\"], [0.7777777777777778, \"#fb9f3a\"], [0.8888888888888888, \"#fdca26\"], [1.0, \"#f0f921\"]]}, \"colorway\": [\"#636efa\", \"#EF553B\", \"#00cc96\", \"#ab63fa\", \"#FFA15A\", \"#19d3f3\", \"#FF6692\", \"#B6E880\", \"#FF97FF\", \"#FECB52\"], \"font\": {\"color\": \"#2a3f5f\"}, \"geo\": {\"bgcolor\": \"white\", \"lakecolor\": \"white\", \"landcolor\": \"#E5ECF6\", \"showlakes\": true, \"showland\": true, \"subunitcolor\": \"white\"}, \"hoverlabel\": {\"align\": \"left\"}, \"hovermode\": \"closest\", \"mapbox\": {\"style\": \"light\"}, \"paper_bgcolor\": \"white\", \"plot_bgcolor\": \"#E5ECF6\", \"polar\": {\"angularaxis\": {\"gridcolor\": \"white\", \"linecolor\": \"white\", \"ticks\": \"\"}, \"bgcolor\": \"#E5ECF6\", \"radialaxis\": {\"gridcolor\": \"white\", \"linecolor\": \"white\", \"ticks\": \"\"}}, \"scene\": {\"xaxis\": {\"backgroundcolor\": \"#E5ECF6\", \"gridcolor\": \"white\", \"gridwidth\": 2, \"linecolor\": \"white\", \"showbackground\": true, \"ticks\": \"\", \"zerolinecolor\": \"white\"}, \"yaxis\": {\"backgroundcolor\": \"#E5ECF6\", \"gridcolor\": \"white\", \"gridwidth\": 2, \"linecolor\": \"white\", \"showbackground\": true, \"ticks\": \"\", \"zerolinecolor\": \"white\"}, \"zaxis\": {\"backgroundcolor\": \"#E5ECF6\", \"gridcolor\": \"white\", \"gridwidth\": 2, \"linecolor\": \"white\", \"showbackground\": true, \"ticks\": \"\", \"zerolinecolor\": \"white\"}}, \"shapedefaults\": {\"line\": {\"color\": \"#2a3f5f\"}}, \"ternary\": {\"aaxis\": {\"gridcolor\": \"white\", \"linecolor\": \"white\", \"ticks\": \"\"}, \"baxis\": {\"gridcolor\": \"white\", \"linecolor\": \"white\", \"ticks\": \"\"}, \"bgcolor\": \"#E5ECF6\", \"caxis\": {\"gridcolor\": \"white\", \"linecolor\": \"white\", \"ticks\": \"\"}}, \"title\": {\"x\": 0.05}, \"xaxis\": {\"automargin\": true, \"gridcolor\": \"white\", \"linecolor\": \"white\", \"ticks\": \"\", \"title\": {\"standoff\": 15}, \"zerolinecolor\": \"white\", \"zerolinewidth\": 2}, \"yaxis\": {\"automargin\": true, \"gridcolor\": \"white\", \"linecolor\": \"white\", \"ticks\": \"\", \"title\": {\"standoff\": 15}, \"zerolinecolor\": \"white\", \"zerolinewidth\": 2}}}},\n",
       "                        {\"responsive\": true}\n",
       "                    ).then(function(){\n",
       "                            \n",
       "var gd = document.getElementById('4190b027-bbfb-4ae5-bc3f-87aef62e44a1');\n",
       "var x = new MutationObserver(function (mutations, observer) {{\n",
       "        var display = window.getComputedStyle(gd).display;\n",
       "        if (!display || display === 'none') {{\n",
       "            console.log([gd, 'removed!']);\n",
       "            Plotly.purge(gd);\n",
       "            observer.disconnect();\n",
       "        }}\n",
       "}});\n",
       "\n",
       "// Listen for the removal of the full notebook cells\n",
       "var notebookContainer = gd.closest('#notebook-container');\n",
       "if (notebookContainer) {{\n",
       "    x.observe(notebookContainer, {childList: true});\n",
       "}}\n",
       "\n",
       "// Listen for the clearing of the current output cell\n",
       "var outputEl = gd.closest('.output');\n",
       "if (outputEl) {{\n",
       "    x.observe(outputEl, {childList: true});\n",
       "}}\n",
       "\n",
       "                        })\n",
       "                };\n",
       "                });\n",
       "            </script>\n",
       "        </div>"
      ]
     },
     "metadata": {},
     "output_type": "display_data"
    }
   ],
   "source": [
    "import plotly.graph_objects as go\n",
    "\n",
    "fig = go.Figure(go.Indicator(\n",
    "    mode = \"number+gauge+delta\",\n",
    "    title = {'text':\"<b>Triage</b><br><span style='color: gray; font-size:0.8em'>Non-Urgent %</span>\", 'font': {\"size\": 14}},\n",
    "    gauge = {\n",
    "        'shape': \"bullet\",\n",
    "        'axis': {'range': [None, 100]},\n",
    "        'bar': {'color': 'rgb(249,123,87)'},\n",
    "    },\n",
    "    value = 5,\n",
    "    delta = {'reference': 8},\n",
    "    number = {'suffix': \"%\"},\n",
    "    domain = {'x': [0.25, 1], 'y': [0, 1]},\n",
    "    ))\n",
    "fig.update_layout(height = 225)\n",
    "\n",
    "fig.show()"
   ]
  },
  {
   "cell_type": "markdown",
   "metadata": {},
   "source": [
    "### Other zones"
   ]
  },
  {
   "cell_type": "code",
   "execution_count": 19,
   "metadata": {},
   "outputs": [
    {
     "name": "stderr",
     "output_type": "stream",
     "text": [
      "/Library/Frameworks/Python.framework/Versions/3.7/lib/python3.7/site-packages/ipykernel_launcher.py:2: FutureWarning:\n",
      "\n",
      "Indexing with multiple keys (implicitly converted to a tuple of keys) will be deprecated, use a list instead.\n",
      "\n"
     ]
    },
    {
     "data": {
      "text/html": [
       "<div>\n",
       "<style scoped>\n",
       "    .dataframe tbody tr th:only-of-type {\n",
       "        vertical-align: middle;\n",
       "    }\n",
       "\n",
       "    .dataframe tbody tr th {\n",
       "        vertical-align: top;\n",
       "    }\n",
       "\n",
       "    .dataframe thead th {\n",
       "        text-align: right;\n",
       "    }\n",
       "</style>\n",
       "<table border=\"1\" class=\"dataframe\">\n",
       "  <thead>\n",
       "    <tr style=\"text-align: right;\">\n",
       "      <th></th>\n",
       "      <th></th>\n",
       "      <th></th>\n",
       "      <th>Visits</th>\n",
       "      <th>Total Visits (Across all Triage levels)</th>\n",
       "    </tr>\n",
       "    <tr>\n",
       "      <th>Geography</th>\n",
       "      <th>Year</th>\n",
       "      <th>Triage Level</th>\n",
       "      <th></th>\n",
       "      <th></th>\n",
       "    </tr>\n",
       "  </thead>\n",
       "  <tbody>\n",
       "    <tr>\n",
       "      <th rowspan=\"10\" valign=\"top\">calgary</th>\n",
       "      <th rowspan=\"2\" valign=\"top\">2015</th>\n",
       "      <th>4-Semi-Urgent</th>\n",
       "      <td>127014.0</td>\n",
       "      <td>363800.0</td>\n",
       "    </tr>\n",
       "    <tr>\n",
       "      <th>5-Non-Urgent</th>\n",
       "      <td>16192.0</td>\n",
       "      <td>363800.0</td>\n",
       "    </tr>\n",
       "    <tr>\n",
       "      <th rowspan=\"2\" valign=\"top\">2016</th>\n",
       "      <th>4-Semi-Urgent</th>\n",
       "      <td>121010.0</td>\n",
       "      <td>369322.0</td>\n",
       "    </tr>\n",
       "    <tr>\n",
       "      <th>5-Non-Urgent</th>\n",
       "      <td>16500.0</td>\n",
       "      <td>369322.0</td>\n",
       "    </tr>\n",
       "    <tr>\n",
       "      <th rowspan=\"2\" valign=\"top\">2017</th>\n",
       "      <th>4-Semi-Urgent</th>\n",
       "      <td>118748.0</td>\n",
       "      <td>368730.0</td>\n",
       "    </tr>\n",
       "    <tr>\n",
       "      <th>5-Non-Urgent</th>\n",
       "      <td>17104.0</td>\n",
       "      <td>368730.0</td>\n",
       "    </tr>\n",
       "    <tr>\n",
       "      <th rowspan=\"2\" valign=\"top\">2018</th>\n",
       "      <th>4-Semi-Urgent</th>\n",
       "      <td>113832.0</td>\n",
       "      <td>371158.0</td>\n",
       "    </tr>\n",
       "    <tr>\n",
       "      <th>5-Non-Urgent</th>\n",
       "      <td>16458.0</td>\n",
       "      <td>371158.0</td>\n",
       "    </tr>\n",
       "    <tr>\n",
       "      <th rowspan=\"2\" valign=\"top\">2019</th>\n",
       "      <th>4-Semi-Urgent</th>\n",
       "      <td>110084.0</td>\n",
       "      <td>383358.0</td>\n",
       "    </tr>\n",
       "    <tr>\n",
       "      <th>5-Non-Urgent</th>\n",
       "      <td>15886.0</td>\n",
       "      <td>383358.0</td>\n",
       "    </tr>\n",
       "    <tr>\n",
       "      <th rowspan=\"10\" valign=\"top\">central</th>\n",
       "      <th rowspan=\"2\" valign=\"top\">2015</th>\n",
       "      <th>4-Semi-Urgent</th>\n",
       "      <td>112914.0</td>\n",
       "      <td>206016.0</td>\n",
       "    </tr>\n",
       "    <tr>\n",
       "      <th>5-Non-Urgent</th>\n",
       "      <td>17292.0</td>\n",
       "      <td>206016.0</td>\n",
       "    </tr>\n",
       "    <tr>\n",
       "      <th rowspan=\"2\" valign=\"top\">2016</th>\n",
       "      <th>4-Semi-Urgent</th>\n",
       "      <td>104238.0</td>\n",
       "      <td>203940.0</td>\n",
       "    </tr>\n",
       "    <tr>\n",
       "      <th>5-Non-Urgent</th>\n",
       "      <td>15142.0</td>\n",
       "      <td>203940.0</td>\n",
       "    </tr>\n",
       "    <tr>\n",
       "      <th rowspan=\"2\" valign=\"top\">2017</th>\n",
       "      <th>4-Semi-Urgent</th>\n",
       "      <td>97576.0</td>\n",
       "      <td>203674.0</td>\n",
       "    </tr>\n",
       "    <tr>\n",
       "      <th>5-Non-Urgent</th>\n",
       "      <td>14760.0</td>\n",
       "      <td>203674.0</td>\n",
       "    </tr>\n",
       "    <tr>\n",
       "      <th rowspan=\"2\" valign=\"top\">2018</th>\n",
       "      <th>4-Semi-Urgent</th>\n",
       "      <td>96524.0</td>\n",
       "      <td>202152.0</td>\n",
       "    </tr>\n",
       "    <tr>\n",
       "      <th>5-Non-Urgent</th>\n",
       "      <td>13760.0</td>\n",
       "      <td>202152.0</td>\n",
       "    </tr>\n",
       "    <tr>\n",
       "      <th rowspan=\"2\" valign=\"top\">2019</th>\n",
       "      <th>4-Semi-Urgent</th>\n",
       "      <td>96094.0</td>\n",
       "      <td>201958.0</td>\n",
       "    </tr>\n",
       "    <tr>\n",
       "      <th>5-Non-Urgent</th>\n",
       "      <td>10982.0</td>\n",
       "      <td>201958.0</td>\n",
       "    </tr>\n",
       "    <tr>\n",
       "      <th rowspan=\"10\" valign=\"top\">edmonton</th>\n",
       "      <th rowspan=\"2\" valign=\"top\">2015</th>\n",
       "      <th>4-Semi-Urgent</th>\n",
       "      <td>89104.0</td>\n",
       "      <td>286696.0</td>\n",
       "    </tr>\n",
       "    <tr>\n",
       "      <th>5-Non-Urgent</th>\n",
       "      <td>13594.0</td>\n",
       "      <td>286696.0</td>\n",
       "    </tr>\n",
       "    <tr>\n",
       "      <th rowspan=\"2\" valign=\"top\">2016</th>\n",
       "      <th>4-Semi-Urgent</th>\n",
       "      <td>88424.0</td>\n",
       "      <td>301124.0</td>\n",
       "    </tr>\n",
       "    <tr>\n",
       "      <th>5-Non-Urgent</th>\n",
       "      <td>11172.0</td>\n",
       "      <td>301124.0</td>\n",
       "    </tr>\n",
       "    <tr>\n",
       "      <th rowspan=\"2\" valign=\"top\">2017</th>\n",
       "      <th>4-Semi-Urgent</th>\n",
       "      <td>87334.0</td>\n",
       "      <td>302268.0</td>\n",
       "    </tr>\n",
       "    <tr>\n",
       "      <th>5-Non-Urgent</th>\n",
       "      <td>9872.0</td>\n",
       "      <td>302268.0</td>\n",
       "    </tr>\n",
       "    <tr>\n",
       "      <th rowspan=\"2\" valign=\"top\">2018</th>\n",
       "      <th>4-Semi-Urgent</th>\n",
       "      <td>84038.0</td>\n",
       "      <td>307558.0</td>\n",
       "    </tr>\n",
       "    <tr>\n",
       "      <th>5-Non-Urgent</th>\n",
       "      <td>9064.0</td>\n",
       "      <td>307558.0</td>\n",
       "    </tr>\n",
       "    <tr>\n",
       "      <th rowspan=\"2\" valign=\"top\">2019</th>\n",
       "      <th>4-Semi-Urgent</th>\n",
       "      <td>77170.0</td>\n",
       "      <td>306150.0</td>\n",
       "    </tr>\n",
       "    <tr>\n",
       "      <th>5-Non-Urgent</th>\n",
       "      <td>7770.0</td>\n",
       "      <td>306150.0</td>\n",
       "    </tr>\n",
       "    <tr>\n",
       "      <th rowspan=\"10\" valign=\"top\">north</th>\n",
       "      <th rowspan=\"2\" valign=\"top\">2015</th>\n",
       "      <th>4-Semi-Urgent</th>\n",
       "      <td>163434.0</td>\n",
       "      <td>324292.0</td>\n",
       "    </tr>\n",
       "    <tr>\n",
       "      <th>5-Non-Urgent</th>\n",
       "      <td>43222.0</td>\n",
       "      <td>324292.0</td>\n",
       "    </tr>\n",
       "    <tr>\n",
       "      <th rowspan=\"2\" valign=\"top\">2016</th>\n",
       "      <th>4-Semi-Urgent</th>\n",
       "      <td>166496.0</td>\n",
       "      <td>332288.0</td>\n",
       "    </tr>\n",
       "    <tr>\n",
       "      <th>5-Non-Urgent</th>\n",
       "      <td>35490.0</td>\n",
       "      <td>332288.0</td>\n",
       "    </tr>\n",
       "    <tr>\n",
       "      <th rowspan=\"2\" valign=\"top\">2017</th>\n",
       "      <th>4-Semi-Urgent</th>\n",
       "      <td>165472.0</td>\n",
       "      <td>333342.0</td>\n",
       "    </tr>\n",
       "    <tr>\n",
       "      <th>5-Non-Urgent</th>\n",
       "      <td>32562.0</td>\n",
       "      <td>333342.0</td>\n",
       "    </tr>\n",
       "    <tr>\n",
       "      <th rowspan=\"2\" valign=\"top\">2018</th>\n",
       "      <th>4-Semi-Urgent</th>\n",
       "      <td>155016.0</td>\n",
       "      <td>322458.0</td>\n",
       "    </tr>\n",
       "    <tr>\n",
       "      <th>5-Non-Urgent</th>\n",
       "      <td>29688.0</td>\n",
       "      <td>322458.0</td>\n",
       "    </tr>\n",
       "    <tr>\n",
       "      <th rowspan=\"2\" valign=\"top\">2019</th>\n",
       "      <th>4-Semi-Urgent</th>\n",
       "      <td>147190.0</td>\n",
       "      <td>309912.0</td>\n",
       "    </tr>\n",
       "    <tr>\n",
       "      <th>5-Non-Urgent</th>\n",
       "      <td>26586.0</td>\n",
       "      <td>309912.0</td>\n",
       "    </tr>\n",
       "    <tr>\n",
       "      <th rowspan=\"10\" valign=\"top\">south</th>\n",
       "      <th rowspan=\"2\" valign=\"top\">2015</th>\n",
       "      <th>4-Semi-Urgent</th>\n",
       "      <td>47704.0</td>\n",
       "      <td>110626.0</td>\n",
       "    </tr>\n",
       "    <tr>\n",
       "      <th>5-Non-Urgent</th>\n",
       "      <td>11720.0</td>\n",
       "      <td>110626.0</td>\n",
       "    </tr>\n",
       "    <tr>\n",
       "      <th rowspan=\"2\" valign=\"top\">2016</th>\n",
       "      <th>4-Semi-Urgent</th>\n",
       "      <td>52954.0</td>\n",
       "      <td>117362.0</td>\n",
       "    </tr>\n",
       "    <tr>\n",
       "      <th>5-Non-Urgent</th>\n",
       "      <td>9660.0</td>\n",
       "      <td>117362.0</td>\n",
       "    </tr>\n",
       "    <tr>\n",
       "      <th rowspan=\"2\" valign=\"top\">2017</th>\n",
       "      <th>4-Semi-Urgent</th>\n",
       "      <td>50400.0</td>\n",
       "      <td>112652.0</td>\n",
       "    </tr>\n",
       "    <tr>\n",
       "      <th>5-Non-Urgent</th>\n",
       "      <td>8838.0</td>\n",
       "      <td>112652.0</td>\n",
       "    </tr>\n",
       "    <tr>\n",
       "      <th rowspan=\"2\" valign=\"top\">2018</th>\n",
       "      <th>4-Semi-Urgent</th>\n",
       "      <td>48072.0</td>\n",
       "      <td>109934.0</td>\n",
       "    </tr>\n",
       "    <tr>\n",
       "      <th>5-Non-Urgent</th>\n",
       "      <td>7816.0</td>\n",
       "      <td>109934.0</td>\n",
       "    </tr>\n",
       "    <tr>\n",
       "      <th rowspan=\"2\" valign=\"top\">2019</th>\n",
       "      <th>4-Semi-Urgent</th>\n",
       "      <td>49976.0</td>\n",
       "      <td>114488.0</td>\n",
       "    </tr>\n",
       "    <tr>\n",
       "      <th>5-Non-Urgent</th>\n",
       "      <td>8208.0</td>\n",
       "      <td>114488.0</td>\n",
       "    </tr>\n",
       "  </tbody>\n",
       "</table>\n",
       "</div>"
      ],
      "text/plain": [
       "                                Visits  \\\n",
       "Geography Year Triage Level              \n",
       "calgary   2015 4-Semi-Urgent  127014.0   \n",
       "               5-Non-Urgent    16192.0   \n",
       "          2016 4-Semi-Urgent  121010.0   \n",
       "               5-Non-Urgent    16500.0   \n",
       "          2017 4-Semi-Urgent  118748.0   \n",
       "               5-Non-Urgent    17104.0   \n",
       "          2018 4-Semi-Urgent  113832.0   \n",
       "               5-Non-Urgent    16458.0   \n",
       "          2019 4-Semi-Urgent  110084.0   \n",
       "               5-Non-Urgent    15886.0   \n",
       "central   2015 4-Semi-Urgent  112914.0   \n",
       "               5-Non-Urgent    17292.0   \n",
       "          2016 4-Semi-Urgent  104238.0   \n",
       "               5-Non-Urgent    15142.0   \n",
       "          2017 4-Semi-Urgent   97576.0   \n",
       "               5-Non-Urgent    14760.0   \n",
       "          2018 4-Semi-Urgent   96524.0   \n",
       "               5-Non-Urgent    13760.0   \n",
       "          2019 4-Semi-Urgent   96094.0   \n",
       "               5-Non-Urgent    10982.0   \n",
       "edmonton  2015 4-Semi-Urgent   89104.0   \n",
       "               5-Non-Urgent    13594.0   \n",
       "          2016 4-Semi-Urgent   88424.0   \n",
       "               5-Non-Urgent    11172.0   \n",
       "          2017 4-Semi-Urgent   87334.0   \n",
       "               5-Non-Urgent     9872.0   \n",
       "          2018 4-Semi-Urgent   84038.0   \n",
       "               5-Non-Urgent     9064.0   \n",
       "          2019 4-Semi-Urgent   77170.0   \n",
       "               5-Non-Urgent     7770.0   \n",
       "north     2015 4-Semi-Urgent  163434.0   \n",
       "               5-Non-Urgent    43222.0   \n",
       "          2016 4-Semi-Urgent  166496.0   \n",
       "               5-Non-Urgent    35490.0   \n",
       "          2017 4-Semi-Urgent  165472.0   \n",
       "               5-Non-Urgent    32562.0   \n",
       "          2018 4-Semi-Urgent  155016.0   \n",
       "               5-Non-Urgent    29688.0   \n",
       "          2019 4-Semi-Urgent  147190.0   \n",
       "               5-Non-Urgent    26586.0   \n",
       "south     2015 4-Semi-Urgent   47704.0   \n",
       "               5-Non-Urgent    11720.0   \n",
       "          2016 4-Semi-Urgent   52954.0   \n",
       "               5-Non-Urgent     9660.0   \n",
       "          2017 4-Semi-Urgent   50400.0   \n",
       "               5-Non-Urgent     8838.0   \n",
       "          2018 4-Semi-Urgent   48072.0   \n",
       "               5-Non-Urgent     7816.0   \n",
       "          2019 4-Semi-Urgent   49976.0   \n",
       "               5-Non-Urgent     8208.0   \n",
       "\n",
       "                              Total Visits (Across all Triage levels)  \n",
       "Geography Year Triage Level                                            \n",
       "calgary   2015 4-Semi-Urgent                                 363800.0  \n",
       "               5-Non-Urgent                                  363800.0  \n",
       "          2016 4-Semi-Urgent                                 369322.0  \n",
       "               5-Non-Urgent                                  369322.0  \n",
       "          2017 4-Semi-Urgent                                 368730.0  \n",
       "               5-Non-Urgent                                  368730.0  \n",
       "          2018 4-Semi-Urgent                                 371158.0  \n",
       "               5-Non-Urgent                                  371158.0  \n",
       "          2019 4-Semi-Urgent                                 383358.0  \n",
       "               5-Non-Urgent                                  383358.0  \n",
       "central   2015 4-Semi-Urgent                                 206016.0  \n",
       "               5-Non-Urgent                                  206016.0  \n",
       "          2016 4-Semi-Urgent                                 203940.0  \n",
       "               5-Non-Urgent                                  203940.0  \n",
       "          2017 4-Semi-Urgent                                 203674.0  \n",
       "               5-Non-Urgent                                  203674.0  \n",
       "          2018 4-Semi-Urgent                                 202152.0  \n",
       "               5-Non-Urgent                                  202152.0  \n",
       "          2019 4-Semi-Urgent                                 201958.0  \n",
       "               5-Non-Urgent                                  201958.0  \n",
       "edmonton  2015 4-Semi-Urgent                                 286696.0  \n",
       "               5-Non-Urgent                                  286696.0  \n",
       "          2016 4-Semi-Urgent                                 301124.0  \n",
       "               5-Non-Urgent                                  301124.0  \n",
       "          2017 4-Semi-Urgent                                 302268.0  \n",
       "               5-Non-Urgent                                  302268.0  \n",
       "          2018 4-Semi-Urgent                                 307558.0  \n",
       "               5-Non-Urgent                                  307558.0  \n",
       "          2019 4-Semi-Urgent                                 306150.0  \n",
       "               5-Non-Urgent                                  306150.0  \n",
       "north     2015 4-Semi-Urgent                                 324292.0  \n",
       "               5-Non-Urgent                                  324292.0  \n",
       "          2016 4-Semi-Urgent                                 332288.0  \n",
       "               5-Non-Urgent                                  332288.0  \n",
       "          2017 4-Semi-Urgent                                 333342.0  \n",
       "               5-Non-Urgent                                  333342.0  \n",
       "          2018 4-Semi-Urgent                                 322458.0  \n",
       "               5-Non-Urgent                                  322458.0  \n",
       "          2019 4-Semi-Urgent                                 309912.0  \n",
       "               5-Non-Urgent                                  309912.0  \n",
       "south     2015 4-Semi-Urgent                                 110626.0  \n",
       "               5-Non-Urgent                                  110626.0  \n",
       "          2016 4-Semi-Urgent                                 117362.0  \n",
       "               5-Non-Urgent                                  117362.0  \n",
       "          2017 4-Semi-Urgent                                 112652.0  \n",
       "               5-Non-Urgent                                  112652.0  \n",
       "          2018 4-Semi-Urgent                                 109934.0  \n",
       "               5-Non-Urgent                                  109934.0  \n",
       "          2019 4-Semi-Urgent                                 114488.0  \n",
       "               5-Non-Urgent                                  114488.0  "
      ]
     },
     "metadata": {},
     "output_type": "display_data"
    }
   ],
   "source": [
    "#Group by year and triage level\n",
    "all_year= pd.DataFrame(both.groupby(['Geography','Year', 'Triage Level'])['Visits', 'Total Visits (Across all Triage levels)'].sum())\n",
    "display(all_year)"
   ]
  },
  {
   "cell_type": "code",
   "execution_count": 20,
   "metadata": {},
   "outputs": [
    {
     "name": "stderr",
     "output_type": "stream",
     "text": [
      "/Library/Frameworks/Python.framework/Versions/3.7/lib/python3.7/site-packages/ipykernel_launcher.py:3: FutureWarning:\n",
      "\n",
      "Indexing with multiple keys (implicitly converted to a tuple of keys) will be deprecated, use a list instead.\n",
      "\n"
     ]
    },
    {
     "data": {
      "text/html": [
       "<div>\n",
       "<style scoped>\n",
       "    .dataframe tbody tr th:only-of-type {\n",
       "        vertical-align: middle;\n",
       "    }\n",
       "\n",
       "    .dataframe tbody tr th {\n",
       "        vertical-align: top;\n",
       "    }\n",
       "\n",
       "    .dataframe thead th {\n",
       "        text-align: right;\n",
       "    }\n",
       "</style>\n",
       "<table border=\"1\" class=\"dataframe\">\n",
       "  <thead>\n",
       "    <tr style=\"text-align: right;\">\n",
       "      <th></th>\n",
       "      <th></th>\n",
       "      <th>Visits</th>\n",
       "      <th>Total Visits (Across all Triage levels)</th>\n",
       "    </tr>\n",
       "    <tr>\n",
       "      <th>Geography</th>\n",
       "      <th>Triage Level</th>\n",
       "      <th></th>\n",
       "      <th></th>\n",
       "    </tr>\n",
       "  </thead>\n",
       "  <tbody>\n",
       "    <tr>\n",
       "      <th rowspan=\"2\" valign=\"top\">calgary</th>\n",
       "      <th>4-Semi-Urgent</th>\n",
       "      <td>590688.0</td>\n",
       "      <td>1856368.0</td>\n",
       "    </tr>\n",
       "    <tr>\n",
       "      <th>5-Non-Urgent</th>\n",
       "      <td>82140.0</td>\n",
       "      <td>1856368.0</td>\n",
       "    </tr>\n",
       "    <tr>\n",
       "      <th rowspan=\"2\" valign=\"top\">central</th>\n",
       "      <th>4-Semi-Urgent</th>\n",
       "      <td>507346.0</td>\n",
       "      <td>1017740.0</td>\n",
       "    </tr>\n",
       "    <tr>\n",
       "      <th>5-Non-Urgent</th>\n",
       "      <td>71936.0</td>\n",
       "      <td>1017740.0</td>\n",
       "    </tr>\n",
       "    <tr>\n",
       "      <th rowspan=\"2\" valign=\"top\">edmonton</th>\n",
       "      <th>4-Semi-Urgent</th>\n",
       "      <td>426070.0</td>\n",
       "      <td>1503796.0</td>\n",
       "    </tr>\n",
       "    <tr>\n",
       "      <th>5-Non-Urgent</th>\n",
       "      <td>51472.0</td>\n",
       "      <td>1503796.0</td>\n",
       "    </tr>\n",
       "    <tr>\n",
       "      <th rowspan=\"2\" valign=\"top\">north</th>\n",
       "      <th>4-Semi-Urgent</th>\n",
       "      <td>797608.0</td>\n",
       "      <td>1622292.0</td>\n",
       "    </tr>\n",
       "    <tr>\n",
       "      <th>5-Non-Urgent</th>\n",
       "      <td>167548.0</td>\n",
       "      <td>1622292.0</td>\n",
       "    </tr>\n",
       "    <tr>\n",
       "      <th rowspan=\"2\" valign=\"top\">south</th>\n",
       "      <th>4-Semi-Urgent</th>\n",
       "      <td>249106.0</td>\n",
       "      <td>565062.0</td>\n",
       "    </tr>\n",
       "    <tr>\n",
       "      <th>5-Non-Urgent</th>\n",
       "      <td>46242.0</td>\n",
       "      <td>565062.0</td>\n",
       "    </tr>\n",
       "  </tbody>\n",
       "</table>\n",
       "</div>"
      ],
      "text/plain": [
       "                           Visits  Total Visits (Across all Triage levels)\n",
       "Geography Triage Level                                                    \n",
       "calgary   4-Semi-Urgent  590688.0                                1856368.0\n",
       "          5-Non-Urgent    82140.0                                1856368.0\n",
       "central   4-Semi-Urgent  507346.0                                1017740.0\n",
       "          5-Non-Urgent    71936.0                                1017740.0\n",
       "edmonton  4-Semi-Urgent  426070.0                                1503796.0\n",
       "          5-Non-Urgent    51472.0                                1503796.0\n",
       "north     4-Semi-Urgent  797608.0                                1622292.0\n",
       "          5-Non-Urgent   167548.0                                1622292.0\n",
       "south     4-Semi-Urgent  249106.0                                 565062.0\n",
       "          5-Non-Urgent    46242.0                                 565062.0"
      ]
     },
     "metadata": {},
     "output_type": "display_data"
    }
   ],
   "source": [
    "#Group by region only\n",
    "\n",
    "by_region= pd.DataFrame(both.groupby(['Geography', 'Triage Level'])['Visits', 'Total Visits (Across all Triage levels)'].sum())\n",
    "display(by_region)\n"
   ]
  },
  {
   "cell_type": "code",
   "execution_count": 21,
   "metadata": {},
   "outputs": [
    {
     "data": {
      "text/html": [
       "<div>\n",
       "<style scoped>\n",
       "    .dataframe tbody tr th:only-of-type {\n",
       "        vertical-align: middle;\n",
       "    }\n",
       "\n",
       "    .dataframe tbody tr th {\n",
       "        vertical-align: top;\n",
       "    }\n",
       "\n",
       "    .dataframe thead th {\n",
       "        text-align: right;\n",
       "    }\n",
       "</style>\n",
       "<table border=\"1\" class=\"dataframe\">\n",
       "  <thead>\n",
       "    <tr style=\"text-align: right;\">\n",
       "      <th></th>\n",
       "      <th>Geography</th>\n",
       "      <th>Triage Level</th>\n",
       "      <th>Visits</th>\n",
       "      <th>Total Visits (Across all Triage levels)</th>\n",
       "    </tr>\n",
       "  </thead>\n",
       "  <tbody>\n",
       "    <tr>\n",
       "      <th>0</th>\n",
       "      <td>calgary</td>\n",
       "      <td>4-Semi-Urgent</td>\n",
       "      <td>590688.0</td>\n",
       "      <td>1856368.0</td>\n",
       "    </tr>\n",
       "    <tr>\n",
       "      <th>1</th>\n",
       "      <td>calgary</td>\n",
       "      <td>5-Non-Urgent</td>\n",
       "      <td>82140.0</td>\n",
       "      <td>1856368.0</td>\n",
       "    </tr>\n",
       "    <tr>\n",
       "      <th>2</th>\n",
       "      <td>central</td>\n",
       "      <td>4-Semi-Urgent</td>\n",
       "      <td>507346.0</td>\n",
       "      <td>1017740.0</td>\n",
       "    </tr>\n",
       "    <tr>\n",
       "      <th>3</th>\n",
       "      <td>central</td>\n",
       "      <td>5-Non-Urgent</td>\n",
       "      <td>71936.0</td>\n",
       "      <td>1017740.0</td>\n",
       "    </tr>\n",
       "    <tr>\n",
       "      <th>4</th>\n",
       "      <td>edmonton</td>\n",
       "      <td>4-Semi-Urgent</td>\n",
       "      <td>426070.0</td>\n",
       "      <td>1503796.0</td>\n",
       "    </tr>\n",
       "    <tr>\n",
       "      <th>5</th>\n",
       "      <td>edmonton</td>\n",
       "      <td>5-Non-Urgent</td>\n",
       "      <td>51472.0</td>\n",
       "      <td>1503796.0</td>\n",
       "    </tr>\n",
       "    <tr>\n",
       "      <th>6</th>\n",
       "      <td>north</td>\n",
       "      <td>4-Semi-Urgent</td>\n",
       "      <td>797608.0</td>\n",
       "      <td>1622292.0</td>\n",
       "    </tr>\n",
       "    <tr>\n",
       "      <th>7</th>\n",
       "      <td>north</td>\n",
       "      <td>5-Non-Urgent</td>\n",
       "      <td>167548.0</td>\n",
       "      <td>1622292.0</td>\n",
       "    </tr>\n",
       "    <tr>\n",
       "      <th>8</th>\n",
       "      <td>south</td>\n",
       "      <td>4-Semi-Urgent</td>\n",
       "      <td>249106.0</td>\n",
       "      <td>565062.0</td>\n",
       "    </tr>\n",
       "    <tr>\n",
       "      <th>9</th>\n",
       "      <td>south</td>\n",
       "      <td>5-Non-Urgent</td>\n",
       "      <td>46242.0</td>\n",
       "      <td>565062.0</td>\n",
       "    </tr>\n",
       "  </tbody>\n",
       "</table>\n",
       "</div>"
      ],
      "text/plain": [
       "  Geography   Triage Level    Visits  Total Visits (Across all Triage levels)\n",
       "0   calgary  4-Semi-Urgent  590688.0                                1856368.0\n",
       "1   calgary   5-Non-Urgent   82140.0                                1856368.0\n",
       "2   central  4-Semi-Urgent  507346.0                                1017740.0\n",
       "3   central   5-Non-Urgent   71936.0                                1017740.0\n",
       "4  edmonton  4-Semi-Urgent  426070.0                                1503796.0\n",
       "5  edmonton   5-Non-Urgent   51472.0                                1503796.0\n",
       "6     north  4-Semi-Urgent  797608.0                                1622292.0\n",
       "7     north   5-Non-Urgent  167548.0                                1622292.0\n",
       "8     south  4-Semi-Urgent  249106.0                                 565062.0\n",
       "9     south   5-Non-Urgent   46242.0                                 565062.0"
      ]
     },
     "execution_count": 21,
     "metadata": {},
     "output_type": "execute_result"
    }
   ],
   "source": [
    "reset_regions = by_region.reset_index()\n",
    "reset_regions"
   ]
  },
  {
   "cell_type": "code",
   "execution_count": 22,
   "metadata": {},
   "outputs": [
    {
     "data": {
      "text/html": [
       "<div>\n",
       "<style scoped>\n",
       "    .dataframe tbody tr th:only-of-type {\n",
       "        vertical-align: middle;\n",
       "    }\n",
       "\n",
       "    .dataframe tbody tr th {\n",
       "        vertical-align: top;\n",
       "    }\n",
       "\n",
       "    .dataframe thead th {\n",
       "        text-align: right;\n",
       "    }\n",
       "</style>\n",
       "<table border=\"1\" class=\"dataframe\">\n",
       "  <thead>\n",
       "    <tr style=\"text-align: right;\">\n",
       "      <th></th>\n",
       "      <th>Geography</th>\n",
       "      <th>Triage Level</th>\n",
       "      <th>Visits</th>\n",
       "      <th>Total Visits (Across all Triage levels)</th>\n",
       "    </tr>\n",
       "  </thead>\n",
       "  <tbody>\n",
       "    <tr>\n",
       "      <th>0</th>\n",
       "      <td>calgary</td>\n",
       "      <td>4-Semi-Urgent</td>\n",
       "      <td>590688.0</td>\n",
       "      <td>1856368.0</td>\n",
       "    </tr>\n",
       "    <tr>\n",
       "      <th>2</th>\n",
       "      <td>central</td>\n",
       "      <td>4-Semi-Urgent</td>\n",
       "      <td>507346.0</td>\n",
       "      <td>1017740.0</td>\n",
       "    </tr>\n",
       "    <tr>\n",
       "      <th>4</th>\n",
       "      <td>edmonton</td>\n",
       "      <td>4-Semi-Urgent</td>\n",
       "      <td>426070.0</td>\n",
       "      <td>1503796.0</td>\n",
       "    </tr>\n",
       "    <tr>\n",
       "      <th>6</th>\n",
       "      <td>north</td>\n",
       "      <td>4-Semi-Urgent</td>\n",
       "      <td>797608.0</td>\n",
       "      <td>1622292.0</td>\n",
       "    </tr>\n",
       "    <tr>\n",
       "      <th>8</th>\n",
       "      <td>south</td>\n",
       "      <td>4-Semi-Urgent</td>\n",
       "      <td>249106.0</td>\n",
       "      <td>565062.0</td>\n",
       "    </tr>\n",
       "  </tbody>\n",
       "</table>\n",
       "</div>"
      ],
      "text/plain": [
       "  Geography   Triage Level    Visits  Total Visits (Across all Triage levels)\n",
       "0   calgary  4-Semi-Urgent  590688.0                                1856368.0\n",
       "2   central  4-Semi-Urgent  507346.0                                1017740.0\n",
       "4  edmonton  4-Semi-Urgent  426070.0                                1503796.0\n",
       "6     north  4-Semi-Urgent  797608.0                                1622292.0\n",
       "8     south  4-Semi-Urgent  249106.0                                 565062.0"
      ]
     },
     "execution_count": 22,
     "metadata": {},
     "output_type": "execute_result"
    }
   ],
   "source": [
    "total_t4 = pd.DataFrame(reset_regions[reset_regions['Triage Level']=='4-Semi-Urgent'])\n",
    "total_t4"
   ]
  },
  {
   "cell_type": "code",
   "execution_count": 23,
   "metadata": {},
   "outputs": [
    {
     "data": {
      "text/plain": [
       "2570818.0"
      ]
     },
     "execution_count": 23,
     "metadata": {},
     "output_type": "execute_result"
    }
   ],
   "source": [
    "total_visits_t4 = total_t4['Visits'].sum()\n",
    "total_visits_t4"
   ]
  },
  {
   "cell_type": "code",
   "execution_count": 24,
   "metadata": {},
   "outputs": [
    {
     "data": {
      "text/html": [
       "<div>\n",
       "<style scoped>\n",
       "    .dataframe tbody tr th:only-of-type {\n",
       "        vertical-align: middle;\n",
       "    }\n",
       "\n",
       "    .dataframe tbody tr th {\n",
       "        vertical-align: top;\n",
       "    }\n",
       "\n",
       "    .dataframe thead th {\n",
       "        text-align: right;\n",
       "    }\n",
       "</style>\n",
       "<table border=\"1\" class=\"dataframe\">\n",
       "  <thead>\n",
       "    <tr style=\"text-align: right;\">\n",
       "      <th></th>\n",
       "      <th>Geography</th>\n",
       "      <th>Triage Level</th>\n",
       "      <th>Visits</th>\n",
       "      <th>Total Visits (Across all Triage levels)</th>\n",
       "    </tr>\n",
       "  </thead>\n",
       "  <tbody>\n",
       "    <tr>\n",
       "      <th>1</th>\n",
       "      <td>calgary</td>\n",
       "      <td>5-Non-Urgent</td>\n",
       "      <td>82140.0</td>\n",
       "      <td>1856368.0</td>\n",
       "    </tr>\n",
       "    <tr>\n",
       "      <th>3</th>\n",
       "      <td>central</td>\n",
       "      <td>5-Non-Urgent</td>\n",
       "      <td>71936.0</td>\n",
       "      <td>1017740.0</td>\n",
       "    </tr>\n",
       "    <tr>\n",
       "      <th>5</th>\n",
       "      <td>edmonton</td>\n",
       "      <td>5-Non-Urgent</td>\n",
       "      <td>51472.0</td>\n",
       "      <td>1503796.0</td>\n",
       "    </tr>\n",
       "    <tr>\n",
       "      <th>7</th>\n",
       "      <td>north</td>\n",
       "      <td>5-Non-Urgent</td>\n",
       "      <td>167548.0</td>\n",
       "      <td>1622292.0</td>\n",
       "    </tr>\n",
       "    <tr>\n",
       "      <th>9</th>\n",
       "      <td>south</td>\n",
       "      <td>5-Non-Urgent</td>\n",
       "      <td>46242.0</td>\n",
       "      <td>565062.0</td>\n",
       "    </tr>\n",
       "  </tbody>\n",
       "</table>\n",
       "</div>"
      ],
      "text/plain": [
       "  Geography  Triage Level    Visits  Total Visits (Across all Triage levels)\n",
       "1   calgary  5-Non-Urgent   82140.0                                1856368.0\n",
       "3   central  5-Non-Urgent   71936.0                                1017740.0\n",
       "5  edmonton  5-Non-Urgent   51472.0                                1503796.0\n",
       "7     north  5-Non-Urgent  167548.0                                1622292.0\n",
       "9     south  5-Non-Urgent   46242.0                                 565062.0"
      ]
     },
     "execution_count": 24,
     "metadata": {},
     "output_type": "execute_result"
    }
   ],
   "source": [
    "total_t5 = pd.DataFrame(reset_regions[reset_regions['Triage Level']=='5-Non-Urgent'])\n",
    "total_t5"
   ]
  },
  {
   "cell_type": "code",
   "execution_count": 25,
   "metadata": {},
   "outputs": [
    {
     "data": {
      "text/plain": [
       "419338.0"
      ]
     },
     "execution_count": 25,
     "metadata": {},
     "output_type": "execute_result"
    }
   ],
   "source": [
    "total_visits_t5 = total_t5['Visits'].sum()\n",
    "total_visits_t5"
   ]
  },
  {
   "cell_type": "code",
   "execution_count": 26,
   "metadata": {},
   "outputs": [
    {
     "data": {
      "text/html": [
       "<div>\n",
       "<style scoped>\n",
       "    .dataframe tbody tr th:only-of-type {\n",
       "        vertical-align: middle;\n",
       "    }\n",
       "\n",
       "    .dataframe tbody tr th {\n",
       "        vertical-align: top;\n",
       "    }\n",
       "\n",
       "    .dataframe thead th {\n",
       "        text-align: right;\n",
       "    }\n",
       "</style>\n",
       "<table border=\"1\" class=\"dataframe\">\n",
       "  <thead>\n",
       "    <tr style=\"text-align: right;\">\n",
       "      <th></th>\n",
       "      <th>Geography</th>\n",
       "      <th>Triage Level</th>\n",
       "      <th>Visits</th>\n",
       "      <th>Total Visits (Across all Triage levels)</th>\n",
       "      <th>proportion</th>\n",
       "    </tr>\n",
       "  </thead>\n",
       "  <tbody>\n",
       "    <tr>\n",
       "      <th>0</th>\n",
       "      <td>calgary</td>\n",
       "      <td>4-Semi-Urgent</td>\n",
       "      <td>590688.0</td>\n",
       "      <td>1856368.0</td>\n",
       "      <td>0.229767</td>\n",
       "    </tr>\n",
       "    <tr>\n",
       "      <th>2</th>\n",
       "      <td>central</td>\n",
       "      <td>4-Semi-Urgent</td>\n",
       "      <td>507346.0</td>\n",
       "      <td>1017740.0</td>\n",
       "      <td>0.197348</td>\n",
       "    </tr>\n",
       "    <tr>\n",
       "      <th>4</th>\n",
       "      <td>edmonton</td>\n",
       "      <td>4-Semi-Urgent</td>\n",
       "      <td>426070.0</td>\n",
       "      <td>1503796.0</td>\n",
       "      <td>0.165733</td>\n",
       "    </tr>\n",
       "    <tr>\n",
       "      <th>6</th>\n",
       "      <td>north</td>\n",
       "      <td>4-Semi-Urgent</td>\n",
       "      <td>797608.0</td>\n",
       "      <td>1622292.0</td>\n",
       "      <td>0.310255</td>\n",
       "    </tr>\n",
       "    <tr>\n",
       "      <th>8</th>\n",
       "      <td>south</td>\n",
       "      <td>4-Semi-Urgent</td>\n",
       "      <td>249106.0</td>\n",
       "      <td>565062.0</td>\n",
       "      <td>0.096898</td>\n",
       "    </tr>\n",
       "  </tbody>\n",
       "</table>\n",
       "</div>"
      ],
      "text/plain": [
       "  Geography   Triage Level    Visits  Total Visits (Across all Triage levels)  \\\n",
       "0   calgary  4-Semi-Urgent  590688.0                                1856368.0   \n",
       "2   central  4-Semi-Urgent  507346.0                                1017740.0   \n",
       "4  edmonton  4-Semi-Urgent  426070.0                                1503796.0   \n",
       "6     north  4-Semi-Urgent  797608.0                                1622292.0   \n",
       "8     south  4-Semi-Urgent  249106.0                                 565062.0   \n",
       "\n",
       "   proportion  \n",
       "0    0.229767  \n",
       "2    0.197348  \n",
       "4    0.165733  \n",
       "6    0.310255  \n",
       "8    0.096898  "
      ]
     },
     "execution_count": 26,
     "metadata": {},
     "output_type": "execute_result"
    }
   ],
   "source": [
    "total_t4['proportion'] = total_t4['Visits']/2570818\n",
    "total_t4"
   ]
  },
  {
   "cell_type": "code",
   "execution_count": 27,
   "metadata": {},
   "outputs": [
    {
     "data": {
      "text/html": [
       "<div>\n",
       "<style scoped>\n",
       "    .dataframe tbody tr th:only-of-type {\n",
       "        vertical-align: middle;\n",
       "    }\n",
       "\n",
       "    .dataframe tbody tr th {\n",
       "        vertical-align: top;\n",
       "    }\n",
       "\n",
       "    .dataframe thead th {\n",
       "        text-align: right;\n",
       "    }\n",
       "</style>\n",
       "<table border=\"1\" class=\"dataframe\">\n",
       "  <thead>\n",
       "    <tr style=\"text-align: right;\">\n",
       "      <th></th>\n",
       "      <th>Geography</th>\n",
       "      <th>Triage Level</th>\n",
       "      <th>Visits</th>\n",
       "      <th>Total Visits (Across all Triage levels)</th>\n",
       "      <th>proportion</th>\n",
       "      <th>percentage</th>\n",
       "    </tr>\n",
       "  </thead>\n",
       "  <tbody>\n",
       "    <tr>\n",
       "      <th>0</th>\n",
       "      <td>calgary</td>\n",
       "      <td>4-Semi-Urgent</td>\n",
       "      <td>590688.0</td>\n",
       "      <td>1856368.0</td>\n",
       "      <td>0.229767</td>\n",
       "      <td>22.976656</td>\n",
       "    </tr>\n",
       "    <tr>\n",
       "      <th>2</th>\n",
       "      <td>central</td>\n",
       "      <td>4-Semi-Urgent</td>\n",
       "      <td>507346.0</td>\n",
       "      <td>1017740.0</td>\n",
       "      <td>0.197348</td>\n",
       "      <td>19.734808</td>\n",
       "    </tr>\n",
       "    <tr>\n",
       "      <th>4</th>\n",
       "      <td>edmonton</td>\n",
       "      <td>4-Semi-Urgent</td>\n",
       "      <td>426070.0</td>\n",
       "      <td>1503796.0</td>\n",
       "      <td>0.165733</td>\n",
       "      <td>16.573324</td>\n",
       "    </tr>\n",
       "    <tr>\n",
       "      <th>6</th>\n",
       "      <td>north</td>\n",
       "      <td>4-Semi-Urgent</td>\n",
       "      <td>797608.0</td>\n",
       "      <td>1622292.0</td>\n",
       "      <td>0.310255</td>\n",
       "      <td>31.025456</td>\n",
       "    </tr>\n",
       "    <tr>\n",
       "      <th>8</th>\n",
       "      <td>south</td>\n",
       "      <td>4-Semi-Urgent</td>\n",
       "      <td>249106.0</td>\n",
       "      <td>565062.0</td>\n",
       "      <td>0.096898</td>\n",
       "      <td>9.689756</td>\n",
       "    </tr>\n",
       "  </tbody>\n",
       "</table>\n",
       "</div>"
      ],
      "text/plain": [
       "  Geography   Triage Level    Visits  Total Visits (Across all Triage levels)  \\\n",
       "0   calgary  4-Semi-Urgent  590688.0                                1856368.0   \n",
       "2   central  4-Semi-Urgent  507346.0                                1017740.0   \n",
       "4  edmonton  4-Semi-Urgent  426070.0                                1503796.0   \n",
       "6     north  4-Semi-Urgent  797608.0                                1622292.0   \n",
       "8     south  4-Semi-Urgent  249106.0                                 565062.0   \n",
       "\n",
       "   proportion  percentage  \n",
       "0    0.229767   22.976656  \n",
       "2    0.197348   19.734808  \n",
       "4    0.165733   16.573324  \n",
       "6    0.310255   31.025456  \n",
       "8    0.096898    9.689756  "
      ]
     },
     "execution_count": 27,
     "metadata": {},
     "output_type": "execute_result"
    }
   ],
   "source": [
    "total_t4['percentage'] = total_t4['proportion']*100\n",
    "total_t4"
   ]
  },
  {
   "cell_type": "code",
   "execution_count": 28,
   "metadata": {},
   "outputs": [
    {
     "data": {
      "text/html": [
       "<div>\n",
       "<style scoped>\n",
       "    .dataframe tbody tr th:only-of-type {\n",
       "        vertical-align: middle;\n",
       "    }\n",
       "\n",
       "    .dataframe tbody tr th {\n",
       "        vertical-align: top;\n",
       "    }\n",
       "\n",
       "    .dataframe thead th {\n",
       "        text-align: right;\n",
       "    }\n",
       "</style>\n",
       "<table border=\"1\" class=\"dataframe\">\n",
       "  <thead>\n",
       "    <tr style=\"text-align: right;\">\n",
       "      <th></th>\n",
       "      <th>Geography</th>\n",
       "      <th>Triage Level</th>\n",
       "      <th>Visits</th>\n",
       "      <th>Total Visits (Across all Triage levels)</th>\n",
       "      <th>proportion</th>\n",
       "    </tr>\n",
       "  </thead>\n",
       "  <tbody>\n",
       "    <tr>\n",
       "      <th>1</th>\n",
       "      <td>calgary</td>\n",
       "      <td>5-Non-Urgent</td>\n",
       "      <td>82140.0</td>\n",
       "      <td>1856368.0</td>\n",
       "      <td>0.195880</td>\n",
       "    </tr>\n",
       "    <tr>\n",
       "      <th>3</th>\n",
       "      <td>central</td>\n",
       "      <td>5-Non-Urgent</td>\n",
       "      <td>71936.0</td>\n",
       "      <td>1017740.0</td>\n",
       "      <td>0.171547</td>\n",
       "    </tr>\n",
       "    <tr>\n",
       "      <th>5</th>\n",
       "      <td>edmonton</td>\n",
       "      <td>5-Non-Urgent</td>\n",
       "      <td>51472.0</td>\n",
       "      <td>1503796.0</td>\n",
       "      <td>0.122746</td>\n",
       "    </tr>\n",
       "    <tr>\n",
       "      <th>7</th>\n",
       "      <td>north</td>\n",
       "      <td>5-Non-Urgent</td>\n",
       "      <td>167548.0</td>\n",
       "      <td>1622292.0</td>\n",
       "      <td>0.399554</td>\n",
       "    </tr>\n",
       "    <tr>\n",
       "      <th>9</th>\n",
       "      <td>south</td>\n",
       "      <td>5-Non-Urgent</td>\n",
       "      <td>46242.0</td>\n",
       "      <td>565062.0</td>\n",
       "      <td>0.110274</td>\n",
       "    </tr>\n",
       "  </tbody>\n",
       "</table>\n",
       "</div>"
      ],
      "text/plain": [
       "  Geography  Triage Level    Visits  Total Visits (Across all Triage levels)  \\\n",
       "1   calgary  5-Non-Urgent   82140.0                                1856368.0   \n",
       "3   central  5-Non-Urgent   71936.0                                1017740.0   \n",
       "5  edmonton  5-Non-Urgent   51472.0                                1503796.0   \n",
       "7     north  5-Non-Urgent  167548.0                                1622292.0   \n",
       "9     south  5-Non-Urgent   46242.0                                 565062.0   \n",
       "\n",
       "   proportion  \n",
       "1    0.195880  \n",
       "3    0.171547  \n",
       "5    0.122746  \n",
       "7    0.399554  \n",
       "9    0.110274  "
      ]
     },
     "execution_count": 28,
     "metadata": {},
     "output_type": "execute_result"
    }
   ],
   "source": [
    "total_t5['proportion'] = total_t5['Visits']/419338\n",
    "total_t5"
   ]
  },
  {
   "cell_type": "code",
   "execution_count": 29,
   "metadata": {},
   "outputs": [
    {
     "data": {
      "text/html": [
       "<div>\n",
       "<style scoped>\n",
       "    .dataframe tbody tr th:only-of-type {\n",
       "        vertical-align: middle;\n",
       "    }\n",
       "\n",
       "    .dataframe tbody tr th {\n",
       "        vertical-align: top;\n",
       "    }\n",
       "\n",
       "    .dataframe thead th {\n",
       "        text-align: right;\n",
       "    }\n",
       "</style>\n",
       "<table border=\"1\" class=\"dataframe\">\n",
       "  <thead>\n",
       "    <tr style=\"text-align: right;\">\n",
       "      <th></th>\n",
       "      <th>Geography</th>\n",
       "      <th>Triage Level</th>\n",
       "      <th>Visits</th>\n",
       "      <th>Total Visits (Across all Triage levels)</th>\n",
       "      <th>proportion</th>\n",
       "      <th>percentage</th>\n",
       "    </tr>\n",
       "  </thead>\n",
       "  <tbody>\n",
       "    <tr>\n",
       "      <th>1</th>\n",
       "      <td>calgary</td>\n",
       "      <td>5-Non-Urgent</td>\n",
       "      <td>82140.0</td>\n",
       "      <td>1856368.0</td>\n",
       "      <td>0.195880</td>\n",
       "      <td>19.588017</td>\n",
       "    </tr>\n",
       "    <tr>\n",
       "      <th>3</th>\n",
       "      <td>central</td>\n",
       "      <td>5-Non-Urgent</td>\n",
       "      <td>71936.0</td>\n",
       "      <td>1017740.0</td>\n",
       "      <td>0.171547</td>\n",
       "      <td>17.154658</td>\n",
       "    </tr>\n",
       "    <tr>\n",
       "      <th>5</th>\n",
       "      <td>edmonton</td>\n",
       "      <td>5-Non-Urgent</td>\n",
       "      <td>51472.0</td>\n",
       "      <td>1503796.0</td>\n",
       "      <td>0.122746</td>\n",
       "      <td>12.274585</td>\n",
       "    </tr>\n",
       "    <tr>\n",
       "      <th>7</th>\n",
       "      <td>north</td>\n",
       "      <td>5-Non-Urgent</td>\n",
       "      <td>167548.0</td>\n",
       "      <td>1622292.0</td>\n",
       "      <td>0.399554</td>\n",
       "      <td>39.955358</td>\n",
       "    </tr>\n",
       "    <tr>\n",
       "      <th>9</th>\n",
       "      <td>south</td>\n",
       "      <td>5-Non-Urgent</td>\n",
       "      <td>46242.0</td>\n",
       "      <td>565062.0</td>\n",
       "      <td>0.110274</td>\n",
       "      <td>11.027381</td>\n",
       "    </tr>\n",
       "  </tbody>\n",
       "</table>\n",
       "</div>"
      ],
      "text/plain": [
       "  Geography  Triage Level    Visits  Total Visits (Across all Triage levels)  \\\n",
       "1   calgary  5-Non-Urgent   82140.0                                1856368.0   \n",
       "3   central  5-Non-Urgent   71936.0                                1017740.0   \n",
       "5  edmonton  5-Non-Urgent   51472.0                                1503796.0   \n",
       "7     north  5-Non-Urgent  167548.0                                1622292.0   \n",
       "9     south  5-Non-Urgent   46242.0                                 565062.0   \n",
       "\n",
       "   proportion  percentage  \n",
       "1    0.195880   19.588017  \n",
       "3    0.171547   17.154658  \n",
       "5    0.122746   12.274585  \n",
       "7    0.399554   39.955358  \n",
       "9    0.110274   11.027381  "
      ]
     },
     "execution_count": 29,
     "metadata": {},
     "output_type": "execute_result"
    }
   ],
   "source": [
    "total_t5['percentage'] = total_t5['proportion']*100\n",
    "total_t5"
   ]
  },
  {
   "cell_type": "code",
   "execution_count": 179,
   "metadata": {},
   "outputs": [
    {
     "data": {
      "application/vnd.plotly.v1+json": {
       "config": {
        "plotlyServerURL": "https://plot.ly"
       },
       "data": [
        {
         "hole": 0.3,
         "labels": [
          "Calgary",
          "Central",
          "Edmonton",
          "North",
          "South"
         ],
         "marker": {
          "colors": [
           "rgb(249,123,87)",
           "rgb(5, 255, 255)",
           "rgb(0,0,200)",
           "rgb(253,187,132)",
           "rgb(0,152,255)"
          ]
         },
         "title": {
          "text": "Semi-Urgent"
         },
         "type": "pie",
         "values": [
          22.9766561,
          19.734808,
          16.573324,
          31.025456,
          9.689756
         ]
        }
       ],
       "layout": {
        "template": {
         "data": {
          "bar": [
           {
            "error_x": {
             "color": "#2a3f5f"
            },
            "error_y": {
             "color": "#2a3f5f"
            },
            "marker": {
             "line": {
              "color": "#E5ECF6",
              "width": 0.5
             }
            },
            "type": "bar"
           }
          ],
          "barpolar": [
           {
            "marker": {
             "line": {
              "color": "#E5ECF6",
              "width": 0.5
             }
            },
            "type": "barpolar"
           }
          ],
          "carpet": [
           {
            "aaxis": {
             "endlinecolor": "#2a3f5f",
             "gridcolor": "white",
             "linecolor": "white",
             "minorgridcolor": "white",
             "startlinecolor": "#2a3f5f"
            },
            "baxis": {
             "endlinecolor": "#2a3f5f",
             "gridcolor": "white",
             "linecolor": "white",
             "minorgridcolor": "white",
             "startlinecolor": "#2a3f5f"
            },
            "type": "carpet"
           }
          ],
          "choropleth": [
           {
            "colorbar": {
             "outlinewidth": 0,
             "ticks": ""
            },
            "type": "choropleth"
           }
          ],
          "contour": [
           {
            "colorbar": {
             "outlinewidth": 0,
             "ticks": ""
            },
            "colorscale": [
             [
              0,
              "#0d0887"
             ],
             [
              0.1111111111111111,
              "#46039f"
             ],
             [
              0.2222222222222222,
              "#7201a8"
             ],
             [
              0.3333333333333333,
              "#9c179e"
             ],
             [
              0.4444444444444444,
              "#bd3786"
             ],
             [
              0.5555555555555556,
              "#d8576b"
             ],
             [
              0.6666666666666666,
              "#ed7953"
             ],
             [
              0.7777777777777778,
              "#fb9f3a"
             ],
             [
              0.8888888888888888,
              "#fdca26"
             ],
             [
              1,
              "#f0f921"
             ]
            ],
            "type": "contour"
           }
          ],
          "contourcarpet": [
           {
            "colorbar": {
             "outlinewidth": 0,
             "ticks": ""
            },
            "type": "contourcarpet"
           }
          ],
          "heatmap": [
           {
            "colorbar": {
             "outlinewidth": 0,
             "ticks": ""
            },
            "colorscale": [
             [
              0,
              "#0d0887"
             ],
             [
              0.1111111111111111,
              "#46039f"
             ],
             [
              0.2222222222222222,
              "#7201a8"
             ],
             [
              0.3333333333333333,
              "#9c179e"
             ],
             [
              0.4444444444444444,
              "#bd3786"
             ],
             [
              0.5555555555555556,
              "#d8576b"
             ],
             [
              0.6666666666666666,
              "#ed7953"
             ],
             [
              0.7777777777777778,
              "#fb9f3a"
             ],
             [
              0.8888888888888888,
              "#fdca26"
             ],
             [
              1,
              "#f0f921"
             ]
            ],
            "type": "heatmap"
           }
          ],
          "heatmapgl": [
           {
            "colorbar": {
             "outlinewidth": 0,
             "ticks": ""
            },
            "colorscale": [
             [
              0,
              "#0d0887"
             ],
             [
              0.1111111111111111,
              "#46039f"
             ],
             [
              0.2222222222222222,
              "#7201a8"
             ],
             [
              0.3333333333333333,
              "#9c179e"
             ],
             [
              0.4444444444444444,
              "#bd3786"
             ],
             [
              0.5555555555555556,
              "#d8576b"
             ],
             [
              0.6666666666666666,
              "#ed7953"
             ],
             [
              0.7777777777777778,
              "#fb9f3a"
             ],
             [
              0.8888888888888888,
              "#fdca26"
             ],
             [
              1,
              "#f0f921"
             ]
            ],
            "type": "heatmapgl"
           }
          ],
          "histogram": [
           {
            "marker": {
             "colorbar": {
              "outlinewidth": 0,
              "ticks": ""
             }
            },
            "type": "histogram"
           }
          ],
          "histogram2d": [
           {
            "colorbar": {
             "outlinewidth": 0,
             "ticks": ""
            },
            "colorscale": [
             [
              0,
              "#0d0887"
             ],
             [
              0.1111111111111111,
              "#46039f"
             ],
             [
              0.2222222222222222,
              "#7201a8"
             ],
             [
              0.3333333333333333,
              "#9c179e"
             ],
             [
              0.4444444444444444,
              "#bd3786"
             ],
             [
              0.5555555555555556,
              "#d8576b"
             ],
             [
              0.6666666666666666,
              "#ed7953"
             ],
             [
              0.7777777777777778,
              "#fb9f3a"
             ],
             [
              0.8888888888888888,
              "#fdca26"
             ],
             [
              1,
              "#f0f921"
             ]
            ],
            "type": "histogram2d"
           }
          ],
          "histogram2dcontour": [
           {
            "colorbar": {
             "outlinewidth": 0,
             "ticks": ""
            },
            "colorscale": [
             [
              0,
              "#0d0887"
             ],
             [
              0.1111111111111111,
              "#46039f"
             ],
             [
              0.2222222222222222,
              "#7201a8"
             ],
             [
              0.3333333333333333,
              "#9c179e"
             ],
             [
              0.4444444444444444,
              "#bd3786"
             ],
             [
              0.5555555555555556,
              "#d8576b"
             ],
             [
              0.6666666666666666,
              "#ed7953"
             ],
             [
              0.7777777777777778,
              "#fb9f3a"
             ],
             [
              0.8888888888888888,
              "#fdca26"
             ],
             [
              1,
              "#f0f921"
             ]
            ],
            "type": "histogram2dcontour"
           }
          ],
          "mesh3d": [
           {
            "colorbar": {
             "outlinewidth": 0,
             "ticks": ""
            },
            "type": "mesh3d"
           }
          ],
          "parcoords": [
           {
            "line": {
             "colorbar": {
              "outlinewidth": 0,
              "ticks": ""
             }
            },
            "type": "parcoords"
           }
          ],
          "pie": [
           {
            "automargin": true,
            "type": "pie"
           }
          ],
          "scatter": [
           {
            "marker": {
             "colorbar": {
              "outlinewidth": 0,
              "ticks": ""
             }
            },
            "type": "scatter"
           }
          ],
          "scatter3d": [
           {
            "line": {
             "colorbar": {
              "outlinewidth": 0,
              "ticks": ""
             }
            },
            "marker": {
             "colorbar": {
              "outlinewidth": 0,
              "ticks": ""
             }
            },
            "type": "scatter3d"
           }
          ],
          "scattercarpet": [
           {
            "marker": {
             "colorbar": {
              "outlinewidth": 0,
              "ticks": ""
             }
            },
            "type": "scattercarpet"
           }
          ],
          "scattergeo": [
           {
            "marker": {
             "colorbar": {
              "outlinewidth": 0,
              "ticks": ""
             }
            },
            "type": "scattergeo"
           }
          ],
          "scattergl": [
           {
            "marker": {
             "colorbar": {
              "outlinewidth": 0,
              "ticks": ""
             }
            },
            "type": "scattergl"
           }
          ],
          "scattermapbox": [
           {
            "marker": {
             "colorbar": {
              "outlinewidth": 0,
              "ticks": ""
             }
            },
            "type": "scattermapbox"
           }
          ],
          "scatterpolar": [
           {
            "marker": {
             "colorbar": {
              "outlinewidth": 0,
              "ticks": ""
             }
            },
            "type": "scatterpolar"
           }
          ],
          "scatterpolargl": [
           {
            "marker": {
             "colorbar": {
              "outlinewidth": 0,
              "ticks": ""
             }
            },
            "type": "scatterpolargl"
           }
          ],
          "scatterternary": [
           {
            "marker": {
             "colorbar": {
              "outlinewidth": 0,
              "ticks": ""
             }
            },
            "type": "scatterternary"
           }
          ],
          "surface": [
           {
            "colorbar": {
             "outlinewidth": 0,
             "ticks": ""
            },
            "colorscale": [
             [
              0,
              "#0d0887"
             ],
             [
              0.1111111111111111,
              "#46039f"
             ],
             [
              0.2222222222222222,
              "#7201a8"
             ],
             [
              0.3333333333333333,
              "#9c179e"
             ],
             [
              0.4444444444444444,
              "#bd3786"
             ],
             [
              0.5555555555555556,
              "#d8576b"
             ],
             [
              0.6666666666666666,
              "#ed7953"
             ],
             [
              0.7777777777777778,
              "#fb9f3a"
             ],
             [
              0.8888888888888888,
              "#fdca26"
             ],
             [
              1,
              "#f0f921"
             ]
            ],
            "type": "surface"
           }
          ],
          "table": [
           {
            "cells": {
             "fill": {
              "color": "#EBF0F8"
             },
             "line": {
              "color": "white"
             }
            },
            "header": {
             "fill": {
              "color": "#C8D4E3"
             },
             "line": {
              "color": "white"
             }
            },
            "type": "table"
           }
          ]
         },
         "layout": {
          "annotationdefaults": {
           "arrowcolor": "#2a3f5f",
           "arrowhead": 0,
           "arrowwidth": 1
          },
          "coloraxis": {
           "colorbar": {
            "outlinewidth": 0,
            "ticks": ""
           }
          },
          "colorscale": {
           "diverging": [
            [
             0,
             "#8e0152"
            ],
            [
             0.1,
             "#c51b7d"
            ],
            [
             0.2,
             "#de77ae"
            ],
            [
             0.3,
             "#f1b6da"
            ],
            [
             0.4,
             "#fde0ef"
            ],
            [
             0.5,
             "#f7f7f7"
            ],
            [
             0.6,
             "#e6f5d0"
            ],
            [
             0.7,
             "#b8e186"
            ],
            [
             0.8,
             "#7fbc41"
            ],
            [
             0.9,
             "#4d9221"
            ],
            [
             1,
             "#276419"
            ]
           ],
           "sequential": [
            [
             0,
             "#0d0887"
            ],
            [
             0.1111111111111111,
             "#46039f"
            ],
            [
             0.2222222222222222,
             "#7201a8"
            ],
            [
             0.3333333333333333,
             "#9c179e"
            ],
            [
             0.4444444444444444,
             "#bd3786"
            ],
            [
             0.5555555555555556,
             "#d8576b"
            ],
            [
             0.6666666666666666,
             "#ed7953"
            ],
            [
             0.7777777777777778,
             "#fb9f3a"
            ],
            [
             0.8888888888888888,
             "#fdca26"
            ],
            [
             1,
             "#f0f921"
            ]
           ],
           "sequentialminus": [
            [
             0,
             "#0d0887"
            ],
            [
             0.1111111111111111,
             "#46039f"
            ],
            [
             0.2222222222222222,
             "#7201a8"
            ],
            [
             0.3333333333333333,
             "#9c179e"
            ],
            [
             0.4444444444444444,
             "#bd3786"
            ],
            [
             0.5555555555555556,
             "#d8576b"
            ],
            [
             0.6666666666666666,
             "#ed7953"
            ],
            [
             0.7777777777777778,
             "#fb9f3a"
            ],
            [
             0.8888888888888888,
             "#fdca26"
            ],
            [
             1,
             "#f0f921"
            ]
           ]
          },
          "colorway": [
           "#636efa",
           "#EF553B",
           "#00cc96",
           "#ab63fa",
           "#FFA15A",
           "#19d3f3",
           "#FF6692",
           "#B6E880",
           "#FF97FF",
           "#FECB52"
          ],
          "font": {
           "color": "#2a3f5f"
          },
          "geo": {
           "bgcolor": "white",
           "lakecolor": "white",
           "landcolor": "#E5ECF6",
           "showlakes": true,
           "showland": true,
           "subunitcolor": "white"
          },
          "hoverlabel": {
           "align": "left"
          },
          "hovermode": "closest",
          "mapbox": {
           "style": "light"
          },
          "paper_bgcolor": "white",
          "plot_bgcolor": "#E5ECF6",
          "polar": {
           "angularaxis": {
            "gridcolor": "white",
            "linecolor": "white",
            "ticks": ""
           },
           "bgcolor": "#E5ECF6",
           "radialaxis": {
            "gridcolor": "white",
            "linecolor": "white",
            "ticks": ""
           }
          },
          "scene": {
           "xaxis": {
            "backgroundcolor": "#E5ECF6",
            "gridcolor": "white",
            "gridwidth": 2,
            "linecolor": "white",
            "showbackground": true,
            "ticks": "",
            "zerolinecolor": "white"
           },
           "yaxis": {
            "backgroundcolor": "#E5ECF6",
            "gridcolor": "white",
            "gridwidth": 2,
            "linecolor": "white",
            "showbackground": true,
            "ticks": "",
            "zerolinecolor": "white"
           },
           "zaxis": {
            "backgroundcolor": "#E5ECF6",
            "gridcolor": "white",
            "gridwidth": 2,
            "linecolor": "white",
            "showbackground": true,
            "ticks": "",
            "zerolinecolor": "white"
           }
          },
          "shapedefaults": {
           "line": {
            "color": "#2a3f5f"
           }
          },
          "ternary": {
           "aaxis": {
            "gridcolor": "white",
            "linecolor": "white",
            "ticks": ""
           },
           "baxis": {
            "gridcolor": "white",
            "linecolor": "white",
            "ticks": ""
           },
           "bgcolor": "#E5ECF6",
           "caxis": {
            "gridcolor": "white",
            "linecolor": "white",
            "ticks": ""
           }
          },
          "title": {
           "x": 0.05
          },
          "xaxis": {
           "automargin": true,
           "gridcolor": "white",
           "linecolor": "white",
           "ticks": "",
           "title": {
            "standoff": 15
           },
           "zerolinecolor": "white",
           "zerolinewidth": 2
          },
          "yaxis": {
           "automargin": true,
           "gridcolor": "white",
           "linecolor": "white",
           "ticks": "",
           "title": {
            "standoff": 15
           },
           "zerolinecolor": "white",
           "zerolinewidth": 2
          }
         }
        }
       }
      },
      "text/html": [
       "<div>\n",
       "        \n",
       "        \n",
       "            <div id=\"9b7de101-c087-44c7-9f5d-8fa0d7de5a9e\" class=\"plotly-graph-div\" style=\"height:525px; width:100%;\"></div>\n",
       "            <script type=\"text/javascript\">\n",
       "                require([\"plotly\"], function(Plotly) {\n",
       "                    window.PLOTLYENV=window.PLOTLYENV || {};\n",
       "                    \n",
       "                if (document.getElementById(\"9b7de101-c087-44c7-9f5d-8fa0d7de5a9e\")) {\n",
       "                    Plotly.newPlot(\n",
       "                        '9b7de101-c087-44c7-9f5d-8fa0d7de5a9e',\n",
       "                        [{\"hole\": 0.3, \"labels\": [\"Calgary\", \"Central\", \"Edmonton\", \"North\", \"South\"], \"marker\": {\"colors\": [\"rgb(249,123,87)\", \"rgb(5, 255, 255)\", \"rgb(0,0,200)\", \"rgb(253,187,132)\", \"rgb(0,152,255)\"]}, \"title\": {\"text\": \"Semi-Urgent\"}, \"type\": \"pie\", \"values\": [22.9766561, 19.734808, 16.573324, 31.025456, 9.689756]}],\n",
       "                        {\"template\": {\"data\": {\"bar\": [{\"error_x\": {\"color\": \"#2a3f5f\"}, \"error_y\": {\"color\": \"#2a3f5f\"}, \"marker\": {\"line\": {\"color\": \"#E5ECF6\", \"width\": 0.5}}, \"type\": \"bar\"}], \"barpolar\": [{\"marker\": {\"line\": {\"color\": \"#E5ECF6\", \"width\": 0.5}}, \"type\": \"barpolar\"}], \"carpet\": [{\"aaxis\": {\"endlinecolor\": \"#2a3f5f\", \"gridcolor\": \"white\", \"linecolor\": \"white\", \"minorgridcolor\": \"white\", \"startlinecolor\": \"#2a3f5f\"}, \"baxis\": {\"endlinecolor\": \"#2a3f5f\", \"gridcolor\": \"white\", \"linecolor\": \"white\", \"minorgridcolor\": \"white\", \"startlinecolor\": \"#2a3f5f\"}, \"type\": \"carpet\"}], \"choropleth\": [{\"colorbar\": {\"outlinewidth\": 0, \"ticks\": \"\"}, \"type\": \"choropleth\"}], \"contour\": [{\"colorbar\": {\"outlinewidth\": 0, \"ticks\": \"\"}, \"colorscale\": [[0.0, \"#0d0887\"], [0.1111111111111111, \"#46039f\"], [0.2222222222222222, \"#7201a8\"], [0.3333333333333333, \"#9c179e\"], [0.4444444444444444, \"#bd3786\"], [0.5555555555555556, \"#d8576b\"], [0.6666666666666666, \"#ed7953\"], [0.7777777777777778, \"#fb9f3a\"], [0.8888888888888888, \"#fdca26\"], [1.0, \"#f0f921\"]], \"type\": \"contour\"}], \"contourcarpet\": [{\"colorbar\": {\"outlinewidth\": 0, \"ticks\": \"\"}, \"type\": \"contourcarpet\"}], \"heatmap\": [{\"colorbar\": {\"outlinewidth\": 0, \"ticks\": \"\"}, \"colorscale\": [[0.0, \"#0d0887\"], [0.1111111111111111, \"#46039f\"], [0.2222222222222222, \"#7201a8\"], [0.3333333333333333, \"#9c179e\"], [0.4444444444444444, \"#bd3786\"], [0.5555555555555556, \"#d8576b\"], [0.6666666666666666, \"#ed7953\"], [0.7777777777777778, \"#fb9f3a\"], [0.8888888888888888, \"#fdca26\"], [1.0, \"#f0f921\"]], \"type\": \"heatmap\"}], \"heatmapgl\": [{\"colorbar\": {\"outlinewidth\": 0, \"ticks\": \"\"}, \"colorscale\": [[0.0, \"#0d0887\"], [0.1111111111111111, \"#46039f\"], [0.2222222222222222, \"#7201a8\"], [0.3333333333333333, \"#9c179e\"], [0.4444444444444444, \"#bd3786\"], [0.5555555555555556, \"#d8576b\"], [0.6666666666666666, \"#ed7953\"], [0.7777777777777778, \"#fb9f3a\"], [0.8888888888888888, \"#fdca26\"], [1.0, \"#f0f921\"]], \"type\": \"heatmapgl\"}], \"histogram\": [{\"marker\": {\"colorbar\": {\"outlinewidth\": 0, \"ticks\": \"\"}}, \"type\": \"histogram\"}], \"histogram2d\": [{\"colorbar\": {\"outlinewidth\": 0, \"ticks\": \"\"}, \"colorscale\": [[0.0, \"#0d0887\"], [0.1111111111111111, \"#46039f\"], [0.2222222222222222, \"#7201a8\"], [0.3333333333333333, \"#9c179e\"], [0.4444444444444444, \"#bd3786\"], [0.5555555555555556, \"#d8576b\"], [0.6666666666666666, \"#ed7953\"], [0.7777777777777778, \"#fb9f3a\"], [0.8888888888888888, \"#fdca26\"], [1.0, \"#f0f921\"]], \"type\": \"histogram2d\"}], \"histogram2dcontour\": [{\"colorbar\": {\"outlinewidth\": 0, \"ticks\": \"\"}, \"colorscale\": [[0.0, \"#0d0887\"], [0.1111111111111111, \"#46039f\"], [0.2222222222222222, \"#7201a8\"], [0.3333333333333333, \"#9c179e\"], [0.4444444444444444, \"#bd3786\"], [0.5555555555555556, \"#d8576b\"], [0.6666666666666666, \"#ed7953\"], [0.7777777777777778, \"#fb9f3a\"], [0.8888888888888888, \"#fdca26\"], [1.0, \"#f0f921\"]], \"type\": \"histogram2dcontour\"}], \"mesh3d\": [{\"colorbar\": {\"outlinewidth\": 0, \"ticks\": \"\"}, \"type\": \"mesh3d\"}], \"parcoords\": [{\"line\": {\"colorbar\": {\"outlinewidth\": 0, \"ticks\": \"\"}}, \"type\": \"parcoords\"}], \"pie\": [{\"automargin\": true, \"type\": \"pie\"}], \"scatter\": [{\"marker\": {\"colorbar\": {\"outlinewidth\": 0, \"ticks\": \"\"}}, \"type\": \"scatter\"}], \"scatter3d\": [{\"line\": {\"colorbar\": {\"outlinewidth\": 0, \"ticks\": \"\"}}, \"marker\": {\"colorbar\": {\"outlinewidth\": 0, \"ticks\": \"\"}}, \"type\": \"scatter3d\"}], \"scattercarpet\": [{\"marker\": {\"colorbar\": {\"outlinewidth\": 0, \"ticks\": \"\"}}, \"type\": \"scattercarpet\"}], \"scattergeo\": [{\"marker\": {\"colorbar\": {\"outlinewidth\": 0, \"ticks\": \"\"}}, \"type\": \"scattergeo\"}], \"scattergl\": [{\"marker\": {\"colorbar\": {\"outlinewidth\": 0, \"ticks\": \"\"}}, \"type\": \"scattergl\"}], \"scattermapbox\": [{\"marker\": {\"colorbar\": {\"outlinewidth\": 0, \"ticks\": \"\"}}, \"type\": \"scattermapbox\"}], \"scatterpolar\": [{\"marker\": {\"colorbar\": {\"outlinewidth\": 0, \"ticks\": \"\"}}, \"type\": \"scatterpolar\"}], \"scatterpolargl\": [{\"marker\": {\"colorbar\": {\"outlinewidth\": 0, \"ticks\": \"\"}}, \"type\": \"scatterpolargl\"}], \"scatterternary\": [{\"marker\": {\"colorbar\": {\"outlinewidth\": 0, \"ticks\": \"\"}}, \"type\": \"scatterternary\"}], \"surface\": [{\"colorbar\": {\"outlinewidth\": 0, \"ticks\": \"\"}, \"colorscale\": [[0.0, \"#0d0887\"], [0.1111111111111111, \"#46039f\"], [0.2222222222222222, \"#7201a8\"], [0.3333333333333333, \"#9c179e\"], [0.4444444444444444, \"#bd3786\"], [0.5555555555555556, \"#d8576b\"], [0.6666666666666666, \"#ed7953\"], [0.7777777777777778, \"#fb9f3a\"], [0.8888888888888888, \"#fdca26\"], [1.0, \"#f0f921\"]], \"type\": \"surface\"}], \"table\": [{\"cells\": {\"fill\": {\"color\": \"#EBF0F8\"}, \"line\": {\"color\": \"white\"}}, \"header\": {\"fill\": {\"color\": \"#C8D4E3\"}, \"line\": {\"color\": \"white\"}}, \"type\": \"table\"}]}, \"layout\": {\"annotationdefaults\": {\"arrowcolor\": \"#2a3f5f\", \"arrowhead\": 0, \"arrowwidth\": 1}, \"coloraxis\": {\"colorbar\": {\"outlinewidth\": 0, \"ticks\": \"\"}}, \"colorscale\": {\"diverging\": [[0, \"#8e0152\"], [0.1, \"#c51b7d\"], [0.2, \"#de77ae\"], [0.3, \"#f1b6da\"], [0.4, \"#fde0ef\"], [0.5, \"#f7f7f7\"], [0.6, \"#e6f5d0\"], [0.7, \"#b8e186\"], [0.8, \"#7fbc41\"], [0.9, \"#4d9221\"], [1, \"#276419\"]], \"sequential\": [[0.0, \"#0d0887\"], [0.1111111111111111, \"#46039f\"], [0.2222222222222222, \"#7201a8\"], [0.3333333333333333, \"#9c179e\"], [0.4444444444444444, \"#bd3786\"], [0.5555555555555556, \"#d8576b\"], [0.6666666666666666, \"#ed7953\"], [0.7777777777777778, \"#fb9f3a\"], [0.8888888888888888, \"#fdca26\"], [1.0, \"#f0f921\"]], \"sequentialminus\": [[0.0, \"#0d0887\"], [0.1111111111111111, \"#46039f\"], [0.2222222222222222, \"#7201a8\"], [0.3333333333333333, \"#9c179e\"], [0.4444444444444444, \"#bd3786\"], [0.5555555555555556, \"#d8576b\"], [0.6666666666666666, \"#ed7953\"], [0.7777777777777778, \"#fb9f3a\"], [0.8888888888888888, \"#fdca26\"], [1.0, \"#f0f921\"]]}, \"colorway\": [\"#636efa\", \"#EF553B\", \"#00cc96\", \"#ab63fa\", \"#FFA15A\", \"#19d3f3\", \"#FF6692\", \"#B6E880\", \"#FF97FF\", \"#FECB52\"], \"font\": {\"color\": \"#2a3f5f\"}, \"geo\": {\"bgcolor\": \"white\", \"lakecolor\": \"white\", \"landcolor\": \"#E5ECF6\", \"showlakes\": true, \"showland\": true, \"subunitcolor\": \"white\"}, \"hoverlabel\": {\"align\": \"left\"}, \"hovermode\": \"closest\", \"mapbox\": {\"style\": \"light\"}, \"paper_bgcolor\": \"white\", \"plot_bgcolor\": \"#E5ECF6\", \"polar\": {\"angularaxis\": {\"gridcolor\": \"white\", \"linecolor\": \"white\", \"ticks\": \"\"}, \"bgcolor\": \"#E5ECF6\", \"radialaxis\": {\"gridcolor\": \"white\", \"linecolor\": \"white\", \"ticks\": \"\"}}, \"scene\": {\"xaxis\": {\"backgroundcolor\": \"#E5ECF6\", \"gridcolor\": \"white\", \"gridwidth\": 2, \"linecolor\": \"white\", \"showbackground\": true, \"ticks\": \"\", \"zerolinecolor\": \"white\"}, \"yaxis\": {\"backgroundcolor\": \"#E5ECF6\", \"gridcolor\": \"white\", \"gridwidth\": 2, \"linecolor\": \"white\", \"showbackground\": true, \"ticks\": \"\", \"zerolinecolor\": \"white\"}, \"zaxis\": {\"backgroundcolor\": \"#E5ECF6\", \"gridcolor\": \"white\", \"gridwidth\": 2, \"linecolor\": \"white\", \"showbackground\": true, \"ticks\": \"\", \"zerolinecolor\": \"white\"}}, \"shapedefaults\": {\"line\": {\"color\": \"#2a3f5f\"}}, \"ternary\": {\"aaxis\": {\"gridcolor\": \"white\", \"linecolor\": \"white\", \"ticks\": \"\"}, \"baxis\": {\"gridcolor\": \"white\", \"linecolor\": \"white\", \"ticks\": \"\"}, \"bgcolor\": \"#E5ECF6\", \"caxis\": {\"gridcolor\": \"white\", \"linecolor\": \"white\", \"ticks\": \"\"}}, \"title\": {\"x\": 0.05}, \"xaxis\": {\"automargin\": true, \"gridcolor\": \"white\", \"linecolor\": \"white\", \"ticks\": \"\", \"title\": {\"standoff\": 15}, \"zerolinecolor\": \"white\", \"zerolinewidth\": 2}, \"yaxis\": {\"automargin\": true, \"gridcolor\": \"white\", \"linecolor\": \"white\", \"ticks\": \"\", \"title\": {\"standoff\": 15}, \"zerolinecolor\": \"white\", \"zerolinewidth\": 2}}}},\n",
       "                        {\"responsive\": true}\n",
       "                    ).then(function(){\n",
       "                            \n",
       "var gd = document.getElementById('9b7de101-c087-44c7-9f5d-8fa0d7de5a9e');\n",
       "var x = new MutationObserver(function (mutations, observer) {{\n",
       "        var display = window.getComputedStyle(gd).display;\n",
       "        if (!display || display === 'none') {{\n",
       "            console.log([gd, 'removed!']);\n",
       "            Plotly.purge(gd);\n",
       "            observer.disconnect();\n",
       "        }}\n",
       "}});\n",
       "\n",
       "// Listen for the removal of the full notebook cells\n",
       "var notebookContainer = gd.closest('#notebook-container');\n",
       "if (notebookContainer) {{\n",
       "    x.observe(notebookContainer, {childList: true});\n",
       "}}\n",
       "\n",
       "// Listen for the clearing of the current output cell\n",
       "var outputEl = gd.closest('.output');\n",
       "if (outputEl) {{\n",
       "    x.observe(outputEl, {childList: true});\n",
       "}}\n",
       "\n",
       "                        })\n",
       "                };\n",
       "                });\n",
       "            </script>\n",
       "        </div>"
      ]
     },
     "metadata": {},
     "output_type": "display_data"
    }
   ],
   "source": [
    "import plotly.graph_objects as go\n",
    "\n",
    "labels = ['Calgary','Central','Edmonton',\n",
    "              'North', 'South']\n",
    "values = [22.9766561, 19.734808, 16.573324, 31.025456, 9.689756]\n",
    "night_colors = ['rgb(249,123,87)', 'rgb(5, 255, 255)','rgb(0,0,200)',\n",
    "                'rgb(253,187,132)', 'rgb(0,152,255)']\n",
    "# Use `hole` to create a donut-like pie chart\n",
    "fig = go.Figure(data=[go.Pie(labels=labels, values=values, title_text='Semi-Urgent', marker_colors=night_colors, hole=.3)])\n",
    "fig.show()"
   ]
  },
  {
   "cell_type": "code",
   "execution_count": 68,
   "metadata": {},
   "outputs": [
    {
     "data": {
      "application/vnd.plotly.v1+json": {
       "config": {
        "plotlyServerURL": "https://plot.ly"
       },
       "data": [
        {
         "hole": 0.3,
         "labels": [
          "Calgary",
          "Central",
          "Edmonton",
          "North",
          "South"
         ],
         "marker": {
          "colors": [
           "rgb(249,123,87)",
           "rgb(5, 255, 255)",
           "rgb(0,0,200)",
           "rgb(253,187,132)",
           "rgb(0,152,255)"
          ]
         },
         "title": {
          "text": "Non-Urgent"
         },
         "type": "pie",
         "values": [
          19.588017,
          17.154658,
          12.274585,
          39.955358,
          11.027381
         ]
        }
       ],
       "layout": {
        "template": {
         "data": {
          "bar": [
           {
            "error_x": {
             "color": "#2a3f5f"
            },
            "error_y": {
             "color": "#2a3f5f"
            },
            "marker": {
             "line": {
              "color": "#E5ECF6",
              "width": 0.5
             }
            },
            "type": "bar"
           }
          ],
          "barpolar": [
           {
            "marker": {
             "line": {
              "color": "#E5ECF6",
              "width": 0.5
             }
            },
            "type": "barpolar"
           }
          ],
          "carpet": [
           {
            "aaxis": {
             "endlinecolor": "#2a3f5f",
             "gridcolor": "white",
             "linecolor": "white",
             "minorgridcolor": "white",
             "startlinecolor": "#2a3f5f"
            },
            "baxis": {
             "endlinecolor": "#2a3f5f",
             "gridcolor": "white",
             "linecolor": "white",
             "minorgridcolor": "white",
             "startlinecolor": "#2a3f5f"
            },
            "type": "carpet"
           }
          ],
          "choropleth": [
           {
            "colorbar": {
             "outlinewidth": 0,
             "ticks": ""
            },
            "type": "choropleth"
           }
          ],
          "contour": [
           {
            "colorbar": {
             "outlinewidth": 0,
             "ticks": ""
            },
            "colorscale": [
             [
              0,
              "#0d0887"
             ],
             [
              0.1111111111111111,
              "#46039f"
             ],
             [
              0.2222222222222222,
              "#7201a8"
             ],
             [
              0.3333333333333333,
              "#9c179e"
             ],
             [
              0.4444444444444444,
              "#bd3786"
             ],
             [
              0.5555555555555556,
              "#d8576b"
             ],
             [
              0.6666666666666666,
              "#ed7953"
             ],
             [
              0.7777777777777778,
              "#fb9f3a"
             ],
             [
              0.8888888888888888,
              "#fdca26"
             ],
             [
              1,
              "#f0f921"
             ]
            ],
            "type": "contour"
           }
          ],
          "contourcarpet": [
           {
            "colorbar": {
             "outlinewidth": 0,
             "ticks": ""
            },
            "type": "contourcarpet"
           }
          ],
          "heatmap": [
           {
            "colorbar": {
             "outlinewidth": 0,
             "ticks": ""
            },
            "colorscale": [
             [
              0,
              "#0d0887"
             ],
             [
              0.1111111111111111,
              "#46039f"
             ],
             [
              0.2222222222222222,
              "#7201a8"
             ],
             [
              0.3333333333333333,
              "#9c179e"
             ],
             [
              0.4444444444444444,
              "#bd3786"
             ],
             [
              0.5555555555555556,
              "#d8576b"
             ],
             [
              0.6666666666666666,
              "#ed7953"
             ],
             [
              0.7777777777777778,
              "#fb9f3a"
             ],
             [
              0.8888888888888888,
              "#fdca26"
             ],
             [
              1,
              "#f0f921"
             ]
            ],
            "type": "heatmap"
           }
          ],
          "heatmapgl": [
           {
            "colorbar": {
             "outlinewidth": 0,
             "ticks": ""
            },
            "colorscale": [
             [
              0,
              "#0d0887"
             ],
             [
              0.1111111111111111,
              "#46039f"
             ],
             [
              0.2222222222222222,
              "#7201a8"
             ],
             [
              0.3333333333333333,
              "#9c179e"
             ],
             [
              0.4444444444444444,
              "#bd3786"
             ],
             [
              0.5555555555555556,
              "#d8576b"
             ],
             [
              0.6666666666666666,
              "#ed7953"
             ],
             [
              0.7777777777777778,
              "#fb9f3a"
             ],
             [
              0.8888888888888888,
              "#fdca26"
             ],
             [
              1,
              "#f0f921"
             ]
            ],
            "type": "heatmapgl"
           }
          ],
          "histogram": [
           {
            "marker": {
             "colorbar": {
              "outlinewidth": 0,
              "ticks": ""
             }
            },
            "type": "histogram"
           }
          ],
          "histogram2d": [
           {
            "colorbar": {
             "outlinewidth": 0,
             "ticks": ""
            },
            "colorscale": [
             [
              0,
              "#0d0887"
             ],
             [
              0.1111111111111111,
              "#46039f"
             ],
             [
              0.2222222222222222,
              "#7201a8"
             ],
             [
              0.3333333333333333,
              "#9c179e"
             ],
             [
              0.4444444444444444,
              "#bd3786"
             ],
             [
              0.5555555555555556,
              "#d8576b"
             ],
             [
              0.6666666666666666,
              "#ed7953"
             ],
             [
              0.7777777777777778,
              "#fb9f3a"
             ],
             [
              0.8888888888888888,
              "#fdca26"
             ],
             [
              1,
              "#f0f921"
             ]
            ],
            "type": "histogram2d"
           }
          ],
          "histogram2dcontour": [
           {
            "colorbar": {
             "outlinewidth": 0,
             "ticks": ""
            },
            "colorscale": [
             [
              0,
              "#0d0887"
             ],
             [
              0.1111111111111111,
              "#46039f"
             ],
             [
              0.2222222222222222,
              "#7201a8"
             ],
             [
              0.3333333333333333,
              "#9c179e"
             ],
             [
              0.4444444444444444,
              "#bd3786"
             ],
             [
              0.5555555555555556,
              "#d8576b"
             ],
             [
              0.6666666666666666,
              "#ed7953"
             ],
             [
              0.7777777777777778,
              "#fb9f3a"
             ],
             [
              0.8888888888888888,
              "#fdca26"
             ],
             [
              1,
              "#f0f921"
             ]
            ],
            "type": "histogram2dcontour"
           }
          ],
          "mesh3d": [
           {
            "colorbar": {
             "outlinewidth": 0,
             "ticks": ""
            },
            "type": "mesh3d"
           }
          ],
          "parcoords": [
           {
            "line": {
             "colorbar": {
              "outlinewidth": 0,
              "ticks": ""
             }
            },
            "type": "parcoords"
           }
          ],
          "pie": [
           {
            "automargin": true,
            "type": "pie"
           }
          ],
          "scatter": [
           {
            "marker": {
             "colorbar": {
              "outlinewidth": 0,
              "ticks": ""
             }
            },
            "type": "scatter"
           }
          ],
          "scatter3d": [
           {
            "line": {
             "colorbar": {
              "outlinewidth": 0,
              "ticks": ""
             }
            },
            "marker": {
             "colorbar": {
              "outlinewidth": 0,
              "ticks": ""
             }
            },
            "type": "scatter3d"
           }
          ],
          "scattercarpet": [
           {
            "marker": {
             "colorbar": {
              "outlinewidth": 0,
              "ticks": ""
             }
            },
            "type": "scattercarpet"
           }
          ],
          "scattergeo": [
           {
            "marker": {
             "colorbar": {
              "outlinewidth": 0,
              "ticks": ""
             }
            },
            "type": "scattergeo"
           }
          ],
          "scattergl": [
           {
            "marker": {
             "colorbar": {
              "outlinewidth": 0,
              "ticks": ""
             }
            },
            "type": "scattergl"
           }
          ],
          "scattermapbox": [
           {
            "marker": {
             "colorbar": {
              "outlinewidth": 0,
              "ticks": ""
             }
            },
            "type": "scattermapbox"
           }
          ],
          "scatterpolar": [
           {
            "marker": {
             "colorbar": {
              "outlinewidth": 0,
              "ticks": ""
             }
            },
            "type": "scatterpolar"
           }
          ],
          "scatterpolargl": [
           {
            "marker": {
             "colorbar": {
              "outlinewidth": 0,
              "ticks": ""
             }
            },
            "type": "scatterpolargl"
           }
          ],
          "scatterternary": [
           {
            "marker": {
             "colorbar": {
              "outlinewidth": 0,
              "ticks": ""
             }
            },
            "type": "scatterternary"
           }
          ],
          "surface": [
           {
            "colorbar": {
             "outlinewidth": 0,
             "ticks": ""
            },
            "colorscale": [
             [
              0,
              "#0d0887"
             ],
             [
              0.1111111111111111,
              "#46039f"
             ],
             [
              0.2222222222222222,
              "#7201a8"
             ],
             [
              0.3333333333333333,
              "#9c179e"
             ],
             [
              0.4444444444444444,
              "#bd3786"
             ],
             [
              0.5555555555555556,
              "#d8576b"
             ],
             [
              0.6666666666666666,
              "#ed7953"
             ],
             [
              0.7777777777777778,
              "#fb9f3a"
             ],
             [
              0.8888888888888888,
              "#fdca26"
             ],
             [
              1,
              "#f0f921"
             ]
            ],
            "type": "surface"
           }
          ],
          "table": [
           {
            "cells": {
             "fill": {
              "color": "#EBF0F8"
             },
             "line": {
              "color": "white"
             }
            },
            "header": {
             "fill": {
              "color": "#C8D4E3"
             },
             "line": {
              "color": "white"
             }
            },
            "type": "table"
           }
          ]
         },
         "layout": {
          "annotationdefaults": {
           "arrowcolor": "#2a3f5f",
           "arrowhead": 0,
           "arrowwidth": 1
          },
          "coloraxis": {
           "colorbar": {
            "outlinewidth": 0,
            "ticks": ""
           }
          },
          "colorscale": {
           "diverging": [
            [
             0,
             "#8e0152"
            ],
            [
             0.1,
             "#c51b7d"
            ],
            [
             0.2,
             "#de77ae"
            ],
            [
             0.3,
             "#f1b6da"
            ],
            [
             0.4,
             "#fde0ef"
            ],
            [
             0.5,
             "#f7f7f7"
            ],
            [
             0.6,
             "#e6f5d0"
            ],
            [
             0.7,
             "#b8e186"
            ],
            [
             0.8,
             "#7fbc41"
            ],
            [
             0.9,
             "#4d9221"
            ],
            [
             1,
             "#276419"
            ]
           ],
           "sequential": [
            [
             0,
             "#0d0887"
            ],
            [
             0.1111111111111111,
             "#46039f"
            ],
            [
             0.2222222222222222,
             "#7201a8"
            ],
            [
             0.3333333333333333,
             "#9c179e"
            ],
            [
             0.4444444444444444,
             "#bd3786"
            ],
            [
             0.5555555555555556,
             "#d8576b"
            ],
            [
             0.6666666666666666,
             "#ed7953"
            ],
            [
             0.7777777777777778,
             "#fb9f3a"
            ],
            [
             0.8888888888888888,
             "#fdca26"
            ],
            [
             1,
             "#f0f921"
            ]
           ],
           "sequentialminus": [
            [
             0,
             "#0d0887"
            ],
            [
             0.1111111111111111,
             "#46039f"
            ],
            [
             0.2222222222222222,
             "#7201a8"
            ],
            [
             0.3333333333333333,
             "#9c179e"
            ],
            [
             0.4444444444444444,
             "#bd3786"
            ],
            [
             0.5555555555555556,
             "#d8576b"
            ],
            [
             0.6666666666666666,
             "#ed7953"
            ],
            [
             0.7777777777777778,
             "#fb9f3a"
            ],
            [
             0.8888888888888888,
             "#fdca26"
            ],
            [
             1,
             "#f0f921"
            ]
           ]
          },
          "colorway": [
           "#636efa",
           "#EF553B",
           "#00cc96",
           "#ab63fa",
           "#FFA15A",
           "#19d3f3",
           "#FF6692",
           "#B6E880",
           "#FF97FF",
           "#FECB52"
          ],
          "font": {
           "color": "#2a3f5f"
          },
          "geo": {
           "bgcolor": "white",
           "lakecolor": "white",
           "landcolor": "#E5ECF6",
           "showlakes": true,
           "showland": true,
           "subunitcolor": "white"
          },
          "hoverlabel": {
           "align": "left"
          },
          "hovermode": "closest",
          "mapbox": {
           "style": "light"
          },
          "paper_bgcolor": "white",
          "plot_bgcolor": "#E5ECF6",
          "polar": {
           "angularaxis": {
            "gridcolor": "white",
            "linecolor": "white",
            "ticks": ""
           },
           "bgcolor": "#E5ECF6",
           "radialaxis": {
            "gridcolor": "white",
            "linecolor": "white",
            "ticks": ""
           }
          },
          "scene": {
           "xaxis": {
            "backgroundcolor": "#E5ECF6",
            "gridcolor": "white",
            "gridwidth": 2,
            "linecolor": "white",
            "showbackground": true,
            "ticks": "",
            "zerolinecolor": "white"
           },
           "yaxis": {
            "backgroundcolor": "#E5ECF6",
            "gridcolor": "white",
            "gridwidth": 2,
            "linecolor": "white",
            "showbackground": true,
            "ticks": "",
            "zerolinecolor": "white"
           },
           "zaxis": {
            "backgroundcolor": "#E5ECF6",
            "gridcolor": "white",
            "gridwidth": 2,
            "linecolor": "white",
            "showbackground": true,
            "ticks": "",
            "zerolinecolor": "white"
           }
          },
          "shapedefaults": {
           "line": {
            "color": "#2a3f5f"
           }
          },
          "ternary": {
           "aaxis": {
            "gridcolor": "white",
            "linecolor": "white",
            "ticks": ""
           },
           "baxis": {
            "gridcolor": "white",
            "linecolor": "white",
            "ticks": ""
           },
           "bgcolor": "#E5ECF6",
           "caxis": {
            "gridcolor": "white",
            "linecolor": "white",
            "ticks": ""
           }
          },
          "title": {
           "x": 0.05
          },
          "xaxis": {
           "automargin": true,
           "gridcolor": "white",
           "linecolor": "white",
           "ticks": "",
           "title": {
            "standoff": 15
           },
           "zerolinecolor": "white",
           "zerolinewidth": 2
          },
          "yaxis": {
           "automargin": true,
           "gridcolor": "white",
           "linecolor": "white",
           "ticks": "",
           "title": {
            "standoff": 15
           },
           "zerolinecolor": "white",
           "zerolinewidth": 2
          }
         }
        }
       }
      },
      "text/html": [
       "<div>\n",
       "        \n",
       "        \n",
       "            <div id=\"62c4c1c6-9e78-4853-aefb-84810f0143f9\" class=\"plotly-graph-div\" style=\"height:525px; width:100%;\"></div>\n",
       "            <script type=\"text/javascript\">\n",
       "                require([\"plotly\"], function(Plotly) {\n",
       "                    window.PLOTLYENV=window.PLOTLYENV || {};\n",
       "                    \n",
       "                if (document.getElementById(\"62c4c1c6-9e78-4853-aefb-84810f0143f9\")) {\n",
       "                    Plotly.newPlot(\n",
       "                        '62c4c1c6-9e78-4853-aefb-84810f0143f9',\n",
       "                        [{\"hole\": 0.3, \"labels\": [\"Calgary\", \"Central\", \"Edmonton\", \"North\", \"South\"], \"marker\": {\"colors\": [\"rgb(249,123,87)\", \"rgb(5, 255, 255)\", \"rgb(0,0,200)\", \"rgb(253,187,132)\", \"rgb(0,152,255)\"]}, \"title\": {\"text\": \"Non-Urgent\"}, \"type\": \"pie\", \"values\": [19.588017, 17.154658, 12.274585, 39.955358, 11.027381]}],\n",
       "                        {\"template\": {\"data\": {\"bar\": [{\"error_x\": {\"color\": \"#2a3f5f\"}, \"error_y\": {\"color\": \"#2a3f5f\"}, \"marker\": {\"line\": {\"color\": \"#E5ECF6\", \"width\": 0.5}}, \"type\": \"bar\"}], \"barpolar\": [{\"marker\": {\"line\": {\"color\": \"#E5ECF6\", \"width\": 0.5}}, \"type\": \"barpolar\"}], \"carpet\": [{\"aaxis\": {\"endlinecolor\": \"#2a3f5f\", \"gridcolor\": \"white\", \"linecolor\": \"white\", \"minorgridcolor\": \"white\", \"startlinecolor\": \"#2a3f5f\"}, \"baxis\": {\"endlinecolor\": \"#2a3f5f\", \"gridcolor\": \"white\", \"linecolor\": \"white\", \"minorgridcolor\": \"white\", \"startlinecolor\": \"#2a3f5f\"}, \"type\": \"carpet\"}], \"choropleth\": [{\"colorbar\": {\"outlinewidth\": 0, \"ticks\": \"\"}, \"type\": \"choropleth\"}], \"contour\": [{\"colorbar\": {\"outlinewidth\": 0, \"ticks\": \"\"}, \"colorscale\": [[0.0, \"#0d0887\"], [0.1111111111111111, \"#46039f\"], [0.2222222222222222, \"#7201a8\"], [0.3333333333333333, \"#9c179e\"], [0.4444444444444444, \"#bd3786\"], [0.5555555555555556, \"#d8576b\"], [0.6666666666666666, \"#ed7953\"], [0.7777777777777778, \"#fb9f3a\"], [0.8888888888888888, \"#fdca26\"], [1.0, \"#f0f921\"]], \"type\": \"contour\"}], \"contourcarpet\": [{\"colorbar\": {\"outlinewidth\": 0, \"ticks\": \"\"}, \"type\": \"contourcarpet\"}], \"heatmap\": [{\"colorbar\": {\"outlinewidth\": 0, \"ticks\": \"\"}, \"colorscale\": [[0.0, \"#0d0887\"], [0.1111111111111111, \"#46039f\"], [0.2222222222222222, \"#7201a8\"], [0.3333333333333333, \"#9c179e\"], [0.4444444444444444, \"#bd3786\"], [0.5555555555555556, \"#d8576b\"], [0.6666666666666666, \"#ed7953\"], [0.7777777777777778, \"#fb9f3a\"], [0.8888888888888888, \"#fdca26\"], [1.0, \"#f0f921\"]], \"type\": \"heatmap\"}], \"heatmapgl\": [{\"colorbar\": {\"outlinewidth\": 0, \"ticks\": \"\"}, \"colorscale\": [[0.0, \"#0d0887\"], [0.1111111111111111, \"#46039f\"], [0.2222222222222222, \"#7201a8\"], [0.3333333333333333, \"#9c179e\"], [0.4444444444444444, \"#bd3786\"], [0.5555555555555556, \"#d8576b\"], [0.6666666666666666, \"#ed7953\"], [0.7777777777777778, \"#fb9f3a\"], [0.8888888888888888, \"#fdca26\"], [1.0, \"#f0f921\"]], \"type\": \"heatmapgl\"}], \"histogram\": [{\"marker\": {\"colorbar\": {\"outlinewidth\": 0, \"ticks\": \"\"}}, \"type\": \"histogram\"}], \"histogram2d\": [{\"colorbar\": {\"outlinewidth\": 0, \"ticks\": \"\"}, \"colorscale\": [[0.0, \"#0d0887\"], [0.1111111111111111, \"#46039f\"], [0.2222222222222222, \"#7201a8\"], [0.3333333333333333, \"#9c179e\"], [0.4444444444444444, \"#bd3786\"], [0.5555555555555556, \"#d8576b\"], [0.6666666666666666, \"#ed7953\"], [0.7777777777777778, \"#fb9f3a\"], [0.8888888888888888, \"#fdca26\"], [1.0, \"#f0f921\"]], \"type\": \"histogram2d\"}], \"histogram2dcontour\": [{\"colorbar\": {\"outlinewidth\": 0, \"ticks\": \"\"}, \"colorscale\": [[0.0, \"#0d0887\"], [0.1111111111111111, \"#46039f\"], [0.2222222222222222, \"#7201a8\"], [0.3333333333333333, \"#9c179e\"], [0.4444444444444444, \"#bd3786\"], [0.5555555555555556, \"#d8576b\"], [0.6666666666666666, \"#ed7953\"], [0.7777777777777778, \"#fb9f3a\"], [0.8888888888888888, \"#fdca26\"], [1.0, \"#f0f921\"]], \"type\": \"histogram2dcontour\"}], \"mesh3d\": [{\"colorbar\": {\"outlinewidth\": 0, \"ticks\": \"\"}, \"type\": \"mesh3d\"}], \"parcoords\": [{\"line\": {\"colorbar\": {\"outlinewidth\": 0, \"ticks\": \"\"}}, \"type\": \"parcoords\"}], \"pie\": [{\"automargin\": true, \"type\": \"pie\"}], \"scatter\": [{\"marker\": {\"colorbar\": {\"outlinewidth\": 0, \"ticks\": \"\"}}, \"type\": \"scatter\"}], \"scatter3d\": [{\"line\": {\"colorbar\": {\"outlinewidth\": 0, \"ticks\": \"\"}}, \"marker\": {\"colorbar\": {\"outlinewidth\": 0, \"ticks\": \"\"}}, \"type\": \"scatter3d\"}], \"scattercarpet\": [{\"marker\": {\"colorbar\": {\"outlinewidth\": 0, \"ticks\": \"\"}}, \"type\": \"scattercarpet\"}], \"scattergeo\": [{\"marker\": {\"colorbar\": {\"outlinewidth\": 0, \"ticks\": \"\"}}, \"type\": \"scattergeo\"}], \"scattergl\": [{\"marker\": {\"colorbar\": {\"outlinewidth\": 0, \"ticks\": \"\"}}, \"type\": \"scattergl\"}], \"scattermapbox\": [{\"marker\": {\"colorbar\": {\"outlinewidth\": 0, \"ticks\": \"\"}}, \"type\": \"scattermapbox\"}], \"scatterpolar\": [{\"marker\": {\"colorbar\": {\"outlinewidth\": 0, \"ticks\": \"\"}}, \"type\": \"scatterpolar\"}], \"scatterpolargl\": [{\"marker\": {\"colorbar\": {\"outlinewidth\": 0, \"ticks\": \"\"}}, \"type\": \"scatterpolargl\"}], \"scatterternary\": [{\"marker\": {\"colorbar\": {\"outlinewidth\": 0, \"ticks\": \"\"}}, \"type\": \"scatterternary\"}], \"surface\": [{\"colorbar\": {\"outlinewidth\": 0, \"ticks\": \"\"}, \"colorscale\": [[0.0, \"#0d0887\"], [0.1111111111111111, \"#46039f\"], [0.2222222222222222, \"#7201a8\"], [0.3333333333333333, \"#9c179e\"], [0.4444444444444444, \"#bd3786\"], [0.5555555555555556, \"#d8576b\"], [0.6666666666666666, \"#ed7953\"], [0.7777777777777778, \"#fb9f3a\"], [0.8888888888888888, \"#fdca26\"], [1.0, \"#f0f921\"]], \"type\": \"surface\"}], \"table\": [{\"cells\": {\"fill\": {\"color\": \"#EBF0F8\"}, \"line\": {\"color\": \"white\"}}, \"header\": {\"fill\": {\"color\": \"#C8D4E3\"}, \"line\": {\"color\": \"white\"}}, \"type\": \"table\"}]}, \"layout\": {\"annotationdefaults\": {\"arrowcolor\": \"#2a3f5f\", \"arrowhead\": 0, \"arrowwidth\": 1}, \"coloraxis\": {\"colorbar\": {\"outlinewidth\": 0, \"ticks\": \"\"}}, \"colorscale\": {\"diverging\": [[0, \"#8e0152\"], [0.1, \"#c51b7d\"], [0.2, \"#de77ae\"], [0.3, \"#f1b6da\"], [0.4, \"#fde0ef\"], [0.5, \"#f7f7f7\"], [0.6, \"#e6f5d0\"], [0.7, \"#b8e186\"], [0.8, \"#7fbc41\"], [0.9, \"#4d9221\"], [1, \"#276419\"]], \"sequential\": [[0.0, \"#0d0887\"], [0.1111111111111111, \"#46039f\"], [0.2222222222222222, \"#7201a8\"], [0.3333333333333333, \"#9c179e\"], [0.4444444444444444, \"#bd3786\"], [0.5555555555555556, \"#d8576b\"], [0.6666666666666666, \"#ed7953\"], [0.7777777777777778, \"#fb9f3a\"], [0.8888888888888888, \"#fdca26\"], [1.0, \"#f0f921\"]], \"sequentialminus\": [[0.0, \"#0d0887\"], [0.1111111111111111, \"#46039f\"], [0.2222222222222222, \"#7201a8\"], [0.3333333333333333, \"#9c179e\"], [0.4444444444444444, \"#bd3786\"], [0.5555555555555556, \"#d8576b\"], [0.6666666666666666, \"#ed7953\"], [0.7777777777777778, \"#fb9f3a\"], [0.8888888888888888, \"#fdca26\"], [1.0, \"#f0f921\"]]}, \"colorway\": [\"#636efa\", \"#EF553B\", \"#00cc96\", \"#ab63fa\", \"#FFA15A\", \"#19d3f3\", \"#FF6692\", \"#B6E880\", \"#FF97FF\", \"#FECB52\"], \"font\": {\"color\": \"#2a3f5f\"}, \"geo\": {\"bgcolor\": \"white\", \"lakecolor\": \"white\", \"landcolor\": \"#E5ECF6\", \"showlakes\": true, \"showland\": true, \"subunitcolor\": \"white\"}, \"hoverlabel\": {\"align\": \"left\"}, \"hovermode\": \"closest\", \"mapbox\": {\"style\": \"light\"}, \"paper_bgcolor\": \"white\", \"plot_bgcolor\": \"#E5ECF6\", \"polar\": {\"angularaxis\": {\"gridcolor\": \"white\", \"linecolor\": \"white\", \"ticks\": \"\"}, \"bgcolor\": \"#E5ECF6\", \"radialaxis\": {\"gridcolor\": \"white\", \"linecolor\": \"white\", \"ticks\": \"\"}}, \"scene\": {\"xaxis\": {\"backgroundcolor\": \"#E5ECF6\", \"gridcolor\": \"white\", \"gridwidth\": 2, \"linecolor\": \"white\", \"showbackground\": true, \"ticks\": \"\", \"zerolinecolor\": \"white\"}, \"yaxis\": {\"backgroundcolor\": \"#E5ECF6\", \"gridcolor\": \"white\", \"gridwidth\": 2, \"linecolor\": \"white\", \"showbackground\": true, \"ticks\": \"\", \"zerolinecolor\": \"white\"}, \"zaxis\": {\"backgroundcolor\": \"#E5ECF6\", \"gridcolor\": \"white\", \"gridwidth\": 2, \"linecolor\": \"white\", \"showbackground\": true, \"ticks\": \"\", \"zerolinecolor\": \"white\"}}, \"shapedefaults\": {\"line\": {\"color\": \"#2a3f5f\"}}, \"ternary\": {\"aaxis\": {\"gridcolor\": \"white\", \"linecolor\": \"white\", \"ticks\": \"\"}, \"baxis\": {\"gridcolor\": \"white\", \"linecolor\": \"white\", \"ticks\": \"\"}, \"bgcolor\": \"#E5ECF6\", \"caxis\": {\"gridcolor\": \"white\", \"linecolor\": \"white\", \"ticks\": \"\"}}, \"title\": {\"x\": 0.05}, \"xaxis\": {\"automargin\": true, \"gridcolor\": \"white\", \"linecolor\": \"white\", \"ticks\": \"\", \"title\": {\"standoff\": 15}, \"zerolinecolor\": \"white\", \"zerolinewidth\": 2}, \"yaxis\": {\"automargin\": true, \"gridcolor\": \"white\", \"linecolor\": \"white\", \"ticks\": \"\", \"title\": {\"standoff\": 15}, \"zerolinecolor\": \"white\", \"zerolinewidth\": 2}}}},\n",
       "                        {\"responsive\": true}\n",
       "                    ).then(function(){\n",
       "                            \n",
       "var gd = document.getElementById('62c4c1c6-9e78-4853-aefb-84810f0143f9');\n",
       "var x = new MutationObserver(function (mutations, observer) {{\n",
       "        var display = window.getComputedStyle(gd).display;\n",
       "        if (!display || display === 'none') {{\n",
       "            console.log([gd, 'removed!']);\n",
       "            Plotly.purge(gd);\n",
       "            observer.disconnect();\n",
       "        }}\n",
       "}});\n",
       "\n",
       "// Listen for the removal of the full notebook cells\n",
       "var notebookContainer = gd.closest('#notebook-container');\n",
       "if (notebookContainer) {{\n",
       "    x.observe(notebookContainer, {childList: true});\n",
       "}}\n",
       "\n",
       "// Listen for the clearing of the current output cell\n",
       "var outputEl = gd.closest('.output');\n",
       "if (outputEl) {{\n",
       "    x.observe(outputEl, {childList: true});\n",
       "}}\n",
       "\n",
       "                        })\n",
       "                };\n",
       "                });\n",
       "            </script>\n",
       "        </div>"
      ]
     },
     "metadata": {},
     "output_type": "display_data"
    }
   ],
   "source": [
    "import plotly.graph_objects as go\n",
    "\n",
    "labels = ['Calgary','Central','Edmonton',\n",
    "              'North', 'South']\n",
    "values = [19.588017, 17.154658, 12.274585, 39.955358, 11.027381]\n",
    "night_colors = ['rgb(249,123,87)', 'rgb(5, 255, 255)','rgb(0,0,200)',\n",
    "                'rgb(253,187,132)', 'rgb(0,152,255)']\n",
    "# Use `hole` to create a donut-like pie chart\n",
    "fig = go.Figure(data=[go.Pie(labels=labels, values=values, title_text='Non-Urgent', marker_colors=night_colors, hole=.3)])\n",
    "fig.show()"
   ]
  },
  {
   "cell_type": "markdown",
   "metadata": {},
   "source": [
    "### ICD codes"
   ]
  },
  {
   "cell_type": "code",
   "execution_count": 40,
   "metadata": {},
   "outputs": [
    {
     "data": {
      "text/html": [
       "<div>\n",
       "<style scoped>\n",
       "    .dataframe tbody tr th:only-of-type {\n",
       "        vertical-align: middle;\n",
       "    }\n",
       "\n",
       "    .dataframe tbody tr th {\n",
       "        vertical-align: top;\n",
       "    }\n",
       "\n",
       "    .dataframe thead th {\n",
       "        text-align: right;\n",
       "    }\n",
       "</style>\n",
       "<table border=\"1\" class=\"dataframe\">\n",
       "  <thead>\n",
       "    <tr style=\"text-align: right;\">\n",
       "      <th></th>\n",
       "      <th>Geography</th>\n",
       "      <th>Year</th>\n",
       "      <th>Sex</th>\n",
       "      <th>Age</th>\n",
       "      <th>Triage Level</th>\n",
       "      <th>ICD Description</th>\n",
       "      <th>Percent</th>\n",
       "      <th>Visits</th>\n",
       "      <th>Total Visits (Across all Triage levels)</th>\n",
       "      <th>Standard Error</th>\n",
       "    </tr>\n",
       "  </thead>\n",
       "  <tbody>\n",
       "    <tr>\n",
       "      <th>0</th>\n",
       "      <td>AB</td>\n",
       "      <td>2015</td>\n",
       "      <td>BOTH</td>\n",
       "      <td>ALL</td>\n",
       "      <td>4-Semi-Urgent</td>\n",
       "      <td>A09-A09 Infectious gastroenteritis and colitis...</td>\n",
       "      <td>33.185603</td>\n",
       "      <td>12954.0</td>\n",
       "      <td>39035.0</td>\n",
       "      <td>0.291573</td>\n",
       "    </tr>\n",
       "    <tr>\n",
       "      <th>1</th>\n",
       "      <td>AB</td>\n",
       "      <td>2015</td>\n",
       "      <td>BOTH</td>\n",
       "      <td>ALL</td>\n",
       "      <td>5-Non-Urgent</td>\n",
       "      <td>A09-A09 Infectious gastroenteritis and colitis...</td>\n",
       "      <td>3.120277</td>\n",
       "      <td>1218.0</td>\n",
       "      <td>39035.0</td>\n",
       "      <td>0.089407</td>\n",
       "    </tr>\n",
       "    <tr>\n",
       "      <th>6</th>\n",
       "      <td>AB</td>\n",
       "      <td>2015</td>\n",
       "      <td>BOTH</td>\n",
       "      <td>ALL</td>\n",
       "      <td>4-Semi-Urgent</td>\n",
       "      <td>B25-B34 Other viral diseases</td>\n",
       "      <td>37.488963</td>\n",
       "      <td>6369.0</td>\n",
       "      <td>16989.0</td>\n",
       "      <td>0.469751</td>\n",
       "    </tr>\n",
       "    <tr>\n",
       "      <th>7</th>\n",
       "      <td>AB</td>\n",
       "      <td>2015</td>\n",
       "      <td>BOTH</td>\n",
       "      <td>ALL</td>\n",
       "      <td>5-Non-Urgent</td>\n",
       "      <td>B25-B34 Other viral diseases</td>\n",
       "      <td>4.979693</td>\n",
       "      <td>846.0</td>\n",
       "      <td>16989.0</td>\n",
       "      <td>0.171205</td>\n",
       "    </tr>\n",
       "    <tr>\n",
       "      <th>12</th>\n",
       "      <td>AB</td>\n",
       "      <td>2015</td>\n",
       "      <td>BOTH</td>\n",
       "      <td>ALL</td>\n",
       "      <td>4-Semi-Urgent</td>\n",
       "      <td>F10-Alcohol related disorders</td>\n",
       "      <td>19.376980</td>\n",
       "      <td>4037.0</td>\n",
       "      <td>20834.0</td>\n",
       "      <td>0.304970</td>\n",
       "    </tr>\n",
       "    <tr>\n",
       "      <th>...</th>\n",
       "      <td>...</td>\n",
       "      <td>...</td>\n",
       "      <td>...</td>\n",
       "      <td>...</td>\n",
       "      <td>...</td>\n",
       "      <td>...</td>\n",
       "      <td>...</td>\n",
       "      <td>...</td>\n",
       "      <td>...</td>\n",
       "      <td>...</td>\n",
       "    </tr>\n",
       "    <tr>\n",
       "      <th>3403</th>\n",
       "      <td>AB</td>\n",
       "      <td>2019</td>\n",
       "      <td>BOTH</td>\n",
       "      <td>30to49</td>\n",
       "      <td>5-Non-Urgent</td>\n",
       "      <td>N30-N39 Other diseases of the urinary system</td>\n",
       "      <td>5.402731</td>\n",
       "      <td>546.0</td>\n",
       "      <td>10106.0</td>\n",
       "      <td>0.231216</td>\n",
       "    </tr>\n",
       "    <tr>\n",
       "      <th>3408</th>\n",
       "      <td>AB</td>\n",
       "      <td>2019</td>\n",
       "      <td>BOTH</td>\n",
       "      <td>50to74</td>\n",
       "      <td>4-Semi-Urgent</td>\n",
       "      <td>N30-N39 Other diseases of the urinary system</td>\n",
       "      <td>49.133468</td>\n",
       "      <td>6549.0</td>\n",
       "      <td>13329.0</td>\n",
       "      <td>0.607142</td>\n",
       "    </tr>\n",
       "    <tr>\n",
       "      <th>3409</th>\n",
       "      <td>AB</td>\n",
       "      <td>2019</td>\n",
       "      <td>BOTH</td>\n",
       "      <td>50to74</td>\n",
       "      <td>5-Non-Urgent</td>\n",
       "      <td>N30-N39 Other diseases of the urinary system</td>\n",
       "      <td>5.026634</td>\n",
       "      <td>670.0</td>\n",
       "      <td>13329.0</td>\n",
       "      <td>0.194196</td>\n",
       "    </tr>\n",
       "    <tr>\n",
       "      <th>3414</th>\n",
       "      <td>AB</td>\n",
       "      <td>2019</td>\n",
       "      <td>BOTH</td>\n",
       "      <td>75+</td>\n",
       "      <td>4-Semi-Urgent</td>\n",
       "      <td>N30-N39 Other diseases of the urinary system</td>\n",
       "      <td>37.413475</td>\n",
       "      <td>3243.0</td>\n",
       "      <td>8668.0</td>\n",
       "      <td>0.656984</td>\n",
       "    </tr>\n",
       "    <tr>\n",
       "      <th>3415</th>\n",
       "      <td>AB</td>\n",
       "      <td>2019</td>\n",
       "      <td>BOTH</td>\n",
       "      <td>75+</td>\n",
       "      <td>5-Non-Urgent</td>\n",
       "      <td>N30-N39 Other diseases of the urinary system</td>\n",
       "      <td>3.657130</td>\n",
       "      <td>317.0</td>\n",
       "      <td>8668.0</td>\n",
       "      <td>0.205405</td>\n",
       "    </tr>\n",
       "  </tbody>\n",
       "</table>\n",
       "<p>1140 rows × 10 columns</p>\n",
       "</div>"
      ],
      "text/plain": [
       "     Geography  Year   Sex     Age   Triage Level  \\\n",
       "0           AB  2015  BOTH     ALL  4-Semi-Urgent   \n",
       "1           AB  2015  BOTH     ALL   5-Non-Urgent   \n",
       "6           AB  2015  BOTH     ALL  4-Semi-Urgent   \n",
       "7           AB  2015  BOTH     ALL   5-Non-Urgent   \n",
       "12          AB  2015  BOTH     ALL  4-Semi-Urgent   \n",
       "...        ...   ...   ...     ...            ...   \n",
       "3403        AB  2019  BOTH  30to49   5-Non-Urgent   \n",
       "3408        AB  2019  BOTH  50to74  4-Semi-Urgent   \n",
       "3409        AB  2019  BOTH  50to74   5-Non-Urgent   \n",
       "3414        AB  2019  BOTH     75+  4-Semi-Urgent   \n",
       "3415        AB  2019  BOTH     75+   5-Non-Urgent   \n",
       "\n",
       "                                        ICD Description    Percent   Visits  \\\n",
       "0     A09-A09 Infectious gastroenteritis and colitis...  33.185603  12954.0   \n",
       "1     A09-A09 Infectious gastroenteritis and colitis...   3.120277   1218.0   \n",
       "6                          B25-B34 Other viral diseases  37.488963   6369.0   \n",
       "7                          B25-B34 Other viral diseases   4.979693    846.0   \n",
       "12                        F10-Alcohol related disorders  19.376980   4037.0   \n",
       "...                                                 ...        ...      ...   \n",
       "3403       N30-N39 Other diseases of the urinary system   5.402731    546.0   \n",
       "3408       N30-N39 Other diseases of the urinary system  49.133468   6549.0   \n",
       "3409       N30-N39 Other diseases of the urinary system   5.026634    670.0   \n",
       "3414       N30-N39 Other diseases of the urinary system  37.413475   3243.0   \n",
       "3415       N30-N39 Other diseases of the urinary system   3.657130    317.0   \n",
       "\n",
       "      Total Visits (Across all Triage levels)  Standard Error  \n",
       "0                                     39035.0        0.291573  \n",
       "1                                     39035.0        0.089407  \n",
       "6                                     16989.0        0.469751  \n",
       "7                                     16989.0        0.171205  \n",
       "12                                    20834.0        0.304970  \n",
       "...                                       ...             ...  \n",
       "3403                                  10106.0        0.231216  \n",
       "3408                                  13329.0        0.607142  \n",
       "3409                                  13329.0        0.194196  \n",
       "3414                                   8668.0        0.656984  \n",
       "3415                                   8668.0        0.205405  \n",
       "\n",
       "[1140 rows x 10 columns]"
      ]
     },
     "execution_count": 40,
     "metadata": {},
     "output_type": "execute_result"
    }
   ],
   "source": [
    "Alberta_totals"
   ]
  },
  {
   "cell_type": "code",
   "execution_count": 44,
   "metadata": {},
   "outputs": [
    {
     "name": "stderr",
     "output_type": "stream",
     "text": [
      "/Library/Frameworks/Python.framework/Versions/3.7/lib/python3.7/site-packages/ipykernel_launcher.py:2: FutureWarning:\n",
      "\n",
      "Indexing with multiple keys (implicitly converted to a tuple of keys) will be deprecated, use a list instead.\n",
      "\n"
     ]
    },
    {
     "data": {
      "text/html": [
       "<div>\n",
       "<style scoped>\n",
       "    .dataframe tbody tr th:only-of-type {\n",
       "        vertical-align: middle;\n",
       "    }\n",
       "\n",
       "    .dataframe tbody tr th {\n",
       "        vertical-align: top;\n",
       "    }\n",
       "\n",
       "    .dataframe thead th {\n",
       "        text-align: right;\n",
       "    }\n",
       "</style>\n",
       "<table border=\"1\" class=\"dataframe\">\n",
       "  <thead>\n",
       "    <tr style=\"text-align: right;\">\n",
       "      <th></th>\n",
       "      <th></th>\n",
       "      <th>Visits</th>\n",
       "      <th>Total Visits (Across all Triage levels)</th>\n",
       "    </tr>\n",
       "    <tr>\n",
       "      <th>Triage Level</th>\n",
       "      <th>ICD Description</th>\n",
       "      <th></th>\n",
       "      <th></th>\n",
       "    </tr>\n",
       "  </thead>\n",
       "  <tbody>\n",
       "    <tr>\n",
       "      <th rowspan=\"19\" valign=\"top\">4-Semi-Urgent</th>\n",
       "      <th>A09-A09 Infectious gastroenteritis and colitis(unspecified)</th>\n",
       "      <td>110506.0</td>\n",
       "      <td>355060.0</td>\n",
       "    </tr>\n",
       "    <tr>\n",
       "      <th>B25-B34 Other viral diseases</th>\n",
       "      <td>67016.0</td>\n",
       "      <td>188886.0</td>\n",
       "    </tr>\n",
       "    <tr>\n",
       "      <th>F10-Alcohol related disorders</th>\n",
       "      <td>36268.0</td>\n",
       "      <td>198420.0</td>\n",
       "    </tr>\n",
       "    <tr>\n",
       "      <th>F11-F19 Mental and behavioral disorders due to psychoactive substance use</th>\n",
       "      <td>19112.0</td>\n",
       "      <td>107006.0</td>\n",
       "    </tr>\n",
       "    <tr>\n",
       "      <th>F30-F39 Mood [affective] disorders</th>\n",
       "      <td>22176.0</td>\n",
       "      <td>132738.0</td>\n",
       "    </tr>\n",
       "    <tr>\n",
       "      <th>F40-F48 Anxiety; dissociative; stress-related; somatoform and other nonpsychotic mental disorders</th>\n",
       "      <td>80860.0</td>\n",
       "      <td>300526.0</td>\n",
       "    </tr>\n",
       "    <tr>\n",
       "      <th>G40-G47 Episodic and paroxysmal disorders</th>\n",
       "      <td>47212.0</td>\n",
       "      <td>283320.0</td>\n",
       "    </tr>\n",
       "    <tr>\n",
       "      <th>H65-H75 Diseases of middle ear and mastoid</th>\n",
       "      <td>150934.0</td>\n",
       "      <td>270780.0</td>\n",
       "    </tr>\n",
       "    <tr>\n",
       "      <th>I10-I16 Hypertensive diseases</th>\n",
       "      <td>23238.0</td>\n",
       "      <td>118512.0</td>\n",
       "    </tr>\n",
       "    <tr>\n",
       "      <th>J00-J06 Acute upper respiratory infections</th>\n",
       "      <td>601950.0</td>\n",
       "      <td>1210560.0</td>\n",
       "    </tr>\n",
       "    <tr>\n",
       "      <th>J09-J18 Influenza and pneumonia</th>\n",
       "      <td>103464.0</td>\n",
       "      <td>369588.0</td>\n",
       "    </tr>\n",
       "    <tr>\n",
       "      <th>J40-J47 Chronic lower respiratory diseases\\t</th>\n",
       "      <td>130852.0</td>\n",
       "      <td>449886.0</td>\n",
       "    </tr>\n",
       "    <tr>\n",
       "      <th>K00-K14 Diseases of oral cavity and salivary glands</th>\n",
       "      <td>122220.0</td>\n",
       "      <td>244360.0</td>\n",
       "    </tr>\n",
       "    <tr>\n",
       "      <th>K55-K64 Other diseases of intestines</th>\n",
       "      <td>121468.0</td>\n",
       "      <td>389704.0</td>\n",
       "    </tr>\n",
       "    <tr>\n",
       "      <th>L00-L08 Infections of the skin and subcutaneous tissue</th>\n",
       "      <td>268462.0</td>\n",
       "      <td>491982.0</td>\n",
       "    </tr>\n",
       "    <tr>\n",
       "      <th>M20-M25 Other joint disorders</th>\n",
       "      <td>106392.0</td>\n",
       "      <td>212880.0</td>\n",
       "    </tr>\n",
       "    <tr>\n",
       "      <th>M50-M54 Other dorsopathies</th>\n",
       "      <td>142624.0</td>\n",
       "      <td>436236.0</td>\n",
       "    </tr>\n",
       "    <tr>\n",
       "      <th>M70-M79 Other soft tissue disorders</th>\n",
       "      <td>169686.0</td>\n",
       "      <td>317762.0</td>\n",
       "    </tr>\n",
       "    <tr>\n",
       "      <th>N30-N39 Other diseases of the urinary system</th>\n",
       "      <td>246378.0</td>\n",
       "      <td>487052.0</td>\n",
       "    </tr>\n",
       "    <tr>\n",
       "      <th rowspan=\"19\" valign=\"top\">5-Non-Urgent</th>\n",
       "      <th>A09-A09 Infectious gastroenteritis and colitis(unspecified)</th>\n",
       "      <td>9244.0</td>\n",
       "      <td>355060.0</td>\n",
       "    </tr>\n",
       "    <tr>\n",
       "      <th>B25-B34 Other viral diseases</th>\n",
       "      <td>8392.0</td>\n",
       "      <td>188886.0</td>\n",
       "    </tr>\n",
       "    <tr>\n",
       "      <th>F10-Alcohol related disorders</th>\n",
       "      <td>3818.0</td>\n",
       "      <td>198420.0</td>\n",
       "    </tr>\n",
       "    <tr>\n",
       "      <th>F11-F19 Mental and behavioral disorders due to psychoactive substance use</th>\n",
       "      <td>4000.0</td>\n",
       "      <td>107006.0</td>\n",
       "    </tr>\n",
       "    <tr>\n",
       "      <th>F30-F39 Mood [affective] disorders</th>\n",
       "      <td>4846.0</td>\n",
       "      <td>132738.0</td>\n",
       "    </tr>\n",
       "    <tr>\n",
       "      <th>F40-F48 Anxiety; dissociative; stress-related; somatoform and other nonpsychotic mental disorders</th>\n",
       "      <td>14186.0</td>\n",
       "      <td>300526.0</td>\n",
       "    </tr>\n",
       "    <tr>\n",
       "      <th>G40-G47 Episodic and paroxysmal disorders</th>\n",
       "      <td>8758.0</td>\n",
       "      <td>283320.0</td>\n",
       "    </tr>\n",
       "    <tr>\n",
       "      <th>H65-H75 Diseases of middle ear and mastoid</th>\n",
       "      <td>20636.0</td>\n",
       "      <td>270780.0</td>\n",
       "    </tr>\n",
       "    <tr>\n",
       "      <th>I10-I16 Hypertensive diseases</th>\n",
       "      <td>6466.0</td>\n",
       "      <td>118512.0</td>\n",
       "    </tr>\n",
       "    <tr>\n",
       "      <th>J00-J06 Acute upper respiratory infections</th>\n",
       "      <td>99820.0</td>\n",
       "      <td>1210560.0</td>\n",
       "    </tr>\n",
       "    <tr>\n",
       "      <th>J09-J18 Influenza and pneumonia</th>\n",
       "      <td>12244.0</td>\n",
       "      <td>369588.0</td>\n",
       "    </tr>\n",
       "    <tr>\n",
       "      <th>J40-J47 Chronic lower respiratory diseases\\t</th>\n",
       "      <td>17668.0</td>\n",
       "      <td>449886.0</td>\n",
       "    </tr>\n",
       "    <tr>\n",
       "      <th>K00-K14 Diseases of oral cavity and salivary glands</th>\n",
       "      <td>24350.0</td>\n",
       "      <td>244360.0</td>\n",
       "    </tr>\n",
       "    <tr>\n",
       "      <th>K55-K64 Other diseases of intestines</th>\n",
       "      <td>17712.0</td>\n",
       "      <td>389704.0</td>\n",
       "    </tr>\n",
       "    <tr>\n",
       "      <th>L00-L08 Infections of the skin and subcutaneous tissue</th>\n",
       "      <td>58234.0</td>\n",
       "      <td>491982.0</td>\n",
       "    </tr>\n",
       "    <tr>\n",
       "      <th>M20-M25 Other joint disorders</th>\n",
       "      <td>23262.0</td>\n",
       "      <td>212880.0</td>\n",
       "    </tr>\n",
       "    <tr>\n",
       "      <th>M50-M54 Other dorsopathies</th>\n",
       "      <td>19800.0</td>\n",
       "      <td>436236.0</td>\n",
       "    </tr>\n",
       "    <tr>\n",
       "      <th>M70-M79 Other soft tissue disorders</th>\n",
       "      <td>37018.0</td>\n",
       "      <td>317762.0</td>\n",
       "    </tr>\n",
       "    <tr>\n",
       "      <th>N30-N39 Other diseases of the urinary system</th>\n",
       "      <td>28884.0</td>\n",
       "      <td>487052.0</td>\n",
       "    </tr>\n",
       "  </tbody>\n",
       "</table>\n",
       "</div>"
      ],
      "text/plain": [
       "                                                                    Visits  \\\n",
       "Triage Level  ICD Description                                                \n",
       "4-Semi-Urgent A09-A09 Infectious gastroenteritis and colitis(...  110506.0   \n",
       "              B25-B34 Other viral diseases                         67016.0   \n",
       "              F10-Alcohol related disorders                        36268.0   \n",
       "              F11-F19 Mental and behavioral disorders due to ...   19112.0   \n",
       "              F30-F39 Mood [affective] disorders                   22176.0   \n",
       "              F40-F48 Anxiety; dissociative; stress-related; ...   80860.0   \n",
       "              G40-G47 Episodic and paroxysmal disorders            47212.0   \n",
       "              H65-H75 Diseases of middle ear and mastoid          150934.0   \n",
       "              I10-I16 Hypertensive diseases                        23238.0   \n",
       "              J00-J06 Acute upper respiratory infections          601950.0   \n",
       "              J09-J18 Influenza and pneumonia                     103464.0   \n",
       "              J40-J47 Chronic lower respiratory diseases\\t        130852.0   \n",
       "              K00-K14 Diseases of oral cavity and salivary gl...  122220.0   \n",
       "              K55-K64 Other diseases of intestines                121468.0   \n",
       "              L00-L08 Infections of the skin and subcutaneous...  268462.0   \n",
       "              M20-M25 Other joint disorders                       106392.0   \n",
       "              M50-M54 Other dorsopathies                          142624.0   \n",
       "              M70-M79 Other soft tissue disorders                 169686.0   \n",
       "              N30-N39 Other diseases of the urinary system        246378.0   \n",
       "5-Non-Urgent  A09-A09 Infectious gastroenteritis and colitis(...    9244.0   \n",
       "              B25-B34 Other viral diseases                          8392.0   \n",
       "              F10-Alcohol related disorders                         3818.0   \n",
       "              F11-F19 Mental and behavioral disorders due to ...    4000.0   \n",
       "              F30-F39 Mood [affective] disorders                    4846.0   \n",
       "              F40-F48 Anxiety; dissociative; stress-related; ...   14186.0   \n",
       "              G40-G47 Episodic and paroxysmal disorders             8758.0   \n",
       "              H65-H75 Diseases of middle ear and mastoid           20636.0   \n",
       "              I10-I16 Hypertensive diseases                         6466.0   \n",
       "              J00-J06 Acute upper respiratory infections           99820.0   \n",
       "              J09-J18 Influenza and pneumonia                      12244.0   \n",
       "              J40-J47 Chronic lower respiratory diseases\\t         17668.0   \n",
       "              K00-K14 Diseases of oral cavity and salivary gl...   24350.0   \n",
       "              K55-K64 Other diseases of intestines                 17712.0   \n",
       "              L00-L08 Infections of the skin and subcutaneous...   58234.0   \n",
       "              M20-M25 Other joint disorders                        23262.0   \n",
       "              M50-M54 Other dorsopathies                           19800.0   \n",
       "              M70-M79 Other soft tissue disorders                  37018.0   \n",
       "              N30-N39 Other diseases of the urinary system         28884.0   \n",
       "\n",
       "                                                                  Total Visits (Across all Triage levels)  \n",
       "Triage Level  ICD Description                                                                              \n",
       "4-Semi-Urgent A09-A09 Infectious gastroenteritis and colitis(...                                 355060.0  \n",
       "              B25-B34 Other viral diseases                                                       188886.0  \n",
       "              F10-Alcohol related disorders                                                      198420.0  \n",
       "              F11-F19 Mental and behavioral disorders due to ...                                 107006.0  \n",
       "              F30-F39 Mood [affective] disorders                                                 132738.0  \n",
       "              F40-F48 Anxiety; dissociative; stress-related; ...                                 300526.0  \n",
       "              G40-G47 Episodic and paroxysmal disorders                                          283320.0  \n",
       "              H65-H75 Diseases of middle ear and mastoid                                         270780.0  \n",
       "              I10-I16 Hypertensive diseases                                                      118512.0  \n",
       "              J00-J06 Acute upper respiratory infections                                        1210560.0  \n",
       "              J09-J18 Influenza and pneumonia                                                    369588.0  \n",
       "              J40-J47 Chronic lower respiratory diseases\\t                                       449886.0  \n",
       "              K00-K14 Diseases of oral cavity and salivary gl...                                 244360.0  \n",
       "              K55-K64 Other diseases of intestines                                               389704.0  \n",
       "              L00-L08 Infections of the skin and subcutaneous...                                 491982.0  \n",
       "              M20-M25 Other joint disorders                                                      212880.0  \n",
       "              M50-M54 Other dorsopathies                                                         436236.0  \n",
       "              M70-M79 Other soft tissue disorders                                                317762.0  \n",
       "              N30-N39 Other diseases of the urinary system                                       487052.0  \n",
       "5-Non-Urgent  A09-A09 Infectious gastroenteritis and colitis(...                                 355060.0  \n",
       "              B25-B34 Other viral diseases                                                       188886.0  \n",
       "              F10-Alcohol related disorders                                                      198420.0  \n",
       "              F11-F19 Mental and behavioral disorders due to ...                                 107006.0  \n",
       "              F30-F39 Mood [affective] disorders                                                 132738.0  \n",
       "              F40-F48 Anxiety; dissociative; stress-related; ...                                 300526.0  \n",
       "              G40-G47 Episodic and paroxysmal disorders                                          283320.0  \n",
       "              H65-H75 Diseases of middle ear and mastoid                                         270780.0  \n",
       "              I10-I16 Hypertensive diseases                                                      118512.0  \n",
       "              J00-J06 Acute upper respiratory infections                                        1210560.0  \n",
       "              J09-J18 Influenza and pneumonia                                                    369588.0  \n",
       "              J40-J47 Chronic lower respiratory diseases\\t                                       449886.0  \n",
       "              K00-K14 Diseases of oral cavity and salivary gl...                                 244360.0  \n",
       "              K55-K64 Other diseases of intestines                                               389704.0  \n",
       "              L00-L08 Infections of the skin and subcutaneous...                                 491982.0  \n",
       "              M20-M25 Other joint disorders                                                      212880.0  \n",
       "              M50-M54 Other dorsopathies                                                         436236.0  \n",
       "              M70-M79 Other soft tissue disorders                                                317762.0  \n",
       "              N30-N39 Other diseases of the urinary system                                       487052.0  "
      ]
     },
     "metadata": {},
     "output_type": "display_data"
    }
   ],
   "source": [
    "pd.set_option('display.max_rows', 500)\n",
    "ICD = pd.DataFrame(both.groupby(['Triage Level', 'ICD Description'])['Visits', 'Total Visits (Across all Triage levels)'].sum())\n",
    "display(ICD)"
   ]
  },
  {
   "cell_type": "code",
   "execution_count": 49,
   "metadata": {},
   "outputs": [
    {
     "data": {
      "text/plain": [
       "Triage Level   ICD Description                                       \n",
       "4-Semi-Urgent  J00-J06 Acute upper respiratory infections                601950.0\n",
       "               L00-L08 Infections of the skin and subcutaneous tissue    268462.0\n",
       "               N30-N39 Other diseases of the urinary system              246378.0\n",
       "               M70-M79 Other soft tissue disorders                       169686.0\n",
       "               H65-H75 Diseases of middle ear and mastoid                150934.0\n",
       "Name: Visits, dtype: float64"
      ]
     },
     "execution_count": 49,
     "metadata": {},
     "output_type": "execute_result"
    }
   ],
   "source": [
    "ICD['Visits'].nlargest(5)"
   ]
  },
  {
   "cell_type": "code",
   "execution_count": 51,
   "metadata": {},
   "outputs": [
    {
     "data": {
      "text/html": [
       "<div>\n",
       "<style scoped>\n",
       "    .dataframe tbody tr th:only-of-type {\n",
       "        vertical-align: middle;\n",
       "    }\n",
       "\n",
       "    .dataframe tbody tr th {\n",
       "        vertical-align: top;\n",
       "    }\n",
       "\n",
       "    .dataframe thead th {\n",
       "        text-align: right;\n",
       "    }\n",
       "</style>\n",
       "<table border=\"1\" class=\"dataframe\">\n",
       "  <thead>\n",
       "    <tr style=\"text-align: right;\">\n",
       "      <th></th>\n",
       "      <th></th>\n",
       "      <th>Visits</th>\n",
       "      <th>Total Visits (Across all Triage levels)</th>\n",
       "    </tr>\n",
       "    <tr>\n",
       "      <th>Triage Level</th>\n",
       "      <th>ICD Description</th>\n",
       "      <th></th>\n",
       "      <th></th>\n",
       "    </tr>\n",
       "  </thead>\n",
       "  <tbody>\n",
       "    <tr>\n",
       "      <th rowspan=\"12\" valign=\"top\">4-Semi-Urgent</th>\n",
       "      <th>J00-J06 Acute upper respiratory infections</th>\n",
       "      <td>601950.0</td>\n",
       "      <td>1210560.0</td>\n",
       "    </tr>\n",
       "    <tr>\n",
       "      <th>L00-L08 Infections of the skin and subcutaneous tissue</th>\n",
       "      <td>268462.0</td>\n",
       "      <td>491982.0</td>\n",
       "    </tr>\n",
       "    <tr>\n",
       "      <th>N30-N39 Other diseases of the urinary system</th>\n",
       "      <td>246378.0</td>\n",
       "      <td>487052.0</td>\n",
       "    </tr>\n",
       "    <tr>\n",
       "      <th>M70-M79 Other soft tissue disorders</th>\n",
       "      <td>169686.0</td>\n",
       "      <td>317762.0</td>\n",
       "    </tr>\n",
       "    <tr>\n",
       "      <th>H65-H75 Diseases of middle ear and mastoid</th>\n",
       "      <td>150934.0</td>\n",
       "      <td>270780.0</td>\n",
       "    </tr>\n",
       "    <tr>\n",
       "      <th>M50-M54 Other dorsopathies</th>\n",
       "      <td>142624.0</td>\n",
       "      <td>436236.0</td>\n",
       "    </tr>\n",
       "    <tr>\n",
       "      <th>J40-J47 Chronic lower respiratory diseases\\t</th>\n",
       "      <td>130852.0</td>\n",
       "      <td>449886.0</td>\n",
       "    </tr>\n",
       "    <tr>\n",
       "      <th>K00-K14 Diseases of oral cavity and salivary glands</th>\n",
       "      <td>122220.0</td>\n",
       "      <td>244360.0</td>\n",
       "    </tr>\n",
       "    <tr>\n",
       "      <th>K55-K64 Other diseases of intestines</th>\n",
       "      <td>121468.0</td>\n",
       "      <td>389704.0</td>\n",
       "    </tr>\n",
       "    <tr>\n",
       "      <th>A09-A09 Infectious gastroenteritis and colitis(unspecified)</th>\n",
       "      <td>110506.0</td>\n",
       "      <td>355060.0</td>\n",
       "    </tr>\n",
       "    <tr>\n",
       "      <th>M20-M25 Other joint disorders</th>\n",
       "      <td>106392.0</td>\n",
       "      <td>212880.0</td>\n",
       "    </tr>\n",
       "    <tr>\n",
       "      <th>J09-J18 Influenza and pneumonia</th>\n",
       "      <td>103464.0</td>\n",
       "      <td>369588.0</td>\n",
       "    </tr>\n",
       "    <tr>\n",
       "      <th>5-Non-Urgent</th>\n",
       "      <th>J00-J06 Acute upper respiratory infections</th>\n",
       "      <td>99820.0</td>\n",
       "      <td>1210560.0</td>\n",
       "    </tr>\n",
       "    <tr>\n",
       "      <th rowspan=\"2\" valign=\"top\">4-Semi-Urgent</th>\n",
       "      <th>F40-F48 Anxiety; dissociative; stress-related; somatoform and other nonpsychotic mental disorders</th>\n",
       "      <td>80860.0</td>\n",
       "      <td>300526.0</td>\n",
       "    </tr>\n",
       "    <tr>\n",
       "      <th>B25-B34 Other viral diseases</th>\n",
       "      <td>67016.0</td>\n",
       "      <td>188886.0</td>\n",
       "    </tr>\n",
       "    <tr>\n",
       "      <th>5-Non-Urgent</th>\n",
       "      <th>L00-L08 Infections of the skin and subcutaneous tissue</th>\n",
       "      <td>58234.0</td>\n",
       "      <td>491982.0</td>\n",
       "    </tr>\n",
       "    <tr>\n",
       "      <th>4-Semi-Urgent</th>\n",
       "      <th>G40-G47 Episodic and paroxysmal disorders</th>\n",
       "      <td>47212.0</td>\n",
       "      <td>283320.0</td>\n",
       "    </tr>\n",
       "    <tr>\n",
       "      <th>5-Non-Urgent</th>\n",
       "      <th>M70-M79 Other soft tissue disorders</th>\n",
       "      <td>37018.0</td>\n",
       "      <td>317762.0</td>\n",
       "    </tr>\n",
       "    <tr>\n",
       "      <th>4-Semi-Urgent</th>\n",
       "      <th>F10-Alcohol related disorders</th>\n",
       "      <td>36268.0</td>\n",
       "      <td>198420.0</td>\n",
       "    </tr>\n",
       "    <tr>\n",
       "      <th rowspan=\"3\" valign=\"top\">5-Non-Urgent</th>\n",
       "      <th>N30-N39 Other diseases of the urinary system</th>\n",
       "      <td>28884.0</td>\n",
       "      <td>487052.0</td>\n",
       "    </tr>\n",
       "    <tr>\n",
       "      <th>K00-K14 Diseases of oral cavity and salivary glands</th>\n",
       "      <td>24350.0</td>\n",
       "      <td>244360.0</td>\n",
       "    </tr>\n",
       "    <tr>\n",
       "      <th>M20-M25 Other joint disorders</th>\n",
       "      <td>23262.0</td>\n",
       "      <td>212880.0</td>\n",
       "    </tr>\n",
       "    <tr>\n",
       "      <th rowspan=\"2\" valign=\"top\">4-Semi-Urgent</th>\n",
       "      <th>I10-I16 Hypertensive diseases</th>\n",
       "      <td>23238.0</td>\n",
       "      <td>118512.0</td>\n",
       "    </tr>\n",
       "    <tr>\n",
       "      <th>F30-F39 Mood [affective] disorders</th>\n",
       "      <td>22176.0</td>\n",
       "      <td>132738.0</td>\n",
       "    </tr>\n",
       "    <tr>\n",
       "      <th rowspan=\"2\" valign=\"top\">5-Non-Urgent</th>\n",
       "      <th>H65-H75 Diseases of middle ear and mastoid</th>\n",
       "      <td>20636.0</td>\n",
       "      <td>270780.0</td>\n",
       "    </tr>\n",
       "    <tr>\n",
       "      <th>M50-M54 Other dorsopathies</th>\n",
       "      <td>19800.0</td>\n",
       "      <td>436236.0</td>\n",
       "    </tr>\n",
       "    <tr>\n",
       "      <th>4-Semi-Urgent</th>\n",
       "      <th>F11-F19 Mental and behavioral disorders due to psychoactive substance use</th>\n",
       "      <td>19112.0</td>\n",
       "      <td>107006.0</td>\n",
       "    </tr>\n",
       "    <tr>\n",
       "      <th rowspan=\"11\" valign=\"top\">5-Non-Urgent</th>\n",
       "      <th>K55-K64 Other diseases of intestines</th>\n",
       "      <td>17712.0</td>\n",
       "      <td>389704.0</td>\n",
       "    </tr>\n",
       "    <tr>\n",
       "      <th>J40-J47 Chronic lower respiratory diseases\\t</th>\n",
       "      <td>17668.0</td>\n",
       "      <td>449886.0</td>\n",
       "    </tr>\n",
       "    <tr>\n",
       "      <th>F40-F48 Anxiety; dissociative; stress-related; somatoform and other nonpsychotic mental disorders</th>\n",
       "      <td>14186.0</td>\n",
       "      <td>300526.0</td>\n",
       "    </tr>\n",
       "    <tr>\n",
       "      <th>J09-J18 Influenza and pneumonia</th>\n",
       "      <td>12244.0</td>\n",
       "      <td>369588.0</td>\n",
       "    </tr>\n",
       "    <tr>\n",
       "      <th>A09-A09 Infectious gastroenteritis and colitis(unspecified)</th>\n",
       "      <td>9244.0</td>\n",
       "      <td>355060.0</td>\n",
       "    </tr>\n",
       "    <tr>\n",
       "      <th>G40-G47 Episodic and paroxysmal disorders</th>\n",
       "      <td>8758.0</td>\n",
       "      <td>283320.0</td>\n",
       "    </tr>\n",
       "    <tr>\n",
       "      <th>B25-B34 Other viral diseases</th>\n",
       "      <td>8392.0</td>\n",
       "      <td>188886.0</td>\n",
       "    </tr>\n",
       "    <tr>\n",
       "      <th>I10-I16 Hypertensive diseases</th>\n",
       "      <td>6466.0</td>\n",
       "      <td>118512.0</td>\n",
       "    </tr>\n",
       "    <tr>\n",
       "      <th>F30-F39 Mood [affective] disorders</th>\n",
       "      <td>4846.0</td>\n",
       "      <td>132738.0</td>\n",
       "    </tr>\n",
       "    <tr>\n",
       "      <th>F11-F19 Mental and behavioral disorders due to psychoactive substance use</th>\n",
       "      <td>4000.0</td>\n",
       "      <td>107006.0</td>\n",
       "    </tr>\n",
       "    <tr>\n",
       "      <th>F10-Alcohol related disorders</th>\n",
       "      <td>3818.0</td>\n",
       "      <td>198420.0</td>\n",
       "    </tr>\n",
       "  </tbody>\n",
       "</table>\n",
       "</div>"
      ],
      "text/plain": [
       "                                                                    Visits  \\\n",
       "Triage Level  ICD Description                                                \n",
       "4-Semi-Urgent J00-J06 Acute upper respiratory infections          601950.0   \n",
       "              L00-L08 Infections of the skin and subcutaneous...  268462.0   \n",
       "              N30-N39 Other diseases of the urinary system        246378.0   \n",
       "              M70-M79 Other soft tissue disorders                 169686.0   \n",
       "              H65-H75 Diseases of middle ear and mastoid          150934.0   \n",
       "              M50-M54 Other dorsopathies                          142624.0   \n",
       "              J40-J47 Chronic lower respiratory diseases\\t        130852.0   \n",
       "              K00-K14 Diseases of oral cavity and salivary gl...  122220.0   \n",
       "              K55-K64 Other diseases of intestines                121468.0   \n",
       "              A09-A09 Infectious gastroenteritis and colitis(...  110506.0   \n",
       "              M20-M25 Other joint disorders                       106392.0   \n",
       "              J09-J18 Influenza and pneumonia                     103464.0   \n",
       "5-Non-Urgent  J00-J06 Acute upper respiratory infections           99820.0   \n",
       "4-Semi-Urgent F40-F48 Anxiety; dissociative; stress-related; ...   80860.0   \n",
       "              B25-B34 Other viral diseases                         67016.0   \n",
       "5-Non-Urgent  L00-L08 Infections of the skin and subcutaneous...   58234.0   \n",
       "4-Semi-Urgent G40-G47 Episodic and paroxysmal disorders            47212.0   \n",
       "5-Non-Urgent  M70-M79 Other soft tissue disorders                  37018.0   \n",
       "4-Semi-Urgent F10-Alcohol related disorders                        36268.0   \n",
       "5-Non-Urgent  N30-N39 Other diseases of the urinary system         28884.0   \n",
       "              K00-K14 Diseases of oral cavity and salivary gl...   24350.0   \n",
       "              M20-M25 Other joint disorders                        23262.0   \n",
       "4-Semi-Urgent I10-I16 Hypertensive diseases                        23238.0   \n",
       "              F30-F39 Mood [affective] disorders                   22176.0   \n",
       "5-Non-Urgent  H65-H75 Diseases of middle ear and mastoid           20636.0   \n",
       "              M50-M54 Other dorsopathies                           19800.0   \n",
       "4-Semi-Urgent F11-F19 Mental and behavioral disorders due to ...   19112.0   \n",
       "5-Non-Urgent  K55-K64 Other diseases of intestines                 17712.0   \n",
       "              J40-J47 Chronic lower respiratory diseases\\t         17668.0   \n",
       "              F40-F48 Anxiety; dissociative; stress-related; ...   14186.0   \n",
       "              J09-J18 Influenza and pneumonia                      12244.0   \n",
       "              A09-A09 Infectious gastroenteritis and colitis(...    9244.0   \n",
       "              G40-G47 Episodic and paroxysmal disorders             8758.0   \n",
       "              B25-B34 Other viral diseases                          8392.0   \n",
       "              I10-I16 Hypertensive diseases                         6466.0   \n",
       "              F30-F39 Mood [affective] disorders                    4846.0   \n",
       "              F11-F19 Mental and behavioral disorders due to ...    4000.0   \n",
       "              F10-Alcohol related disorders                         3818.0   \n",
       "\n",
       "                                                                  Total Visits (Across all Triage levels)  \n",
       "Triage Level  ICD Description                                                                              \n",
       "4-Semi-Urgent J00-J06 Acute upper respiratory infections                                        1210560.0  \n",
       "              L00-L08 Infections of the skin and subcutaneous...                                 491982.0  \n",
       "              N30-N39 Other diseases of the urinary system                                       487052.0  \n",
       "              M70-M79 Other soft tissue disorders                                                317762.0  \n",
       "              H65-H75 Diseases of middle ear and mastoid                                         270780.0  \n",
       "              M50-M54 Other dorsopathies                                                         436236.0  \n",
       "              J40-J47 Chronic lower respiratory diseases\\t                                       449886.0  \n",
       "              K00-K14 Diseases of oral cavity and salivary gl...                                 244360.0  \n",
       "              K55-K64 Other diseases of intestines                                               389704.0  \n",
       "              A09-A09 Infectious gastroenteritis and colitis(...                                 355060.0  \n",
       "              M20-M25 Other joint disorders                                                      212880.0  \n",
       "              J09-J18 Influenza and pneumonia                                                    369588.0  \n",
       "5-Non-Urgent  J00-J06 Acute upper respiratory infections                                        1210560.0  \n",
       "4-Semi-Urgent F40-F48 Anxiety; dissociative; stress-related; ...                                 300526.0  \n",
       "              B25-B34 Other viral diseases                                                       188886.0  \n",
       "5-Non-Urgent  L00-L08 Infections of the skin and subcutaneous...                                 491982.0  \n",
       "4-Semi-Urgent G40-G47 Episodic and paroxysmal disorders                                          283320.0  \n",
       "5-Non-Urgent  M70-M79 Other soft tissue disorders                                                317762.0  \n",
       "4-Semi-Urgent F10-Alcohol related disorders                                                      198420.0  \n",
       "5-Non-Urgent  N30-N39 Other diseases of the urinary system                                       487052.0  \n",
       "              K00-K14 Diseases of oral cavity and salivary gl...                                 244360.0  \n",
       "              M20-M25 Other joint disorders                                                      212880.0  \n",
       "4-Semi-Urgent I10-I16 Hypertensive diseases                                                      118512.0  \n",
       "              F30-F39 Mood [affective] disorders                                                 132738.0  \n",
       "5-Non-Urgent  H65-H75 Diseases of middle ear and mastoid                                         270780.0  \n",
       "              M50-M54 Other dorsopathies                                                         436236.0  \n",
       "4-Semi-Urgent F11-F19 Mental and behavioral disorders due to ...                                 107006.0  \n",
       "5-Non-Urgent  K55-K64 Other diseases of intestines                                               389704.0  \n",
       "              J40-J47 Chronic lower respiratory diseases\\t                                       449886.0  \n",
       "              F40-F48 Anxiety; dissociative; stress-related; ...                                 300526.0  \n",
       "              J09-J18 Influenza and pneumonia                                                    369588.0  \n",
       "              A09-A09 Infectious gastroenteritis and colitis(...                                 355060.0  \n",
       "              G40-G47 Episodic and paroxysmal disorders                                          283320.0  \n",
       "              B25-B34 Other viral diseases                                                       188886.0  \n",
       "              I10-I16 Hypertensive diseases                                                      118512.0  \n",
       "              F30-F39 Mood [affective] disorders                                                 132738.0  \n",
       "              F11-F19 Mental and behavioral disorders due to ...                                 107006.0  \n",
       "              F10-Alcohol related disorders                                                      198420.0  "
      ]
     },
     "execution_count": 51,
     "metadata": {},
     "output_type": "execute_result"
    }
   ],
   "source": [
    "ICD1 = ICD.sort_values(by=['Visits'], ascending=False)\n",
    "ICD1"
   ]
  },
  {
   "cell_type": "code",
   "execution_count": 54,
   "metadata": {},
   "outputs": [
    {
     "data": {
      "text/html": [
       "<div>\n",
       "<style scoped>\n",
       "    .dataframe tbody tr th:only-of-type {\n",
       "        vertical-align: middle;\n",
       "    }\n",
       "\n",
       "    .dataframe tbody tr th {\n",
       "        vertical-align: top;\n",
       "    }\n",
       "\n",
       "    .dataframe thead th {\n",
       "        text-align: right;\n",
       "    }\n",
       "</style>\n",
       "<table border=\"1\" class=\"dataframe\">\n",
       "  <thead>\n",
       "    <tr style=\"text-align: right;\">\n",
       "      <th></th>\n",
       "      <th></th>\n",
       "      <th>Visits</th>\n",
       "      <th>Total Visits (Across all Triage levels)</th>\n",
       "    </tr>\n",
       "    <tr>\n",
       "      <th>Triage Level</th>\n",
       "      <th>ICD Description</th>\n",
       "      <th></th>\n",
       "      <th></th>\n",
       "    </tr>\n",
       "  </thead>\n",
       "  <tbody>\n",
       "    <tr>\n",
       "      <th rowspan=\"5\" valign=\"top\">4-Semi-Urgent</th>\n",
       "      <th>J00-J06 Acute upper respiratory infections</th>\n",
       "      <td>601950.0</td>\n",
       "      <td>1210560.0</td>\n",
       "    </tr>\n",
       "    <tr>\n",
       "      <th>L00-L08 Infections of the skin and subcutaneous tissue</th>\n",
       "      <td>268462.0</td>\n",
       "      <td>491982.0</td>\n",
       "    </tr>\n",
       "    <tr>\n",
       "      <th>N30-N39 Other diseases of the urinary system</th>\n",
       "      <td>246378.0</td>\n",
       "      <td>487052.0</td>\n",
       "    </tr>\n",
       "    <tr>\n",
       "      <th>M70-M79 Other soft tissue disorders</th>\n",
       "      <td>169686.0</td>\n",
       "      <td>317762.0</td>\n",
       "    </tr>\n",
       "    <tr>\n",
       "      <th>H65-H75 Diseases of middle ear and mastoid</th>\n",
       "      <td>150934.0</td>\n",
       "      <td>270780.0</td>\n",
       "    </tr>\n",
       "    <tr>\n",
       "      <th rowspan=\"5\" valign=\"top\">5-Non-Urgent</th>\n",
       "      <th>J00-J06 Acute upper respiratory infections</th>\n",
       "      <td>99820.0</td>\n",
       "      <td>1210560.0</td>\n",
       "    </tr>\n",
       "    <tr>\n",
       "      <th>L00-L08 Infections of the skin and subcutaneous tissue</th>\n",
       "      <td>58234.0</td>\n",
       "      <td>491982.0</td>\n",
       "    </tr>\n",
       "    <tr>\n",
       "      <th>M70-M79 Other soft tissue disorders</th>\n",
       "      <td>37018.0</td>\n",
       "      <td>317762.0</td>\n",
       "    </tr>\n",
       "    <tr>\n",
       "      <th>N30-N39 Other diseases of the urinary system</th>\n",
       "      <td>28884.0</td>\n",
       "      <td>487052.0</td>\n",
       "    </tr>\n",
       "    <tr>\n",
       "      <th>K00-K14 Diseases of oral cavity and salivary glands</th>\n",
       "      <td>24350.0</td>\n",
       "      <td>244360.0</td>\n",
       "    </tr>\n",
       "  </tbody>\n",
       "</table>\n",
       "</div>"
      ],
      "text/plain": [
       "                                                                    Visits  \\\n",
       "Triage Level  ICD Description                                                \n",
       "4-Semi-Urgent J00-J06 Acute upper respiratory infections          601950.0   \n",
       "              L00-L08 Infections of the skin and subcutaneous...  268462.0   \n",
       "              N30-N39 Other diseases of the urinary system        246378.0   \n",
       "              M70-M79 Other soft tissue disorders                 169686.0   \n",
       "              H65-H75 Diseases of middle ear and mastoid          150934.0   \n",
       "5-Non-Urgent  J00-J06 Acute upper respiratory infections           99820.0   \n",
       "              L00-L08 Infections of the skin and subcutaneous...   58234.0   \n",
       "              M70-M79 Other soft tissue disorders                  37018.0   \n",
       "              N30-N39 Other diseases of the urinary system         28884.0   \n",
       "              K00-K14 Diseases of oral cavity and salivary gl...   24350.0   \n",
       "\n",
       "                                                                  Total Visits (Across all Triage levels)  \n",
       "Triage Level  ICD Description                                                                              \n",
       "4-Semi-Urgent J00-J06 Acute upper respiratory infections                                        1210560.0  \n",
       "              L00-L08 Infections of the skin and subcutaneous...                                 491982.0  \n",
       "              N30-N39 Other diseases of the urinary system                                       487052.0  \n",
       "              M70-M79 Other soft tissue disorders                                                317762.0  \n",
       "              H65-H75 Diseases of middle ear and mastoid                                         270780.0  \n",
       "5-Non-Urgent  J00-J06 Acute upper respiratory infections                                        1210560.0  \n",
       "              L00-L08 Infections of the skin and subcutaneous...                                 491982.0  \n",
       "              M70-M79 Other soft tissue disorders                                                317762.0  \n",
       "              N30-N39 Other diseases of the urinary system                                       487052.0  \n",
       "              K00-K14 Diseases of oral cavity and salivary gl...                                 244360.0  "
      ]
     },
     "execution_count": 54,
     "metadata": {},
     "output_type": "execute_result"
    }
   ],
   "source": [
    "g = ICD.groupby(level=0, group_keys=False).apply(\n",
    "      lambda x: x.sort_values(('Visits'), ascending=False).head(5))\n",
    "g"
   ]
  },
  {
   "cell_type": "code",
   "execution_count": 174,
   "metadata": {},
   "outputs": [
    {
     "data": {
      "application/vnd.plotly.v1+json": {
       "config": {
        "plotlyServerURL": "https://plot.ly"
       },
       "data": [
        {
         "marker": {
          "line": {
           "color": "rgba(58, 71, 80, 1.0)",
           "width": 2
          }
         },
         "orientation": "h",
         "text": [
          "1210560",
          "491982",
          "487052",
          "317762",
          "270780"
         ],
         "type": "bar",
         "x": [
          601950,
          268462,
          246378,
          169686,
          15093
         ],
         "y": [
          "Acute Upper Respiratory Infections ",
          "Infections of the Skin and Subcutaneous Tissue ",
          "Other Diseases of the Urinary System ",
          "Other Soft Tissue Disorders ",
          "Diseases of Middle Ear and Mastoid "
         ]
        }
       ],
       "layout": {
        "paper_bgcolor": "rgba(0,0,0,0)",
        "plot_bgcolor": "rgba(0,0,0,0)",
        "template": {
         "data": {
          "bar": [
           {
            "error_x": {
             "color": "#2a3f5f"
            },
            "error_y": {
             "color": "#2a3f5f"
            },
            "marker": {
             "line": {
              "color": "#E5ECF6",
              "width": 0.5
             }
            },
            "type": "bar"
           }
          ],
          "barpolar": [
           {
            "marker": {
             "line": {
              "color": "#E5ECF6",
              "width": 0.5
             }
            },
            "type": "barpolar"
           }
          ],
          "carpet": [
           {
            "aaxis": {
             "endlinecolor": "#2a3f5f",
             "gridcolor": "white",
             "linecolor": "white",
             "minorgridcolor": "white",
             "startlinecolor": "#2a3f5f"
            },
            "baxis": {
             "endlinecolor": "#2a3f5f",
             "gridcolor": "white",
             "linecolor": "white",
             "minorgridcolor": "white",
             "startlinecolor": "#2a3f5f"
            },
            "type": "carpet"
           }
          ],
          "choropleth": [
           {
            "colorbar": {
             "outlinewidth": 0,
             "ticks": ""
            },
            "type": "choropleth"
           }
          ],
          "contour": [
           {
            "colorbar": {
             "outlinewidth": 0,
             "ticks": ""
            },
            "colorscale": [
             [
              0,
              "#0d0887"
             ],
             [
              0.1111111111111111,
              "#46039f"
             ],
             [
              0.2222222222222222,
              "#7201a8"
             ],
             [
              0.3333333333333333,
              "#9c179e"
             ],
             [
              0.4444444444444444,
              "#bd3786"
             ],
             [
              0.5555555555555556,
              "#d8576b"
             ],
             [
              0.6666666666666666,
              "#ed7953"
             ],
             [
              0.7777777777777778,
              "#fb9f3a"
             ],
             [
              0.8888888888888888,
              "#fdca26"
             ],
             [
              1,
              "#f0f921"
             ]
            ],
            "type": "contour"
           }
          ],
          "contourcarpet": [
           {
            "colorbar": {
             "outlinewidth": 0,
             "ticks": ""
            },
            "type": "contourcarpet"
           }
          ],
          "heatmap": [
           {
            "colorbar": {
             "outlinewidth": 0,
             "ticks": ""
            },
            "colorscale": [
             [
              0,
              "#0d0887"
             ],
             [
              0.1111111111111111,
              "#46039f"
             ],
             [
              0.2222222222222222,
              "#7201a8"
             ],
             [
              0.3333333333333333,
              "#9c179e"
             ],
             [
              0.4444444444444444,
              "#bd3786"
             ],
             [
              0.5555555555555556,
              "#d8576b"
             ],
             [
              0.6666666666666666,
              "#ed7953"
             ],
             [
              0.7777777777777778,
              "#fb9f3a"
             ],
             [
              0.8888888888888888,
              "#fdca26"
             ],
             [
              1,
              "#f0f921"
             ]
            ],
            "type": "heatmap"
           }
          ],
          "heatmapgl": [
           {
            "colorbar": {
             "outlinewidth": 0,
             "ticks": ""
            },
            "colorscale": [
             [
              0,
              "#0d0887"
             ],
             [
              0.1111111111111111,
              "#46039f"
             ],
             [
              0.2222222222222222,
              "#7201a8"
             ],
             [
              0.3333333333333333,
              "#9c179e"
             ],
             [
              0.4444444444444444,
              "#bd3786"
             ],
             [
              0.5555555555555556,
              "#d8576b"
             ],
             [
              0.6666666666666666,
              "#ed7953"
             ],
             [
              0.7777777777777778,
              "#fb9f3a"
             ],
             [
              0.8888888888888888,
              "#fdca26"
             ],
             [
              1,
              "#f0f921"
             ]
            ],
            "type": "heatmapgl"
           }
          ],
          "histogram": [
           {
            "marker": {
             "colorbar": {
              "outlinewidth": 0,
              "ticks": ""
             }
            },
            "type": "histogram"
           }
          ],
          "histogram2d": [
           {
            "colorbar": {
             "outlinewidth": 0,
             "ticks": ""
            },
            "colorscale": [
             [
              0,
              "#0d0887"
             ],
             [
              0.1111111111111111,
              "#46039f"
             ],
             [
              0.2222222222222222,
              "#7201a8"
             ],
             [
              0.3333333333333333,
              "#9c179e"
             ],
             [
              0.4444444444444444,
              "#bd3786"
             ],
             [
              0.5555555555555556,
              "#d8576b"
             ],
             [
              0.6666666666666666,
              "#ed7953"
             ],
             [
              0.7777777777777778,
              "#fb9f3a"
             ],
             [
              0.8888888888888888,
              "#fdca26"
             ],
             [
              1,
              "#f0f921"
             ]
            ],
            "type": "histogram2d"
           }
          ],
          "histogram2dcontour": [
           {
            "colorbar": {
             "outlinewidth": 0,
             "ticks": ""
            },
            "colorscale": [
             [
              0,
              "#0d0887"
             ],
             [
              0.1111111111111111,
              "#46039f"
             ],
             [
              0.2222222222222222,
              "#7201a8"
             ],
             [
              0.3333333333333333,
              "#9c179e"
             ],
             [
              0.4444444444444444,
              "#bd3786"
             ],
             [
              0.5555555555555556,
              "#d8576b"
             ],
             [
              0.6666666666666666,
              "#ed7953"
             ],
             [
              0.7777777777777778,
              "#fb9f3a"
             ],
             [
              0.8888888888888888,
              "#fdca26"
             ],
             [
              1,
              "#f0f921"
             ]
            ],
            "type": "histogram2dcontour"
           }
          ],
          "mesh3d": [
           {
            "colorbar": {
             "outlinewidth": 0,
             "ticks": ""
            },
            "type": "mesh3d"
           }
          ],
          "parcoords": [
           {
            "line": {
             "colorbar": {
              "outlinewidth": 0,
              "ticks": ""
             }
            },
            "type": "parcoords"
           }
          ],
          "pie": [
           {
            "automargin": true,
            "type": "pie"
           }
          ],
          "scatter": [
           {
            "marker": {
             "colorbar": {
              "outlinewidth": 0,
              "ticks": ""
             }
            },
            "type": "scatter"
           }
          ],
          "scatter3d": [
           {
            "line": {
             "colorbar": {
              "outlinewidth": 0,
              "ticks": ""
             }
            },
            "marker": {
             "colorbar": {
              "outlinewidth": 0,
              "ticks": ""
             }
            },
            "type": "scatter3d"
           }
          ],
          "scattercarpet": [
           {
            "marker": {
             "colorbar": {
              "outlinewidth": 0,
              "ticks": ""
             }
            },
            "type": "scattercarpet"
           }
          ],
          "scattergeo": [
           {
            "marker": {
             "colorbar": {
              "outlinewidth": 0,
              "ticks": ""
             }
            },
            "type": "scattergeo"
           }
          ],
          "scattergl": [
           {
            "marker": {
             "colorbar": {
              "outlinewidth": 0,
              "ticks": ""
             }
            },
            "type": "scattergl"
           }
          ],
          "scattermapbox": [
           {
            "marker": {
             "colorbar": {
              "outlinewidth": 0,
              "ticks": ""
             }
            },
            "type": "scattermapbox"
           }
          ],
          "scatterpolar": [
           {
            "marker": {
             "colorbar": {
              "outlinewidth": 0,
              "ticks": ""
             }
            },
            "type": "scatterpolar"
           }
          ],
          "scatterpolargl": [
           {
            "marker": {
             "colorbar": {
              "outlinewidth": 0,
              "ticks": ""
             }
            },
            "type": "scatterpolargl"
           }
          ],
          "scatterternary": [
           {
            "marker": {
             "colorbar": {
              "outlinewidth": 0,
              "ticks": ""
             }
            },
            "type": "scatterternary"
           }
          ],
          "surface": [
           {
            "colorbar": {
             "outlinewidth": 0,
             "ticks": ""
            },
            "colorscale": [
             [
              0,
              "#0d0887"
             ],
             [
              0.1111111111111111,
              "#46039f"
             ],
             [
              0.2222222222222222,
              "#7201a8"
             ],
             [
              0.3333333333333333,
              "#9c179e"
             ],
             [
              0.4444444444444444,
              "#bd3786"
             ],
             [
              0.5555555555555556,
              "#d8576b"
             ],
             [
              0.6666666666666666,
              "#ed7953"
             ],
             [
              0.7777777777777778,
              "#fb9f3a"
             ],
             [
              0.8888888888888888,
              "#fdca26"
             ],
             [
              1,
              "#f0f921"
             ]
            ],
            "type": "surface"
           }
          ],
          "table": [
           {
            "cells": {
             "fill": {
              "color": "#EBF0F8"
             },
             "line": {
              "color": "white"
             }
            },
            "header": {
             "fill": {
              "color": "#C8D4E3"
             },
             "line": {
              "color": "white"
             }
            },
            "type": "table"
           }
          ]
         },
         "layout": {
          "annotationdefaults": {
           "arrowcolor": "#2a3f5f",
           "arrowhead": 0,
           "arrowwidth": 1
          },
          "coloraxis": {
           "colorbar": {
            "outlinewidth": 0,
            "ticks": ""
           }
          },
          "colorscale": {
           "diverging": [
            [
             0,
             "#8e0152"
            ],
            [
             0.1,
             "#c51b7d"
            ],
            [
             0.2,
             "#de77ae"
            ],
            [
             0.3,
             "#f1b6da"
            ],
            [
             0.4,
             "#fde0ef"
            ],
            [
             0.5,
             "#f7f7f7"
            ],
            [
             0.6,
             "#e6f5d0"
            ],
            [
             0.7,
             "#b8e186"
            ],
            [
             0.8,
             "#7fbc41"
            ],
            [
             0.9,
             "#4d9221"
            ],
            [
             1,
             "#276419"
            ]
           ],
           "sequential": [
            [
             0,
             "#0d0887"
            ],
            [
             0.1111111111111111,
             "#46039f"
            ],
            [
             0.2222222222222222,
             "#7201a8"
            ],
            [
             0.3333333333333333,
             "#9c179e"
            ],
            [
             0.4444444444444444,
             "#bd3786"
            ],
            [
             0.5555555555555556,
             "#d8576b"
            ],
            [
             0.6666666666666666,
             "#ed7953"
            ],
            [
             0.7777777777777778,
             "#fb9f3a"
            ],
            [
             0.8888888888888888,
             "#fdca26"
            ],
            [
             1,
             "#f0f921"
            ]
           ],
           "sequentialminus": [
            [
             0,
             "#0d0887"
            ],
            [
             0.1111111111111111,
             "#46039f"
            ],
            [
             0.2222222222222222,
             "#7201a8"
            ],
            [
             0.3333333333333333,
             "#9c179e"
            ],
            [
             0.4444444444444444,
             "#bd3786"
            ],
            [
             0.5555555555555556,
             "#d8576b"
            ],
            [
             0.6666666666666666,
             "#ed7953"
            ],
            [
             0.7777777777777778,
             "#fb9f3a"
            ],
            [
             0.8888888888888888,
             "#fdca26"
            ],
            [
             1,
             "#f0f921"
            ]
           ]
          },
          "colorway": [
           "#636efa",
           "#EF553B",
           "#00cc96",
           "#ab63fa",
           "#FFA15A",
           "#19d3f3",
           "#FF6692",
           "#B6E880",
           "#FF97FF",
           "#FECB52"
          ],
          "font": {
           "color": "#2a3f5f"
          },
          "geo": {
           "bgcolor": "white",
           "lakecolor": "white",
           "landcolor": "#E5ECF6",
           "showlakes": true,
           "showland": true,
           "subunitcolor": "white"
          },
          "hoverlabel": {
           "align": "left"
          },
          "hovermode": "closest",
          "mapbox": {
           "style": "light"
          },
          "paper_bgcolor": "white",
          "plot_bgcolor": "#E5ECF6",
          "polar": {
           "angularaxis": {
            "gridcolor": "white",
            "linecolor": "white",
            "ticks": ""
           },
           "bgcolor": "#E5ECF6",
           "radialaxis": {
            "gridcolor": "white",
            "linecolor": "white",
            "ticks": ""
           }
          },
          "scene": {
           "xaxis": {
            "backgroundcolor": "#E5ECF6",
            "gridcolor": "white",
            "gridwidth": 2,
            "linecolor": "white",
            "showbackground": true,
            "ticks": "",
            "zerolinecolor": "white"
           },
           "yaxis": {
            "backgroundcolor": "#E5ECF6",
            "gridcolor": "white",
            "gridwidth": 2,
            "linecolor": "white",
            "showbackground": true,
            "ticks": "",
            "zerolinecolor": "white"
           },
           "zaxis": {
            "backgroundcolor": "#E5ECF6",
            "gridcolor": "white",
            "gridwidth": 2,
            "linecolor": "white",
            "showbackground": true,
            "ticks": "",
            "zerolinecolor": "white"
           }
          },
          "shapedefaults": {
           "line": {
            "color": "#2a3f5f"
           }
          },
          "ternary": {
           "aaxis": {
            "gridcolor": "white",
            "linecolor": "white",
            "ticks": ""
           },
           "baxis": {
            "gridcolor": "white",
            "linecolor": "white",
            "ticks": ""
           },
           "bgcolor": "#E5ECF6",
           "caxis": {
            "gridcolor": "white",
            "linecolor": "white",
            "ticks": ""
           }
          },
          "title": {
           "x": 0.05
          },
          "xaxis": {
           "automargin": true,
           "gridcolor": "white",
           "linecolor": "white",
           "ticks": "",
           "title": {
            "standoff": 15
           },
           "zerolinecolor": "white",
           "zerolinewidth": 2
          },
          "yaxis": {
           "automargin": true,
           "gridcolor": "white",
           "linecolor": "white",
           "ticks": "",
           "title": {
            "standoff": 15
           },
           "zerolinecolor": "white",
           "zerolinewidth": 2
          }
         }
        }
       }
      },
      "text/html": [
       "<div>\n",
       "        \n",
       "        \n",
       "            <div id=\"973a5498-c5e7-42c2-a012-35826bea3b2e\" class=\"plotly-graph-div\" style=\"height:525px; width:100%;\"></div>\n",
       "            <script type=\"text/javascript\">\n",
       "                require([\"plotly\"], function(Plotly) {\n",
       "                    window.PLOTLYENV=window.PLOTLYENV || {};\n",
       "                    \n",
       "                if (document.getElementById(\"973a5498-c5e7-42c2-a012-35826bea3b2e\")) {\n",
       "                    Plotly.newPlot(\n",
       "                        '973a5498-c5e7-42c2-a012-35826bea3b2e',\n",
       "                        [{\"marker\": {\"line\": {\"color\": \"rgba(58, 71, 80, 1.0)\", \"width\": 2}}, \"orientation\": \"h\", \"text\": [\"1210560\", \"491982\", \"487052\", \"317762\", \"270780\"], \"type\": \"bar\", \"x\": [601950, 268462, 246378, 169686, 15093], \"y\": [\"Acute Upper Respiratory Infections \", \"Infections of the Skin and Subcutaneous Tissue \", \"Other Diseases of the Urinary System \", \"Other Soft Tissue Disorders \", \"Diseases of Middle Ear and Mastoid \"]}],\n",
       "                        {\"paper_bgcolor\": \"rgba(0,0,0,0)\", \"plot_bgcolor\": \"rgba(0,0,0,0)\", \"template\": {\"data\": {\"bar\": [{\"error_x\": {\"color\": \"#2a3f5f\"}, \"error_y\": {\"color\": \"#2a3f5f\"}, \"marker\": {\"line\": {\"color\": \"#E5ECF6\", \"width\": 0.5}}, \"type\": \"bar\"}], \"barpolar\": [{\"marker\": {\"line\": {\"color\": \"#E5ECF6\", \"width\": 0.5}}, \"type\": \"barpolar\"}], \"carpet\": [{\"aaxis\": {\"endlinecolor\": \"#2a3f5f\", \"gridcolor\": \"white\", \"linecolor\": \"white\", \"minorgridcolor\": \"white\", \"startlinecolor\": \"#2a3f5f\"}, \"baxis\": {\"endlinecolor\": \"#2a3f5f\", \"gridcolor\": \"white\", \"linecolor\": \"white\", \"minorgridcolor\": \"white\", \"startlinecolor\": \"#2a3f5f\"}, \"type\": \"carpet\"}], \"choropleth\": [{\"colorbar\": {\"outlinewidth\": 0, \"ticks\": \"\"}, \"type\": \"choropleth\"}], \"contour\": [{\"colorbar\": {\"outlinewidth\": 0, \"ticks\": \"\"}, \"colorscale\": [[0.0, \"#0d0887\"], [0.1111111111111111, \"#46039f\"], [0.2222222222222222, \"#7201a8\"], [0.3333333333333333, \"#9c179e\"], [0.4444444444444444, \"#bd3786\"], [0.5555555555555556, \"#d8576b\"], [0.6666666666666666, \"#ed7953\"], [0.7777777777777778, \"#fb9f3a\"], [0.8888888888888888, \"#fdca26\"], [1.0, \"#f0f921\"]], \"type\": \"contour\"}], \"contourcarpet\": [{\"colorbar\": {\"outlinewidth\": 0, \"ticks\": \"\"}, \"type\": \"contourcarpet\"}], \"heatmap\": [{\"colorbar\": {\"outlinewidth\": 0, \"ticks\": \"\"}, \"colorscale\": [[0.0, \"#0d0887\"], [0.1111111111111111, \"#46039f\"], [0.2222222222222222, \"#7201a8\"], [0.3333333333333333, \"#9c179e\"], [0.4444444444444444, \"#bd3786\"], [0.5555555555555556, \"#d8576b\"], [0.6666666666666666, \"#ed7953\"], [0.7777777777777778, \"#fb9f3a\"], [0.8888888888888888, \"#fdca26\"], [1.0, \"#f0f921\"]], \"type\": \"heatmap\"}], \"heatmapgl\": [{\"colorbar\": {\"outlinewidth\": 0, \"ticks\": \"\"}, \"colorscale\": [[0.0, \"#0d0887\"], [0.1111111111111111, \"#46039f\"], [0.2222222222222222, \"#7201a8\"], [0.3333333333333333, \"#9c179e\"], [0.4444444444444444, \"#bd3786\"], [0.5555555555555556, \"#d8576b\"], [0.6666666666666666, \"#ed7953\"], [0.7777777777777778, \"#fb9f3a\"], [0.8888888888888888, \"#fdca26\"], [1.0, \"#f0f921\"]], \"type\": \"heatmapgl\"}], \"histogram\": [{\"marker\": {\"colorbar\": {\"outlinewidth\": 0, \"ticks\": \"\"}}, \"type\": \"histogram\"}], \"histogram2d\": [{\"colorbar\": {\"outlinewidth\": 0, \"ticks\": \"\"}, \"colorscale\": [[0.0, \"#0d0887\"], [0.1111111111111111, \"#46039f\"], [0.2222222222222222, \"#7201a8\"], [0.3333333333333333, \"#9c179e\"], [0.4444444444444444, \"#bd3786\"], [0.5555555555555556, \"#d8576b\"], [0.6666666666666666, \"#ed7953\"], [0.7777777777777778, \"#fb9f3a\"], [0.8888888888888888, \"#fdca26\"], [1.0, \"#f0f921\"]], \"type\": \"histogram2d\"}], \"histogram2dcontour\": [{\"colorbar\": {\"outlinewidth\": 0, \"ticks\": \"\"}, \"colorscale\": [[0.0, \"#0d0887\"], [0.1111111111111111, \"#46039f\"], [0.2222222222222222, \"#7201a8\"], [0.3333333333333333, \"#9c179e\"], [0.4444444444444444, \"#bd3786\"], [0.5555555555555556, \"#d8576b\"], [0.6666666666666666, \"#ed7953\"], [0.7777777777777778, \"#fb9f3a\"], [0.8888888888888888, \"#fdca26\"], [1.0, \"#f0f921\"]], \"type\": \"histogram2dcontour\"}], \"mesh3d\": [{\"colorbar\": {\"outlinewidth\": 0, \"ticks\": \"\"}, \"type\": \"mesh3d\"}], \"parcoords\": [{\"line\": {\"colorbar\": {\"outlinewidth\": 0, \"ticks\": \"\"}}, \"type\": \"parcoords\"}], \"pie\": [{\"automargin\": true, \"type\": \"pie\"}], \"scatter\": [{\"marker\": {\"colorbar\": {\"outlinewidth\": 0, \"ticks\": \"\"}}, \"type\": \"scatter\"}], \"scatter3d\": [{\"line\": {\"colorbar\": {\"outlinewidth\": 0, \"ticks\": \"\"}}, \"marker\": {\"colorbar\": {\"outlinewidth\": 0, \"ticks\": \"\"}}, \"type\": \"scatter3d\"}], \"scattercarpet\": [{\"marker\": {\"colorbar\": {\"outlinewidth\": 0, \"ticks\": \"\"}}, \"type\": \"scattercarpet\"}], \"scattergeo\": [{\"marker\": {\"colorbar\": {\"outlinewidth\": 0, \"ticks\": \"\"}}, \"type\": \"scattergeo\"}], \"scattergl\": [{\"marker\": {\"colorbar\": {\"outlinewidth\": 0, \"ticks\": \"\"}}, \"type\": \"scattergl\"}], \"scattermapbox\": [{\"marker\": {\"colorbar\": {\"outlinewidth\": 0, \"ticks\": \"\"}}, \"type\": \"scattermapbox\"}], \"scatterpolar\": [{\"marker\": {\"colorbar\": {\"outlinewidth\": 0, \"ticks\": \"\"}}, \"type\": \"scatterpolar\"}], \"scatterpolargl\": [{\"marker\": {\"colorbar\": {\"outlinewidth\": 0, \"ticks\": \"\"}}, \"type\": \"scatterpolargl\"}], \"scatterternary\": [{\"marker\": {\"colorbar\": {\"outlinewidth\": 0, \"ticks\": \"\"}}, \"type\": \"scatterternary\"}], \"surface\": [{\"colorbar\": {\"outlinewidth\": 0, \"ticks\": \"\"}, \"colorscale\": [[0.0, \"#0d0887\"], [0.1111111111111111, \"#46039f\"], [0.2222222222222222, \"#7201a8\"], [0.3333333333333333, \"#9c179e\"], [0.4444444444444444, \"#bd3786\"], [0.5555555555555556, \"#d8576b\"], [0.6666666666666666, \"#ed7953\"], [0.7777777777777778, \"#fb9f3a\"], [0.8888888888888888, \"#fdca26\"], [1.0, \"#f0f921\"]], \"type\": \"surface\"}], \"table\": [{\"cells\": {\"fill\": {\"color\": \"#EBF0F8\"}, \"line\": {\"color\": \"white\"}}, \"header\": {\"fill\": {\"color\": \"#C8D4E3\"}, \"line\": {\"color\": \"white\"}}, \"type\": \"table\"}]}, \"layout\": {\"annotationdefaults\": {\"arrowcolor\": \"#2a3f5f\", \"arrowhead\": 0, \"arrowwidth\": 1}, \"coloraxis\": {\"colorbar\": {\"outlinewidth\": 0, \"ticks\": \"\"}}, \"colorscale\": {\"diverging\": [[0, \"#8e0152\"], [0.1, \"#c51b7d\"], [0.2, \"#de77ae\"], [0.3, \"#f1b6da\"], [0.4, \"#fde0ef\"], [0.5, \"#f7f7f7\"], [0.6, \"#e6f5d0\"], [0.7, \"#b8e186\"], [0.8, \"#7fbc41\"], [0.9, \"#4d9221\"], [1, \"#276419\"]], \"sequential\": [[0.0, \"#0d0887\"], [0.1111111111111111, \"#46039f\"], [0.2222222222222222, \"#7201a8\"], [0.3333333333333333, \"#9c179e\"], [0.4444444444444444, \"#bd3786\"], [0.5555555555555556, \"#d8576b\"], [0.6666666666666666, \"#ed7953\"], [0.7777777777777778, \"#fb9f3a\"], [0.8888888888888888, \"#fdca26\"], [1.0, \"#f0f921\"]], \"sequentialminus\": [[0.0, \"#0d0887\"], [0.1111111111111111, \"#46039f\"], [0.2222222222222222, \"#7201a8\"], [0.3333333333333333, \"#9c179e\"], [0.4444444444444444, \"#bd3786\"], [0.5555555555555556, \"#d8576b\"], [0.6666666666666666, \"#ed7953\"], [0.7777777777777778, \"#fb9f3a\"], [0.8888888888888888, \"#fdca26\"], [1.0, \"#f0f921\"]]}, \"colorway\": [\"#636efa\", \"#EF553B\", \"#00cc96\", \"#ab63fa\", \"#FFA15A\", \"#19d3f3\", \"#FF6692\", \"#B6E880\", \"#FF97FF\", \"#FECB52\"], \"font\": {\"color\": \"#2a3f5f\"}, \"geo\": {\"bgcolor\": \"white\", \"lakecolor\": \"white\", \"landcolor\": \"#E5ECF6\", \"showlakes\": true, \"showland\": true, \"subunitcolor\": \"white\"}, \"hoverlabel\": {\"align\": \"left\"}, \"hovermode\": \"closest\", \"mapbox\": {\"style\": \"light\"}, \"paper_bgcolor\": \"white\", \"plot_bgcolor\": \"#E5ECF6\", \"polar\": {\"angularaxis\": {\"gridcolor\": \"white\", \"linecolor\": \"white\", \"ticks\": \"\"}, \"bgcolor\": \"#E5ECF6\", \"radialaxis\": {\"gridcolor\": \"white\", \"linecolor\": \"white\", \"ticks\": \"\"}}, \"scene\": {\"xaxis\": {\"backgroundcolor\": \"#E5ECF6\", \"gridcolor\": \"white\", \"gridwidth\": 2, \"linecolor\": \"white\", \"showbackground\": true, \"ticks\": \"\", \"zerolinecolor\": \"white\"}, \"yaxis\": {\"backgroundcolor\": \"#E5ECF6\", \"gridcolor\": \"white\", \"gridwidth\": 2, \"linecolor\": \"white\", \"showbackground\": true, \"ticks\": \"\", \"zerolinecolor\": \"white\"}, \"zaxis\": {\"backgroundcolor\": \"#E5ECF6\", \"gridcolor\": \"white\", \"gridwidth\": 2, \"linecolor\": \"white\", \"showbackground\": true, \"ticks\": \"\", \"zerolinecolor\": \"white\"}}, \"shapedefaults\": {\"line\": {\"color\": \"#2a3f5f\"}}, \"ternary\": {\"aaxis\": {\"gridcolor\": \"white\", \"linecolor\": \"white\", \"ticks\": \"\"}, \"baxis\": {\"gridcolor\": \"white\", \"linecolor\": \"white\", \"ticks\": \"\"}, \"bgcolor\": \"#E5ECF6\", \"caxis\": {\"gridcolor\": \"white\", \"linecolor\": \"white\", \"ticks\": \"\"}}, \"title\": {\"x\": 0.05}, \"xaxis\": {\"automargin\": true, \"gridcolor\": \"white\", \"linecolor\": \"white\", \"ticks\": \"\", \"title\": {\"standoff\": 15}, \"zerolinecolor\": \"white\", \"zerolinewidth\": 2}, \"yaxis\": {\"automargin\": true, \"gridcolor\": \"white\", \"linecolor\": \"white\", \"ticks\": \"\", \"title\": {\"standoff\": 15}, \"zerolinecolor\": \"white\", \"zerolinewidth\": 2}}}},\n",
       "                        {\"responsive\": true}\n",
       "                    ).then(function(){\n",
       "                            \n",
       "var gd = document.getElementById('973a5498-c5e7-42c2-a012-35826bea3b2e');\n",
       "var x = new MutationObserver(function (mutations, observer) {{\n",
       "        var display = window.getComputedStyle(gd).display;\n",
       "        if (!display || display === 'none') {{\n",
       "            console.log([gd, 'removed!']);\n",
       "            Plotly.purge(gd);\n",
       "            observer.disconnect();\n",
       "        }}\n",
       "}});\n",
       "\n",
       "// Listen for the removal of the full notebook cells\n",
       "var notebookContainer = gd.closest('#notebook-container');\n",
       "if (notebookContainer) {{\n",
       "    x.observe(notebookContainer, {childList: true});\n",
       "}}\n",
       "\n",
       "// Listen for the clearing of the current output cell\n",
       "var outputEl = gd.closest('.output');\n",
       "if (outputEl) {{\n",
       "    x.observe(outputEl, {childList: true});\n",
       "}}\n",
       "\n",
       "                        })\n",
       "                };\n",
       "                });\n",
       "            </script>\n",
       "        </div>"
      ]
     },
     "metadata": {},
     "output_type": "display_data"
    }
   ],
   "source": [
    "# For semi urgent\n",
    "\n",
    "import plotly.graph_objects as go\n",
    "\n",
    "fig = go.Figure(go.Bar(\n",
    "            x=[601950, 268462, 246378, 169686, 15093],\n",
    "            y=['Acute Upper Respiratory Infections ', 'Infections of the Skin and Subcutaneous Tissue ',\n",
    "               'Other Diseases of the Urinary System ', 'Other Soft Tissue Disorders ',\n",
    "               'Diseases of Middle Ear and Mastoid ' ],\n",
    "            orientation='h',\n",
    "            text=y,\n",
    "            marker=dict(\n",
    "            line=dict(color='rgba(58, 71, 80, 1.0)', width=2))))\n",
    "fig.update_layout({'plot_bgcolor': 'rgba(0,0,0,0)', 'paper_bgcolor': 'rgba(0,0,0,0)',})\n",
    "\n",
    "fig.show()"
   ]
  },
  {
   "cell_type": "code",
   "execution_count": 175,
   "metadata": {},
   "outputs": [
    {
     "data": {
      "application/vnd.plotly.v1+json": {
       "config": {
        "plotlyServerURL": "https://plot.ly"
       },
       "data": [
        {
         "marker": {
          "color": "rgb(249,123,87)",
          "line": {
           "color": "rgba(58, 71, 80, 1.0)",
           "width": 2
          }
         },
         "orientation": "h",
         "text": [
          "1210560",
          "491982",
          "487052",
          "317762",
          "270780"
         ],
         "type": "bar",
         "x": [
          99820,
          58234,
          37018,
          28884,
          24350
         ],
         "y": [
          "Acute Upper Respiratory Infections ",
          "Infections of the Skin and Subcutaneous Tissue ",
          "Other Soft Tissue Disorders ",
          "Other Diseases of the Urinary System ",
          "Diseases of Oral Cavity and Salivary Glands "
         ]
        }
       ],
       "layout": {
        "paper_bgcolor": "rgba(0,0,0,0)",
        "plot_bgcolor": "rgba(0,0,0,0)",
        "template": {
         "data": {
          "bar": [
           {
            "error_x": {
             "color": "#2a3f5f"
            },
            "error_y": {
             "color": "#2a3f5f"
            },
            "marker": {
             "line": {
              "color": "#E5ECF6",
              "width": 0.5
             }
            },
            "type": "bar"
           }
          ],
          "barpolar": [
           {
            "marker": {
             "line": {
              "color": "#E5ECF6",
              "width": 0.5
             }
            },
            "type": "barpolar"
           }
          ],
          "carpet": [
           {
            "aaxis": {
             "endlinecolor": "#2a3f5f",
             "gridcolor": "white",
             "linecolor": "white",
             "minorgridcolor": "white",
             "startlinecolor": "#2a3f5f"
            },
            "baxis": {
             "endlinecolor": "#2a3f5f",
             "gridcolor": "white",
             "linecolor": "white",
             "minorgridcolor": "white",
             "startlinecolor": "#2a3f5f"
            },
            "type": "carpet"
           }
          ],
          "choropleth": [
           {
            "colorbar": {
             "outlinewidth": 0,
             "ticks": ""
            },
            "type": "choropleth"
           }
          ],
          "contour": [
           {
            "colorbar": {
             "outlinewidth": 0,
             "ticks": ""
            },
            "colorscale": [
             [
              0,
              "#0d0887"
             ],
             [
              0.1111111111111111,
              "#46039f"
             ],
             [
              0.2222222222222222,
              "#7201a8"
             ],
             [
              0.3333333333333333,
              "#9c179e"
             ],
             [
              0.4444444444444444,
              "#bd3786"
             ],
             [
              0.5555555555555556,
              "#d8576b"
             ],
             [
              0.6666666666666666,
              "#ed7953"
             ],
             [
              0.7777777777777778,
              "#fb9f3a"
             ],
             [
              0.8888888888888888,
              "#fdca26"
             ],
             [
              1,
              "#f0f921"
             ]
            ],
            "type": "contour"
           }
          ],
          "contourcarpet": [
           {
            "colorbar": {
             "outlinewidth": 0,
             "ticks": ""
            },
            "type": "contourcarpet"
           }
          ],
          "heatmap": [
           {
            "colorbar": {
             "outlinewidth": 0,
             "ticks": ""
            },
            "colorscale": [
             [
              0,
              "#0d0887"
             ],
             [
              0.1111111111111111,
              "#46039f"
             ],
             [
              0.2222222222222222,
              "#7201a8"
             ],
             [
              0.3333333333333333,
              "#9c179e"
             ],
             [
              0.4444444444444444,
              "#bd3786"
             ],
             [
              0.5555555555555556,
              "#d8576b"
             ],
             [
              0.6666666666666666,
              "#ed7953"
             ],
             [
              0.7777777777777778,
              "#fb9f3a"
             ],
             [
              0.8888888888888888,
              "#fdca26"
             ],
             [
              1,
              "#f0f921"
             ]
            ],
            "type": "heatmap"
           }
          ],
          "heatmapgl": [
           {
            "colorbar": {
             "outlinewidth": 0,
             "ticks": ""
            },
            "colorscale": [
             [
              0,
              "#0d0887"
             ],
             [
              0.1111111111111111,
              "#46039f"
             ],
             [
              0.2222222222222222,
              "#7201a8"
             ],
             [
              0.3333333333333333,
              "#9c179e"
             ],
             [
              0.4444444444444444,
              "#bd3786"
             ],
             [
              0.5555555555555556,
              "#d8576b"
             ],
             [
              0.6666666666666666,
              "#ed7953"
             ],
             [
              0.7777777777777778,
              "#fb9f3a"
             ],
             [
              0.8888888888888888,
              "#fdca26"
             ],
             [
              1,
              "#f0f921"
             ]
            ],
            "type": "heatmapgl"
           }
          ],
          "histogram": [
           {
            "marker": {
             "colorbar": {
              "outlinewidth": 0,
              "ticks": ""
             }
            },
            "type": "histogram"
           }
          ],
          "histogram2d": [
           {
            "colorbar": {
             "outlinewidth": 0,
             "ticks": ""
            },
            "colorscale": [
             [
              0,
              "#0d0887"
             ],
             [
              0.1111111111111111,
              "#46039f"
             ],
             [
              0.2222222222222222,
              "#7201a8"
             ],
             [
              0.3333333333333333,
              "#9c179e"
             ],
             [
              0.4444444444444444,
              "#bd3786"
             ],
             [
              0.5555555555555556,
              "#d8576b"
             ],
             [
              0.6666666666666666,
              "#ed7953"
             ],
             [
              0.7777777777777778,
              "#fb9f3a"
             ],
             [
              0.8888888888888888,
              "#fdca26"
             ],
             [
              1,
              "#f0f921"
             ]
            ],
            "type": "histogram2d"
           }
          ],
          "histogram2dcontour": [
           {
            "colorbar": {
             "outlinewidth": 0,
             "ticks": ""
            },
            "colorscale": [
             [
              0,
              "#0d0887"
             ],
             [
              0.1111111111111111,
              "#46039f"
             ],
             [
              0.2222222222222222,
              "#7201a8"
             ],
             [
              0.3333333333333333,
              "#9c179e"
             ],
             [
              0.4444444444444444,
              "#bd3786"
             ],
             [
              0.5555555555555556,
              "#d8576b"
             ],
             [
              0.6666666666666666,
              "#ed7953"
             ],
             [
              0.7777777777777778,
              "#fb9f3a"
             ],
             [
              0.8888888888888888,
              "#fdca26"
             ],
             [
              1,
              "#f0f921"
             ]
            ],
            "type": "histogram2dcontour"
           }
          ],
          "mesh3d": [
           {
            "colorbar": {
             "outlinewidth": 0,
             "ticks": ""
            },
            "type": "mesh3d"
           }
          ],
          "parcoords": [
           {
            "line": {
             "colorbar": {
              "outlinewidth": 0,
              "ticks": ""
             }
            },
            "type": "parcoords"
           }
          ],
          "pie": [
           {
            "automargin": true,
            "type": "pie"
           }
          ],
          "scatter": [
           {
            "marker": {
             "colorbar": {
              "outlinewidth": 0,
              "ticks": ""
             }
            },
            "type": "scatter"
           }
          ],
          "scatter3d": [
           {
            "line": {
             "colorbar": {
              "outlinewidth": 0,
              "ticks": ""
             }
            },
            "marker": {
             "colorbar": {
              "outlinewidth": 0,
              "ticks": ""
             }
            },
            "type": "scatter3d"
           }
          ],
          "scattercarpet": [
           {
            "marker": {
             "colorbar": {
              "outlinewidth": 0,
              "ticks": ""
             }
            },
            "type": "scattercarpet"
           }
          ],
          "scattergeo": [
           {
            "marker": {
             "colorbar": {
              "outlinewidth": 0,
              "ticks": ""
             }
            },
            "type": "scattergeo"
           }
          ],
          "scattergl": [
           {
            "marker": {
             "colorbar": {
              "outlinewidth": 0,
              "ticks": ""
             }
            },
            "type": "scattergl"
           }
          ],
          "scattermapbox": [
           {
            "marker": {
             "colorbar": {
              "outlinewidth": 0,
              "ticks": ""
             }
            },
            "type": "scattermapbox"
           }
          ],
          "scatterpolar": [
           {
            "marker": {
             "colorbar": {
              "outlinewidth": 0,
              "ticks": ""
             }
            },
            "type": "scatterpolar"
           }
          ],
          "scatterpolargl": [
           {
            "marker": {
             "colorbar": {
              "outlinewidth": 0,
              "ticks": ""
             }
            },
            "type": "scatterpolargl"
           }
          ],
          "scatterternary": [
           {
            "marker": {
             "colorbar": {
              "outlinewidth": 0,
              "ticks": ""
             }
            },
            "type": "scatterternary"
           }
          ],
          "surface": [
           {
            "colorbar": {
             "outlinewidth": 0,
             "ticks": ""
            },
            "colorscale": [
             [
              0,
              "#0d0887"
             ],
             [
              0.1111111111111111,
              "#46039f"
             ],
             [
              0.2222222222222222,
              "#7201a8"
             ],
             [
              0.3333333333333333,
              "#9c179e"
             ],
             [
              0.4444444444444444,
              "#bd3786"
             ],
             [
              0.5555555555555556,
              "#d8576b"
             ],
             [
              0.6666666666666666,
              "#ed7953"
             ],
             [
              0.7777777777777778,
              "#fb9f3a"
             ],
             [
              0.8888888888888888,
              "#fdca26"
             ],
             [
              1,
              "#f0f921"
             ]
            ],
            "type": "surface"
           }
          ],
          "table": [
           {
            "cells": {
             "fill": {
              "color": "#EBF0F8"
             },
             "line": {
              "color": "white"
             }
            },
            "header": {
             "fill": {
              "color": "#C8D4E3"
             },
             "line": {
              "color": "white"
             }
            },
            "type": "table"
           }
          ]
         },
         "layout": {
          "annotationdefaults": {
           "arrowcolor": "#2a3f5f",
           "arrowhead": 0,
           "arrowwidth": 1
          },
          "coloraxis": {
           "colorbar": {
            "outlinewidth": 0,
            "ticks": ""
           }
          },
          "colorscale": {
           "diverging": [
            [
             0,
             "#8e0152"
            ],
            [
             0.1,
             "#c51b7d"
            ],
            [
             0.2,
             "#de77ae"
            ],
            [
             0.3,
             "#f1b6da"
            ],
            [
             0.4,
             "#fde0ef"
            ],
            [
             0.5,
             "#f7f7f7"
            ],
            [
             0.6,
             "#e6f5d0"
            ],
            [
             0.7,
             "#b8e186"
            ],
            [
             0.8,
             "#7fbc41"
            ],
            [
             0.9,
             "#4d9221"
            ],
            [
             1,
             "#276419"
            ]
           ],
           "sequential": [
            [
             0,
             "#0d0887"
            ],
            [
             0.1111111111111111,
             "#46039f"
            ],
            [
             0.2222222222222222,
             "#7201a8"
            ],
            [
             0.3333333333333333,
             "#9c179e"
            ],
            [
             0.4444444444444444,
             "#bd3786"
            ],
            [
             0.5555555555555556,
             "#d8576b"
            ],
            [
             0.6666666666666666,
             "#ed7953"
            ],
            [
             0.7777777777777778,
             "#fb9f3a"
            ],
            [
             0.8888888888888888,
             "#fdca26"
            ],
            [
             1,
             "#f0f921"
            ]
           ],
           "sequentialminus": [
            [
             0,
             "#0d0887"
            ],
            [
             0.1111111111111111,
             "#46039f"
            ],
            [
             0.2222222222222222,
             "#7201a8"
            ],
            [
             0.3333333333333333,
             "#9c179e"
            ],
            [
             0.4444444444444444,
             "#bd3786"
            ],
            [
             0.5555555555555556,
             "#d8576b"
            ],
            [
             0.6666666666666666,
             "#ed7953"
            ],
            [
             0.7777777777777778,
             "#fb9f3a"
            ],
            [
             0.8888888888888888,
             "#fdca26"
            ],
            [
             1,
             "#f0f921"
            ]
           ]
          },
          "colorway": [
           "#636efa",
           "#EF553B",
           "#00cc96",
           "#ab63fa",
           "#FFA15A",
           "#19d3f3",
           "#FF6692",
           "#B6E880",
           "#FF97FF",
           "#FECB52"
          ],
          "font": {
           "color": "#2a3f5f"
          },
          "geo": {
           "bgcolor": "white",
           "lakecolor": "white",
           "landcolor": "#E5ECF6",
           "showlakes": true,
           "showland": true,
           "subunitcolor": "white"
          },
          "hoverlabel": {
           "align": "left"
          },
          "hovermode": "closest",
          "mapbox": {
           "style": "light"
          },
          "paper_bgcolor": "white",
          "plot_bgcolor": "#E5ECF6",
          "polar": {
           "angularaxis": {
            "gridcolor": "white",
            "linecolor": "white",
            "ticks": ""
           },
           "bgcolor": "#E5ECF6",
           "radialaxis": {
            "gridcolor": "white",
            "linecolor": "white",
            "ticks": ""
           }
          },
          "scene": {
           "xaxis": {
            "backgroundcolor": "#E5ECF6",
            "gridcolor": "white",
            "gridwidth": 2,
            "linecolor": "white",
            "showbackground": true,
            "ticks": "",
            "zerolinecolor": "white"
           },
           "yaxis": {
            "backgroundcolor": "#E5ECF6",
            "gridcolor": "white",
            "gridwidth": 2,
            "linecolor": "white",
            "showbackground": true,
            "ticks": "",
            "zerolinecolor": "white"
           },
           "zaxis": {
            "backgroundcolor": "#E5ECF6",
            "gridcolor": "white",
            "gridwidth": 2,
            "linecolor": "white",
            "showbackground": true,
            "ticks": "",
            "zerolinecolor": "white"
           }
          },
          "shapedefaults": {
           "line": {
            "color": "#2a3f5f"
           }
          },
          "ternary": {
           "aaxis": {
            "gridcolor": "white",
            "linecolor": "white",
            "ticks": ""
           },
           "baxis": {
            "gridcolor": "white",
            "linecolor": "white",
            "ticks": ""
           },
           "bgcolor": "#E5ECF6",
           "caxis": {
            "gridcolor": "white",
            "linecolor": "white",
            "ticks": ""
           }
          },
          "title": {
           "x": 0.05
          },
          "xaxis": {
           "automargin": true,
           "gridcolor": "white",
           "linecolor": "white",
           "ticks": "",
           "title": {
            "standoff": 15
           },
           "zerolinecolor": "white",
           "zerolinewidth": 2
          },
          "yaxis": {
           "automargin": true,
           "gridcolor": "white",
           "linecolor": "white",
           "ticks": "",
           "title": {
            "standoff": 15
           },
           "zerolinecolor": "white",
           "zerolinewidth": 2
          }
         }
        }
       }
      },
      "text/html": [
       "<div>\n",
       "        \n",
       "        \n",
       "            <div id=\"3e658378-fe88-4ea5-9f9f-d7f9944169fc\" class=\"plotly-graph-div\" style=\"height:525px; width:100%;\"></div>\n",
       "            <script type=\"text/javascript\">\n",
       "                require([\"plotly\"], function(Plotly) {\n",
       "                    window.PLOTLYENV=window.PLOTLYENV || {};\n",
       "                    \n",
       "                if (document.getElementById(\"3e658378-fe88-4ea5-9f9f-d7f9944169fc\")) {\n",
       "                    Plotly.newPlot(\n",
       "                        '3e658378-fe88-4ea5-9f9f-d7f9944169fc',\n",
       "                        [{\"marker\": {\"color\": \"rgb(249,123,87)\", \"line\": {\"color\": \"rgba(58, 71, 80, 1.0)\", \"width\": 2}}, \"orientation\": \"h\", \"text\": [\"1210560\", \"491982\", \"487052\", \"317762\", \"270780\"], \"type\": \"bar\", \"x\": [99820, 58234, 37018, 28884, 24350], \"y\": [\"Acute Upper Respiratory Infections \", \"Infections of the Skin and Subcutaneous Tissue \", \"Other Soft Tissue Disorders \", \"Other Diseases of the Urinary System \", \"Diseases of Oral Cavity and Salivary Glands \"]}],\n",
       "                        {\"paper_bgcolor\": \"rgba(0,0,0,0)\", \"plot_bgcolor\": \"rgba(0,0,0,0)\", \"template\": {\"data\": {\"bar\": [{\"error_x\": {\"color\": \"#2a3f5f\"}, \"error_y\": {\"color\": \"#2a3f5f\"}, \"marker\": {\"line\": {\"color\": \"#E5ECF6\", \"width\": 0.5}}, \"type\": \"bar\"}], \"barpolar\": [{\"marker\": {\"line\": {\"color\": \"#E5ECF6\", \"width\": 0.5}}, \"type\": \"barpolar\"}], \"carpet\": [{\"aaxis\": {\"endlinecolor\": \"#2a3f5f\", \"gridcolor\": \"white\", \"linecolor\": \"white\", \"minorgridcolor\": \"white\", \"startlinecolor\": \"#2a3f5f\"}, \"baxis\": {\"endlinecolor\": \"#2a3f5f\", \"gridcolor\": \"white\", \"linecolor\": \"white\", \"minorgridcolor\": \"white\", \"startlinecolor\": \"#2a3f5f\"}, \"type\": \"carpet\"}], \"choropleth\": [{\"colorbar\": {\"outlinewidth\": 0, \"ticks\": \"\"}, \"type\": \"choropleth\"}], \"contour\": [{\"colorbar\": {\"outlinewidth\": 0, \"ticks\": \"\"}, \"colorscale\": [[0.0, \"#0d0887\"], [0.1111111111111111, \"#46039f\"], [0.2222222222222222, \"#7201a8\"], [0.3333333333333333, \"#9c179e\"], [0.4444444444444444, \"#bd3786\"], [0.5555555555555556, \"#d8576b\"], [0.6666666666666666, \"#ed7953\"], [0.7777777777777778, \"#fb9f3a\"], [0.8888888888888888, \"#fdca26\"], [1.0, \"#f0f921\"]], \"type\": \"contour\"}], \"contourcarpet\": [{\"colorbar\": {\"outlinewidth\": 0, \"ticks\": \"\"}, \"type\": \"contourcarpet\"}], \"heatmap\": [{\"colorbar\": {\"outlinewidth\": 0, \"ticks\": \"\"}, \"colorscale\": [[0.0, \"#0d0887\"], [0.1111111111111111, \"#46039f\"], [0.2222222222222222, \"#7201a8\"], [0.3333333333333333, \"#9c179e\"], [0.4444444444444444, \"#bd3786\"], [0.5555555555555556, \"#d8576b\"], [0.6666666666666666, \"#ed7953\"], [0.7777777777777778, \"#fb9f3a\"], [0.8888888888888888, \"#fdca26\"], [1.0, \"#f0f921\"]], \"type\": \"heatmap\"}], \"heatmapgl\": [{\"colorbar\": {\"outlinewidth\": 0, \"ticks\": \"\"}, \"colorscale\": [[0.0, \"#0d0887\"], [0.1111111111111111, \"#46039f\"], [0.2222222222222222, \"#7201a8\"], [0.3333333333333333, \"#9c179e\"], [0.4444444444444444, \"#bd3786\"], [0.5555555555555556, \"#d8576b\"], [0.6666666666666666, \"#ed7953\"], [0.7777777777777778, \"#fb9f3a\"], [0.8888888888888888, \"#fdca26\"], [1.0, \"#f0f921\"]], \"type\": \"heatmapgl\"}], \"histogram\": [{\"marker\": {\"colorbar\": {\"outlinewidth\": 0, \"ticks\": \"\"}}, \"type\": \"histogram\"}], \"histogram2d\": [{\"colorbar\": {\"outlinewidth\": 0, \"ticks\": \"\"}, \"colorscale\": [[0.0, \"#0d0887\"], [0.1111111111111111, \"#46039f\"], [0.2222222222222222, \"#7201a8\"], [0.3333333333333333, \"#9c179e\"], [0.4444444444444444, \"#bd3786\"], [0.5555555555555556, \"#d8576b\"], [0.6666666666666666, \"#ed7953\"], [0.7777777777777778, \"#fb9f3a\"], [0.8888888888888888, \"#fdca26\"], [1.0, \"#f0f921\"]], \"type\": \"histogram2d\"}], \"histogram2dcontour\": [{\"colorbar\": {\"outlinewidth\": 0, \"ticks\": \"\"}, \"colorscale\": [[0.0, \"#0d0887\"], [0.1111111111111111, \"#46039f\"], [0.2222222222222222, \"#7201a8\"], [0.3333333333333333, \"#9c179e\"], [0.4444444444444444, \"#bd3786\"], [0.5555555555555556, \"#d8576b\"], [0.6666666666666666, \"#ed7953\"], [0.7777777777777778, \"#fb9f3a\"], [0.8888888888888888, \"#fdca26\"], [1.0, \"#f0f921\"]], \"type\": \"histogram2dcontour\"}], \"mesh3d\": [{\"colorbar\": {\"outlinewidth\": 0, \"ticks\": \"\"}, \"type\": \"mesh3d\"}], \"parcoords\": [{\"line\": {\"colorbar\": {\"outlinewidth\": 0, \"ticks\": \"\"}}, \"type\": \"parcoords\"}], \"pie\": [{\"automargin\": true, \"type\": \"pie\"}], \"scatter\": [{\"marker\": {\"colorbar\": {\"outlinewidth\": 0, \"ticks\": \"\"}}, \"type\": \"scatter\"}], \"scatter3d\": [{\"line\": {\"colorbar\": {\"outlinewidth\": 0, \"ticks\": \"\"}}, \"marker\": {\"colorbar\": {\"outlinewidth\": 0, \"ticks\": \"\"}}, \"type\": \"scatter3d\"}], \"scattercarpet\": [{\"marker\": {\"colorbar\": {\"outlinewidth\": 0, \"ticks\": \"\"}}, \"type\": \"scattercarpet\"}], \"scattergeo\": [{\"marker\": {\"colorbar\": {\"outlinewidth\": 0, \"ticks\": \"\"}}, \"type\": \"scattergeo\"}], \"scattergl\": [{\"marker\": {\"colorbar\": {\"outlinewidth\": 0, \"ticks\": \"\"}}, \"type\": \"scattergl\"}], \"scattermapbox\": [{\"marker\": {\"colorbar\": {\"outlinewidth\": 0, \"ticks\": \"\"}}, \"type\": \"scattermapbox\"}], \"scatterpolar\": [{\"marker\": {\"colorbar\": {\"outlinewidth\": 0, \"ticks\": \"\"}}, \"type\": \"scatterpolar\"}], \"scatterpolargl\": [{\"marker\": {\"colorbar\": {\"outlinewidth\": 0, \"ticks\": \"\"}}, \"type\": \"scatterpolargl\"}], \"scatterternary\": [{\"marker\": {\"colorbar\": {\"outlinewidth\": 0, \"ticks\": \"\"}}, \"type\": \"scatterternary\"}], \"surface\": [{\"colorbar\": {\"outlinewidth\": 0, \"ticks\": \"\"}, \"colorscale\": [[0.0, \"#0d0887\"], [0.1111111111111111, \"#46039f\"], [0.2222222222222222, \"#7201a8\"], [0.3333333333333333, \"#9c179e\"], [0.4444444444444444, \"#bd3786\"], [0.5555555555555556, \"#d8576b\"], [0.6666666666666666, \"#ed7953\"], [0.7777777777777778, \"#fb9f3a\"], [0.8888888888888888, \"#fdca26\"], [1.0, \"#f0f921\"]], \"type\": \"surface\"}], \"table\": [{\"cells\": {\"fill\": {\"color\": \"#EBF0F8\"}, \"line\": {\"color\": \"white\"}}, \"header\": {\"fill\": {\"color\": \"#C8D4E3\"}, \"line\": {\"color\": \"white\"}}, \"type\": \"table\"}]}, \"layout\": {\"annotationdefaults\": {\"arrowcolor\": \"#2a3f5f\", \"arrowhead\": 0, \"arrowwidth\": 1}, \"coloraxis\": {\"colorbar\": {\"outlinewidth\": 0, \"ticks\": \"\"}}, \"colorscale\": {\"diverging\": [[0, \"#8e0152\"], [0.1, \"#c51b7d\"], [0.2, \"#de77ae\"], [0.3, \"#f1b6da\"], [0.4, \"#fde0ef\"], [0.5, \"#f7f7f7\"], [0.6, \"#e6f5d0\"], [0.7, \"#b8e186\"], [0.8, \"#7fbc41\"], [0.9, \"#4d9221\"], [1, \"#276419\"]], \"sequential\": [[0.0, \"#0d0887\"], [0.1111111111111111, \"#46039f\"], [0.2222222222222222, \"#7201a8\"], [0.3333333333333333, \"#9c179e\"], [0.4444444444444444, \"#bd3786\"], [0.5555555555555556, \"#d8576b\"], [0.6666666666666666, \"#ed7953\"], [0.7777777777777778, \"#fb9f3a\"], [0.8888888888888888, \"#fdca26\"], [1.0, \"#f0f921\"]], \"sequentialminus\": [[0.0, \"#0d0887\"], [0.1111111111111111, \"#46039f\"], [0.2222222222222222, \"#7201a8\"], [0.3333333333333333, \"#9c179e\"], [0.4444444444444444, \"#bd3786\"], [0.5555555555555556, \"#d8576b\"], [0.6666666666666666, \"#ed7953\"], [0.7777777777777778, \"#fb9f3a\"], [0.8888888888888888, \"#fdca26\"], [1.0, \"#f0f921\"]]}, \"colorway\": [\"#636efa\", \"#EF553B\", \"#00cc96\", \"#ab63fa\", \"#FFA15A\", \"#19d3f3\", \"#FF6692\", \"#B6E880\", \"#FF97FF\", \"#FECB52\"], \"font\": {\"color\": \"#2a3f5f\"}, \"geo\": {\"bgcolor\": \"white\", \"lakecolor\": \"white\", \"landcolor\": \"#E5ECF6\", \"showlakes\": true, \"showland\": true, \"subunitcolor\": \"white\"}, \"hoverlabel\": {\"align\": \"left\"}, \"hovermode\": \"closest\", \"mapbox\": {\"style\": \"light\"}, \"paper_bgcolor\": \"white\", \"plot_bgcolor\": \"#E5ECF6\", \"polar\": {\"angularaxis\": {\"gridcolor\": \"white\", \"linecolor\": \"white\", \"ticks\": \"\"}, \"bgcolor\": \"#E5ECF6\", \"radialaxis\": {\"gridcolor\": \"white\", \"linecolor\": \"white\", \"ticks\": \"\"}}, \"scene\": {\"xaxis\": {\"backgroundcolor\": \"#E5ECF6\", \"gridcolor\": \"white\", \"gridwidth\": 2, \"linecolor\": \"white\", \"showbackground\": true, \"ticks\": \"\", \"zerolinecolor\": \"white\"}, \"yaxis\": {\"backgroundcolor\": \"#E5ECF6\", \"gridcolor\": \"white\", \"gridwidth\": 2, \"linecolor\": \"white\", \"showbackground\": true, \"ticks\": \"\", \"zerolinecolor\": \"white\"}, \"zaxis\": {\"backgroundcolor\": \"#E5ECF6\", \"gridcolor\": \"white\", \"gridwidth\": 2, \"linecolor\": \"white\", \"showbackground\": true, \"ticks\": \"\", \"zerolinecolor\": \"white\"}}, \"shapedefaults\": {\"line\": {\"color\": \"#2a3f5f\"}}, \"ternary\": {\"aaxis\": {\"gridcolor\": \"white\", \"linecolor\": \"white\", \"ticks\": \"\"}, \"baxis\": {\"gridcolor\": \"white\", \"linecolor\": \"white\", \"ticks\": \"\"}, \"bgcolor\": \"#E5ECF6\", \"caxis\": {\"gridcolor\": \"white\", \"linecolor\": \"white\", \"ticks\": \"\"}}, \"title\": {\"x\": 0.05}, \"xaxis\": {\"automargin\": true, \"gridcolor\": \"white\", \"linecolor\": \"white\", \"ticks\": \"\", \"title\": {\"standoff\": 15}, \"zerolinecolor\": \"white\", \"zerolinewidth\": 2}, \"yaxis\": {\"automargin\": true, \"gridcolor\": \"white\", \"linecolor\": \"white\", \"ticks\": \"\", \"title\": {\"standoff\": 15}, \"zerolinecolor\": \"white\", \"zerolinewidth\": 2}}}},\n",
       "                        {\"responsive\": true}\n",
       "                    ).then(function(){\n",
       "                            \n",
       "var gd = document.getElementById('3e658378-fe88-4ea5-9f9f-d7f9944169fc');\n",
       "var x = new MutationObserver(function (mutations, observer) {{\n",
       "        var display = window.getComputedStyle(gd).display;\n",
       "        if (!display || display === 'none') {{\n",
       "            console.log([gd, 'removed!']);\n",
       "            Plotly.purge(gd);\n",
       "            observer.disconnect();\n",
       "        }}\n",
       "}});\n",
       "\n",
       "// Listen for the removal of the full notebook cells\n",
       "var notebookContainer = gd.closest('#notebook-container');\n",
       "if (notebookContainer) {{\n",
       "    x.observe(notebookContainer, {childList: true});\n",
       "}}\n",
       "\n",
       "// Listen for the clearing of the current output cell\n",
       "var outputEl = gd.closest('.output');\n",
       "if (outputEl) {{\n",
       "    x.observe(outputEl, {childList: true});\n",
       "}}\n",
       "\n",
       "                        })\n",
       "                };\n",
       "                });\n",
       "            </script>\n",
       "        </div>"
      ]
     },
     "metadata": {},
     "output_type": "display_data"
    }
   ],
   "source": [
    "# For Non-urgent\n",
    "\n",
    "import plotly.graph_objects as go\n",
    "\n",
    "fig = go.Figure(go.Bar(\n",
    "            x=[99820, 58234, 37018, 28884, 24350],\n",
    "            y=['Acute Upper Respiratory Infections ', 'Infections of the Skin and Subcutaneous Tissue ', 'Other Soft Tissue Disorders ', \n",
    "               'Other Diseases of the Urinary System ', 'Diseases of Oral Cavity and Salivary Glands '],\n",
    "            orientation='h',\n",
    "            text=y,\n",
    "            marker=dict(\n",
    "            color='rgb(249,123,87)',\n",
    "            line=dict(color='rgba(58, 71, 80, 1.0)', width=2))))\n",
    "fig.update_layout({'plot_bgcolor': 'rgba(0,0,0,0)', 'paper_bgcolor': 'rgba(0,0,0,0)',})\n",
    "\n",
    "fig.show()"
   ]
  },
  {
   "cell_type": "markdown",
   "metadata": {},
   "source": [
    "### Ages"
   ]
  },
  {
   "cell_type": "code",
   "execution_count": 70,
   "metadata": {},
   "outputs": [
    {
     "name": "stderr",
     "output_type": "stream",
     "text": [
      "/Library/Frameworks/Python.framework/Versions/3.7/lib/python3.7/site-packages/ipykernel_launcher.py:2: FutureWarning:\n",
      "\n",
      "Indexing with multiple keys (implicitly converted to a tuple of keys) will be deprecated, use a list instead.\n",
      "\n"
     ]
    },
    {
     "data": {
      "text/html": [
       "<div>\n",
       "<style scoped>\n",
       "    .dataframe tbody tr th:only-of-type {\n",
       "        vertical-align: middle;\n",
       "    }\n",
       "\n",
       "    .dataframe tbody tr th {\n",
       "        vertical-align: top;\n",
       "    }\n",
       "\n",
       "    .dataframe thead th {\n",
       "        text-align: right;\n",
       "    }\n",
       "</style>\n",
       "<table border=\"1\" class=\"dataframe\">\n",
       "  <thead>\n",
       "    <tr style=\"text-align: right;\">\n",
       "      <th></th>\n",
       "      <th></th>\n",
       "      <th>Visits</th>\n",
       "      <th>Total Visits (Across all Triage levels)</th>\n",
       "    </tr>\n",
       "    <tr>\n",
       "      <th>Triage Level</th>\n",
       "      <th>Age</th>\n",
       "      <th></th>\n",
       "      <th></th>\n",
       "    </tr>\n",
       "  </thead>\n",
       "  <tbody>\n",
       "    <tr>\n",
       "      <th rowspan=\"6\" valign=\"top\">4-Semi-Urgent</th>\n",
       "      <th>00to14</th>\n",
       "      <td>319953.0</td>\n",
       "      <td>784126.0</td>\n",
       "    </tr>\n",
       "    <tr>\n",
       "      <th>15to29</th>\n",
       "      <td>266963.0</td>\n",
       "      <td>640792.0</td>\n",
       "    </tr>\n",
       "    <tr>\n",
       "      <th>30to49</th>\n",
       "      <td>333847.0</td>\n",
       "      <td>835236.0</td>\n",
       "    </tr>\n",
       "    <tr>\n",
       "      <th>50to74</th>\n",
       "      <td>278329.0</td>\n",
       "      <td>751414.0</td>\n",
       "    </tr>\n",
       "    <tr>\n",
       "      <th>75+</th>\n",
       "      <td>86317.0</td>\n",
       "      <td>271061.0</td>\n",
       "    </tr>\n",
       "    <tr>\n",
       "      <th>ALL</th>\n",
       "      <td>1285409.0</td>\n",
       "      <td>3282629.0</td>\n",
       "    </tr>\n",
       "    <tr>\n",
       "      <th rowspan=\"6\" valign=\"top\">5-Non-Urgent</th>\n",
       "      <th>00to14</th>\n",
       "      <td>41405.0</td>\n",
       "      <td>784126.0</td>\n",
       "    </tr>\n",
       "    <tr>\n",
       "      <th>15to29</th>\n",
       "      <td>47279.0</td>\n",
       "      <td>640792.0</td>\n",
       "    </tr>\n",
       "    <tr>\n",
       "      <th>30to49</th>\n",
       "      <td>58121.0</td>\n",
       "      <td>835236.0</td>\n",
       "    </tr>\n",
       "    <tr>\n",
       "      <th>50to74</th>\n",
       "      <td>49496.0</td>\n",
       "      <td>751414.0</td>\n",
       "    </tr>\n",
       "    <tr>\n",
       "      <th>75+</th>\n",
       "      <td>13368.0</td>\n",
       "      <td>271061.0</td>\n",
       "    </tr>\n",
       "    <tr>\n",
       "      <th>ALL</th>\n",
       "      <td>209669.0</td>\n",
       "      <td>3282629.0</td>\n",
       "    </tr>\n",
       "  </tbody>\n",
       "</table>\n",
       "</div>"
      ],
      "text/plain": [
       "                         Visits  Total Visits (Across all Triage levels)\n",
       "Triage Level  Age                                                       \n",
       "4-Semi-Urgent 00to14   319953.0                                 784126.0\n",
       "              15to29   266963.0                                 640792.0\n",
       "              30to49   333847.0                                 835236.0\n",
       "              50to74   278329.0                                 751414.0\n",
       "              75+       86317.0                                 271061.0\n",
       "              ALL     1285409.0                                3282629.0\n",
       "5-Non-Urgent  00to14    41405.0                                 784126.0\n",
       "              15to29    47279.0                                 640792.0\n",
       "              30to49    58121.0                                 835236.0\n",
       "              50to74    49496.0                                 751414.0\n",
       "              75+       13368.0                                 271061.0\n",
       "              ALL      209669.0                                3282629.0"
      ]
     },
     "metadata": {},
     "output_type": "display_data"
    }
   ],
   "source": [
    "pd.set_option('display.max_rows', 500)\n",
    "Age = pd.DataFrame(both.groupby(['Triage Level', 'Age'])['Visits', 'Total Visits (Across all Triage levels)'].sum())\n",
    "display(Age)"
   ]
  },
  {
   "cell_type": "code",
   "execution_count": 71,
   "metadata": {},
   "outputs": [
    {
     "data": {
      "text/html": [
       "<div>\n",
       "<style scoped>\n",
       "    .dataframe tbody tr th:only-of-type {\n",
       "        vertical-align: middle;\n",
       "    }\n",
       "\n",
       "    .dataframe tbody tr th {\n",
       "        vertical-align: top;\n",
       "    }\n",
       "\n",
       "    .dataframe thead th {\n",
       "        text-align: right;\n",
       "    }\n",
       "</style>\n",
       "<table border=\"1\" class=\"dataframe\">\n",
       "  <thead>\n",
       "    <tr style=\"text-align: right;\">\n",
       "      <th></th>\n",
       "      <th></th>\n",
       "      <th>Visits</th>\n",
       "      <th>Total Visits (Across all Triage levels)</th>\n",
       "    </tr>\n",
       "    <tr>\n",
       "      <th>Triage Level</th>\n",
       "      <th>Age</th>\n",
       "      <th></th>\n",
       "      <th></th>\n",
       "    </tr>\n",
       "  </thead>\n",
       "  <tbody>\n",
       "    <tr>\n",
       "      <th rowspan=\"5\" valign=\"top\">4-Semi-Urgent</th>\n",
       "      <th>ALL</th>\n",
       "      <td>1285409.0</td>\n",
       "      <td>3282629.0</td>\n",
       "    </tr>\n",
       "    <tr>\n",
       "      <th>30to49</th>\n",
       "      <td>333847.0</td>\n",
       "      <td>835236.0</td>\n",
       "    </tr>\n",
       "    <tr>\n",
       "      <th>00to14</th>\n",
       "      <td>319953.0</td>\n",
       "      <td>784126.0</td>\n",
       "    </tr>\n",
       "    <tr>\n",
       "      <th>50to74</th>\n",
       "      <td>278329.0</td>\n",
       "      <td>751414.0</td>\n",
       "    </tr>\n",
       "    <tr>\n",
       "      <th>15to29</th>\n",
       "      <td>266963.0</td>\n",
       "      <td>640792.0</td>\n",
       "    </tr>\n",
       "    <tr>\n",
       "      <th rowspan=\"5\" valign=\"top\">5-Non-Urgent</th>\n",
       "      <th>ALL</th>\n",
       "      <td>209669.0</td>\n",
       "      <td>3282629.0</td>\n",
       "    </tr>\n",
       "    <tr>\n",
       "      <th>30to49</th>\n",
       "      <td>58121.0</td>\n",
       "      <td>835236.0</td>\n",
       "    </tr>\n",
       "    <tr>\n",
       "      <th>50to74</th>\n",
       "      <td>49496.0</td>\n",
       "      <td>751414.0</td>\n",
       "    </tr>\n",
       "    <tr>\n",
       "      <th>15to29</th>\n",
       "      <td>47279.0</td>\n",
       "      <td>640792.0</td>\n",
       "    </tr>\n",
       "    <tr>\n",
       "      <th>00to14</th>\n",
       "      <td>41405.0</td>\n",
       "      <td>784126.0</td>\n",
       "    </tr>\n",
       "  </tbody>\n",
       "</table>\n",
       "</div>"
      ],
      "text/plain": [
       "                         Visits  Total Visits (Across all Triage levels)\n",
       "Triage Level  Age                                                       \n",
       "4-Semi-Urgent ALL     1285409.0                                3282629.0\n",
       "              30to49   333847.0                                 835236.0\n",
       "              00to14   319953.0                                 784126.0\n",
       "              50to74   278329.0                                 751414.0\n",
       "              15to29   266963.0                                 640792.0\n",
       "5-Non-Urgent  ALL      209669.0                                3282629.0\n",
       "              30to49    58121.0                                 835236.0\n",
       "              50to74    49496.0                                 751414.0\n",
       "              15to29    47279.0                                 640792.0\n",
       "              00to14    41405.0                                 784126.0"
      ]
     },
     "execution_count": 71,
     "metadata": {},
     "output_type": "execute_result"
    }
   ],
   "source": [
    "g1 = Age.groupby(level=0, group_keys=False).apply(\n",
    "      lambda x: x.sort_values(('Visits'), ascending=False).head(5))\n",
    "g1"
   ]
  },
  {
   "cell_type": "code",
   "execution_count": 86,
   "metadata": {},
   "outputs": [
    {
     "data": {
      "text/html": [
       "<div>\n",
       "<style scoped>\n",
       "    .dataframe tbody tr th:only-of-type {\n",
       "        vertical-align: middle;\n",
       "    }\n",
       "\n",
       "    .dataframe tbody tr th {\n",
       "        vertical-align: top;\n",
       "    }\n",
       "\n",
       "    .dataframe thead th {\n",
       "        text-align: right;\n",
       "    }\n",
       "</style>\n",
       "<table border=\"1\" class=\"dataframe\">\n",
       "  <thead>\n",
       "    <tr style=\"text-align: right;\">\n",
       "      <th></th>\n",
       "      <th>index</th>\n",
       "      <th>Triage Level</th>\n",
       "      <th>Age</th>\n",
       "      <th>Visits</th>\n",
       "      <th>Total Visits (Across all Triage levels)</th>\n",
       "    </tr>\n",
       "  </thead>\n",
       "  <tbody>\n",
       "    <tr>\n",
       "      <th>0</th>\n",
       "      <td>0</td>\n",
       "      <td>4-Semi-Urgent</td>\n",
       "      <td>ALL</td>\n",
       "      <td>1285409.0</td>\n",
       "      <td>3282629.0</td>\n",
       "    </tr>\n",
       "    <tr>\n",
       "      <th>1</th>\n",
       "      <td>1</td>\n",
       "      <td>4-Semi-Urgent</td>\n",
       "      <td>30to49</td>\n",
       "      <td>333847.0</td>\n",
       "      <td>835236.0</td>\n",
       "    </tr>\n",
       "    <tr>\n",
       "      <th>2</th>\n",
       "      <td>2</td>\n",
       "      <td>4-Semi-Urgent</td>\n",
       "      <td>00to14</td>\n",
       "      <td>319953.0</td>\n",
       "      <td>784126.0</td>\n",
       "    </tr>\n",
       "    <tr>\n",
       "      <th>3</th>\n",
       "      <td>3</td>\n",
       "      <td>4-Semi-Urgent</td>\n",
       "      <td>50to74</td>\n",
       "      <td>278329.0</td>\n",
       "      <td>751414.0</td>\n",
       "    </tr>\n",
       "    <tr>\n",
       "      <th>4</th>\n",
       "      <td>4</td>\n",
       "      <td>4-Semi-Urgent</td>\n",
       "      <td>15to29</td>\n",
       "      <td>266963.0</td>\n",
       "      <td>640792.0</td>\n",
       "    </tr>\n",
       "  </tbody>\n",
       "</table>\n",
       "</div>"
      ],
      "text/plain": [
       "   index   Triage Level     Age     Visits  \\\n",
       "0      0  4-Semi-Urgent     ALL  1285409.0   \n",
       "1      1  4-Semi-Urgent  30to49   333847.0   \n",
       "2      2  4-Semi-Urgent  00to14   319953.0   \n",
       "3      3  4-Semi-Urgent  50to74   278329.0   \n",
       "4      4  4-Semi-Urgent  15to29   266963.0   \n",
       "\n",
       "   Total Visits (Across all Triage levels)  \n",
       "0                                3282629.0  \n",
       "1                                 835236.0  \n",
       "2                                 784126.0  \n",
       "3                                 751414.0  \n",
       "4                                 640792.0  "
      ]
     },
     "execution_count": 86,
     "metadata": {},
     "output_type": "execute_result"
    }
   ],
   "source": [
    "g1= g1.reset_index()\n",
    "semiper = pd.DataFrame(g1[g1['Triage Level'] == '4-Semi-Urgent'])\n",
    "semiper"
   ]
  },
  {
   "cell_type": "code",
   "execution_count": 89,
   "metadata": {},
   "outputs": [],
   "source": [
    "s = semiper['Visits'].sum()"
   ]
  },
  {
   "cell_type": "code",
   "execution_count": 90,
   "metadata": {},
   "outputs": [
    {
     "data": {
      "text/plain": [
       "1199092.0"
      ]
     },
     "execution_count": 90,
     "metadata": {},
     "output_type": "execute_result"
    }
   ],
   "source": [
    "s-1285409"
   ]
  },
  {
   "cell_type": "code",
   "execution_count": 95,
   "metadata": {},
   "outputs": [
    {
     "data": {
      "text/html": [
       "<div>\n",
       "<style scoped>\n",
       "    .dataframe tbody tr th:only-of-type {\n",
       "        vertical-align: middle;\n",
       "    }\n",
       "\n",
       "    .dataframe tbody tr th {\n",
       "        vertical-align: top;\n",
       "    }\n",
       "\n",
       "    .dataframe thead th {\n",
       "        text-align: right;\n",
       "    }\n",
       "</style>\n",
       "<table border=\"1\" class=\"dataframe\">\n",
       "  <thead>\n",
       "    <tr style=\"text-align: right;\">\n",
       "      <th></th>\n",
       "      <th>index</th>\n",
       "      <th>Triage Level</th>\n",
       "      <th>Age</th>\n",
       "      <th>Visits</th>\n",
       "      <th>Total Visits (Across all Triage levels)</th>\n",
       "      <th>proportion</th>\n",
       "    </tr>\n",
       "  </thead>\n",
       "  <tbody>\n",
       "    <tr>\n",
       "      <th>0</th>\n",
       "      <td>0</td>\n",
       "      <td>4-Semi-Urgent</td>\n",
       "      <td>ALL</td>\n",
       "      <td>1285409.0</td>\n",
       "      <td>3282629.0</td>\n",
       "      <td>107.198530</td>\n",
       "    </tr>\n",
       "    <tr>\n",
       "      <th>1</th>\n",
       "      <td>1</td>\n",
       "      <td>4-Semi-Urgent</td>\n",
       "      <td>30to49</td>\n",
       "      <td>333847.0</td>\n",
       "      <td>835236.0</td>\n",
       "      <td>27.841650</td>\n",
       "    </tr>\n",
       "    <tr>\n",
       "      <th>2</th>\n",
       "      <td>2</td>\n",
       "      <td>4-Semi-Urgent</td>\n",
       "      <td>00to14</td>\n",
       "      <td>319953.0</td>\n",
       "      <td>784126.0</td>\n",
       "      <td>26.682940</td>\n",
       "    </tr>\n",
       "    <tr>\n",
       "      <th>3</th>\n",
       "      <td>3</td>\n",
       "      <td>4-Semi-Urgent</td>\n",
       "      <td>50to74</td>\n",
       "      <td>278329.0</td>\n",
       "      <td>751414.0</td>\n",
       "      <td>23.211647</td>\n",
       "    </tr>\n",
       "    <tr>\n",
       "      <th>4</th>\n",
       "      <td>4</td>\n",
       "      <td>4-Semi-Urgent</td>\n",
       "      <td>15to29</td>\n",
       "      <td>266963.0</td>\n",
       "      <td>640792.0</td>\n",
       "      <td>22.263763</td>\n",
       "    </tr>\n",
       "  </tbody>\n",
       "</table>\n",
       "</div>"
      ],
      "text/plain": [
       "   index   Triage Level     Age     Visits  \\\n",
       "0      0  4-Semi-Urgent     ALL  1285409.0   \n",
       "1      1  4-Semi-Urgent  30to49   333847.0   \n",
       "2      2  4-Semi-Urgent  00to14   319953.0   \n",
       "3      3  4-Semi-Urgent  50to74   278329.0   \n",
       "4      4  4-Semi-Urgent  15to29   266963.0   \n",
       "\n",
       "   Total Visits (Across all Triage levels)  proportion  \n",
       "0                                3282629.0  107.198530  \n",
       "1                                 835236.0   27.841650  \n",
       "2                                 784126.0   26.682940  \n",
       "3                                 751414.0   23.211647  \n",
       "4                                 640792.0   22.263763  "
      ]
     },
     "execution_count": 95,
     "metadata": {},
     "output_type": "execute_result"
    }
   ],
   "source": [
    "semiper['proportion']=semiper['Visits']/1199092*100\n",
    "semiper"
   ]
  },
  {
   "cell_type": "code",
   "execution_count": 168,
   "metadata": {},
   "outputs": [
    {
     "data": {
      "application/vnd.plotly.v1+json": {
       "config": {
        "plotlyServerURL": "https://plot.ly"
       },
       "data": [
        {
         "cells": {
          "align": "left",
          "fill": {
           "color": "rgba(0,0,0,0)"
          },
          "line": {
           "color": "darkslategray"
          },
          "values": [
           [
            "30 to 49",
            "50 to 74",
            "15 to 29",
            "0 to 14"
           ],
           [
            835236,
            751414,
            640792,
            784126
           ],
           [
            "28%",
            "27%",
            "23%",
            "22%"
           ]
          ]
         },
         "header": {
          "align": "center",
          "fill": {
           "color": "rgb(253,187,132)"
          },
          "line": {
           "color": "darkslategray"
          },
          "values": [
           "Ages",
           "Visits",
           "Percentage"
          ]
         },
         "type": "table"
        }
       ],
       "layout": {
        "height": 300,
        "template": {
         "data": {
          "bar": [
           {
            "error_x": {
             "color": "#2a3f5f"
            },
            "error_y": {
             "color": "#2a3f5f"
            },
            "marker": {
             "line": {
              "color": "#E5ECF6",
              "width": 0.5
             }
            },
            "type": "bar"
           }
          ],
          "barpolar": [
           {
            "marker": {
             "line": {
              "color": "#E5ECF6",
              "width": 0.5
             }
            },
            "type": "barpolar"
           }
          ],
          "carpet": [
           {
            "aaxis": {
             "endlinecolor": "#2a3f5f",
             "gridcolor": "white",
             "linecolor": "white",
             "minorgridcolor": "white",
             "startlinecolor": "#2a3f5f"
            },
            "baxis": {
             "endlinecolor": "#2a3f5f",
             "gridcolor": "white",
             "linecolor": "white",
             "minorgridcolor": "white",
             "startlinecolor": "#2a3f5f"
            },
            "type": "carpet"
           }
          ],
          "choropleth": [
           {
            "colorbar": {
             "outlinewidth": 0,
             "ticks": ""
            },
            "type": "choropleth"
           }
          ],
          "contour": [
           {
            "colorbar": {
             "outlinewidth": 0,
             "ticks": ""
            },
            "colorscale": [
             [
              0,
              "#0d0887"
             ],
             [
              0.1111111111111111,
              "#46039f"
             ],
             [
              0.2222222222222222,
              "#7201a8"
             ],
             [
              0.3333333333333333,
              "#9c179e"
             ],
             [
              0.4444444444444444,
              "#bd3786"
             ],
             [
              0.5555555555555556,
              "#d8576b"
             ],
             [
              0.6666666666666666,
              "#ed7953"
             ],
             [
              0.7777777777777778,
              "#fb9f3a"
             ],
             [
              0.8888888888888888,
              "#fdca26"
             ],
             [
              1,
              "#f0f921"
             ]
            ],
            "type": "contour"
           }
          ],
          "contourcarpet": [
           {
            "colorbar": {
             "outlinewidth": 0,
             "ticks": ""
            },
            "type": "contourcarpet"
           }
          ],
          "heatmap": [
           {
            "colorbar": {
             "outlinewidth": 0,
             "ticks": ""
            },
            "colorscale": [
             [
              0,
              "#0d0887"
             ],
             [
              0.1111111111111111,
              "#46039f"
             ],
             [
              0.2222222222222222,
              "#7201a8"
             ],
             [
              0.3333333333333333,
              "#9c179e"
             ],
             [
              0.4444444444444444,
              "#bd3786"
             ],
             [
              0.5555555555555556,
              "#d8576b"
             ],
             [
              0.6666666666666666,
              "#ed7953"
             ],
             [
              0.7777777777777778,
              "#fb9f3a"
             ],
             [
              0.8888888888888888,
              "#fdca26"
             ],
             [
              1,
              "#f0f921"
             ]
            ],
            "type": "heatmap"
           }
          ],
          "heatmapgl": [
           {
            "colorbar": {
             "outlinewidth": 0,
             "ticks": ""
            },
            "colorscale": [
             [
              0,
              "#0d0887"
             ],
             [
              0.1111111111111111,
              "#46039f"
             ],
             [
              0.2222222222222222,
              "#7201a8"
             ],
             [
              0.3333333333333333,
              "#9c179e"
             ],
             [
              0.4444444444444444,
              "#bd3786"
             ],
             [
              0.5555555555555556,
              "#d8576b"
             ],
             [
              0.6666666666666666,
              "#ed7953"
             ],
             [
              0.7777777777777778,
              "#fb9f3a"
             ],
             [
              0.8888888888888888,
              "#fdca26"
             ],
             [
              1,
              "#f0f921"
             ]
            ],
            "type": "heatmapgl"
           }
          ],
          "histogram": [
           {
            "marker": {
             "colorbar": {
              "outlinewidth": 0,
              "ticks": ""
             }
            },
            "type": "histogram"
           }
          ],
          "histogram2d": [
           {
            "colorbar": {
             "outlinewidth": 0,
             "ticks": ""
            },
            "colorscale": [
             [
              0,
              "#0d0887"
             ],
             [
              0.1111111111111111,
              "#46039f"
             ],
             [
              0.2222222222222222,
              "#7201a8"
             ],
             [
              0.3333333333333333,
              "#9c179e"
             ],
             [
              0.4444444444444444,
              "#bd3786"
             ],
             [
              0.5555555555555556,
              "#d8576b"
             ],
             [
              0.6666666666666666,
              "#ed7953"
             ],
             [
              0.7777777777777778,
              "#fb9f3a"
             ],
             [
              0.8888888888888888,
              "#fdca26"
             ],
             [
              1,
              "#f0f921"
             ]
            ],
            "type": "histogram2d"
           }
          ],
          "histogram2dcontour": [
           {
            "colorbar": {
             "outlinewidth": 0,
             "ticks": ""
            },
            "colorscale": [
             [
              0,
              "#0d0887"
             ],
             [
              0.1111111111111111,
              "#46039f"
             ],
             [
              0.2222222222222222,
              "#7201a8"
             ],
             [
              0.3333333333333333,
              "#9c179e"
             ],
             [
              0.4444444444444444,
              "#bd3786"
             ],
             [
              0.5555555555555556,
              "#d8576b"
             ],
             [
              0.6666666666666666,
              "#ed7953"
             ],
             [
              0.7777777777777778,
              "#fb9f3a"
             ],
             [
              0.8888888888888888,
              "#fdca26"
             ],
             [
              1,
              "#f0f921"
             ]
            ],
            "type": "histogram2dcontour"
           }
          ],
          "mesh3d": [
           {
            "colorbar": {
             "outlinewidth": 0,
             "ticks": ""
            },
            "type": "mesh3d"
           }
          ],
          "parcoords": [
           {
            "line": {
             "colorbar": {
              "outlinewidth": 0,
              "ticks": ""
             }
            },
            "type": "parcoords"
           }
          ],
          "pie": [
           {
            "automargin": true,
            "type": "pie"
           }
          ],
          "scatter": [
           {
            "marker": {
             "colorbar": {
              "outlinewidth": 0,
              "ticks": ""
             }
            },
            "type": "scatter"
           }
          ],
          "scatter3d": [
           {
            "line": {
             "colorbar": {
              "outlinewidth": 0,
              "ticks": ""
             }
            },
            "marker": {
             "colorbar": {
              "outlinewidth": 0,
              "ticks": ""
             }
            },
            "type": "scatter3d"
           }
          ],
          "scattercarpet": [
           {
            "marker": {
             "colorbar": {
              "outlinewidth": 0,
              "ticks": ""
             }
            },
            "type": "scattercarpet"
           }
          ],
          "scattergeo": [
           {
            "marker": {
             "colorbar": {
              "outlinewidth": 0,
              "ticks": ""
             }
            },
            "type": "scattergeo"
           }
          ],
          "scattergl": [
           {
            "marker": {
             "colorbar": {
              "outlinewidth": 0,
              "ticks": ""
             }
            },
            "type": "scattergl"
           }
          ],
          "scattermapbox": [
           {
            "marker": {
             "colorbar": {
              "outlinewidth": 0,
              "ticks": ""
             }
            },
            "type": "scattermapbox"
           }
          ],
          "scatterpolar": [
           {
            "marker": {
             "colorbar": {
              "outlinewidth": 0,
              "ticks": ""
             }
            },
            "type": "scatterpolar"
           }
          ],
          "scatterpolargl": [
           {
            "marker": {
             "colorbar": {
              "outlinewidth": 0,
              "ticks": ""
             }
            },
            "type": "scatterpolargl"
           }
          ],
          "scatterternary": [
           {
            "marker": {
             "colorbar": {
              "outlinewidth": 0,
              "ticks": ""
             }
            },
            "type": "scatterternary"
           }
          ],
          "surface": [
           {
            "colorbar": {
             "outlinewidth": 0,
             "ticks": ""
            },
            "colorscale": [
             [
              0,
              "#0d0887"
             ],
             [
              0.1111111111111111,
              "#46039f"
             ],
             [
              0.2222222222222222,
              "#7201a8"
             ],
             [
              0.3333333333333333,
              "#9c179e"
             ],
             [
              0.4444444444444444,
              "#bd3786"
             ],
             [
              0.5555555555555556,
              "#d8576b"
             ],
             [
              0.6666666666666666,
              "#ed7953"
             ],
             [
              0.7777777777777778,
              "#fb9f3a"
             ],
             [
              0.8888888888888888,
              "#fdca26"
             ],
             [
              1,
              "#f0f921"
             ]
            ],
            "type": "surface"
           }
          ],
          "table": [
           {
            "cells": {
             "fill": {
              "color": "#EBF0F8"
             },
             "line": {
              "color": "white"
             }
            },
            "header": {
             "fill": {
              "color": "#C8D4E3"
             },
             "line": {
              "color": "white"
             }
            },
            "type": "table"
           }
          ]
         },
         "layout": {
          "annotationdefaults": {
           "arrowcolor": "#2a3f5f",
           "arrowhead": 0,
           "arrowwidth": 1
          },
          "coloraxis": {
           "colorbar": {
            "outlinewidth": 0,
            "ticks": ""
           }
          },
          "colorscale": {
           "diverging": [
            [
             0,
             "#8e0152"
            ],
            [
             0.1,
             "#c51b7d"
            ],
            [
             0.2,
             "#de77ae"
            ],
            [
             0.3,
             "#f1b6da"
            ],
            [
             0.4,
             "#fde0ef"
            ],
            [
             0.5,
             "#f7f7f7"
            ],
            [
             0.6,
             "#e6f5d0"
            ],
            [
             0.7,
             "#b8e186"
            ],
            [
             0.8,
             "#7fbc41"
            ],
            [
             0.9,
             "#4d9221"
            ],
            [
             1,
             "#276419"
            ]
           ],
           "sequential": [
            [
             0,
             "#0d0887"
            ],
            [
             0.1111111111111111,
             "#46039f"
            ],
            [
             0.2222222222222222,
             "#7201a8"
            ],
            [
             0.3333333333333333,
             "#9c179e"
            ],
            [
             0.4444444444444444,
             "#bd3786"
            ],
            [
             0.5555555555555556,
             "#d8576b"
            ],
            [
             0.6666666666666666,
             "#ed7953"
            ],
            [
             0.7777777777777778,
             "#fb9f3a"
            ],
            [
             0.8888888888888888,
             "#fdca26"
            ],
            [
             1,
             "#f0f921"
            ]
           ],
           "sequentialminus": [
            [
             0,
             "#0d0887"
            ],
            [
             0.1111111111111111,
             "#46039f"
            ],
            [
             0.2222222222222222,
             "#7201a8"
            ],
            [
             0.3333333333333333,
             "#9c179e"
            ],
            [
             0.4444444444444444,
             "#bd3786"
            ],
            [
             0.5555555555555556,
             "#d8576b"
            ],
            [
             0.6666666666666666,
             "#ed7953"
            ],
            [
             0.7777777777777778,
             "#fb9f3a"
            ],
            [
             0.8888888888888888,
             "#fdca26"
            ],
            [
             1,
             "#f0f921"
            ]
           ]
          },
          "colorway": [
           "#636efa",
           "#EF553B",
           "#00cc96",
           "#ab63fa",
           "#FFA15A",
           "#19d3f3",
           "#FF6692",
           "#B6E880",
           "#FF97FF",
           "#FECB52"
          ],
          "font": {
           "color": "#2a3f5f"
          },
          "geo": {
           "bgcolor": "white",
           "lakecolor": "white",
           "landcolor": "#E5ECF6",
           "showlakes": true,
           "showland": true,
           "subunitcolor": "white"
          },
          "hoverlabel": {
           "align": "left"
          },
          "hovermode": "closest",
          "mapbox": {
           "style": "light"
          },
          "paper_bgcolor": "white",
          "plot_bgcolor": "#E5ECF6",
          "polar": {
           "angularaxis": {
            "gridcolor": "white",
            "linecolor": "white",
            "ticks": ""
           },
           "bgcolor": "#E5ECF6",
           "radialaxis": {
            "gridcolor": "white",
            "linecolor": "white",
            "ticks": ""
           }
          },
          "scene": {
           "xaxis": {
            "backgroundcolor": "#E5ECF6",
            "gridcolor": "white",
            "gridwidth": 2,
            "linecolor": "white",
            "showbackground": true,
            "ticks": "",
            "zerolinecolor": "white"
           },
           "yaxis": {
            "backgroundcolor": "#E5ECF6",
            "gridcolor": "white",
            "gridwidth": 2,
            "linecolor": "white",
            "showbackground": true,
            "ticks": "",
            "zerolinecolor": "white"
           },
           "zaxis": {
            "backgroundcolor": "#E5ECF6",
            "gridcolor": "white",
            "gridwidth": 2,
            "linecolor": "white",
            "showbackground": true,
            "ticks": "",
            "zerolinecolor": "white"
           }
          },
          "shapedefaults": {
           "line": {
            "color": "#2a3f5f"
           }
          },
          "ternary": {
           "aaxis": {
            "gridcolor": "white",
            "linecolor": "white",
            "ticks": ""
           },
           "baxis": {
            "gridcolor": "white",
            "linecolor": "white",
            "ticks": ""
           },
           "bgcolor": "#E5ECF6",
           "caxis": {
            "gridcolor": "white",
            "linecolor": "white",
            "ticks": ""
           }
          },
          "title": {
           "x": 0.05
          },
          "xaxis": {
           "automargin": true,
           "gridcolor": "white",
           "linecolor": "white",
           "ticks": "",
           "title": {
            "standoff": 15
           },
           "zerolinecolor": "white",
           "zerolinewidth": 2
          },
          "yaxis": {
           "automargin": true,
           "gridcolor": "white",
           "linecolor": "white",
           "ticks": "",
           "title": {
            "standoff": 15
           },
           "zerolinecolor": "white",
           "zerolinewidth": 2
          }
         }
        },
        "width": 500
       }
      },
      "text/html": [
       "<div>\n",
       "        \n",
       "        \n",
       "            <div id=\"cc879be2-765a-488d-adcc-3b3dc4f72e52\" class=\"plotly-graph-div\" style=\"height:300px; width:500px;\"></div>\n",
       "            <script type=\"text/javascript\">\n",
       "                require([\"plotly\"], function(Plotly) {\n",
       "                    window.PLOTLYENV=window.PLOTLYENV || {};\n",
       "                    \n",
       "                if (document.getElementById(\"cc879be2-765a-488d-adcc-3b3dc4f72e52\")) {\n",
       "                    Plotly.newPlot(\n",
       "                        'cc879be2-765a-488d-adcc-3b3dc4f72e52',\n",
       "                        [{\"cells\": {\"align\": \"left\", \"fill\": {\"color\": \"rgba(0,0,0,0)\"}, \"line\": {\"color\": \"darkslategray\"}, \"values\": [[\"30 to 49\", \"50 to 74\", \"15 to 29\", \"0 to 14\"], [835236, 751414, 640792, 784126], [\"28%\", \"27%\", \"23%\", \"22%\"]]}, \"header\": {\"align\": \"center\", \"fill\": {\"color\": \"rgb(253,187,132)\"}, \"line\": {\"color\": \"darkslategray\"}, \"values\": [\"Ages\", \"Visits\", \"Percentage\"]}, \"type\": \"table\"}],\n",
       "                        {\"height\": 300, \"template\": {\"data\": {\"bar\": [{\"error_x\": {\"color\": \"#2a3f5f\"}, \"error_y\": {\"color\": \"#2a3f5f\"}, \"marker\": {\"line\": {\"color\": \"#E5ECF6\", \"width\": 0.5}}, \"type\": \"bar\"}], \"barpolar\": [{\"marker\": {\"line\": {\"color\": \"#E5ECF6\", \"width\": 0.5}}, \"type\": \"barpolar\"}], \"carpet\": [{\"aaxis\": {\"endlinecolor\": \"#2a3f5f\", \"gridcolor\": \"white\", \"linecolor\": \"white\", \"minorgridcolor\": \"white\", \"startlinecolor\": \"#2a3f5f\"}, \"baxis\": {\"endlinecolor\": \"#2a3f5f\", \"gridcolor\": \"white\", \"linecolor\": \"white\", \"minorgridcolor\": \"white\", \"startlinecolor\": \"#2a3f5f\"}, \"type\": \"carpet\"}], \"choropleth\": [{\"colorbar\": {\"outlinewidth\": 0, \"ticks\": \"\"}, \"type\": \"choropleth\"}], \"contour\": [{\"colorbar\": {\"outlinewidth\": 0, \"ticks\": \"\"}, \"colorscale\": [[0.0, \"#0d0887\"], [0.1111111111111111, \"#46039f\"], [0.2222222222222222, \"#7201a8\"], [0.3333333333333333, \"#9c179e\"], [0.4444444444444444, \"#bd3786\"], [0.5555555555555556, \"#d8576b\"], [0.6666666666666666, \"#ed7953\"], [0.7777777777777778, \"#fb9f3a\"], [0.8888888888888888, \"#fdca26\"], [1.0, \"#f0f921\"]], \"type\": \"contour\"}], \"contourcarpet\": [{\"colorbar\": {\"outlinewidth\": 0, \"ticks\": \"\"}, \"type\": \"contourcarpet\"}], \"heatmap\": [{\"colorbar\": {\"outlinewidth\": 0, \"ticks\": \"\"}, \"colorscale\": [[0.0, \"#0d0887\"], [0.1111111111111111, \"#46039f\"], [0.2222222222222222, \"#7201a8\"], [0.3333333333333333, \"#9c179e\"], [0.4444444444444444, \"#bd3786\"], [0.5555555555555556, \"#d8576b\"], [0.6666666666666666, \"#ed7953\"], [0.7777777777777778, \"#fb9f3a\"], [0.8888888888888888, \"#fdca26\"], [1.0, \"#f0f921\"]], \"type\": \"heatmap\"}], \"heatmapgl\": [{\"colorbar\": {\"outlinewidth\": 0, \"ticks\": \"\"}, \"colorscale\": [[0.0, \"#0d0887\"], [0.1111111111111111, \"#46039f\"], [0.2222222222222222, \"#7201a8\"], [0.3333333333333333, \"#9c179e\"], [0.4444444444444444, \"#bd3786\"], [0.5555555555555556, \"#d8576b\"], [0.6666666666666666, \"#ed7953\"], [0.7777777777777778, \"#fb9f3a\"], [0.8888888888888888, \"#fdca26\"], [1.0, \"#f0f921\"]], \"type\": \"heatmapgl\"}], \"histogram\": [{\"marker\": {\"colorbar\": {\"outlinewidth\": 0, \"ticks\": \"\"}}, \"type\": \"histogram\"}], \"histogram2d\": [{\"colorbar\": {\"outlinewidth\": 0, \"ticks\": \"\"}, \"colorscale\": [[0.0, \"#0d0887\"], [0.1111111111111111, \"#46039f\"], [0.2222222222222222, \"#7201a8\"], [0.3333333333333333, \"#9c179e\"], [0.4444444444444444, \"#bd3786\"], [0.5555555555555556, \"#d8576b\"], [0.6666666666666666, \"#ed7953\"], [0.7777777777777778, \"#fb9f3a\"], [0.8888888888888888, \"#fdca26\"], [1.0, \"#f0f921\"]], \"type\": \"histogram2d\"}], \"histogram2dcontour\": [{\"colorbar\": {\"outlinewidth\": 0, \"ticks\": \"\"}, \"colorscale\": [[0.0, \"#0d0887\"], [0.1111111111111111, \"#46039f\"], [0.2222222222222222, \"#7201a8\"], [0.3333333333333333, \"#9c179e\"], [0.4444444444444444, \"#bd3786\"], [0.5555555555555556, \"#d8576b\"], [0.6666666666666666, \"#ed7953\"], [0.7777777777777778, \"#fb9f3a\"], [0.8888888888888888, \"#fdca26\"], [1.0, \"#f0f921\"]], \"type\": \"histogram2dcontour\"}], \"mesh3d\": [{\"colorbar\": {\"outlinewidth\": 0, \"ticks\": \"\"}, \"type\": \"mesh3d\"}], \"parcoords\": [{\"line\": {\"colorbar\": {\"outlinewidth\": 0, \"ticks\": \"\"}}, \"type\": \"parcoords\"}], \"pie\": [{\"automargin\": true, \"type\": \"pie\"}], \"scatter\": [{\"marker\": {\"colorbar\": {\"outlinewidth\": 0, \"ticks\": \"\"}}, \"type\": \"scatter\"}], \"scatter3d\": [{\"line\": {\"colorbar\": {\"outlinewidth\": 0, \"ticks\": \"\"}}, \"marker\": {\"colorbar\": {\"outlinewidth\": 0, \"ticks\": \"\"}}, \"type\": \"scatter3d\"}], \"scattercarpet\": [{\"marker\": {\"colorbar\": {\"outlinewidth\": 0, \"ticks\": \"\"}}, \"type\": \"scattercarpet\"}], \"scattergeo\": [{\"marker\": {\"colorbar\": {\"outlinewidth\": 0, \"ticks\": \"\"}}, \"type\": \"scattergeo\"}], \"scattergl\": [{\"marker\": {\"colorbar\": {\"outlinewidth\": 0, \"ticks\": \"\"}}, \"type\": \"scattergl\"}], \"scattermapbox\": [{\"marker\": {\"colorbar\": {\"outlinewidth\": 0, \"ticks\": \"\"}}, \"type\": \"scattermapbox\"}], \"scatterpolar\": [{\"marker\": {\"colorbar\": {\"outlinewidth\": 0, \"ticks\": \"\"}}, \"type\": \"scatterpolar\"}], \"scatterpolargl\": [{\"marker\": {\"colorbar\": {\"outlinewidth\": 0, \"ticks\": \"\"}}, \"type\": \"scatterpolargl\"}], \"scatterternary\": [{\"marker\": {\"colorbar\": {\"outlinewidth\": 0, \"ticks\": \"\"}}, \"type\": \"scatterternary\"}], \"surface\": [{\"colorbar\": {\"outlinewidth\": 0, \"ticks\": \"\"}, \"colorscale\": [[0.0, \"#0d0887\"], [0.1111111111111111, \"#46039f\"], [0.2222222222222222, \"#7201a8\"], [0.3333333333333333, \"#9c179e\"], [0.4444444444444444, \"#bd3786\"], [0.5555555555555556, \"#d8576b\"], [0.6666666666666666, \"#ed7953\"], [0.7777777777777778, \"#fb9f3a\"], [0.8888888888888888, \"#fdca26\"], [1.0, \"#f0f921\"]], \"type\": \"surface\"}], \"table\": [{\"cells\": {\"fill\": {\"color\": \"#EBF0F8\"}, \"line\": {\"color\": \"white\"}}, \"header\": {\"fill\": {\"color\": \"#C8D4E3\"}, \"line\": {\"color\": \"white\"}}, \"type\": \"table\"}]}, \"layout\": {\"annotationdefaults\": {\"arrowcolor\": \"#2a3f5f\", \"arrowhead\": 0, \"arrowwidth\": 1}, \"coloraxis\": {\"colorbar\": {\"outlinewidth\": 0, \"ticks\": \"\"}}, \"colorscale\": {\"diverging\": [[0, \"#8e0152\"], [0.1, \"#c51b7d\"], [0.2, \"#de77ae\"], [0.3, \"#f1b6da\"], [0.4, \"#fde0ef\"], [0.5, \"#f7f7f7\"], [0.6, \"#e6f5d0\"], [0.7, \"#b8e186\"], [0.8, \"#7fbc41\"], [0.9, \"#4d9221\"], [1, \"#276419\"]], \"sequential\": [[0.0, \"#0d0887\"], [0.1111111111111111, \"#46039f\"], [0.2222222222222222, \"#7201a8\"], [0.3333333333333333, \"#9c179e\"], [0.4444444444444444, \"#bd3786\"], [0.5555555555555556, \"#d8576b\"], [0.6666666666666666, \"#ed7953\"], [0.7777777777777778, \"#fb9f3a\"], [0.8888888888888888, \"#fdca26\"], [1.0, \"#f0f921\"]], \"sequentialminus\": [[0.0, \"#0d0887\"], [0.1111111111111111, \"#46039f\"], [0.2222222222222222, \"#7201a8\"], [0.3333333333333333, \"#9c179e\"], [0.4444444444444444, \"#bd3786\"], [0.5555555555555556, \"#d8576b\"], [0.6666666666666666, \"#ed7953\"], [0.7777777777777778, \"#fb9f3a\"], [0.8888888888888888, \"#fdca26\"], [1.0, \"#f0f921\"]]}, \"colorway\": [\"#636efa\", \"#EF553B\", \"#00cc96\", \"#ab63fa\", \"#FFA15A\", \"#19d3f3\", \"#FF6692\", \"#B6E880\", \"#FF97FF\", \"#FECB52\"], \"font\": {\"color\": \"#2a3f5f\"}, \"geo\": {\"bgcolor\": \"white\", \"lakecolor\": \"white\", \"landcolor\": \"#E5ECF6\", \"showlakes\": true, \"showland\": true, \"subunitcolor\": \"white\"}, \"hoverlabel\": {\"align\": \"left\"}, \"hovermode\": \"closest\", \"mapbox\": {\"style\": \"light\"}, \"paper_bgcolor\": \"white\", \"plot_bgcolor\": \"#E5ECF6\", \"polar\": {\"angularaxis\": {\"gridcolor\": \"white\", \"linecolor\": \"white\", \"ticks\": \"\"}, \"bgcolor\": \"#E5ECF6\", \"radialaxis\": {\"gridcolor\": \"white\", \"linecolor\": \"white\", \"ticks\": \"\"}}, \"scene\": {\"xaxis\": {\"backgroundcolor\": \"#E5ECF6\", \"gridcolor\": \"white\", \"gridwidth\": 2, \"linecolor\": \"white\", \"showbackground\": true, \"ticks\": \"\", \"zerolinecolor\": \"white\"}, \"yaxis\": {\"backgroundcolor\": \"#E5ECF6\", \"gridcolor\": \"white\", \"gridwidth\": 2, \"linecolor\": \"white\", \"showbackground\": true, \"ticks\": \"\", \"zerolinecolor\": \"white\"}, \"zaxis\": {\"backgroundcolor\": \"#E5ECF6\", \"gridcolor\": \"white\", \"gridwidth\": 2, \"linecolor\": \"white\", \"showbackground\": true, \"ticks\": \"\", \"zerolinecolor\": \"white\"}}, \"shapedefaults\": {\"line\": {\"color\": \"#2a3f5f\"}}, \"ternary\": {\"aaxis\": {\"gridcolor\": \"white\", \"linecolor\": \"white\", \"ticks\": \"\"}, \"baxis\": {\"gridcolor\": \"white\", \"linecolor\": \"white\", \"ticks\": \"\"}, \"bgcolor\": \"#E5ECF6\", \"caxis\": {\"gridcolor\": \"white\", \"linecolor\": \"white\", \"ticks\": \"\"}}, \"title\": {\"x\": 0.05}, \"xaxis\": {\"automargin\": true, \"gridcolor\": \"white\", \"linecolor\": \"white\", \"ticks\": \"\", \"title\": {\"standoff\": 15}, \"zerolinecolor\": \"white\", \"zerolinewidth\": 2}, \"yaxis\": {\"automargin\": true, \"gridcolor\": \"white\", \"linecolor\": \"white\", \"ticks\": \"\", \"title\": {\"standoff\": 15}, \"zerolinecolor\": \"white\", \"zerolinewidth\": 2}}}, \"width\": 500},\n",
       "                        {\"responsive\": true}\n",
       "                    ).then(function(){\n",
       "                            \n",
       "var gd = document.getElementById('cc879be2-765a-488d-adcc-3b3dc4f72e52');\n",
       "var x = new MutationObserver(function (mutations, observer) {{\n",
       "        var display = window.getComputedStyle(gd).display;\n",
       "        if (!display || display === 'none') {{\n",
       "            console.log([gd, 'removed!']);\n",
       "            Plotly.purge(gd);\n",
       "            observer.disconnect();\n",
       "        }}\n",
       "}});\n",
       "\n",
       "// Listen for the removal of the full notebook cells\n",
       "var notebookContainer = gd.closest('#notebook-container');\n",
       "if (notebookContainer) {{\n",
       "    x.observe(notebookContainer, {childList: true});\n",
       "}}\n",
       "\n",
       "// Listen for the clearing of the current output cell\n",
       "var outputEl = gd.closest('.output');\n",
       "if (outputEl) {{\n",
       "    x.observe(outputEl, {childList: true});\n",
       "}}\n",
       "\n",
       "                        })\n",
       "                };\n",
       "                });\n",
       "            </script>\n",
       "        </div>"
      ]
     },
     "metadata": {},
     "output_type": "display_data"
    }
   ],
   "source": [
    "#Semi urgent\n",
    "import plotly.graph_objects as go\n",
    "\n",
    "fig = go.Figure(data=[go.Table(\n",
    "    header=dict(values=['Ages', 'Visits', 'Percentage'],\n",
    "                line_color='darkslategray',\n",
    "                fill_color='rgb(253,187,132)',\n",
    "                align='center'),\n",
    "    cells=dict(values=[[\"30 to 49\", \"50 to 74\", \"15 to 29\", \"0 to 14\"], # 1st column\n",
    "                       [835236, 751414, 640792, 784126],# 2nd column\n",
    "                      ['28%', '27%', '23%', '22%']], # 3rd column\n",
    "               line_color='darkslategray',\n",
    "               fill_color='rgba(0,0,0,0)',\n",
    "               align='left'))\n",
    "])\n",
    "\n",
    "fig.update_layout(width=500, height=300)\n",
    "fig.show()\n",
    "#'rgb(249,123,87)'"
   ]
  },
  {
   "cell_type": "code",
   "execution_count": 101,
   "metadata": {},
   "outputs": [
    {
     "data": {
      "text/html": [
       "<div>\n",
       "<style scoped>\n",
       "    .dataframe tbody tr th:only-of-type {\n",
       "        vertical-align: middle;\n",
       "    }\n",
       "\n",
       "    .dataframe tbody tr th {\n",
       "        vertical-align: top;\n",
       "    }\n",
       "\n",
       "    .dataframe thead th {\n",
       "        text-align: right;\n",
       "    }\n",
       "</style>\n",
       "<table border=\"1\" class=\"dataframe\">\n",
       "  <thead>\n",
       "    <tr style=\"text-align: right;\">\n",
       "      <th></th>\n",
       "      <th>level_0</th>\n",
       "      <th>index</th>\n",
       "      <th>Triage Level</th>\n",
       "      <th>Age</th>\n",
       "      <th>Visits</th>\n",
       "      <th>Total Visits (Across all Triage levels)</th>\n",
       "    </tr>\n",
       "  </thead>\n",
       "  <tbody>\n",
       "    <tr>\n",
       "      <th>5</th>\n",
       "      <td>5</td>\n",
       "      <td>5</td>\n",
       "      <td>5-Non-Urgent</td>\n",
       "      <td>ALL</td>\n",
       "      <td>209669.0</td>\n",
       "      <td>3282629.0</td>\n",
       "    </tr>\n",
       "    <tr>\n",
       "      <th>6</th>\n",
       "      <td>6</td>\n",
       "      <td>6</td>\n",
       "      <td>5-Non-Urgent</td>\n",
       "      <td>30to49</td>\n",
       "      <td>58121.0</td>\n",
       "      <td>835236.0</td>\n",
       "    </tr>\n",
       "    <tr>\n",
       "      <th>7</th>\n",
       "      <td>7</td>\n",
       "      <td>7</td>\n",
       "      <td>5-Non-Urgent</td>\n",
       "      <td>50to74</td>\n",
       "      <td>49496.0</td>\n",
       "      <td>751414.0</td>\n",
       "    </tr>\n",
       "    <tr>\n",
       "      <th>8</th>\n",
       "      <td>8</td>\n",
       "      <td>8</td>\n",
       "      <td>5-Non-Urgent</td>\n",
       "      <td>15to29</td>\n",
       "      <td>47279.0</td>\n",
       "      <td>640792.0</td>\n",
       "    </tr>\n",
       "    <tr>\n",
       "      <th>9</th>\n",
       "      <td>9</td>\n",
       "      <td>9</td>\n",
       "      <td>5-Non-Urgent</td>\n",
       "      <td>00to14</td>\n",
       "      <td>41405.0</td>\n",
       "      <td>784126.0</td>\n",
       "    </tr>\n",
       "  </tbody>\n",
       "</table>\n",
       "</div>"
      ],
      "text/plain": [
       "   level_0  index  Triage Level     Age    Visits  \\\n",
       "5        5      5  5-Non-Urgent     ALL  209669.0   \n",
       "6        6      6  5-Non-Urgent  30to49   58121.0   \n",
       "7        7      7  5-Non-Urgent  50to74   49496.0   \n",
       "8        8      8  5-Non-Urgent  15to29   47279.0   \n",
       "9        9      9  5-Non-Urgent  00to14   41405.0   \n",
       "\n",
       "   Total Visits (Across all Triage levels)  \n",
       "5                                3282629.0  \n",
       "6                                 835236.0  \n",
       "7                                 751414.0  \n",
       "8                                 640792.0  \n",
       "9                                 784126.0  "
      ]
     },
     "execution_count": 101,
     "metadata": {},
     "output_type": "execute_result"
    }
   ],
   "source": [
    "g1= g1.reset_index()\n",
    "nonper = pd.DataFrame(g1[g1['Triage Level'] == '5-Non-Urgent'])\n",
    "nonper"
   ]
  },
  {
   "cell_type": "code",
   "execution_count": 104,
   "metadata": {},
   "outputs": [
    {
     "data": {
      "text/plain": [
       "405970.0"
      ]
     },
     "execution_count": 104,
     "metadata": {},
     "output_type": "execute_result"
    }
   ],
   "source": [
    "n = nonper['Visits'].sum()\n",
    "n"
   ]
  },
  {
   "cell_type": "code",
   "execution_count": 105,
   "metadata": {},
   "outputs": [
    {
     "data": {
      "text/plain": [
       "196301.0"
      ]
     },
     "execution_count": 105,
     "metadata": {},
     "output_type": "execute_result"
    }
   ],
   "source": [
    "n-209669"
   ]
  },
  {
   "cell_type": "code",
   "execution_count": 106,
   "metadata": {},
   "outputs": [
    {
     "data": {
      "text/html": [
       "<div>\n",
       "<style scoped>\n",
       "    .dataframe tbody tr th:only-of-type {\n",
       "        vertical-align: middle;\n",
       "    }\n",
       "\n",
       "    .dataframe tbody tr th {\n",
       "        vertical-align: top;\n",
       "    }\n",
       "\n",
       "    .dataframe thead th {\n",
       "        text-align: right;\n",
       "    }\n",
       "</style>\n",
       "<table border=\"1\" class=\"dataframe\">\n",
       "  <thead>\n",
       "    <tr style=\"text-align: right;\">\n",
       "      <th></th>\n",
       "      <th>level_0</th>\n",
       "      <th>index</th>\n",
       "      <th>Triage Level</th>\n",
       "      <th>Age</th>\n",
       "      <th>Visits</th>\n",
       "      <th>Total Visits (Across all Triage levels)</th>\n",
       "      <th>proportion</th>\n",
       "    </tr>\n",
       "  </thead>\n",
       "  <tbody>\n",
       "    <tr>\n",
       "      <th>5</th>\n",
       "      <td>5</td>\n",
       "      <td>5</td>\n",
       "      <td>5-Non-Urgent</td>\n",
       "      <td>ALL</td>\n",
       "      <td>209669.0</td>\n",
       "      <td>3282629.0</td>\n",
       "      <td>106.809950</td>\n",
       "    </tr>\n",
       "    <tr>\n",
       "      <th>6</th>\n",
       "      <td>6</td>\n",
       "      <td>6</td>\n",
       "      <td>5-Non-Urgent</td>\n",
       "      <td>30to49</td>\n",
       "      <td>58121.0</td>\n",
       "      <td>835236.0</td>\n",
       "      <td>29.608102</td>\n",
       "    </tr>\n",
       "    <tr>\n",
       "      <th>7</th>\n",
       "      <td>7</td>\n",
       "      <td>7</td>\n",
       "      <td>5-Non-Urgent</td>\n",
       "      <td>50to74</td>\n",
       "      <td>49496.0</td>\n",
       "      <td>751414.0</td>\n",
       "      <td>25.214339</td>\n",
       "    </tr>\n",
       "    <tr>\n",
       "      <th>8</th>\n",
       "      <td>8</td>\n",
       "      <td>8</td>\n",
       "      <td>5-Non-Urgent</td>\n",
       "      <td>15to29</td>\n",
       "      <td>47279.0</td>\n",
       "      <td>640792.0</td>\n",
       "      <td>24.084951</td>\n",
       "    </tr>\n",
       "    <tr>\n",
       "      <th>9</th>\n",
       "      <td>9</td>\n",
       "      <td>9</td>\n",
       "      <td>5-Non-Urgent</td>\n",
       "      <td>00to14</td>\n",
       "      <td>41405.0</td>\n",
       "      <td>784126.0</td>\n",
       "      <td>21.092608</td>\n",
       "    </tr>\n",
       "  </tbody>\n",
       "</table>\n",
       "</div>"
      ],
      "text/plain": [
       "   level_0  index  Triage Level     Age    Visits  \\\n",
       "5        5      5  5-Non-Urgent     ALL  209669.0   \n",
       "6        6      6  5-Non-Urgent  30to49   58121.0   \n",
       "7        7      7  5-Non-Urgent  50to74   49496.0   \n",
       "8        8      8  5-Non-Urgent  15to29   47279.0   \n",
       "9        9      9  5-Non-Urgent  00to14   41405.0   \n",
       "\n",
       "   Total Visits (Across all Triage levels)  proportion  \n",
       "5                                3282629.0  106.809950  \n",
       "6                                 835236.0   29.608102  \n",
       "7                                 751414.0   25.214339  \n",
       "8                                 640792.0   24.084951  \n",
       "9                                 784126.0   21.092608  "
      ]
     },
     "execution_count": 106,
     "metadata": {},
     "output_type": "execute_result"
    }
   ],
   "source": [
    "nonper['proportion']=nonper['Visits']/196301*100\n",
    "nonper"
   ]
  },
  {
   "cell_type": "code",
   "execution_count": 169,
   "metadata": {},
   "outputs": [
    {
     "data": {
      "application/vnd.plotly.v1+json": {
       "config": {
        "plotlyServerURL": "https://plot.ly"
       },
       "data": [
        {
         "cells": {
          "align": "left",
          "fill": {
           "color": "rgba(0,0,0,0)"
          },
          "line": {
           "color": "darkslategray"
          },
          "values": [
           [
            "30 to 49",
            "0 to 14",
            "50 to 74",
            "15 to 29"
           ],
           [
            333847,
            319953,
            278329,
            266963
           ],
           [
            "30%",
            "25%",
            "24%",
            "21%"
           ]
          ]
         },
         "header": {
          "align": "center",
          "fill": {
           "color": "rgb(253,187,132)"
          },
          "line": {
           "color": "darkslategray"
          },
          "values": [
           "Ages",
           "Visits",
           "Percentage"
          ]
         },
         "type": "table"
        }
       ],
       "layout": {
        "height": 300,
        "template": {
         "data": {
          "bar": [
           {
            "error_x": {
             "color": "#2a3f5f"
            },
            "error_y": {
             "color": "#2a3f5f"
            },
            "marker": {
             "line": {
              "color": "#E5ECF6",
              "width": 0.5
             }
            },
            "type": "bar"
           }
          ],
          "barpolar": [
           {
            "marker": {
             "line": {
              "color": "#E5ECF6",
              "width": 0.5
             }
            },
            "type": "barpolar"
           }
          ],
          "carpet": [
           {
            "aaxis": {
             "endlinecolor": "#2a3f5f",
             "gridcolor": "white",
             "linecolor": "white",
             "minorgridcolor": "white",
             "startlinecolor": "#2a3f5f"
            },
            "baxis": {
             "endlinecolor": "#2a3f5f",
             "gridcolor": "white",
             "linecolor": "white",
             "minorgridcolor": "white",
             "startlinecolor": "#2a3f5f"
            },
            "type": "carpet"
           }
          ],
          "choropleth": [
           {
            "colorbar": {
             "outlinewidth": 0,
             "ticks": ""
            },
            "type": "choropleth"
           }
          ],
          "contour": [
           {
            "colorbar": {
             "outlinewidth": 0,
             "ticks": ""
            },
            "colorscale": [
             [
              0,
              "#0d0887"
             ],
             [
              0.1111111111111111,
              "#46039f"
             ],
             [
              0.2222222222222222,
              "#7201a8"
             ],
             [
              0.3333333333333333,
              "#9c179e"
             ],
             [
              0.4444444444444444,
              "#bd3786"
             ],
             [
              0.5555555555555556,
              "#d8576b"
             ],
             [
              0.6666666666666666,
              "#ed7953"
             ],
             [
              0.7777777777777778,
              "#fb9f3a"
             ],
             [
              0.8888888888888888,
              "#fdca26"
             ],
             [
              1,
              "#f0f921"
             ]
            ],
            "type": "contour"
           }
          ],
          "contourcarpet": [
           {
            "colorbar": {
             "outlinewidth": 0,
             "ticks": ""
            },
            "type": "contourcarpet"
           }
          ],
          "heatmap": [
           {
            "colorbar": {
             "outlinewidth": 0,
             "ticks": ""
            },
            "colorscale": [
             [
              0,
              "#0d0887"
             ],
             [
              0.1111111111111111,
              "#46039f"
             ],
             [
              0.2222222222222222,
              "#7201a8"
             ],
             [
              0.3333333333333333,
              "#9c179e"
             ],
             [
              0.4444444444444444,
              "#bd3786"
             ],
             [
              0.5555555555555556,
              "#d8576b"
             ],
             [
              0.6666666666666666,
              "#ed7953"
             ],
             [
              0.7777777777777778,
              "#fb9f3a"
             ],
             [
              0.8888888888888888,
              "#fdca26"
             ],
             [
              1,
              "#f0f921"
             ]
            ],
            "type": "heatmap"
           }
          ],
          "heatmapgl": [
           {
            "colorbar": {
             "outlinewidth": 0,
             "ticks": ""
            },
            "colorscale": [
             [
              0,
              "#0d0887"
             ],
             [
              0.1111111111111111,
              "#46039f"
             ],
             [
              0.2222222222222222,
              "#7201a8"
             ],
             [
              0.3333333333333333,
              "#9c179e"
             ],
             [
              0.4444444444444444,
              "#bd3786"
             ],
             [
              0.5555555555555556,
              "#d8576b"
             ],
             [
              0.6666666666666666,
              "#ed7953"
             ],
             [
              0.7777777777777778,
              "#fb9f3a"
             ],
             [
              0.8888888888888888,
              "#fdca26"
             ],
             [
              1,
              "#f0f921"
             ]
            ],
            "type": "heatmapgl"
           }
          ],
          "histogram": [
           {
            "marker": {
             "colorbar": {
              "outlinewidth": 0,
              "ticks": ""
             }
            },
            "type": "histogram"
           }
          ],
          "histogram2d": [
           {
            "colorbar": {
             "outlinewidth": 0,
             "ticks": ""
            },
            "colorscale": [
             [
              0,
              "#0d0887"
             ],
             [
              0.1111111111111111,
              "#46039f"
             ],
             [
              0.2222222222222222,
              "#7201a8"
             ],
             [
              0.3333333333333333,
              "#9c179e"
             ],
             [
              0.4444444444444444,
              "#bd3786"
             ],
             [
              0.5555555555555556,
              "#d8576b"
             ],
             [
              0.6666666666666666,
              "#ed7953"
             ],
             [
              0.7777777777777778,
              "#fb9f3a"
             ],
             [
              0.8888888888888888,
              "#fdca26"
             ],
             [
              1,
              "#f0f921"
             ]
            ],
            "type": "histogram2d"
           }
          ],
          "histogram2dcontour": [
           {
            "colorbar": {
             "outlinewidth": 0,
             "ticks": ""
            },
            "colorscale": [
             [
              0,
              "#0d0887"
             ],
             [
              0.1111111111111111,
              "#46039f"
             ],
             [
              0.2222222222222222,
              "#7201a8"
             ],
             [
              0.3333333333333333,
              "#9c179e"
             ],
             [
              0.4444444444444444,
              "#bd3786"
             ],
             [
              0.5555555555555556,
              "#d8576b"
             ],
             [
              0.6666666666666666,
              "#ed7953"
             ],
             [
              0.7777777777777778,
              "#fb9f3a"
             ],
             [
              0.8888888888888888,
              "#fdca26"
             ],
             [
              1,
              "#f0f921"
             ]
            ],
            "type": "histogram2dcontour"
           }
          ],
          "mesh3d": [
           {
            "colorbar": {
             "outlinewidth": 0,
             "ticks": ""
            },
            "type": "mesh3d"
           }
          ],
          "parcoords": [
           {
            "line": {
             "colorbar": {
              "outlinewidth": 0,
              "ticks": ""
             }
            },
            "type": "parcoords"
           }
          ],
          "pie": [
           {
            "automargin": true,
            "type": "pie"
           }
          ],
          "scatter": [
           {
            "marker": {
             "colorbar": {
              "outlinewidth": 0,
              "ticks": ""
             }
            },
            "type": "scatter"
           }
          ],
          "scatter3d": [
           {
            "line": {
             "colorbar": {
              "outlinewidth": 0,
              "ticks": ""
             }
            },
            "marker": {
             "colorbar": {
              "outlinewidth": 0,
              "ticks": ""
             }
            },
            "type": "scatter3d"
           }
          ],
          "scattercarpet": [
           {
            "marker": {
             "colorbar": {
              "outlinewidth": 0,
              "ticks": ""
             }
            },
            "type": "scattercarpet"
           }
          ],
          "scattergeo": [
           {
            "marker": {
             "colorbar": {
              "outlinewidth": 0,
              "ticks": ""
             }
            },
            "type": "scattergeo"
           }
          ],
          "scattergl": [
           {
            "marker": {
             "colorbar": {
              "outlinewidth": 0,
              "ticks": ""
             }
            },
            "type": "scattergl"
           }
          ],
          "scattermapbox": [
           {
            "marker": {
             "colorbar": {
              "outlinewidth": 0,
              "ticks": ""
             }
            },
            "type": "scattermapbox"
           }
          ],
          "scatterpolar": [
           {
            "marker": {
             "colorbar": {
              "outlinewidth": 0,
              "ticks": ""
             }
            },
            "type": "scatterpolar"
           }
          ],
          "scatterpolargl": [
           {
            "marker": {
             "colorbar": {
              "outlinewidth": 0,
              "ticks": ""
             }
            },
            "type": "scatterpolargl"
           }
          ],
          "scatterternary": [
           {
            "marker": {
             "colorbar": {
              "outlinewidth": 0,
              "ticks": ""
             }
            },
            "type": "scatterternary"
           }
          ],
          "surface": [
           {
            "colorbar": {
             "outlinewidth": 0,
             "ticks": ""
            },
            "colorscale": [
             [
              0,
              "#0d0887"
             ],
             [
              0.1111111111111111,
              "#46039f"
             ],
             [
              0.2222222222222222,
              "#7201a8"
             ],
             [
              0.3333333333333333,
              "#9c179e"
             ],
             [
              0.4444444444444444,
              "#bd3786"
             ],
             [
              0.5555555555555556,
              "#d8576b"
             ],
             [
              0.6666666666666666,
              "#ed7953"
             ],
             [
              0.7777777777777778,
              "#fb9f3a"
             ],
             [
              0.8888888888888888,
              "#fdca26"
             ],
             [
              1,
              "#f0f921"
             ]
            ],
            "type": "surface"
           }
          ],
          "table": [
           {
            "cells": {
             "fill": {
              "color": "#EBF0F8"
             },
             "line": {
              "color": "white"
             }
            },
            "header": {
             "fill": {
              "color": "#C8D4E3"
             },
             "line": {
              "color": "white"
             }
            },
            "type": "table"
           }
          ]
         },
         "layout": {
          "annotationdefaults": {
           "arrowcolor": "#2a3f5f",
           "arrowhead": 0,
           "arrowwidth": 1
          },
          "coloraxis": {
           "colorbar": {
            "outlinewidth": 0,
            "ticks": ""
           }
          },
          "colorscale": {
           "diverging": [
            [
             0,
             "#8e0152"
            ],
            [
             0.1,
             "#c51b7d"
            ],
            [
             0.2,
             "#de77ae"
            ],
            [
             0.3,
             "#f1b6da"
            ],
            [
             0.4,
             "#fde0ef"
            ],
            [
             0.5,
             "#f7f7f7"
            ],
            [
             0.6,
             "#e6f5d0"
            ],
            [
             0.7,
             "#b8e186"
            ],
            [
             0.8,
             "#7fbc41"
            ],
            [
             0.9,
             "#4d9221"
            ],
            [
             1,
             "#276419"
            ]
           ],
           "sequential": [
            [
             0,
             "#0d0887"
            ],
            [
             0.1111111111111111,
             "#46039f"
            ],
            [
             0.2222222222222222,
             "#7201a8"
            ],
            [
             0.3333333333333333,
             "#9c179e"
            ],
            [
             0.4444444444444444,
             "#bd3786"
            ],
            [
             0.5555555555555556,
             "#d8576b"
            ],
            [
             0.6666666666666666,
             "#ed7953"
            ],
            [
             0.7777777777777778,
             "#fb9f3a"
            ],
            [
             0.8888888888888888,
             "#fdca26"
            ],
            [
             1,
             "#f0f921"
            ]
           ],
           "sequentialminus": [
            [
             0,
             "#0d0887"
            ],
            [
             0.1111111111111111,
             "#46039f"
            ],
            [
             0.2222222222222222,
             "#7201a8"
            ],
            [
             0.3333333333333333,
             "#9c179e"
            ],
            [
             0.4444444444444444,
             "#bd3786"
            ],
            [
             0.5555555555555556,
             "#d8576b"
            ],
            [
             0.6666666666666666,
             "#ed7953"
            ],
            [
             0.7777777777777778,
             "#fb9f3a"
            ],
            [
             0.8888888888888888,
             "#fdca26"
            ],
            [
             1,
             "#f0f921"
            ]
           ]
          },
          "colorway": [
           "#636efa",
           "#EF553B",
           "#00cc96",
           "#ab63fa",
           "#FFA15A",
           "#19d3f3",
           "#FF6692",
           "#B6E880",
           "#FF97FF",
           "#FECB52"
          ],
          "font": {
           "color": "#2a3f5f"
          },
          "geo": {
           "bgcolor": "white",
           "lakecolor": "white",
           "landcolor": "#E5ECF6",
           "showlakes": true,
           "showland": true,
           "subunitcolor": "white"
          },
          "hoverlabel": {
           "align": "left"
          },
          "hovermode": "closest",
          "mapbox": {
           "style": "light"
          },
          "paper_bgcolor": "white",
          "plot_bgcolor": "#E5ECF6",
          "polar": {
           "angularaxis": {
            "gridcolor": "white",
            "linecolor": "white",
            "ticks": ""
           },
           "bgcolor": "#E5ECF6",
           "radialaxis": {
            "gridcolor": "white",
            "linecolor": "white",
            "ticks": ""
           }
          },
          "scene": {
           "xaxis": {
            "backgroundcolor": "#E5ECF6",
            "gridcolor": "white",
            "gridwidth": 2,
            "linecolor": "white",
            "showbackground": true,
            "ticks": "",
            "zerolinecolor": "white"
           },
           "yaxis": {
            "backgroundcolor": "#E5ECF6",
            "gridcolor": "white",
            "gridwidth": 2,
            "linecolor": "white",
            "showbackground": true,
            "ticks": "",
            "zerolinecolor": "white"
           },
           "zaxis": {
            "backgroundcolor": "#E5ECF6",
            "gridcolor": "white",
            "gridwidth": 2,
            "linecolor": "white",
            "showbackground": true,
            "ticks": "",
            "zerolinecolor": "white"
           }
          },
          "shapedefaults": {
           "line": {
            "color": "#2a3f5f"
           }
          },
          "ternary": {
           "aaxis": {
            "gridcolor": "white",
            "linecolor": "white",
            "ticks": ""
           },
           "baxis": {
            "gridcolor": "white",
            "linecolor": "white",
            "ticks": ""
           },
           "bgcolor": "#E5ECF6",
           "caxis": {
            "gridcolor": "white",
            "linecolor": "white",
            "ticks": ""
           }
          },
          "title": {
           "x": 0.05
          },
          "xaxis": {
           "automargin": true,
           "gridcolor": "white",
           "linecolor": "white",
           "ticks": "",
           "title": {
            "standoff": 15
           },
           "zerolinecolor": "white",
           "zerolinewidth": 2
          },
          "yaxis": {
           "automargin": true,
           "gridcolor": "white",
           "linecolor": "white",
           "ticks": "",
           "title": {
            "standoff": 15
           },
           "zerolinecolor": "white",
           "zerolinewidth": 2
          }
         }
        },
        "width": 500
       }
      },
      "text/html": [
       "<div>\n",
       "        \n",
       "        \n",
       "            <div id=\"bfcb9342-4fd1-498f-a446-f3afd322e072\" class=\"plotly-graph-div\" style=\"height:300px; width:500px;\"></div>\n",
       "            <script type=\"text/javascript\">\n",
       "                require([\"plotly\"], function(Plotly) {\n",
       "                    window.PLOTLYENV=window.PLOTLYENV || {};\n",
       "                    \n",
       "                if (document.getElementById(\"bfcb9342-4fd1-498f-a446-f3afd322e072\")) {\n",
       "                    Plotly.newPlot(\n",
       "                        'bfcb9342-4fd1-498f-a446-f3afd322e072',\n",
       "                        [{\"cells\": {\"align\": \"left\", \"fill\": {\"color\": \"rgba(0,0,0,0)\"}, \"line\": {\"color\": \"darkslategray\"}, \"values\": [[\"30 to 49\", \"0 to 14\", \"50 to 74\", \"15 to 29\"], [333847, 319953, 278329, 266963], [\"30%\", \"25%\", \"24%\", \"21%\"]]}, \"header\": {\"align\": \"center\", \"fill\": {\"color\": \"rgb(253,187,132)\"}, \"line\": {\"color\": \"darkslategray\"}, \"values\": [\"Ages\", \"Visits\", \"Percentage\"]}, \"type\": \"table\"}],\n",
       "                        {\"height\": 300, \"template\": {\"data\": {\"bar\": [{\"error_x\": {\"color\": \"#2a3f5f\"}, \"error_y\": {\"color\": \"#2a3f5f\"}, \"marker\": {\"line\": {\"color\": \"#E5ECF6\", \"width\": 0.5}}, \"type\": \"bar\"}], \"barpolar\": [{\"marker\": {\"line\": {\"color\": \"#E5ECF6\", \"width\": 0.5}}, \"type\": \"barpolar\"}], \"carpet\": [{\"aaxis\": {\"endlinecolor\": \"#2a3f5f\", \"gridcolor\": \"white\", \"linecolor\": \"white\", \"minorgridcolor\": \"white\", \"startlinecolor\": \"#2a3f5f\"}, \"baxis\": {\"endlinecolor\": \"#2a3f5f\", \"gridcolor\": \"white\", \"linecolor\": \"white\", \"minorgridcolor\": \"white\", \"startlinecolor\": \"#2a3f5f\"}, \"type\": \"carpet\"}], \"choropleth\": [{\"colorbar\": {\"outlinewidth\": 0, \"ticks\": \"\"}, \"type\": \"choropleth\"}], \"contour\": [{\"colorbar\": {\"outlinewidth\": 0, \"ticks\": \"\"}, \"colorscale\": [[0.0, \"#0d0887\"], [0.1111111111111111, \"#46039f\"], [0.2222222222222222, \"#7201a8\"], [0.3333333333333333, \"#9c179e\"], [0.4444444444444444, \"#bd3786\"], [0.5555555555555556, \"#d8576b\"], [0.6666666666666666, \"#ed7953\"], [0.7777777777777778, \"#fb9f3a\"], [0.8888888888888888, \"#fdca26\"], [1.0, \"#f0f921\"]], \"type\": \"contour\"}], \"contourcarpet\": [{\"colorbar\": {\"outlinewidth\": 0, \"ticks\": \"\"}, \"type\": \"contourcarpet\"}], \"heatmap\": [{\"colorbar\": {\"outlinewidth\": 0, \"ticks\": \"\"}, \"colorscale\": [[0.0, \"#0d0887\"], [0.1111111111111111, \"#46039f\"], [0.2222222222222222, \"#7201a8\"], [0.3333333333333333, \"#9c179e\"], [0.4444444444444444, \"#bd3786\"], [0.5555555555555556, \"#d8576b\"], [0.6666666666666666, \"#ed7953\"], [0.7777777777777778, \"#fb9f3a\"], [0.8888888888888888, \"#fdca26\"], [1.0, \"#f0f921\"]], \"type\": \"heatmap\"}], \"heatmapgl\": [{\"colorbar\": {\"outlinewidth\": 0, \"ticks\": \"\"}, \"colorscale\": [[0.0, \"#0d0887\"], [0.1111111111111111, \"#46039f\"], [0.2222222222222222, \"#7201a8\"], [0.3333333333333333, \"#9c179e\"], [0.4444444444444444, \"#bd3786\"], [0.5555555555555556, \"#d8576b\"], [0.6666666666666666, \"#ed7953\"], [0.7777777777777778, \"#fb9f3a\"], [0.8888888888888888, \"#fdca26\"], [1.0, \"#f0f921\"]], \"type\": \"heatmapgl\"}], \"histogram\": [{\"marker\": {\"colorbar\": {\"outlinewidth\": 0, \"ticks\": \"\"}}, \"type\": \"histogram\"}], \"histogram2d\": [{\"colorbar\": {\"outlinewidth\": 0, \"ticks\": \"\"}, \"colorscale\": [[0.0, \"#0d0887\"], [0.1111111111111111, \"#46039f\"], [0.2222222222222222, \"#7201a8\"], [0.3333333333333333, \"#9c179e\"], [0.4444444444444444, \"#bd3786\"], [0.5555555555555556, \"#d8576b\"], [0.6666666666666666, \"#ed7953\"], [0.7777777777777778, \"#fb9f3a\"], [0.8888888888888888, \"#fdca26\"], [1.0, \"#f0f921\"]], \"type\": \"histogram2d\"}], \"histogram2dcontour\": [{\"colorbar\": {\"outlinewidth\": 0, \"ticks\": \"\"}, \"colorscale\": [[0.0, \"#0d0887\"], [0.1111111111111111, \"#46039f\"], [0.2222222222222222, \"#7201a8\"], [0.3333333333333333, \"#9c179e\"], [0.4444444444444444, \"#bd3786\"], [0.5555555555555556, \"#d8576b\"], [0.6666666666666666, \"#ed7953\"], [0.7777777777777778, \"#fb9f3a\"], [0.8888888888888888, \"#fdca26\"], [1.0, \"#f0f921\"]], \"type\": \"histogram2dcontour\"}], \"mesh3d\": [{\"colorbar\": {\"outlinewidth\": 0, \"ticks\": \"\"}, \"type\": \"mesh3d\"}], \"parcoords\": [{\"line\": {\"colorbar\": {\"outlinewidth\": 0, \"ticks\": \"\"}}, \"type\": \"parcoords\"}], \"pie\": [{\"automargin\": true, \"type\": \"pie\"}], \"scatter\": [{\"marker\": {\"colorbar\": {\"outlinewidth\": 0, \"ticks\": \"\"}}, \"type\": \"scatter\"}], \"scatter3d\": [{\"line\": {\"colorbar\": {\"outlinewidth\": 0, \"ticks\": \"\"}}, \"marker\": {\"colorbar\": {\"outlinewidth\": 0, \"ticks\": \"\"}}, \"type\": \"scatter3d\"}], \"scattercarpet\": [{\"marker\": {\"colorbar\": {\"outlinewidth\": 0, \"ticks\": \"\"}}, \"type\": \"scattercarpet\"}], \"scattergeo\": [{\"marker\": {\"colorbar\": {\"outlinewidth\": 0, \"ticks\": \"\"}}, \"type\": \"scattergeo\"}], \"scattergl\": [{\"marker\": {\"colorbar\": {\"outlinewidth\": 0, \"ticks\": \"\"}}, \"type\": \"scattergl\"}], \"scattermapbox\": [{\"marker\": {\"colorbar\": {\"outlinewidth\": 0, \"ticks\": \"\"}}, \"type\": \"scattermapbox\"}], \"scatterpolar\": [{\"marker\": {\"colorbar\": {\"outlinewidth\": 0, \"ticks\": \"\"}}, \"type\": \"scatterpolar\"}], \"scatterpolargl\": [{\"marker\": {\"colorbar\": {\"outlinewidth\": 0, \"ticks\": \"\"}}, \"type\": \"scatterpolargl\"}], \"scatterternary\": [{\"marker\": {\"colorbar\": {\"outlinewidth\": 0, \"ticks\": \"\"}}, \"type\": \"scatterternary\"}], \"surface\": [{\"colorbar\": {\"outlinewidth\": 0, \"ticks\": \"\"}, \"colorscale\": [[0.0, \"#0d0887\"], [0.1111111111111111, \"#46039f\"], [0.2222222222222222, \"#7201a8\"], [0.3333333333333333, \"#9c179e\"], [0.4444444444444444, \"#bd3786\"], [0.5555555555555556, \"#d8576b\"], [0.6666666666666666, \"#ed7953\"], [0.7777777777777778, \"#fb9f3a\"], [0.8888888888888888, \"#fdca26\"], [1.0, \"#f0f921\"]], \"type\": \"surface\"}], \"table\": [{\"cells\": {\"fill\": {\"color\": \"#EBF0F8\"}, \"line\": {\"color\": \"white\"}}, \"header\": {\"fill\": {\"color\": \"#C8D4E3\"}, \"line\": {\"color\": \"white\"}}, \"type\": \"table\"}]}, \"layout\": {\"annotationdefaults\": {\"arrowcolor\": \"#2a3f5f\", \"arrowhead\": 0, \"arrowwidth\": 1}, \"coloraxis\": {\"colorbar\": {\"outlinewidth\": 0, \"ticks\": \"\"}}, \"colorscale\": {\"diverging\": [[0, \"#8e0152\"], [0.1, \"#c51b7d\"], [0.2, \"#de77ae\"], [0.3, \"#f1b6da\"], [0.4, \"#fde0ef\"], [0.5, \"#f7f7f7\"], [0.6, \"#e6f5d0\"], [0.7, \"#b8e186\"], [0.8, \"#7fbc41\"], [0.9, \"#4d9221\"], [1, \"#276419\"]], \"sequential\": [[0.0, \"#0d0887\"], [0.1111111111111111, \"#46039f\"], [0.2222222222222222, \"#7201a8\"], [0.3333333333333333, \"#9c179e\"], [0.4444444444444444, \"#bd3786\"], [0.5555555555555556, \"#d8576b\"], [0.6666666666666666, \"#ed7953\"], [0.7777777777777778, \"#fb9f3a\"], [0.8888888888888888, \"#fdca26\"], [1.0, \"#f0f921\"]], \"sequentialminus\": [[0.0, \"#0d0887\"], [0.1111111111111111, \"#46039f\"], [0.2222222222222222, \"#7201a8\"], [0.3333333333333333, \"#9c179e\"], [0.4444444444444444, \"#bd3786\"], [0.5555555555555556, \"#d8576b\"], [0.6666666666666666, \"#ed7953\"], [0.7777777777777778, \"#fb9f3a\"], [0.8888888888888888, \"#fdca26\"], [1.0, \"#f0f921\"]]}, \"colorway\": [\"#636efa\", \"#EF553B\", \"#00cc96\", \"#ab63fa\", \"#FFA15A\", \"#19d3f3\", \"#FF6692\", \"#B6E880\", \"#FF97FF\", \"#FECB52\"], \"font\": {\"color\": \"#2a3f5f\"}, \"geo\": {\"bgcolor\": \"white\", \"lakecolor\": \"white\", \"landcolor\": \"#E5ECF6\", \"showlakes\": true, \"showland\": true, \"subunitcolor\": \"white\"}, \"hoverlabel\": {\"align\": \"left\"}, \"hovermode\": \"closest\", \"mapbox\": {\"style\": \"light\"}, \"paper_bgcolor\": \"white\", \"plot_bgcolor\": \"#E5ECF6\", \"polar\": {\"angularaxis\": {\"gridcolor\": \"white\", \"linecolor\": \"white\", \"ticks\": \"\"}, \"bgcolor\": \"#E5ECF6\", \"radialaxis\": {\"gridcolor\": \"white\", \"linecolor\": \"white\", \"ticks\": \"\"}}, \"scene\": {\"xaxis\": {\"backgroundcolor\": \"#E5ECF6\", \"gridcolor\": \"white\", \"gridwidth\": 2, \"linecolor\": \"white\", \"showbackground\": true, \"ticks\": \"\", \"zerolinecolor\": \"white\"}, \"yaxis\": {\"backgroundcolor\": \"#E5ECF6\", \"gridcolor\": \"white\", \"gridwidth\": 2, \"linecolor\": \"white\", \"showbackground\": true, \"ticks\": \"\", \"zerolinecolor\": \"white\"}, \"zaxis\": {\"backgroundcolor\": \"#E5ECF6\", \"gridcolor\": \"white\", \"gridwidth\": 2, \"linecolor\": \"white\", \"showbackground\": true, \"ticks\": \"\", \"zerolinecolor\": \"white\"}}, \"shapedefaults\": {\"line\": {\"color\": \"#2a3f5f\"}}, \"ternary\": {\"aaxis\": {\"gridcolor\": \"white\", \"linecolor\": \"white\", \"ticks\": \"\"}, \"baxis\": {\"gridcolor\": \"white\", \"linecolor\": \"white\", \"ticks\": \"\"}, \"bgcolor\": \"#E5ECF6\", \"caxis\": {\"gridcolor\": \"white\", \"linecolor\": \"white\", \"ticks\": \"\"}}, \"title\": {\"x\": 0.05}, \"xaxis\": {\"automargin\": true, \"gridcolor\": \"white\", \"linecolor\": \"white\", \"ticks\": \"\", \"title\": {\"standoff\": 15}, \"zerolinecolor\": \"white\", \"zerolinewidth\": 2}, \"yaxis\": {\"automargin\": true, \"gridcolor\": \"white\", \"linecolor\": \"white\", \"ticks\": \"\", \"title\": {\"standoff\": 15}, \"zerolinecolor\": \"white\", \"zerolinewidth\": 2}}}, \"width\": 500},\n",
       "                        {\"responsive\": true}\n",
       "                    ).then(function(){\n",
       "                            \n",
       "var gd = document.getElementById('bfcb9342-4fd1-498f-a446-f3afd322e072');\n",
       "var x = new MutationObserver(function (mutations, observer) {{\n",
       "        var display = window.getComputedStyle(gd).display;\n",
       "        if (!display || display === 'none') {{\n",
       "            console.log([gd, 'removed!']);\n",
       "            Plotly.purge(gd);\n",
       "            observer.disconnect();\n",
       "        }}\n",
       "}});\n",
       "\n",
       "// Listen for the removal of the full notebook cells\n",
       "var notebookContainer = gd.closest('#notebook-container');\n",
       "if (notebookContainer) {{\n",
       "    x.observe(notebookContainer, {childList: true});\n",
       "}}\n",
       "\n",
       "// Listen for the clearing of the current output cell\n",
       "var outputEl = gd.closest('.output');\n",
       "if (outputEl) {{\n",
       "    x.observe(outputEl, {childList: true});\n",
       "}}\n",
       "\n",
       "                        })\n",
       "                };\n",
       "                });\n",
       "            </script>\n",
       "        </div>"
      ]
     },
     "metadata": {},
     "output_type": "display_data"
    }
   ],
   "source": [
    "# Non-urgent\n",
    "import plotly.graph_objects as go\n",
    "\n",
    "fig = go.Figure(data=[go.Table(\n",
    "    header=dict(values=['Ages',  'Visits', 'Percentage'],\n",
    "                line_color='darkslategray',\n",
    "                fill_color= 'rgb(253,187,132)',\n",
    "                align='center'),\n",
    "    cells=dict(values=[[\"30 to 49\", \"0 to 14\", \"50 to 74\", \"15 to 29\"], # 1st column\n",
    "                       [333847, 319953, 278329, 266963],\n",
    "                      ['30%', '25%', '24%', '21%']], # 2nd column\n",
    "               line_color='darkslategray',\n",
    "               fill_color='rgba(0,0,0,0)',\n",
    "               align='left'))\n",
    "])\n",
    "\n",
    "fig.update_layout(width=500, height=300)\n",
    "fig.show()\n"
   ]
  },
  {
   "cell_type": "markdown",
   "metadata": {},
   "source": [
    "### Age and sex"
   ]
  },
  {
   "cell_type": "code",
   "execution_count": 113,
   "metadata": {},
   "outputs": [
    {
     "data": {
      "text/html": [
       "<div>\n",
       "<style scoped>\n",
       "    .dataframe tbody tr th:only-of-type {\n",
       "        vertical-align: middle;\n",
       "    }\n",
       "\n",
       "    .dataframe tbody tr th {\n",
       "        vertical-align: top;\n",
       "    }\n",
       "\n",
       "    .dataframe thead th {\n",
       "        text-align: right;\n",
       "    }\n",
       "</style>\n",
       "<table border=\"1\" class=\"dataframe\">\n",
       "  <thead>\n",
       "    <tr style=\"text-align: right;\">\n",
       "      <th></th>\n",
       "      <th>Geography</th>\n",
       "      <th>Year</th>\n",
       "      <th>Sex</th>\n",
       "      <th>Age</th>\n",
       "      <th>Triage Level</th>\n",
       "      <th>ICD Description</th>\n",
       "      <th>Percent</th>\n",
       "      <th>Visits</th>\n",
       "      <th>Total Visits (Across all Triage levels)</th>\n",
       "      <th>Standard Error</th>\n",
       "    </tr>\n",
       "  </thead>\n",
       "  <tbody>\n",
       "    <tr>\n",
       "      <th>0</th>\n",
       "      <td>calgary</td>\n",
       "      <td>2015</td>\n",
       "      <td>BOTH</td>\n",
       "      <td>ALL</td>\n",
       "      <td>4-Semi-Urgent</td>\n",
       "      <td>A09-A09 Infectious gastroenteritis and colitis...</td>\n",
       "      <td>27.360755</td>\n",
       "      <td>3419.0</td>\n",
       "      <td>12496.0</td>\n",
       "      <td>0.467927</td>\n",
       "    </tr>\n",
       "    <tr>\n",
       "      <th>1</th>\n",
       "      <td>calgary</td>\n",
       "      <td>2015</td>\n",
       "      <td>BOTH</td>\n",
       "      <td>ALL</td>\n",
       "      <td>5-Non-Urgent</td>\n",
       "      <td>A09-A09 Infectious gastroenteritis and colitis...</td>\n",
       "      <td>2.392766</td>\n",
       "      <td>299.0</td>\n",
       "      <td>12496.0</td>\n",
       "      <td>0.138377</td>\n",
       "    </tr>\n",
       "    <tr>\n",
       "      <th>2</th>\n",
       "      <td>calgary</td>\n",
       "      <td>2015</td>\n",
       "      <td>FEMALE</td>\n",
       "      <td>ALL</td>\n",
       "      <td>4-Semi-Urgent</td>\n",
       "      <td>A09-A09 Infectious gastroenteritis and colitis...</td>\n",
       "      <td>26.377246</td>\n",
       "      <td>1762.0</td>\n",
       "      <td>6680.0</td>\n",
       "      <td>0.628386</td>\n",
       "    </tr>\n",
       "    <tr>\n",
       "      <th>3</th>\n",
       "      <td>calgary</td>\n",
       "      <td>2015</td>\n",
       "      <td>FEMALE</td>\n",
       "      <td>ALL</td>\n",
       "      <td>5-Non-Urgent</td>\n",
       "      <td>A09-A09 Infectious gastroenteritis and colitis...</td>\n",
       "      <td>2.065868</td>\n",
       "      <td>138.0</td>\n",
       "      <td>6680.0</td>\n",
       "      <td>0.175858</td>\n",
       "    </tr>\n",
       "    <tr>\n",
       "      <th>4</th>\n",
       "      <td>calgary</td>\n",
       "      <td>2015</td>\n",
       "      <td>MALE</td>\n",
       "      <td>ALL</td>\n",
       "      <td>4-Semi-Urgent</td>\n",
       "      <td>A09-A09 Infectious gastroenteritis and colitis...</td>\n",
       "      <td>28.490371</td>\n",
       "      <td>1657.0</td>\n",
       "      <td>5816.0</td>\n",
       "      <td>0.699901</td>\n",
       "    </tr>\n",
       "    <tr>\n",
       "      <th>...</th>\n",
       "      <td>...</td>\n",
       "      <td>...</td>\n",
       "      <td>...</td>\n",
       "      <td>...</td>\n",
       "      <td>...</td>\n",
       "      <td>...</td>\n",
       "      <td>...</td>\n",
       "      <td>...</td>\n",
       "      <td>...</td>\n",
       "      <td>...</td>\n",
       "    </tr>\n",
       "    <tr>\n",
       "      <th>3399</th>\n",
       "      <td>south</td>\n",
       "      <td>2019</td>\n",
       "      <td>BOTH</td>\n",
       "      <td>75+</td>\n",
       "      <td>5-Non-Urgent</td>\n",
       "      <td>N30-N39 Other diseases of the urinary system</td>\n",
       "      <td>5.475207</td>\n",
       "      <td>53.0</td>\n",
       "      <td>968.0</td>\n",
       "      <td>0.752077</td>\n",
       "    </tr>\n",
       "    <tr>\n",
       "      <th>3400</th>\n",
       "      <td>south</td>\n",
       "      <td>2019</td>\n",
       "      <td>FEMALE</td>\n",
       "      <td>75+</td>\n",
       "      <td>4-Semi-Urgent</td>\n",
       "      <td>N30-N39 Other diseases of the urinary system</td>\n",
       "      <td>43.251534</td>\n",
       "      <td>282.0</td>\n",
       "      <td>652.0</td>\n",
       "      <td>2.575591</td>\n",
       "    </tr>\n",
       "    <tr>\n",
       "      <th>3401</th>\n",
       "      <td>south</td>\n",
       "      <td>2019</td>\n",
       "      <td>FEMALE</td>\n",
       "      <td>75+</td>\n",
       "      <td>5-Non-Urgent</td>\n",
       "      <td>N30-N39 Other diseases of the urinary system</td>\n",
       "      <td>4.907975</td>\n",
       "      <td>32.0</td>\n",
       "      <td>652.0</td>\n",
       "      <td>0.867616</td>\n",
       "    </tr>\n",
       "    <tr>\n",
       "      <th>3402</th>\n",
       "      <td>south</td>\n",
       "      <td>2019</td>\n",
       "      <td>MALE</td>\n",
       "      <td>75+</td>\n",
       "      <td>4-Semi-Urgent</td>\n",
       "      <td>N30-N39 Other diseases of the urinary system</td>\n",
       "      <td>33.227848</td>\n",
       "      <td>105.0</td>\n",
       "      <td>316.0</td>\n",
       "      <td>3.242706</td>\n",
       "    </tr>\n",
       "    <tr>\n",
       "      <th>3403</th>\n",
       "      <td>south</td>\n",
       "      <td>2019</td>\n",
       "      <td>MALE</td>\n",
       "      <td>75+</td>\n",
       "      <td>5-Non-Urgent</td>\n",
       "      <td>N30-N39 Other diseases of the urinary system</td>\n",
       "      <td>6.645570</td>\n",
       "      <td>21.0</td>\n",
       "      <td>316.0</td>\n",
       "      <td>1.450182</td>\n",
       "    </tr>\n",
       "  </tbody>\n",
       "</table>\n",
       "<p>17072 rows × 10 columns</p>\n",
       "</div>"
      ],
      "text/plain": [
       "     Geography  Year     Sex  Age   Triage Level  \\\n",
       "0      calgary  2015    BOTH  ALL  4-Semi-Urgent   \n",
       "1      calgary  2015    BOTH  ALL   5-Non-Urgent   \n",
       "2      calgary  2015  FEMALE  ALL  4-Semi-Urgent   \n",
       "3      calgary  2015  FEMALE  ALL   5-Non-Urgent   \n",
       "4      calgary  2015    MALE  ALL  4-Semi-Urgent   \n",
       "...        ...   ...     ...  ...            ...   \n",
       "3399     south  2019    BOTH  75+   5-Non-Urgent   \n",
       "3400     south  2019  FEMALE  75+  4-Semi-Urgent   \n",
       "3401     south  2019  FEMALE  75+   5-Non-Urgent   \n",
       "3402     south  2019    MALE  75+  4-Semi-Urgent   \n",
       "3403     south  2019    MALE  75+   5-Non-Urgent   \n",
       "\n",
       "                                        ICD Description    Percent  Visits  \\\n",
       "0     A09-A09 Infectious gastroenteritis and colitis...  27.360755  3419.0   \n",
       "1     A09-A09 Infectious gastroenteritis and colitis...   2.392766   299.0   \n",
       "2     A09-A09 Infectious gastroenteritis and colitis...  26.377246  1762.0   \n",
       "3     A09-A09 Infectious gastroenteritis and colitis...   2.065868   138.0   \n",
       "4     A09-A09 Infectious gastroenteritis and colitis...  28.490371  1657.0   \n",
       "...                                                 ...        ...     ...   \n",
       "3399       N30-N39 Other diseases of the urinary system   5.475207    53.0   \n",
       "3400       N30-N39 Other diseases of the urinary system  43.251534   282.0   \n",
       "3401       N30-N39 Other diseases of the urinary system   4.907975    32.0   \n",
       "3402       N30-N39 Other diseases of the urinary system  33.227848   105.0   \n",
       "3403       N30-N39 Other diseases of the urinary system   6.645570    21.0   \n",
       "\n",
       "      Total Visits (Across all Triage levels)  Standard Error  \n",
       "0                                     12496.0        0.467927  \n",
       "1                                     12496.0        0.138377  \n",
       "2                                      6680.0        0.628386  \n",
       "3                                      6680.0        0.175858  \n",
       "4                                      5816.0        0.699901  \n",
       "...                                       ...             ...  \n",
       "3399                                    968.0        0.752077  \n",
       "3400                                    652.0        2.575591  \n",
       "3401                                    652.0        0.867616  \n",
       "3402                                    316.0        3.242706  \n",
       "3403                                    316.0        1.450182  \n",
       "\n",
       "[17072 rows x 10 columns]"
      ]
     },
     "execution_count": 113,
     "metadata": {},
     "output_type": "execute_result"
    }
   ],
   "source": [
    "labelled"
   ]
  },
  {
   "cell_type": "code",
   "execution_count": 115,
   "metadata": {},
   "outputs": [
    {
     "data": {
      "text/html": [
       "<div>\n",
       "<style scoped>\n",
       "    .dataframe tbody tr th:only-of-type {\n",
       "        vertical-align: middle;\n",
       "    }\n",
       "\n",
       "    .dataframe tbody tr th {\n",
       "        vertical-align: top;\n",
       "    }\n",
       "\n",
       "    .dataframe thead th {\n",
       "        text-align: right;\n",
       "    }\n",
       "</style>\n",
       "<table border=\"1\" class=\"dataframe\">\n",
       "  <thead>\n",
       "    <tr style=\"text-align: right;\">\n",
       "      <th></th>\n",
       "      <th>Geography</th>\n",
       "      <th>Year</th>\n",
       "      <th>Sex</th>\n",
       "      <th>Age</th>\n",
       "      <th>Triage Level</th>\n",
       "      <th>ICD Description</th>\n",
       "      <th>Percent</th>\n",
       "      <th>Visits</th>\n",
       "      <th>Total Visits (Across all Triage levels)</th>\n",
       "      <th>Standard Error</th>\n",
       "    </tr>\n",
       "  </thead>\n",
       "  <tbody>\n",
       "    <tr>\n",
       "      <th>2</th>\n",
       "      <td>calgary</td>\n",
       "      <td>2015</td>\n",
       "      <td>FEMALE</td>\n",
       "      <td>ALL</td>\n",
       "      <td>4-Semi-Urgent</td>\n",
       "      <td>A09-A09 Infectious gastroenteritis and colitis...</td>\n",
       "      <td>26.377246</td>\n",
       "      <td>1762.0</td>\n",
       "      <td>6680.0</td>\n",
       "      <td>0.628386</td>\n",
       "    </tr>\n",
       "    <tr>\n",
       "      <th>3</th>\n",
       "      <td>calgary</td>\n",
       "      <td>2015</td>\n",
       "      <td>FEMALE</td>\n",
       "      <td>ALL</td>\n",
       "      <td>5-Non-Urgent</td>\n",
       "      <td>A09-A09 Infectious gastroenteritis and colitis...</td>\n",
       "      <td>2.065868</td>\n",
       "      <td>138.0</td>\n",
       "      <td>6680.0</td>\n",
       "      <td>0.175858</td>\n",
       "    </tr>\n",
       "    <tr>\n",
       "      <th>4</th>\n",
       "      <td>calgary</td>\n",
       "      <td>2015</td>\n",
       "      <td>MALE</td>\n",
       "      <td>ALL</td>\n",
       "      <td>4-Semi-Urgent</td>\n",
       "      <td>A09-A09 Infectious gastroenteritis and colitis...</td>\n",
       "      <td>28.490371</td>\n",
       "      <td>1657.0</td>\n",
       "      <td>5816.0</td>\n",
       "      <td>0.699901</td>\n",
       "    </tr>\n",
       "    <tr>\n",
       "      <th>5</th>\n",
       "      <td>calgary</td>\n",
       "      <td>2015</td>\n",
       "      <td>MALE</td>\n",
       "      <td>ALL</td>\n",
       "      <td>5-Non-Urgent</td>\n",
       "      <td>A09-A09 Infectious gastroenteritis and colitis...</td>\n",
       "      <td>2.768226</td>\n",
       "      <td>161.0</td>\n",
       "      <td>5816.0</td>\n",
       "      <td>0.218167</td>\n",
       "    </tr>\n",
       "    <tr>\n",
       "      <th>8</th>\n",
       "      <td>calgary</td>\n",
       "      <td>2015</td>\n",
       "      <td>FEMALE</td>\n",
       "      <td>ALL</td>\n",
       "      <td>4-Semi-Urgent</td>\n",
       "      <td>B25-B34 Other viral diseases</td>\n",
       "      <td>31.281060</td>\n",
       "      <td>1133.0</td>\n",
       "      <td>3622.0</td>\n",
       "      <td>0.929323</td>\n",
       "    </tr>\n",
       "    <tr>\n",
       "      <th>...</th>\n",
       "      <td>...</td>\n",
       "      <td>...</td>\n",
       "      <td>...</td>\n",
       "      <td>...</td>\n",
       "      <td>...</td>\n",
       "      <td>...</td>\n",
       "      <td>...</td>\n",
       "      <td>...</td>\n",
       "      <td>...</td>\n",
       "      <td>...</td>\n",
       "    </tr>\n",
       "    <tr>\n",
       "      <th>3397</th>\n",
       "      <td>south</td>\n",
       "      <td>2019</td>\n",
       "      <td>MALE</td>\n",
       "      <td>50to74</td>\n",
       "      <td>5-Non-Urgent</td>\n",
       "      <td>N30-N39 Other diseases of the urinary system</td>\n",
       "      <td>6.140351</td>\n",
       "      <td>21.0</td>\n",
       "      <td>342.0</td>\n",
       "      <td>1.339934</td>\n",
       "    </tr>\n",
       "    <tr>\n",
       "      <th>3400</th>\n",
       "      <td>south</td>\n",
       "      <td>2019</td>\n",
       "      <td>FEMALE</td>\n",
       "      <td>75+</td>\n",
       "      <td>4-Semi-Urgent</td>\n",
       "      <td>N30-N39 Other diseases of the urinary system</td>\n",
       "      <td>43.251534</td>\n",
       "      <td>282.0</td>\n",
       "      <td>652.0</td>\n",
       "      <td>2.575591</td>\n",
       "    </tr>\n",
       "    <tr>\n",
       "      <th>3401</th>\n",
       "      <td>south</td>\n",
       "      <td>2019</td>\n",
       "      <td>FEMALE</td>\n",
       "      <td>75+</td>\n",
       "      <td>5-Non-Urgent</td>\n",
       "      <td>N30-N39 Other diseases of the urinary system</td>\n",
       "      <td>4.907975</td>\n",
       "      <td>32.0</td>\n",
       "      <td>652.0</td>\n",
       "      <td>0.867616</td>\n",
       "    </tr>\n",
       "    <tr>\n",
       "      <th>3402</th>\n",
       "      <td>south</td>\n",
       "      <td>2019</td>\n",
       "      <td>MALE</td>\n",
       "      <td>75+</td>\n",
       "      <td>4-Semi-Urgent</td>\n",
       "      <td>N30-N39 Other diseases of the urinary system</td>\n",
       "      <td>33.227848</td>\n",
       "      <td>105.0</td>\n",
       "      <td>316.0</td>\n",
       "      <td>3.242706</td>\n",
       "    </tr>\n",
       "    <tr>\n",
       "      <th>3403</th>\n",
       "      <td>south</td>\n",
       "      <td>2019</td>\n",
       "      <td>MALE</td>\n",
       "      <td>75+</td>\n",
       "      <td>5-Non-Urgent</td>\n",
       "      <td>N30-N39 Other diseases of the urinary system</td>\n",
       "      <td>6.645570</td>\n",
       "      <td>21.0</td>\n",
       "      <td>316.0</td>\n",
       "      <td>1.450182</td>\n",
       "    </tr>\n",
       "  </tbody>\n",
       "</table>\n",
       "<p>11374 rows × 10 columns</p>\n",
       "</div>"
      ],
      "text/plain": [
       "     Geography  Year     Sex     Age   Triage Level  \\\n",
       "2      calgary  2015  FEMALE     ALL  4-Semi-Urgent   \n",
       "3      calgary  2015  FEMALE     ALL   5-Non-Urgent   \n",
       "4      calgary  2015    MALE     ALL  4-Semi-Urgent   \n",
       "5      calgary  2015    MALE     ALL   5-Non-Urgent   \n",
       "8      calgary  2015  FEMALE     ALL  4-Semi-Urgent   \n",
       "...        ...   ...     ...     ...            ...   \n",
       "3397     south  2019    MALE  50to74   5-Non-Urgent   \n",
       "3400     south  2019  FEMALE     75+  4-Semi-Urgent   \n",
       "3401     south  2019  FEMALE     75+   5-Non-Urgent   \n",
       "3402     south  2019    MALE     75+  4-Semi-Urgent   \n",
       "3403     south  2019    MALE     75+   5-Non-Urgent   \n",
       "\n",
       "                                        ICD Description    Percent  Visits  \\\n",
       "2     A09-A09 Infectious gastroenteritis and colitis...  26.377246  1762.0   \n",
       "3     A09-A09 Infectious gastroenteritis and colitis...   2.065868   138.0   \n",
       "4     A09-A09 Infectious gastroenteritis and colitis...  28.490371  1657.0   \n",
       "5     A09-A09 Infectious gastroenteritis and colitis...   2.768226   161.0   \n",
       "8                          B25-B34 Other viral diseases  31.281060  1133.0   \n",
       "...                                                 ...        ...     ...   \n",
       "3397       N30-N39 Other diseases of the urinary system   6.140351    21.0   \n",
       "3400       N30-N39 Other diseases of the urinary system  43.251534   282.0   \n",
       "3401       N30-N39 Other diseases of the urinary system   4.907975    32.0   \n",
       "3402       N30-N39 Other diseases of the urinary system  33.227848   105.0   \n",
       "3403       N30-N39 Other diseases of the urinary system   6.645570    21.0   \n",
       "\n",
       "      Total Visits (Across all Triage levels)  Standard Error  \n",
       "2                                      6680.0        0.628386  \n",
       "3                                      6680.0        0.175858  \n",
       "4                                      5816.0        0.699901  \n",
       "5                                      5816.0        0.218167  \n",
       "8                                      3622.0        0.929323  \n",
       "...                                       ...             ...  \n",
       "3397                                    342.0        1.339934  \n",
       "3400                                    652.0        2.575591  \n",
       "3401                                    652.0        0.867616  \n",
       "3402                                    316.0        3.242706  \n",
       "3403                                    316.0        1.450182  \n",
       "\n",
       "[11374 rows x 10 columns]"
      ]
     },
     "execution_count": 115,
     "metadata": {},
     "output_type": "execute_result"
    }
   ],
   "source": [
    "sex = pd.DataFrame(labelled[labelled['Sex'] != 'BOTH'])\n",
    "sex"
   ]
  },
  {
   "cell_type": "code",
   "execution_count": 119,
   "metadata": {},
   "outputs": [
    {
     "name": "stderr",
     "output_type": "stream",
     "text": [
      "/Library/Frameworks/Python.framework/Versions/3.7/lib/python3.7/site-packages/ipykernel_launcher.py:2: FutureWarning:\n",
      "\n",
      "Indexing with multiple keys (implicitly converted to a tuple of keys) will be deprecated, use a list instead.\n",
      "\n"
     ]
    },
    {
     "data": {
      "text/html": [
       "<div>\n",
       "<style scoped>\n",
       "    .dataframe tbody tr th:only-of-type {\n",
       "        vertical-align: middle;\n",
       "    }\n",
       "\n",
       "    .dataframe tbody tr th {\n",
       "        vertical-align: top;\n",
       "    }\n",
       "\n",
       "    .dataframe thead th {\n",
       "        text-align: right;\n",
       "    }\n",
       "</style>\n",
       "<table border=\"1\" class=\"dataframe\">\n",
       "  <thead>\n",
       "    <tr style=\"text-align: right;\">\n",
       "      <th></th>\n",
       "      <th></th>\n",
       "      <th></th>\n",
       "      <th>Visits</th>\n",
       "      <th>Total Visits (Across all Triage levels)</th>\n",
       "    </tr>\n",
       "    <tr>\n",
       "      <th>Triage Level</th>\n",
       "      <th>Sex</th>\n",
       "      <th>Age</th>\n",
       "      <th></th>\n",
       "      <th></th>\n",
       "    </tr>\n",
       "  </thead>\n",
       "  <tbody>\n",
       "    <tr>\n",
       "      <th rowspan=\"12\" valign=\"top\">4-Semi-Urgent</th>\n",
       "      <th rowspan=\"6\" valign=\"top\">FEMALE</th>\n",
       "      <th>00to14</th>\n",
       "      <td>157543.0</td>\n",
       "      <td>374425.0</td>\n",
       "    </tr>\n",
       "    <tr>\n",
       "      <th>15to29</th>\n",
       "      <td>158554.0</td>\n",
       "      <td>377054.0</td>\n",
       "    </tr>\n",
       "    <tr>\n",
       "      <th>30to49</th>\n",
       "      <td>181475.0</td>\n",
       "      <td>451048.0</td>\n",
       "    </tr>\n",
       "    <tr>\n",
       "      <th>50to74</th>\n",
       "      <td>151654.0</td>\n",
       "      <td>399000.0</td>\n",
       "    </tr>\n",
       "    <tr>\n",
       "      <th>75+</th>\n",
       "      <td>51097.0</td>\n",
       "      <td>157987.0</td>\n",
       "    </tr>\n",
       "    <tr>\n",
       "      <th>ALL</th>\n",
       "      <td>700323.0</td>\n",
       "      <td>1759514.0</td>\n",
       "    </tr>\n",
       "    <tr>\n",
       "      <th rowspan=\"6\" valign=\"top\">MALE</th>\n",
       "      <th>00to14</th>\n",
       "      <td>162410.0</td>\n",
       "      <td>409701.0</td>\n",
       "    </tr>\n",
       "    <tr>\n",
       "      <th>15to29</th>\n",
       "      <td>108409.0</td>\n",
       "      <td>263738.0</td>\n",
       "    </tr>\n",
       "    <tr>\n",
       "      <th>30to49</th>\n",
       "      <td>152372.0</td>\n",
       "      <td>384188.0</td>\n",
       "    </tr>\n",
       "    <tr>\n",
       "      <th>50to74</th>\n",
       "      <td>126675.0</td>\n",
       "      <td>352414.0</td>\n",
       "    </tr>\n",
       "    <tr>\n",
       "      <th>75+</th>\n",
       "      <td>35220.0</td>\n",
       "      <td>113074.0</td>\n",
       "    </tr>\n",
       "    <tr>\n",
       "      <th>ALL</th>\n",
       "      <td>585086.0</td>\n",
       "      <td>1523115.0</td>\n",
       "    </tr>\n",
       "    <tr>\n",
       "      <th rowspan=\"12\" valign=\"top\">5-Non-Urgent</th>\n",
       "      <th rowspan=\"6\" valign=\"top\">FEMALE</th>\n",
       "      <th>00to14</th>\n",
       "      <td>20725.0</td>\n",
       "      <td>374425.0</td>\n",
       "    </tr>\n",
       "    <tr>\n",
       "      <th>15to29</th>\n",
       "      <td>26094.0</td>\n",
       "      <td>377054.0</td>\n",
       "    </tr>\n",
       "    <tr>\n",
       "      <th>30to49</th>\n",
       "      <td>29441.0</td>\n",
       "      <td>451048.0</td>\n",
       "    </tr>\n",
       "    <tr>\n",
       "      <th>50to74</th>\n",
       "      <td>25044.0</td>\n",
       "      <td>399000.0</td>\n",
       "    </tr>\n",
       "    <tr>\n",
       "      <th>75+</th>\n",
       "      <td>7285.0</td>\n",
       "      <td>157987.0</td>\n",
       "    </tr>\n",
       "    <tr>\n",
       "      <th>ALL</th>\n",
       "      <td>108589.0</td>\n",
       "      <td>1759514.0</td>\n",
       "    </tr>\n",
       "    <tr>\n",
       "      <th rowspan=\"6\" valign=\"top\">MALE</th>\n",
       "      <th>00to14</th>\n",
       "      <td>20680.0</td>\n",
       "      <td>409701.0</td>\n",
       "    </tr>\n",
       "    <tr>\n",
       "      <th>15to29</th>\n",
       "      <td>21185.0</td>\n",
       "      <td>263738.0</td>\n",
       "    </tr>\n",
       "    <tr>\n",
       "      <th>30to49</th>\n",
       "      <td>28680.0</td>\n",
       "      <td>384188.0</td>\n",
       "    </tr>\n",
       "    <tr>\n",
       "      <th>50to74</th>\n",
       "      <td>24452.0</td>\n",
       "      <td>352414.0</td>\n",
       "    </tr>\n",
       "    <tr>\n",
       "      <th>75+</th>\n",
       "      <td>6083.0</td>\n",
       "      <td>113074.0</td>\n",
       "    </tr>\n",
       "    <tr>\n",
       "      <th>ALL</th>\n",
       "      <td>101080.0</td>\n",
       "      <td>1523115.0</td>\n",
       "    </tr>\n",
       "  </tbody>\n",
       "</table>\n",
       "</div>"
      ],
      "text/plain": [
       "                               Visits  Total Visits (Across all Triage levels)\n",
       "Triage Level  Sex    Age                                                      \n",
       "4-Semi-Urgent FEMALE 00to14  157543.0                                 374425.0\n",
       "                     15to29  158554.0                                 377054.0\n",
       "                     30to49  181475.0                                 451048.0\n",
       "                     50to74  151654.0                                 399000.0\n",
       "                     75+      51097.0                                 157987.0\n",
       "                     ALL     700323.0                                1759514.0\n",
       "              MALE   00to14  162410.0                                 409701.0\n",
       "                     15to29  108409.0                                 263738.0\n",
       "                     30to49  152372.0                                 384188.0\n",
       "                     50to74  126675.0                                 352414.0\n",
       "                     75+      35220.0                                 113074.0\n",
       "                     ALL     585086.0                                1523115.0\n",
       "5-Non-Urgent  FEMALE 00to14   20725.0                                 374425.0\n",
       "                     15to29   26094.0                                 377054.0\n",
       "                     30to49   29441.0                                 451048.0\n",
       "                     50to74   25044.0                                 399000.0\n",
       "                     75+       7285.0                                 157987.0\n",
       "                     ALL     108589.0                                1759514.0\n",
       "              MALE   00to14   20680.0                                 409701.0\n",
       "                     15to29   21185.0                                 263738.0\n",
       "                     30to49   28680.0                                 384188.0\n",
       "                     50to74   24452.0                                 352414.0\n",
       "                     75+       6083.0                                 113074.0\n",
       "                     ALL     101080.0                                1523115.0"
      ]
     },
     "metadata": {},
     "output_type": "display_data"
    }
   ],
   "source": [
    "pd.set_option('display.max_rows', 500)\n",
    "Sex = pd.DataFrame(sex.groupby(['Triage Level','Sex', 'Age'])['Visits', 'Total Visits (Across all Triage levels)'].sum())\n",
    "display(Sex)"
   ]
  },
  {
   "cell_type": "code",
   "execution_count": 130,
   "metadata": {},
   "outputs": [
    {
     "data": {
      "application/vnd.plotly.v1+json": {
       "config": {
        "plotlyServerURL": "https://plot.ly"
       },
       "data": [
        {
         "fill": "toself",
         "line": {
          "color": "rgb(249,123,87)"
         },
         "name": "Females",
         "r": [
          157543,
          158554,
          181475,
          151654,
          51097
         ],
         "theta": [
          "0-14",
          "15-29",
          "30-49",
          "50-74",
          "75+"
         ],
         "type": "scatterpolar"
        },
        {
         "fill": "toself",
         "line": {
          "color": "rgb(0,0,200)"
         },
         "name": "Males",
         "r": [
          162410,
          108409,
          152372,
          126675,
          35220
         ],
         "theta": [
          "0-14",
          "15-29",
          "30-49",
          "50-74",
          "75+"
         ],
         "type": "scatterpolar"
        }
       ],
       "layout": {
        "paper_bgcolor": "rgba(0,0,0,0)",
        "plot_bgcolor": "rgba(0,0,0,0)",
        "polar": {
         "radialaxis": {
          "range": [
           0,
           200000
          ],
          "visible": true
         }
        },
        "showlegend": true,
        "template": {
         "data": {
          "bar": [
           {
            "error_x": {
             "color": "#2a3f5f"
            },
            "error_y": {
             "color": "#2a3f5f"
            },
            "marker": {
             "line": {
              "color": "#E5ECF6",
              "width": 0.5
             }
            },
            "type": "bar"
           }
          ],
          "barpolar": [
           {
            "marker": {
             "line": {
              "color": "#E5ECF6",
              "width": 0.5
             }
            },
            "type": "barpolar"
           }
          ],
          "carpet": [
           {
            "aaxis": {
             "endlinecolor": "#2a3f5f",
             "gridcolor": "white",
             "linecolor": "white",
             "minorgridcolor": "white",
             "startlinecolor": "#2a3f5f"
            },
            "baxis": {
             "endlinecolor": "#2a3f5f",
             "gridcolor": "white",
             "linecolor": "white",
             "minorgridcolor": "white",
             "startlinecolor": "#2a3f5f"
            },
            "type": "carpet"
           }
          ],
          "choropleth": [
           {
            "colorbar": {
             "outlinewidth": 0,
             "ticks": ""
            },
            "type": "choropleth"
           }
          ],
          "contour": [
           {
            "colorbar": {
             "outlinewidth": 0,
             "ticks": ""
            },
            "colorscale": [
             [
              0,
              "#0d0887"
             ],
             [
              0.1111111111111111,
              "#46039f"
             ],
             [
              0.2222222222222222,
              "#7201a8"
             ],
             [
              0.3333333333333333,
              "#9c179e"
             ],
             [
              0.4444444444444444,
              "#bd3786"
             ],
             [
              0.5555555555555556,
              "#d8576b"
             ],
             [
              0.6666666666666666,
              "#ed7953"
             ],
             [
              0.7777777777777778,
              "#fb9f3a"
             ],
             [
              0.8888888888888888,
              "#fdca26"
             ],
             [
              1,
              "#f0f921"
             ]
            ],
            "type": "contour"
           }
          ],
          "contourcarpet": [
           {
            "colorbar": {
             "outlinewidth": 0,
             "ticks": ""
            },
            "type": "contourcarpet"
           }
          ],
          "heatmap": [
           {
            "colorbar": {
             "outlinewidth": 0,
             "ticks": ""
            },
            "colorscale": [
             [
              0,
              "#0d0887"
             ],
             [
              0.1111111111111111,
              "#46039f"
             ],
             [
              0.2222222222222222,
              "#7201a8"
             ],
             [
              0.3333333333333333,
              "#9c179e"
             ],
             [
              0.4444444444444444,
              "#bd3786"
             ],
             [
              0.5555555555555556,
              "#d8576b"
             ],
             [
              0.6666666666666666,
              "#ed7953"
             ],
             [
              0.7777777777777778,
              "#fb9f3a"
             ],
             [
              0.8888888888888888,
              "#fdca26"
             ],
             [
              1,
              "#f0f921"
             ]
            ],
            "type": "heatmap"
           }
          ],
          "heatmapgl": [
           {
            "colorbar": {
             "outlinewidth": 0,
             "ticks": ""
            },
            "colorscale": [
             [
              0,
              "#0d0887"
             ],
             [
              0.1111111111111111,
              "#46039f"
             ],
             [
              0.2222222222222222,
              "#7201a8"
             ],
             [
              0.3333333333333333,
              "#9c179e"
             ],
             [
              0.4444444444444444,
              "#bd3786"
             ],
             [
              0.5555555555555556,
              "#d8576b"
             ],
             [
              0.6666666666666666,
              "#ed7953"
             ],
             [
              0.7777777777777778,
              "#fb9f3a"
             ],
             [
              0.8888888888888888,
              "#fdca26"
             ],
             [
              1,
              "#f0f921"
             ]
            ],
            "type": "heatmapgl"
           }
          ],
          "histogram": [
           {
            "marker": {
             "colorbar": {
              "outlinewidth": 0,
              "ticks": ""
             }
            },
            "type": "histogram"
           }
          ],
          "histogram2d": [
           {
            "colorbar": {
             "outlinewidth": 0,
             "ticks": ""
            },
            "colorscale": [
             [
              0,
              "#0d0887"
             ],
             [
              0.1111111111111111,
              "#46039f"
             ],
             [
              0.2222222222222222,
              "#7201a8"
             ],
             [
              0.3333333333333333,
              "#9c179e"
             ],
             [
              0.4444444444444444,
              "#bd3786"
             ],
             [
              0.5555555555555556,
              "#d8576b"
             ],
             [
              0.6666666666666666,
              "#ed7953"
             ],
             [
              0.7777777777777778,
              "#fb9f3a"
             ],
             [
              0.8888888888888888,
              "#fdca26"
             ],
             [
              1,
              "#f0f921"
             ]
            ],
            "type": "histogram2d"
           }
          ],
          "histogram2dcontour": [
           {
            "colorbar": {
             "outlinewidth": 0,
             "ticks": ""
            },
            "colorscale": [
             [
              0,
              "#0d0887"
             ],
             [
              0.1111111111111111,
              "#46039f"
             ],
             [
              0.2222222222222222,
              "#7201a8"
             ],
             [
              0.3333333333333333,
              "#9c179e"
             ],
             [
              0.4444444444444444,
              "#bd3786"
             ],
             [
              0.5555555555555556,
              "#d8576b"
             ],
             [
              0.6666666666666666,
              "#ed7953"
             ],
             [
              0.7777777777777778,
              "#fb9f3a"
             ],
             [
              0.8888888888888888,
              "#fdca26"
             ],
             [
              1,
              "#f0f921"
             ]
            ],
            "type": "histogram2dcontour"
           }
          ],
          "mesh3d": [
           {
            "colorbar": {
             "outlinewidth": 0,
             "ticks": ""
            },
            "type": "mesh3d"
           }
          ],
          "parcoords": [
           {
            "line": {
             "colorbar": {
              "outlinewidth": 0,
              "ticks": ""
             }
            },
            "type": "parcoords"
           }
          ],
          "pie": [
           {
            "automargin": true,
            "type": "pie"
           }
          ],
          "scatter": [
           {
            "marker": {
             "colorbar": {
              "outlinewidth": 0,
              "ticks": ""
             }
            },
            "type": "scatter"
           }
          ],
          "scatter3d": [
           {
            "line": {
             "colorbar": {
              "outlinewidth": 0,
              "ticks": ""
             }
            },
            "marker": {
             "colorbar": {
              "outlinewidth": 0,
              "ticks": ""
             }
            },
            "type": "scatter3d"
           }
          ],
          "scattercarpet": [
           {
            "marker": {
             "colorbar": {
              "outlinewidth": 0,
              "ticks": ""
             }
            },
            "type": "scattercarpet"
           }
          ],
          "scattergeo": [
           {
            "marker": {
             "colorbar": {
              "outlinewidth": 0,
              "ticks": ""
             }
            },
            "type": "scattergeo"
           }
          ],
          "scattergl": [
           {
            "marker": {
             "colorbar": {
              "outlinewidth": 0,
              "ticks": ""
             }
            },
            "type": "scattergl"
           }
          ],
          "scattermapbox": [
           {
            "marker": {
             "colorbar": {
              "outlinewidth": 0,
              "ticks": ""
             }
            },
            "type": "scattermapbox"
           }
          ],
          "scatterpolar": [
           {
            "marker": {
             "colorbar": {
              "outlinewidth": 0,
              "ticks": ""
             }
            },
            "type": "scatterpolar"
           }
          ],
          "scatterpolargl": [
           {
            "marker": {
             "colorbar": {
              "outlinewidth": 0,
              "ticks": ""
             }
            },
            "type": "scatterpolargl"
           }
          ],
          "scatterternary": [
           {
            "marker": {
             "colorbar": {
              "outlinewidth": 0,
              "ticks": ""
             }
            },
            "type": "scatterternary"
           }
          ],
          "surface": [
           {
            "colorbar": {
             "outlinewidth": 0,
             "ticks": ""
            },
            "colorscale": [
             [
              0,
              "#0d0887"
             ],
             [
              0.1111111111111111,
              "#46039f"
             ],
             [
              0.2222222222222222,
              "#7201a8"
             ],
             [
              0.3333333333333333,
              "#9c179e"
             ],
             [
              0.4444444444444444,
              "#bd3786"
             ],
             [
              0.5555555555555556,
              "#d8576b"
             ],
             [
              0.6666666666666666,
              "#ed7953"
             ],
             [
              0.7777777777777778,
              "#fb9f3a"
             ],
             [
              0.8888888888888888,
              "#fdca26"
             ],
             [
              1,
              "#f0f921"
             ]
            ],
            "type": "surface"
           }
          ],
          "table": [
           {
            "cells": {
             "fill": {
              "color": "#EBF0F8"
             },
             "line": {
              "color": "white"
             }
            },
            "header": {
             "fill": {
              "color": "#C8D4E3"
             },
             "line": {
              "color": "white"
             }
            },
            "type": "table"
           }
          ]
         },
         "layout": {
          "annotationdefaults": {
           "arrowcolor": "#2a3f5f",
           "arrowhead": 0,
           "arrowwidth": 1
          },
          "coloraxis": {
           "colorbar": {
            "outlinewidth": 0,
            "ticks": ""
           }
          },
          "colorscale": {
           "diverging": [
            [
             0,
             "#8e0152"
            ],
            [
             0.1,
             "#c51b7d"
            ],
            [
             0.2,
             "#de77ae"
            ],
            [
             0.3,
             "#f1b6da"
            ],
            [
             0.4,
             "#fde0ef"
            ],
            [
             0.5,
             "#f7f7f7"
            ],
            [
             0.6,
             "#e6f5d0"
            ],
            [
             0.7,
             "#b8e186"
            ],
            [
             0.8,
             "#7fbc41"
            ],
            [
             0.9,
             "#4d9221"
            ],
            [
             1,
             "#276419"
            ]
           ],
           "sequential": [
            [
             0,
             "#0d0887"
            ],
            [
             0.1111111111111111,
             "#46039f"
            ],
            [
             0.2222222222222222,
             "#7201a8"
            ],
            [
             0.3333333333333333,
             "#9c179e"
            ],
            [
             0.4444444444444444,
             "#bd3786"
            ],
            [
             0.5555555555555556,
             "#d8576b"
            ],
            [
             0.6666666666666666,
             "#ed7953"
            ],
            [
             0.7777777777777778,
             "#fb9f3a"
            ],
            [
             0.8888888888888888,
             "#fdca26"
            ],
            [
             1,
             "#f0f921"
            ]
           ],
           "sequentialminus": [
            [
             0,
             "#0d0887"
            ],
            [
             0.1111111111111111,
             "#46039f"
            ],
            [
             0.2222222222222222,
             "#7201a8"
            ],
            [
             0.3333333333333333,
             "#9c179e"
            ],
            [
             0.4444444444444444,
             "#bd3786"
            ],
            [
             0.5555555555555556,
             "#d8576b"
            ],
            [
             0.6666666666666666,
             "#ed7953"
            ],
            [
             0.7777777777777778,
             "#fb9f3a"
            ],
            [
             0.8888888888888888,
             "#fdca26"
            ],
            [
             1,
             "#f0f921"
            ]
           ]
          },
          "colorway": [
           "#636efa",
           "#EF553B",
           "#00cc96",
           "#ab63fa",
           "#FFA15A",
           "#19d3f3",
           "#FF6692",
           "#B6E880",
           "#FF97FF",
           "#FECB52"
          ],
          "font": {
           "color": "#2a3f5f"
          },
          "geo": {
           "bgcolor": "white",
           "lakecolor": "white",
           "landcolor": "#E5ECF6",
           "showlakes": true,
           "showland": true,
           "subunitcolor": "white"
          },
          "hoverlabel": {
           "align": "left"
          },
          "hovermode": "closest",
          "mapbox": {
           "style": "light"
          },
          "paper_bgcolor": "white",
          "plot_bgcolor": "#E5ECF6",
          "polar": {
           "angularaxis": {
            "gridcolor": "white",
            "linecolor": "white",
            "ticks": ""
           },
           "bgcolor": "#E5ECF6",
           "radialaxis": {
            "gridcolor": "white",
            "linecolor": "white",
            "ticks": ""
           }
          },
          "scene": {
           "xaxis": {
            "backgroundcolor": "#E5ECF6",
            "gridcolor": "white",
            "gridwidth": 2,
            "linecolor": "white",
            "showbackground": true,
            "ticks": "",
            "zerolinecolor": "white"
           },
           "yaxis": {
            "backgroundcolor": "#E5ECF6",
            "gridcolor": "white",
            "gridwidth": 2,
            "linecolor": "white",
            "showbackground": true,
            "ticks": "",
            "zerolinecolor": "white"
           },
           "zaxis": {
            "backgroundcolor": "#E5ECF6",
            "gridcolor": "white",
            "gridwidth": 2,
            "linecolor": "white",
            "showbackground": true,
            "ticks": "",
            "zerolinecolor": "white"
           }
          },
          "shapedefaults": {
           "line": {
            "color": "#2a3f5f"
           }
          },
          "ternary": {
           "aaxis": {
            "gridcolor": "white",
            "linecolor": "white",
            "ticks": ""
           },
           "baxis": {
            "gridcolor": "white",
            "linecolor": "white",
            "ticks": ""
           },
           "bgcolor": "#E5ECF6",
           "caxis": {
            "gridcolor": "white",
            "linecolor": "white",
            "ticks": ""
           }
          },
          "title": {
           "x": 0.05
          },
          "xaxis": {
           "automargin": true,
           "gridcolor": "white",
           "linecolor": "white",
           "ticks": "",
           "title": {
            "standoff": 15
           },
           "zerolinecolor": "white",
           "zerolinewidth": 2
          },
          "yaxis": {
           "automargin": true,
           "gridcolor": "white",
           "linecolor": "white",
           "ticks": "",
           "title": {
            "standoff": 15
           },
           "zerolinecolor": "white",
           "zerolinewidth": 2
          }
         }
        }
       }
      },
      "text/html": [
       "<div>\n",
       "        \n",
       "        \n",
       "            <div id=\"5e6775b9-de10-4615-8e13-c631f47fbaa3\" class=\"plotly-graph-div\" style=\"height:525px; width:100%;\"></div>\n",
       "            <script type=\"text/javascript\">\n",
       "                require([\"plotly\"], function(Plotly) {\n",
       "                    window.PLOTLYENV=window.PLOTLYENV || {};\n",
       "                    \n",
       "                if (document.getElementById(\"5e6775b9-de10-4615-8e13-c631f47fbaa3\")) {\n",
       "                    Plotly.newPlot(\n",
       "                        '5e6775b9-de10-4615-8e13-c631f47fbaa3',\n",
       "                        [{\"fill\": \"toself\", \"line\": {\"color\": \"rgb(249,123,87)\"}, \"name\": \"Females\", \"r\": [157543, 158554, 181475, 151654, 51097], \"theta\": [\"0-14\", \"15-29\", \"30-49\", \"50-74\", \"75+\"], \"type\": \"scatterpolar\"}, {\"fill\": \"toself\", \"line\": {\"color\": \"rgb(0,0,200)\"}, \"name\": \"Males\", \"r\": [162410, 108409, 152372, 126675, 35220], \"theta\": [\"0-14\", \"15-29\", \"30-49\", \"50-74\", \"75+\"], \"type\": \"scatterpolar\"}],\n",
       "                        {\"paper_bgcolor\": \"rgba(0,0,0,0)\", \"plot_bgcolor\": \"rgba(0,0,0,0)\", \"polar\": {\"radialaxis\": {\"range\": [0, 200000], \"visible\": true}}, \"showlegend\": true, \"template\": {\"data\": {\"bar\": [{\"error_x\": {\"color\": \"#2a3f5f\"}, \"error_y\": {\"color\": \"#2a3f5f\"}, \"marker\": {\"line\": {\"color\": \"#E5ECF6\", \"width\": 0.5}}, \"type\": \"bar\"}], \"barpolar\": [{\"marker\": {\"line\": {\"color\": \"#E5ECF6\", \"width\": 0.5}}, \"type\": \"barpolar\"}], \"carpet\": [{\"aaxis\": {\"endlinecolor\": \"#2a3f5f\", \"gridcolor\": \"white\", \"linecolor\": \"white\", \"minorgridcolor\": \"white\", \"startlinecolor\": \"#2a3f5f\"}, \"baxis\": {\"endlinecolor\": \"#2a3f5f\", \"gridcolor\": \"white\", \"linecolor\": \"white\", \"minorgridcolor\": \"white\", \"startlinecolor\": \"#2a3f5f\"}, \"type\": \"carpet\"}], \"choropleth\": [{\"colorbar\": {\"outlinewidth\": 0, \"ticks\": \"\"}, \"type\": \"choropleth\"}], \"contour\": [{\"colorbar\": {\"outlinewidth\": 0, \"ticks\": \"\"}, \"colorscale\": [[0.0, \"#0d0887\"], [0.1111111111111111, \"#46039f\"], [0.2222222222222222, \"#7201a8\"], [0.3333333333333333, \"#9c179e\"], [0.4444444444444444, \"#bd3786\"], [0.5555555555555556, \"#d8576b\"], [0.6666666666666666, \"#ed7953\"], [0.7777777777777778, \"#fb9f3a\"], [0.8888888888888888, \"#fdca26\"], [1.0, \"#f0f921\"]], \"type\": \"contour\"}], \"contourcarpet\": [{\"colorbar\": {\"outlinewidth\": 0, \"ticks\": \"\"}, \"type\": \"contourcarpet\"}], \"heatmap\": [{\"colorbar\": {\"outlinewidth\": 0, \"ticks\": \"\"}, \"colorscale\": [[0.0, \"#0d0887\"], [0.1111111111111111, \"#46039f\"], [0.2222222222222222, \"#7201a8\"], [0.3333333333333333, \"#9c179e\"], [0.4444444444444444, \"#bd3786\"], [0.5555555555555556, \"#d8576b\"], [0.6666666666666666, \"#ed7953\"], [0.7777777777777778, \"#fb9f3a\"], [0.8888888888888888, \"#fdca26\"], [1.0, \"#f0f921\"]], \"type\": \"heatmap\"}], \"heatmapgl\": [{\"colorbar\": {\"outlinewidth\": 0, \"ticks\": \"\"}, \"colorscale\": [[0.0, \"#0d0887\"], [0.1111111111111111, \"#46039f\"], [0.2222222222222222, \"#7201a8\"], [0.3333333333333333, \"#9c179e\"], [0.4444444444444444, \"#bd3786\"], [0.5555555555555556, \"#d8576b\"], [0.6666666666666666, \"#ed7953\"], [0.7777777777777778, \"#fb9f3a\"], [0.8888888888888888, \"#fdca26\"], [1.0, \"#f0f921\"]], \"type\": \"heatmapgl\"}], \"histogram\": [{\"marker\": {\"colorbar\": {\"outlinewidth\": 0, \"ticks\": \"\"}}, \"type\": \"histogram\"}], \"histogram2d\": [{\"colorbar\": {\"outlinewidth\": 0, \"ticks\": \"\"}, \"colorscale\": [[0.0, \"#0d0887\"], [0.1111111111111111, \"#46039f\"], [0.2222222222222222, \"#7201a8\"], [0.3333333333333333, \"#9c179e\"], [0.4444444444444444, \"#bd3786\"], [0.5555555555555556, \"#d8576b\"], [0.6666666666666666, \"#ed7953\"], [0.7777777777777778, \"#fb9f3a\"], [0.8888888888888888, \"#fdca26\"], [1.0, \"#f0f921\"]], \"type\": \"histogram2d\"}], \"histogram2dcontour\": [{\"colorbar\": {\"outlinewidth\": 0, \"ticks\": \"\"}, \"colorscale\": [[0.0, \"#0d0887\"], [0.1111111111111111, \"#46039f\"], [0.2222222222222222, \"#7201a8\"], [0.3333333333333333, \"#9c179e\"], [0.4444444444444444, \"#bd3786\"], [0.5555555555555556, \"#d8576b\"], [0.6666666666666666, \"#ed7953\"], [0.7777777777777778, \"#fb9f3a\"], [0.8888888888888888, \"#fdca26\"], [1.0, \"#f0f921\"]], \"type\": \"histogram2dcontour\"}], \"mesh3d\": [{\"colorbar\": {\"outlinewidth\": 0, \"ticks\": \"\"}, \"type\": \"mesh3d\"}], \"parcoords\": [{\"line\": {\"colorbar\": {\"outlinewidth\": 0, \"ticks\": \"\"}}, \"type\": \"parcoords\"}], \"pie\": [{\"automargin\": true, \"type\": \"pie\"}], \"scatter\": [{\"marker\": {\"colorbar\": {\"outlinewidth\": 0, \"ticks\": \"\"}}, \"type\": \"scatter\"}], \"scatter3d\": [{\"line\": {\"colorbar\": {\"outlinewidth\": 0, \"ticks\": \"\"}}, \"marker\": {\"colorbar\": {\"outlinewidth\": 0, \"ticks\": \"\"}}, \"type\": \"scatter3d\"}], \"scattercarpet\": [{\"marker\": {\"colorbar\": {\"outlinewidth\": 0, \"ticks\": \"\"}}, \"type\": \"scattercarpet\"}], \"scattergeo\": [{\"marker\": {\"colorbar\": {\"outlinewidth\": 0, \"ticks\": \"\"}}, \"type\": \"scattergeo\"}], \"scattergl\": [{\"marker\": {\"colorbar\": {\"outlinewidth\": 0, \"ticks\": \"\"}}, \"type\": \"scattergl\"}], \"scattermapbox\": [{\"marker\": {\"colorbar\": {\"outlinewidth\": 0, \"ticks\": \"\"}}, \"type\": \"scattermapbox\"}], \"scatterpolar\": [{\"marker\": {\"colorbar\": {\"outlinewidth\": 0, \"ticks\": \"\"}}, \"type\": \"scatterpolar\"}], \"scatterpolargl\": [{\"marker\": {\"colorbar\": {\"outlinewidth\": 0, \"ticks\": \"\"}}, \"type\": \"scatterpolargl\"}], \"scatterternary\": [{\"marker\": {\"colorbar\": {\"outlinewidth\": 0, \"ticks\": \"\"}}, \"type\": \"scatterternary\"}], \"surface\": [{\"colorbar\": {\"outlinewidth\": 0, \"ticks\": \"\"}, \"colorscale\": [[0.0, \"#0d0887\"], [0.1111111111111111, \"#46039f\"], [0.2222222222222222, \"#7201a8\"], [0.3333333333333333, \"#9c179e\"], [0.4444444444444444, \"#bd3786\"], [0.5555555555555556, \"#d8576b\"], [0.6666666666666666, \"#ed7953\"], [0.7777777777777778, \"#fb9f3a\"], [0.8888888888888888, \"#fdca26\"], [1.0, \"#f0f921\"]], \"type\": \"surface\"}], \"table\": [{\"cells\": {\"fill\": {\"color\": \"#EBF0F8\"}, \"line\": {\"color\": \"white\"}}, \"header\": {\"fill\": {\"color\": \"#C8D4E3\"}, \"line\": {\"color\": \"white\"}}, \"type\": \"table\"}]}, \"layout\": {\"annotationdefaults\": {\"arrowcolor\": \"#2a3f5f\", \"arrowhead\": 0, \"arrowwidth\": 1}, \"coloraxis\": {\"colorbar\": {\"outlinewidth\": 0, \"ticks\": \"\"}}, \"colorscale\": {\"diverging\": [[0, \"#8e0152\"], [0.1, \"#c51b7d\"], [0.2, \"#de77ae\"], [0.3, \"#f1b6da\"], [0.4, \"#fde0ef\"], [0.5, \"#f7f7f7\"], [0.6, \"#e6f5d0\"], [0.7, \"#b8e186\"], [0.8, \"#7fbc41\"], [0.9, \"#4d9221\"], [1, \"#276419\"]], \"sequential\": [[0.0, \"#0d0887\"], [0.1111111111111111, \"#46039f\"], [0.2222222222222222, \"#7201a8\"], [0.3333333333333333, \"#9c179e\"], [0.4444444444444444, \"#bd3786\"], [0.5555555555555556, \"#d8576b\"], [0.6666666666666666, \"#ed7953\"], [0.7777777777777778, \"#fb9f3a\"], [0.8888888888888888, \"#fdca26\"], [1.0, \"#f0f921\"]], \"sequentialminus\": [[0.0, \"#0d0887\"], [0.1111111111111111, \"#46039f\"], [0.2222222222222222, \"#7201a8\"], [0.3333333333333333, \"#9c179e\"], [0.4444444444444444, \"#bd3786\"], [0.5555555555555556, \"#d8576b\"], [0.6666666666666666, \"#ed7953\"], [0.7777777777777778, \"#fb9f3a\"], [0.8888888888888888, \"#fdca26\"], [1.0, \"#f0f921\"]]}, \"colorway\": [\"#636efa\", \"#EF553B\", \"#00cc96\", \"#ab63fa\", \"#FFA15A\", \"#19d3f3\", \"#FF6692\", \"#B6E880\", \"#FF97FF\", \"#FECB52\"], \"font\": {\"color\": \"#2a3f5f\"}, \"geo\": {\"bgcolor\": \"white\", \"lakecolor\": \"white\", \"landcolor\": \"#E5ECF6\", \"showlakes\": true, \"showland\": true, \"subunitcolor\": \"white\"}, \"hoverlabel\": {\"align\": \"left\"}, \"hovermode\": \"closest\", \"mapbox\": {\"style\": \"light\"}, \"paper_bgcolor\": \"white\", \"plot_bgcolor\": \"#E5ECF6\", \"polar\": {\"angularaxis\": {\"gridcolor\": \"white\", \"linecolor\": \"white\", \"ticks\": \"\"}, \"bgcolor\": \"#E5ECF6\", \"radialaxis\": {\"gridcolor\": \"white\", \"linecolor\": \"white\", \"ticks\": \"\"}}, \"scene\": {\"xaxis\": {\"backgroundcolor\": \"#E5ECF6\", \"gridcolor\": \"white\", \"gridwidth\": 2, \"linecolor\": \"white\", \"showbackground\": true, \"ticks\": \"\", \"zerolinecolor\": \"white\"}, \"yaxis\": {\"backgroundcolor\": \"#E5ECF6\", \"gridcolor\": \"white\", \"gridwidth\": 2, \"linecolor\": \"white\", \"showbackground\": true, \"ticks\": \"\", \"zerolinecolor\": \"white\"}, \"zaxis\": {\"backgroundcolor\": \"#E5ECF6\", \"gridcolor\": \"white\", \"gridwidth\": 2, \"linecolor\": \"white\", \"showbackground\": true, \"ticks\": \"\", \"zerolinecolor\": \"white\"}}, \"shapedefaults\": {\"line\": {\"color\": \"#2a3f5f\"}}, \"ternary\": {\"aaxis\": {\"gridcolor\": \"white\", \"linecolor\": \"white\", \"ticks\": \"\"}, \"baxis\": {\"gridcolor\": \"white\", \"linecolor\": \"white\", \"ticks\": \"\"}, \"bgcolor\": \"#E5ECF6\", \"caxis\": {\"gridcolor\": \"white\", \"linecolor\": \"white\", \"ticks\": \"\"}}, \"title\": {\"x\": 0.05}, \"xaxis\": {\"automargin\": true, \"gridcolor\": \"white\", \"linecolor\": \"white\", \"ticks\": \"\", \"title\": {\"standoff\": 15}, \"zerolinecolor\": \"white\", \"zerolinewidth\": 2}, \"yaxis\": {\"automargin\": true, \"gridcolor\": \"white\", \"linecolor\": \"white\", \"ticks\": \"\", \"title\": {\"standoff\": 15}, \"zerolinecolor\": \"white\", \"zerolinewidth\": 2}}}},\n",
       "                        {\"responsive\": true}\n",
       "                    ).then(function(){\n",
       "                            \n",
       "var gd = document.getElementById('5e6775b9-de10-4615-8e13-c631f47fbaa3');\n",
       "var x = new MutationObserver(function (mutations, observer) {{\n",
       "        var display = window.getComputedStyle(gd).display;\n",
       "        if (!display || display === 'none') {{\n",
       "            console.log([gd, 'removed!']);\n",
       "            Plotly.purge(gd);\n",
       "            observer.disconnect();\n",
       "        }}\n",
       "}});\n",
       "\n",
       "// Listen for the removal of the full notebook cells\n",
       "var notebookContainer = gd.closest('#notebook-container');\n",
       "if (notebookContainer) {{\n",
       "    x.observe(notebookContainer, {childList: true});\n",
       "}}\n",
       "\n",
       "// Listen for the clearing of the current output cell\n",
       "var outputEl = gd.closest('.output');\n",
       "if (outputEl) {{\n",
       "    x.observe(outputEl, {childList: true});\n",
       "}}\n",
       "\n",
       "                        })\n",
       "                };\n",
       "                });\n",
       "            </script>\n",
       "        </div>"
      ]
     },
     "metadata": {},
     "output_type": "display_data"
    }
   ],
   "source": [
    "#Semi-urgent triage\n",
    "\n",
    "import plotly.graph_objects as go\n",
    "\n",
    "categories = ['0-14','15-29','30-49',\n",
    "              '50-74', '75+']\n",
    "\n",
    "fig = go.Figure()\n",
    "\n",
    "fig.add_trace(go.Scatterpolar(\n",
    "      r=[157543, 158554, 181475, 151654, 51097],\n",
    "      theta=categories,\n",
    "      fill='toself',\n",
    "      name='Females',\n",
    "    line_color = 'rgb(249,123,87)'\n",
    "))\n",
    "fig.add_trace(go.Scatterpolar(\n",
    "      r=[162410, 108409, 152372, 126675, 35220],\n",
    "      theta=categories,\n",
    "      fill='toself',\n",
    "      name='Males',\n",
    "      line_color = 'rgb(0,0,200)'\n",
    "))\n",
    "\n",
    "fig.update_layout(\n",
    "  polar=dict(\n",
    "    radialaxis=dict(\n",
    "      visible=True,\n",
    "      range=[0, 200000]\n",
    "    )),\n",
    "  showlegend=True\n",
    ")\n",
    "\n",
    "fig.show()"
   ]
  },
  {
   "cell_type": "code",
   "execution_count": 132,
   "metadata": {},
   "outputs": [
    {
     "data": {
      "application/vnd.plotly.v1+json": {
       "config": {
        "plotlyServerURL": "https://plot.ly"
       },
       "data": [
        {
         "fill": "toself",
         "line": {
          "color": "rgb(249,123,87)"
         },
         "name": "Females",
         "r": [
          20725,
          26094,
          29441,
          25044,
          7285
         ],
         "theta": [
          "0-14",
          "15-29",
          "30-49",
          "50-74",
          "75+"
         ],
         "type": "scatterpolar"
        },
        {
         "fill": "toself",
         "line": {
          "color": "rgb(0,0,200)"
         },
         "name": "Males",
         "r": [
          20680,
          21185,
          28680,
          24452,
          6083
         ],
         "theta": [
          "0-14",
          "15-29",
          "30-49",
          "50-74",
          "75+"
         ],
         "type": "scatterpolar"
        }
       ],
       "layout": {
        "polar": {
         "radialaxis": {
          "range": [
           0,
           30000
          ],
          "visible": true
         }
        },
        "showlegend": true,
        "template": {
         "data": {
          "bar": [
           {
            "error_x": {
             "color": "#2a3f5f"
            },
            "error_y": {
             "color": "#2a3f5f"
            },
            "marker": {
             "line": {
              "color": "#E5ECF6",
              "width": 0.5
             }
            },
            "type": "bar"
           }
          ],
          "barpolar": [
           {
            "marker": {
             "line": {
              "color": "#E5ECF6",
              "width": 0.5
             }
            },
            "type": "barpolar"
           }
          ],
          "carpet": [
           {
            "aaxis": {
             "endlinecolor": "#2a3f5f",
             "gridcolor": "white",
             "linecolor": "white",
             "minorgridcolor": "white",
             "startlinecolor": "#2a3f5f"
            },
            "baxis": {
             "endlinecolor": "#2a3f5f",
             "gridcolor": "white",
             "linecolor": "white",
             "minorgridcolor": "white",
             "startlinecolor": "#2a3f5f"
            },
            "type": "carpet"
           }
          ],
          "choropleth": [
           {
            "colorbar": {
             "outlinewidth": 0,
             "ticks": ""
            },
            "type": "choropleth"
           }
          ],
          "contour": [
           {
            "colorbar": {
             "outlinewidth": 0,
             "ticks": ""
            },
            "colorscale": [
             [
              0,
              "#0d0887"
             ],
             [
              0.1111111111111111,
              "#46039f"
             ],
             [
              0.2222222222222222,
              "#7201a8"
             ],
             [
              0.3333333333333333,
              "#9c179e"
             ],
             [
              0.4444444444444444,
              "#bd3786"
             ],
             [
              0.5555555555555556,
              "#d8576b"
             ],
             [
              0.6666666666666666,
              "#ed7953"
             ],
             [
              0.7777777777777778,
              "#fb9f3a"
             ],
             [
              0.8888888888888888,
              "#fdca26"
             ],
             [
              1,
              "#f0f921"
             ]
            ],
            "type": "contour"
           }
          ],
          "contourcarpet": [
           {
            "colorbar": {
             "outlinewidth": 0,
             "ticks": ""
            },
            "type": "contourcarpet"
           }
          ],
          "heatmap": [
           {
            "colorbar": {
             "outlinewidth": 0,
             "ticks": ""
            },
            "colorscale": [
             [
              0,
              "#0d0887"
             ],
             [
              0.1111111111111111,
              "#46039f"
             ],
             [
              0.2222222222222222,
              "#7201a8"
             ],
             [
              0.3333333333333333,
              "#9c179e"
             ],
             [
              0.4444444444444444,
              "#bd3786"
             ],
             [
              0.5555555555555556,
              "#d8576b"
             ],
             [
              0.6666666666666666,
              "#ed7953"
             ],
             [
              0.7777777777777778,
              "#fb9f3a"
             ],
             [
              0.8888888888888888,
              "#fdca26"
             ],
             [
              1,
              "#f0f921"
             ]
            ],
            "type": "heatmap"
           }
          ],
          "heatmapgl": [
           {
            "colorbar": {
             "outlinewidth": 0,
             "ticks": ""
            },
            "colorscale": [
             [
              0,
              "#0d0887"
             ],
             [
              0.1111111111111111,
              "#46039f"
             ],
             [
              0.2222222222222222,
              "#7201a8"
             ],
             [
              0.3333333333333333,
              "#9c179e"
             ],
             [
              0.4444444444444444,
              "#bd3786"
             ],
             [
              0.5555555555555556,
              "#d8576b"
             ],
             [
              0.6666666666666666,
              "#ed7953"
             ],
             [
              0.7777777777777778,
              "#fb9f3a"
             ],
             [
              0.8888888888888888,
              "#fdca26"
             ],
             [
              1,
              "#f0f921"
             ]
            ],
            "type": "heatmapgl"
           }
          ],
          "histogram": [
           {
            "marker": {
             "colorbar": {
              "outlinewidth": 0,
              "ticks": ""
             }
            },
            "type": "histogram"
           }
          ],
          "histogram2d": [
           {
            "colorbar": {
             "outlinewidth": 0,
             "ticks": ""
            },
            "colorscale": [
             [
              0,
              "#0d0887"
             ],
             [
              0.1111111111111111,
              "#46039f"
             ],
             [
              0.2222222222222222,
              "#7201a8"
             ],
             [
              0.3333333333333333,
              "#9c179e"
             ],
             [
              0.4444444444444444,
              "#bd3786"
             ],
             [
              0.5555555555555556,
              "#d8576b"
             ],
             [
              0.6666666666666666,
              "#ed7953"
             ],
             [
              0.7777777777777778,
              "#fb9f3a"
             ],
             [
              0.8888888888888888,
              "#fdca26"
             ],
             [
              1,
              "#f0f921"
             ]
            ],
            "type": "histogram2d"
           }
          ],
          "histogram2dcontour": [
           {
            "colorbar": {
             "outlinewidth": 0,
             "ticks": ""
            },
            "colorscale": [
             [
              0,
              "#0d0887"
             ],
             [
              0.1111111111111111,
              "#46039f"
             ],
             [
              0.2222222222222222,
              "#7201a8"
             ],
             [
              0.3333333333333333,
              "#9c179e"
             ],
             [
              0.4444444444444444,
              "#bd3786"
             ],
             [
              0.5555555555555556,
              "#d8576b"
             ],
             [
              0.6666666666666666,
              "#ed7953"
             ],
             [
              0.7777777777777778,
              "#fb9f3a"
             ],
             [
              0.8888888888888888,
              "#fdca26"
             ],
             [
              1,
              "#f0f921"
             ]
            ],
            "type": "histogram2dcontour"
           }
          ],
          "mesh3d": [
           {
            "colorbar": {
             "outlinewidth": 0,
             "ticks": ""
            },
            "type": "mesh3d"
           }
          ],
          "parcoords": [
           {
            "line": {
             "colorbar": {
              "outlinewidth": 0,
              "ticks": ""
             }
            },
            "type": "parcoords"
           }
          ],
          "pie": [
           {
            "automargin": true,
            "type": "pie"
           }
          ],
          "scatter": [
           {
            "marker": {
             "colorbar": {
              "outlinewidth": 0,
              "ticks": ""
             }
            },
            "type": "scatter"
           }
          ],
          "scatter3d": [
           {
            "line": {
             "colorbar": {
              "outlinewidth": 0,
              "ticks": ""
             }
            },
            "marker": {
             "colorbar": {
              "outlinewidth": 0,
              "ticks": ""
             }
            },
            "type": "scatter3d"
           }
          ],
          "scattercarpet": [
           {
            "marker": {
             "colorbar": {
              "outlinewidth": 0,
              "ticks": ""
             }
            },
            "type": "scattercarpet"
           }
          ],
          "scattergeo": [
           {
            "marker": {
             "colorbar": {
              "outlinewidth": 0,
              "ticks": ""
             }
            },
            "type": "scattergeo"
           }
          ],
          "scattergl": [
           {
            "marker": {
             "colorbar": {
              "outlinewidth": 0,
              "ticks": ""
             }
            },
            "type": "scattergl"
           }
          ],
          "scattermapbox": [
           {
            "marker": {
             "colorbar": {
              "outlinewidth": 0,
              "ticks": ""
             }
            },
            "type": "scattermapbox"
           }
          ],
          "scatterpolar": [
           {
            "marker": {
             "colorbar": {
              "outlinewidth": 0,
              "ticks": ""
             }
            },
            "type": "scatterpolar"
           }
          ],
          "scatterpolargl": [
           {
            "marker": {
             "colorbar": {
              "outlinewidth": 0,
              "ticks": ""
             }
            },
            "type": "scatterpolargl"
           }
          ],
          "scatterternary": [
           {
            "marker": {
             "colorbar": {
              "outlinewidth": 0,
              "ticks": ""
             }
            },
            "type": "scatterternary"
           }
          ],
          "surface": [
           {
            "colorbar": {
             "outlinewidth": 0,
             "ticks": ""
            },
            "colorscale": [
             [
              0,
              "#0d0887"
             ],
             [
              0.1111111111111111,
              "#46039f"
             ],
             [
              0.2222222222222222,
              "#7201a8"
             ],
             [
              0.3333333333333333,
              "#9c179e"
             ],
             [
              0.4444444444444444,
              "#bd3786"
             ],
             [
              0.5555555555555556,
              "#d8576b"
             ],
             [
              0.6666666666666666,
              "#ed7953"
             ],
             [
              0.7777777777777778,
              "#fb9f3a"
             ],
             [
              0.8888888888888888,
              "#fdca26"
             ],
             [
              1,
              "#f0f921"
             ]
            ],
            "type": "surface"
           }
          ],
          "table": [
           {
            "cells": {
             "fill": {
              "color": "#EBF0F8"
             },
             "line": {
              "color": "white"
             }
            },
            "header": {
             "fill": {
              "color": "#C8D4E3"
             },
             "line": {
              "color": "white"
             }
            },
            "type": "table"
           }
          ]
         },
         "layout": {
          "annotationdefaults": {
           "arrowcolor": "#2a3f5f",
           "arrowhead": 0,
           "arrowwidth": 1
          },
          "coloraxis": {
           "colorbar": {
            "outlinewidth": 0,
            "ticks": ""
           }
          },
          "colorscale": {
           "diverging": [
            [
             0,
             "#8e0152"
            ],
            [
             0.1,
             "#c51b7d"
            ],
            [
             0.2,
             "#de77ae"
            ],
            [
             0.3,
             "#f1b6da"
            ],
            [
             0.4,
             "#fde0ef"
            ],
            [
             0.5,
             "#f7f7f7"
            ],
            [
             0.6,
             "#e6f5d0"
            ],
            [
             0.7,
             "#b8e186"
            ],
            [
             0.8,
             "#7fbc41"
            ],
            [
             0.9,
             "#4d9221"
            ],
            [
             1,
             "#276419"
            ]
           ],
           "sequential": [
            [
             0,
             "#0d0887"
            ],
            [
             0.1111111111111111,
             "#46039f"
            ],
            [
             0.2222222222222222,
             "#7201a8"
            ],
            [
             0.3333333333333333,
             "#9c179e"
            ],
            [
             0.4444444444444444,
             "#bd3786"
            ],
            [
             0.5555555555555556,
             "#d8576b"
            ],
            [
             0.6666666666666666,
             "#ed7953"
            ],
            [
             0.7777777777777778,
             "#fb9f3a"
            ],
            [
             0.8888888888888888,
             "#fdca26"
            ],
            [
             1,
             "#f0f921"
            ]
           ],
           "sequentialminus": [
            [
             0,
             "#0d0887"
            ],
            [
             0.1111111111111111,
             "#46039f"
            ],
            [
             0.2222222222222222,
             "#7201a8"
            ],
            [
             0.3333333333333333,
             "#9c179e"
            ],
            [
             0.4444444444444444,
             "#bd3786"
            ],
            [
             0.5555555555555556,
             "#d8576b"
            ],
            [
             0.6666666666666666,
             "#ed7953"
            ],
            [
             0.7777777777777778,
             "#fb9f3a"
            ],
            [
             0.8888888888888888,
             "#fdca26"
            ],
            [
             1,
             "#f0f921"
            ]
           ]
          },
          "colorway": [
           "#636efa",
           "#EF553B",
           "#00cc96",
           "#ab63fa",
           "#FFA15A",
           "#19d3f3",
           "#FF6692",
           "#B6E880",
           "#FF97FF",
           "#FECB52"
          ],
          "font": {
           "color": "#2a3f5f"
          },
          "geo": {
           "bgcolor": "white",
           "lakecolor": "white",
           "landcolor": "#E5ECF6",
           "showlakes": true,
           "showland": true,
           "subunitcolor": "white"
          },
          "hoverlabel": {
           "align": "left"
          },
          "hovermode": "closest",
          "mapbox": {
           "style": "light"
          },
          "paper_bgcolor": "white",
          "plot_bgcolor": "#E5ECF6",
          "polar": {
           "angularaxis": {
            "gridcolor": "white",
            "linecolor": "white",
            "ticks": ""
           },
           "bgcolor": "#E5ECF6",
           "radialaxis": {
            "gridcolor": "white",
            "linecolor": "white",
            "ticks": ""
           }
          },
          "scene": {
           "xaxis": {
            "backgroundcolor": "#E5ECF6",
            "gridcolor": "white",
            "gridwidth": 2,
            "linecolor": "white",
            "showbackground": true,
            "ticks": "",
            "zerolinecolor": "white"
           },
           "yaxis": {
            "backgroundcolor": "#E5ECF6",
            "gridcolor": "white",
            "gridwidth": 2,
            "linecolor": "white",
            "showbackground": true,
            "ticks": "",
            "zerolinecolor": "white"
           },
           "zaxis": {
            "backgroundcolor": "#E5ECF6",
            "gridcolor": "white",
            "gridwidth": 2,
            "linecolor": "white",
            "showbackground": true,
            "ticks": "",
            "zerolinecolor": "white"
           }
          },
          "shapedefaults": {
           "line": {
            "color": "#2a3f5f"
           }
          },
          "ternary": {
           "aaxis": {
            "gridcolor": "white",
            "linecolor": "white",
            "ticks": ""
           },
           "baxis": {
            "gridcolor": "white",
            "linecolor": "white",
            "ticks": ""
           },
           "bgcolor": "#E5ECF6",
           "caxis": {
            "gridcolor": "white",
            "linecolor": "white",
            "ticks": ""
           }
          },
          "title": {
           "x": 0.05
          },
          "xaxis": {
           "automargin": true,
           "gridcolor": "white",
           "linecolor": "white",
           "ticks": "",
           "title": {
            "standoff": 15
           },
           "zerolinecolor": "white",
           "zerolinewidth": 2
          },
          "yaxis": {
           "automargin": true,
           "gridcolor": "white",
           "linecolor": "white",
           "ticks": "",
           "title": {
            "standoff": 15
           },
           "zerolinecolor": "white",
           "zerolinewidth": 2
          }
         }
        }
       }
      },
      "text/html": [
       "<div>\n",
       "        \n",
       "        \n",
       "            <div id=\"089ad8fa-baef-4ad9-afcc-a3c37440af1e\" class=\"plotly-graph-div\" style=\"height:525px; width:100%;\"></div>\n",
       "            <script type=\"text/javascript\">\n",
       "                require([\"plotly\"], function(Plotly) {\n",
       "                    window.PLOTLYENV=window.PLOTLYENV || {};\n",
       "                    \n",
       "                if (document.getElementById(\"089ad8fa-baef-4ad9-afcc-a3c37440af1e\")) {\n",
       "                    Plotly.newPlot(\n",
       "                        '089ad8fa-baef-4ad9-afcc-a3c37440af1e',\n",
       "                        [{\"fill\": \"toself\", \"line\": {\"color\": \"rgb(249,123,87)\"}, \"name\": \"Females\", \"r\": [20725, 26094, 29441, 25044, 7285], \"theta\": [\"0-14\", \"15-29\", \"30-49\", \"50-74\", \"75+\"], \"type\": \"scatterpolar\"}, {\"fill\": \"toself\", \"line\": {\"color\": \"rgb(0,0,200)\"}, \"name\": \"Males\", \"r\": [20680, 21185, 28680, 24452, 6083], \"theta\": [\"0-14\", \"15-29\", \"30-49\", \"50-74\", \"75+\"], \"type\": \"scatterpolar\"}],\n",
       "                        {\"polar\": {\"radialaxis\": {\"range\": [0, 30000], \"visible\": true}}, \"showlegend\": true, \"template\": {\"data\": {\"bar\": [{\"error_x\": {\"color\": \"#2a3f5f\"}, \"error_y\": {\"color\": \"#2a3f5f\"}, \"marker\": {\"line\": {\"color\": \"#E5ECF6\", \"width\": 0.5}}, \"type\": \"bar\"}], \"barpolar\": [{\"marker\": {\"line\": {\"color\": \"#E5ECF6\", \"width\": 0.5}}, \"type\": \"barpolar\"}], \"carpet\": [{\"aaxis\": {\"endlinecolor\": \"#2a3f5f\", \"gridcolor\": \"white\", \"linecolor\": \"white\", \"minorgridcolor\": \"white\", \"startlinecolor\": \"#2a3f5f\"}, \"baxis\": {\"endlinecolor\": \"#2a3f5f\", \"gridcolor\": \"white\", \"linecolor\": \"white\", \"minorgridcolor\": \"white\", \"startlinecolor\": \"#2a3f5f\"}, \"type\": \"carpet\"}], \"choropleth\": [{\"colorbar\": {\"outlinewidth\": 0, \"ticks\": \"\"}, \"type\": \"choropleth\"}], \"contour\": [{\"colorbar\": {\"outlinewidth\": 0, \"ticks\": \"\"}, \"colorscale\": [[0.0, \"#0d0887\"], [0.1111111111111111, \"#46039f\"], [0.2222222222222222, \"#7201a8\"], [0.3333333333333333, \"#9c179e\"], [0.4444444444444444, \"#bd3786\"], [0.5555555555555556, \"#d8576b\"], [0.6666666666666666, \"#ed7953\"], [0.7777777777777778, \"#fb9f3a\"], [0.8888888888888888, \"#fdca26\"], [1.0, \"#f0f921\"]], \"type\": \"contour\"}], \"contourcarpet\": [{\"colorbar\": {\"outlinewidth\": 0, \"ticks\": \"\"}, \"type\": \"contourcarpet\"}], \"heatmap\": [{\"colorbar\": {\"outlinewidth\": 0, \"ticks\": \"\"}, \"colorscale\": [[0.0, \"#0d0887\"], [0.1111111111111111, \"#46039f\"], [0.2222222222222222, \"#7201a8\"], [0.3333333333333333, \"#9c179e\"], [0.4444444444444444, \"#bd3786\"], [0.5555555555555556, \"#d8576b\"], [0.6666666666666666, \"#ed7953\"], [0.7777777777777778, \"#fb9f3a\"], [0.8888888888888888, \"#fdca26\"], [1.0, \"#f0f921\"]], \"type\": \"heatmap\"}], \"heatmapgl\": [{\"colorbar\": {\"outlinewidth\": 0, \"ticks\": \"\"}, \"colorscale\": [[0.0, \"#0d0887\"], [0.1111111111111111, \"#46039f\"], [0.2222222222222222, \"#7201a8\"], [0.3333333333333333, \"#9c179e\"], [0.4444444444444444, \"#bd3786\"], [0.5555555555555556, \"#d8576b\"], [0.6666666666666666, \"#ed7953\"], [0.7777777777777778, \"#fb9f3a\"], [0.8888888888888888, \"#fdca26\"], [1.0, \"#f0f921\"]], \"type\": \"heatmapgl\"}], \"histogram\": [{\"marker\": {\"colorbar\": {\"outlinewidth\": 0, \"ticks\": \"\"}}, \"type\": \"histogram\"}], \"histogram2d\": [{\"colorbar\": {\"outlinewidth\": 0, \"ticks\": \"\"}, \"colorscale\": [[0.0, \"#0d0887\"], [0.1111111111111111, \"#46039f\"], [0.2222222222222222, \"#7201a8\"], [0.3333333333333333, \"#9c179e\"], [0.4444444444444444, \"#bd3786\"], [0.5555555555555556, \"#d8576b\"], [0.6666666666666666, \"#ed7953\"], [0.7777777777777778, \"#fb9f3a\"], [0.8888888888888888, \"#fdca26\"], [1.0, \"#f0f921\"]], \"type\": \"histogram2d\"}], \"histogram2dcontour\": [{\"colorbar\": {\"outlinewidth\": 0, \"ticks\": \"\"}, \"colorscale\": [[0.0, \"#0d0887\"], [0.1111111111111111, \"#46039f\"], [0.2222222222222222, \"#7201a8\"], [0.3333333333333333, \"#9c179e\"], [0.4444444444444444, \"#bd3786\"], [0.5555555555555556, \"#d8576b\"], [0.6666666666666666, \"#ed7953\"], [0.7777777777777778, \"#fb9f3a\"], [0.8888888888888888, \"#fdca26\"], [1.0, \"#f0f921\"]], \"type\": \"histogram2dcontour\"}], \"mesh3d\": [{\"colorbar\": {\"outlinewidth\": 0, \"ticks\": \"\"}, \"type\": \"mesh3d\"}], \"parcoords\": [{\"line\": {\"colorbar\": {\"outlinewidth\": 0, \"ticks\": \"\"}}, \"type\": \"parcoords\"}], \"pie\": [{\"automargin\": true, \"type\": \"pie\"}], \"scatter\": [{\"marker\": {\"colorbar\": {\"outlinewidth\": 0, \"ticks\": \"\"}}, \"type\": \"scatter\"}], \"scatter3d\": [{\"line\": {\"colorbar\": {\"outlinewidth\": 0, \"ticks\": \"\"}}, \"marker\": {\"colorbar\": {\"outlinewidth\": 0, \"ticks\": \"\"}}, \"type\": \"scatter3d\"}], \"scattercarpet\": [{\"marker\": {\"colorbar\": {\"outlinewidth\": 0, \"ticks\": \"\"}}, \"type\": \"scattercarpet\"}], \"scattergeo\": [{\"marker\": {\"colorbar\": {\"outlinewidth\": 0, \"ticks\": \"\"}}, \"type\": \"scattergeo\"}], \"scattergl\": [{\"marker\": {\"colorbar\": {\"outlinewidth\": 0, \"ticks\": \"\"}}, \"type\": \"scattergl\"}], \"scattermapbox\": [{\"marker\": {\"colorbar\": {\"outlinewidth\": 0, \"ticks\": \"\"}}, \"type\": \"scattermapbox\"}], \"scatterpolar\": [{\"marker\": {\"colorbar\": {\"outlinewidth\": 0, \"ticks\": \"\"}}, \"type\": \"scatterpolar\"}], \"scatterpolargl\": [{\"marker\": {\"colorbar\": {\"outlinewidth\": 0, \"ticks\": \"\"}}, \"type\": \"scatterpolargl\"}], \"scatterternary\": [{\"marker\": {\"colorbar\": {\"outlinewidth\": 0, \"ticks\": \"\"}}, \"type\": \"scatterternary\"}], \"surface\": [{\"colorbar\": {\"outlinewidth\": 0, \"ticks\": \"\"}, \"colorscale\": [[0.0, \"#0d0887\"], [0.1111111111111111, \"#46039f\"], [0.2222222222222222, \"#7201a8\"], [0.3333333333333333, \"#9c179e\"], [0.4444444444444444, \"#bd3786\"], [0.5555555555555556, \"#d8576b\"], [0.6666666666666666, \"#ed7953\"], [0.7777777777777778, \"#fb9f3a\"], [0.8888888888888888, \"#fdca26\"], [1.0, \"#f0f921\"]], \"type\": \"surface\"}], \"table\": [{\"cells\": {\"fill\": {\"color\": \"#EBF0F8\"}, \"line\": {\"color\": \"white\"}}, \"header\": {\"fill\": {\"color\": \"#C8D4E3\"}, \"line\": {\"color\": \"white\"}}, \"type\": \"table\"}]}, \"layout\": {\"annotationdefaults\": {\"arrowcolor\": \"#2a3f5f\", \"arrowhead\": 0, \"arrowwidth\": 1}, \"coloraxis\": {\"colorbar\": {\"outlinewidth\": 0, \"ticks\": \"\"}}, \"colorscale\": {\"diverging\": [[0, \"#8e0152\"], [0.1, \"#c51b7d\"], [0.2, \"#de77ae\"], [0.3, \"#f1b6da\"], [0.4, \"#fde0ef\"], [0.5, \"#f7f7f7\"], [0.6, \"#e6f5d0\"], [0.7, \"#b8e186\"], [0.8, \"#7fbc41\"], [0.9, \"#4d9221\"], [1, \"#276419\"]], \"sequential\": [[0.0, \"#0d0887\"], [0.1111111111111111, \"#46039f\"], [0.2222222222222222, \"#7201a8\"], [0.3333333333333333, \"#9c179e\"], [0.4444444444444444, \"#bd3786\"], [0.5555555555555556, \"#d8576b\"], [0.6666666666666666, \"#ed7953\"], [0.7777777777777778, \"#fb9f3a\"], [0.8888888888888888, \"#fdca26\"], [1.0, \"#f0f921\"]], \"sequentialminus\": [[0.0, \"#0d0887\"], [0.1111111111111111, \"#46039f\"], [0.2222222222222222, \"#7201a8\"], [0.3333333333333333, \"#9c179e\"], [0.4444444444444444, \"#bd3786\"], [0.5555555555555556, \"#d8576b\"], [0.6666666666666666, \"#ed7953\"], [0.7777777777777778, \"#fb9f3a\"], [0.8888888888888888, \"#fdca26\"], [1.0, \"#f0f921\"]]}, \"colorway\": [\"#636efa\", \"#EF553B\", \"#00cc96\", \"#ab63fa\", \"#FFA15A\", \"#19d3f3\", \"#FF6692\", \"#B6E880\", \"#FF97FF\", \"#FECB52\"], \"font\": {\"color\": \"#2a3f5f\"}, \"geo\": {\"bgcolor\": \"white\", \"lakecolor\": \"white\", \"landcolor\": \"#E5ECF6\", \"showlakes\": true, \"showland\": true, \"subunitcolor\": \"white\"}, \"hoverlabel\": {\"align\": \"left\"}, \"hovermode\": \"closest\", \"mapbox\": {\"style\": \"light\"}, \"paper_bgcolor\": \"white\", \"plot_bgcolor\": \"#E5ECF6\", \"polar\": {\"angularaxis\": {\"gridcolor\": \"white\", \"linecolor\": \"white\", \"ticks\": \"\"}, \"bgcolor\": \"#E5ECF6\", \"radialaxis\": {\"gridcolor\": \"white\", \"linecolor\": \"white\", \"ticks\": \"\"}}, \"scene\": {\"xaxis\": {\"backgroundcolor\": \"#E5ECF6\", \"gridcolor\": \"white\", \"gridwidth\": 2, \"linecolor\": \"white\", \"showbackground\": true, \"ticks\": \"\", \"zerolinecolor\": \"white\"}, \"yaxis\": {\"backgroundcolor\": \"#E5ECF6\", \"gridcolor\": \"white\", \"gridwidth\": 2, \"linecolor\": \"white\", \"showbackground\": true, \"ticks\": \"\", \"zerolinecolor\": \"white\"}, \"zaxis\": {\"backgroundcolor\": \"#E5ECF6\", \"gridcolor\": \"white\", \"gridwidth\": 2, \"linecolor\": \"white\", \"showbackground\": true, \"ticks\": \"\", \"zerolinecolor\": \"white\"}}, \"shapedefaults\": {\"line\": {\"color\": \"#2a3f5f\"}}, \"ternary\": {\"aaxis\": {\"gridcolor\": \"white\", \"linecolor\": \"white\", \"ticks\": \"\"}, \"baxis\": {\"gridcolor\": \"white\", \"linecolor\": \"white\", \"ticks\": \"\"}, \"bgcolor\": \"#E5ECF6\", \"caxis\": {\"gridcolor\": \"white\", \"linecolor\": \"white\", \"ticks\": \"\"}}, \"title\": {\"x\": 0.05}, \"xaxis\": {\"automargin\": true, \"gridcolor\": \"white\", \"linecolor\": \"white\", \"ticks\": \"\", \"title\": {\"standoff\": 15}, \"zerolinecolor\": \"white\", \"zerolinewidth\": 2}, \"yaxis\": {\"automargin\": true, \"gridcolor\": \"white\", \"linecolor\": \"white\", \"ticks\": \"\", \"title\": {\"standoff\": 15}, \"zerolinecolor\": \"white\", \"zerolinewidth\": 2}}}},\n",
       "                        {\"responsive\": true}\n",
       "                    ).then(function(){\n",
       "                            \n",
       "var gd = document.getElementById('089ad8fa-baef-4ad9-afcc-a3c37440af1e');\n",
       "var x = new MutationObserver(function (mutations, observer) {{\n",
       "        var display = window.getComputedStyle(gd).display;\n",
       "        if (!display || display === 'none') {{\n",
       "            console.log([gd, 'removed!']);\n",
       "            Plotly.purge(gd);\n",
       "            observer.disconnect();\n",
       "        }}\n",
       "}});\n",
       "\n",
       "// Listen for the removal of the full notebook cells\n",
       "var notebookContainer = gd.closest('#notebook-container');\n",
       "if (notebookContainer) {{\n",
       "    x.observe(notebookContainer, {childList: true});\n",
       "}}\n",
       "\n",
       "// Listen for the clearing of the current output cell\n",
       "var outputEl = gd.closest('.output');\n",
       "if (outputEl) {{\n",
       "    x.observe(outputEl, {childList: true});\n",
       "}}\n",
       "\n",
       "                        })\n",
       "                };\n",
       "                });\n",
       "            </script>\n",
       "        </div>"
      ]
     },
     "metadata": {},
     "output_type": "display_data"
    }
   ],
   "source": [
    "#Non-urgent triage\n",
    "\n",
    "import plotly.graph_objects as go\n",
    "\n",
    "categories = ['0-14','15-29','30-49',\n",
    "              '50-74', '75+']\n",
    "\n",
    "fig = go.Figure()\n",
    "\n",
    "fig.add_trace(go.Scatterpolar(\n",
    "      r=[20725, 26094, 29441, 25044, 7285],\n",
    "      theta=categories,\n",
    "      fill='toself',\n",
    "      name='Females',\n",
    "    line_color = 'rgb(249,123,87)'\n",
    "))\n",
    "fig.add_trace(go.Scatterpolar(\n",
    "      r=[20680, 21185, 28680, 24452, 6083],\n",
    "      theta=categories,\n",
    "      fill='toself',\n",
    "      name='Males',\n",
    "      line_color = 'rgb(0,0,200)'\n",
    "))\n",
    "\n",
    "fig.update_layout(\n",
    "  polar=dict(\n",
    "    radialaxis=dict(\n",
    "      visible=True,\n",
    "      range=[0, 30000]\n",
    "    )),\n",
    "  showlegend=True\n",
    ")\n",
    "\n",
    "fig.show()"
   ]
  },
  {
   "cell_type": "code",
   "execution_count": null,
   "metadata": {},
   "outputs": [],
   "source": []
  }
 ],
 "metadata": {
  "kernelspec": {
   "display_name": "Python 3",
   "language": "python",
   "name": "python3"
  },
  "language_info": {
   "codemirror_mode": {
    "name": "ipython",
    "version": 3
   },
   "file_extension": ".py",
   "mimetype": "text/x-python",
   "name": "python",
   "nbconvert_exporter": "python",
   "pygments_lexer": "ipython3",
   "version": "3.7.4"
  }
 },
 "nbformat": 4,
 "nbformat_minor": 2
}
